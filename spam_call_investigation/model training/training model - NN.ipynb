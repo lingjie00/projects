{
 "cells": [
  {
   "cell_type": "code",
   "execution_count": 259,
   "metadata": {
    "ExecuteTime": {
     "end_time": "2020-06-20T17:18:03.882778Z",
     "start_time": "2020-06-20T17:18:03.860694Z"
    }
   },
   "outputs": [],
   "source": [
    "import numpy as np\n",
    "import pandas as pd\n",
    "import matplotlib.pyplot as plt\n",
    "\n",
    "import tensorflow as tf\n",
    "from tensorflow import keras\n",
    "from tensorflow.keras import layers\n",
    "from tensorflow.keras.optimizers import Adam\n",
    "from tensorflow.keras.callbacks import EarlyStopping, ModelCheckpoint\n",
    "import kerastuner as kt\n",
    "from tensorflow.keras.models import load_model\n",
    "\n",
    "from sklearn.impute import SimpleImputer\n",
    "from sklearn.preprocessing import MinMaxScaler, OneHotEncoder\n",
    "from sklearn.pipeline import Pipeline\n",
    "from sklearn.compose import ColumnTransformer, make_column_selector\n",
    "from sklearn.model_selection import train_test_split\n",
    "from sklearn.metrics import f1_score, classification_report, confusion_matrix"
   ]
  },
  {
   "cell_type": "code",
   "execution_count": 20,
   "metadata": {
    "ExecuteTime": {
     "end_time": "2020-06-20T15:34:16.906923Z",
     "start_time": "2020-06-20T15:34:16.805422Z"
    }
   },
   "outputs": [
    {
     "name": "stderr",
     "output_type": "stream",
     "text": [
      "Using TensorFlow backend.\n"
     ]
    }
   ],
   "source": [
    "import keras.backend as K\n",
    "\n",
    "def f1_metric(y_true, y_pred):\n",
    "    true_positives = K.sum(K.round(K.clip(y_true * y_pred, 0, 1)))\n",
    "    possible_positives = K.sum(K.round(K.clip(y_true, 0, 1)))\n",
    "    predicted_positives = K.sum(K.round(K.clip(y_pred, 0, 1)))\n",
    "    precision = true_positives / (predicted_positives + K.epsilon())\n",
    "    recall = true_positives / (possible_positives + K.epsilon())\n",
    "    f1_val = 2*(precision*recall)/(precision+recall+K.epsilon())\n",
    "    return f1_val"
   ]
  },
  {
   "cell_type": "code",
   "execution_count": 109,
   "metadata": {
    "ExecuteTime": {
     "end_time": "2020-06-20T15:54:49.398853Z",
     "start_time": "2020-06-20T15:54:49.391390Z"
    }
   },
   "outputs": [],
   "source": [
    "def model_performance(history):\n",
    "  #get results\n",
    "  acc = history.history['accuracy']\n",
    "  val_acc = history.history['val_accuracy']\n",
    "  loss = history.history['loss']\n",
    "  val_loss = history.history['val_loss']\n",
    "  epochs = range(len(acc)) # Get number of epochs\n",
    "\n",
    "  fig, [ax1,ax2] = plt.subplots(2,1, sharex=True, gridspec_kw={'hspace':0.4})\n",
    "  # Plot training and validation accuracy per epoch\n",
    "  ax1.plot(epochs,acc,label='training')\n",
    "  ax1.plot(epochs,val_acc,label='test')\n",
    "  ax1.set_title('Training and validation accuracy')\n",
    "  ax1.legend()\n",
    "\n",
    "  # Plot training and validation loss per epoch\n",
    "  ax2.plot(epochs,loss,label='training')\n",
    "  ax2.plot(epochs,val_loss,label='test')\n",
    "  ax2.legend()\n",
    "  ax2.set_title('Training and validation loss')"
   ]
  },
  {
   "cell_type": "code",
   "execution_count": 110,
   "metadata": {
    "ExecuteTime": {
     "end_time": "2020-06-20T15:54:49.551234Z",
     "start_time": "2020-06-20T15:54:49.547305Z"
    }
   },
   "outputs": [],
   "source": [
    "def get_result(y, predict):\n",
    "    print('f1_score: {}'.format(f1_score(y, predict,average='macro')))\n",
    "    print('\\nconfucsion matrix: \\n{}'.format(confusion_matrix(y,predict)))\n",
    "    print('\\nclassification report: \\n{}'.format(classification_report(y, predict)))"
   ]
  },
  {
   "cell_type": "markdown",
   "metadata": {},
   "source": [
    "# Import data and pipeline"
   ]
  },
  {
   "cell_type": "code",
   "execution_count": 243,
   "metadata": {
    "ExecuteTime": {
     "end_time": "2020-06-20T17:01:56.920622Z",
     "start_time": "2020-06-20T17:01:56.870597Z"
    }
   },
   "outputs": [],
   "source": [
    "X = pd.read_csv('../datasets/X_oversample.csv')"
   ]
  },
  {
   "cell_type": "code",
   "execution_count": 244,
   "metadata": {
    "ExecuteTime": {
     "end_time": "2020-06-20T17:01:57.204044Z",
     "start_time": "2020-06-20T17:01:57.195411Z"
    }
   },
   "outputs": [],
   "source": [
    "y = pd.read_csv('../datasets/y_oversample.csv')"
   ]
  },
  {
   "cell_type": "code",
   "execution_count": 8,
   "metadata": {
    "ExecuteTime": {
     "end_time": "2020-06-20T15:28:40.921442Z",
     "start_time": "2020-06-20T15:28:40.904998Z"
    }
   },
   "outputs": [
    {
     "name": "stdout",
     "output_type": "stream",
     "text": [
      "<class 'pandas.core.frame.DataFrame'>\n",
      "RangeIndex: 8288 entries, 0 to 8287\n",
      "Data columns (total 15 columns):\n",
      " #   Column                     Non-Null Count  Dtype  \n",
      "---  ------                     --------------  -----  \n",
      " 0   county_name                7740 non-null   object \n",
      " 1   idcard_cnt                 8288 non-null   int64  \n",
      " 2   sms_per_receiver           8285 non-null   float64\n",
      " 3   sms_calltype_1             8285 non-null   float64\n",
      " 4   sms_calltype_2             8285 non-null   float64\n",
      " 5   call_dur                   8123 non-null   float64\n",
      " 6   voc_opposite_no_m          8123 non-null   float64\n",
      " 7   voc_calltype_1             8123 non-null   float64\n",
      " 8   voc_calltype_2             8123 non-null   float64\n",
      " 9   voc_calltype_3             8123 non-null   float64\n",
      " 10  voc_receive_unique_county  8123 non-null   float64\n",
      " 11  data_with_known_app_no     8288 non-null   float64\n",
      " 12  data_with_known_app_yes    8288 non-null   float64\n",
      " 13  network_usage              8288 non-null   float64\n",
      " 14  arpu                       7940 non-null   float64\n",
      "dtypes: float64(13), int64(1), object(1)\n",
      "memory usage: 971.4+ KB\n"
     ]
    }
   ],
   "source": [
    "X.info()"
   ]
  },
  {
   "cell_type": "code",
   "execution_count": 14,
   "metadata": {
    "ExecuteTime": {
     "end_time": "2020-06-20T15:30:46.049713Z",
     "start_time": "2020-06-20T15:30:46.042736Z"
    }
   },
   "outputs": [],
   "source": [
    "final_num_pipe = Pipeline([('num_impute',SimpleImputer(strategy='median')),\n",
    "                           ('num_scale',MinMaxScaler())])\n",
    "final_cat_pipe = Pipeline([('impute',SimpleImputer(strategy='most_frequent')),\n",
    "                           ('ohe',OneHotEncoder(handle_unknown='ignore'))])\n",
    "final_preprocess_pipe = ColumnTransformer([('numeric',final_num_pipe,make_column_selector(dtype_exclude='object')),\n",
    "                                    ('county_name',final_cat_pipe,make_column_selector(dtype_include='object'))])"
   ]
  },
  {
   "cell_type": "code",
   "execution_count": 131,
   "metadata": {
    "ExecuteTime": {
     "end_time": "2020-06-20T16:00:02.838975Z",
     "start_time": "2020-06-20T16:00:02.719394Z"
    }
   },
   "outputs": [],
   "source": [
    "train_x, test_x, train_y, test_y = train_test_split(X, y, random_state=0, test_size=0.2)\n",
    "train_x_transformed = final_preprocess_pipe.fit_transform(train_x).todense()\n",
    "train_y = train_y.values.reshape(-1,1)\n",
    "test_x_transformed = final_preprocess_pipe.transform(test_x).todense()\n",
    "test_y = test_y.values.reshape(-1,1)"
   ]
  },
  {
   "cell_type": "code",
   "execution_count": 132,
   "metadata": {
    "ExecuteTime": {
     "end_time": "2020-06-20T16:00:04.256885Z",
     "start_time": "2020-06-20T16:00:04.251996Z"
    }
   },
   "outputs": [
    {
     "data": {
      "text/plain": [
       "(6630, 195)"
      ]
     },
     "execution_count": 132,
     "metadata": {},
     "output_type": "execute_result"
    }
   ],
   "source": [
    "train_x_transformed.shape"
   ]
  },
  {
   "cell_type": "markdown",
   "metadata": {},
   "source": [
    "# Neural Network"
   ]
  },
  {
   "cell_type": "markdown",
   "metadata": {},
   "source": [
    "## Baseline score"
   ]
  },
  {
   "cell_type": "code",
   "execution_count": 186,
   "metadata": {
    "ExecuteTime": {
     "end_time": "2020-06-20T16:20:39.478447Z",
     "start_time": "2020-06-20T16:20:39.388447Z"
    }
   },
   "outputs": [
    {
     "name": "stdout",
     "output_type": "stream",
     "text": [
      "Model: \"sequential_2\"\n",
      "_________________________________________________________________\n",
      "Layer (type)                 Output Shape              Param #   \n",
      "=================================================================\n",
      "dense_4 (Dense)              (None, 50)                9800      \n",
      "_________________________________________________________________\n",
      "dense_5 (Dense)              (None, 50)                2550      \n",
      "_________________________________________________________________\n",
      "dense_6 (Dense)              (None, 50)                2550      \n",
      "_________________________________________________________________\n",
      "dense_7 (Dense)              (None, 1)                 51        \n",
      "=================================================================\n",
      "Total params: 14,951\n",
      "Trainable params: 14,951\n",
      "Non-trainable params: 0\n",
      "_________________________________________________________________\n"
     ]
    }
   ],
   "source": [
    "model = keras.Sequential()\n",
    "model.add(layers.Dense(50,input_shape=(195,)))\n",
    "model.add(layers.Dense(50,activation='relu'))\n",
    "model.add(layers.Dense(50,activation='relu'))\n",
    "model.add(layers.Dense(1,activation='sigmoid'))\n",
    "model.compile(optimizer=Adam(lr=0.001),loss='binary_crossentropy',metrics=['accuracy', f1_metric])\n",
    "model.summary()"
   ]
  },
  {
   "cell_type": "code",
   "execution_count": 137,
   "metadata": {
    "ExecuteTime": {
     "end_time": "2020-06-20T16:00:22.244287Z",
     "start_time": "2020-06-20T16:00:22.241300Z"
    }
   },
   "outputs": [],
   "source": [
    "early_stop = EarlyStopping(monitor='val_f1_metric', mode='max', verbose=1, patience=10,\n",
    "              restore_best_weights=True)"
   ]
  },
  {
   "cell_type": "code",
   "execution_count": 138,
   "metadata": {
    "ExecuteTime": {
     "end_time": "2020-06-20T16:00:22.659421Z",
     "start_time": "2020-06-20T16:00:22.656881Z"
    }
   },
   "outputs": [],
   "source": [
    "EPOCHS = 100\n",
    "BATCH = 64"
   ]
  },
  {
   "cell_type": "code",
   "execution_count": 139,
   "metadata": {
    "ExecuteTime": {
     "end_time": "2020-06-20T16:00:38.094480Z",
     "start_time": "2020-06-20T16:00:23.759266Z"
    }
   },
   "outputs": [
    {
     "name": "stdout",
     "output_type": "stream",
     "text": [
      "Restoring model weights from the end of the best epoch.\n",
      "Epoch 00081: early stopping\n"
     ]
    }
   ],
   "source": [
    "model_history = model.fit(train_x_transformed, train_y, epochs=EPOCHS, \n",
    "                          validation_split=0.2,\n",
    "                          callbacks=[early_stop], verbose=0)"
   ]
  },
  {
   "cell_type": "code",
   "execution_count": 140,
   "metadata": {
    "ExecuteTime": {
     "end_time": "2020-06-20T16:00:38.492693Z",
     "start_time": "2020-06-20T16:00:38.096905Z"
    }
   },
   "outputs": [
    {
     "name": "stdout",
     "output_type": "stream",
     "text": [
      "highest f1 score: 0.9038106799125671\n"
     ]
    },
    {
     "data": {
      "image/png": "[encoded data removed]",
      "text/plain": [
       "<Figure size 432x288 with 2 Axes>"
      ]
     },
     "metadata": {
      "needs_background": "light"
     },
     "output_type": "display_data"
    }
   ],
   "source": [
    "print('highest f1 score: {}'.format(np.max(model_history.history['val_f1_metric'])))\n",
    "model_performance(model_history)"
   ]
  },
  {
   "cell_type": "code",
   "execution_count": 141,
   "metadata": {
    "ExecuteTime": {
     "end_time": "2020-06-20T16:00:38.585449Z",
     "start_time": "2020-06-20T16:00:38.496006Z"
    }
   },
   "outputs": [
    {
     "name": "stdout",
     "output_type": "stream",
     "text": [
      "f1_score: 0.9016286272655566\n",
      "\n",
      "confucsion matrix: \n",
      "[[768  87]\n",
      " [ 76 727]]\n",
      "\n",
      "classification report: \n",
      "              precision    recall  f1-score   support\n",
      "\n",
      "           0       0.91      0.90      0.90       855\n",
      "           1       0.89      0.91      0.90       803\n",
      "\n",
      "    accuracy                           0.90      1658\n",
      "   macro avg       0.90      0.90      0.90      1658\n",
      "weighted avg       0.90      0.90      0.90      1658\n",
      "\n"
     ]
    }
   ],
   "source": [
    "predictions = model.predict(test_x_transformed)\n",
    "predictions = np.where(predictions>0.5,1,0)\n",
    "get_result(test_y, predictions)"
   ]
  },
  {
   "cell_type": "markdown",
   "metadata": {},
   "source": [
    "We get very promissing results, let's see if we can do better"
   ]
  },
  {
   "cell_type": "markdown",
   "metadata": {},
   "source": [
    "## Hyperparameter tunning"
   ]
  },
  {
   "cell_type": "code",
   "execution_count": 192,
   "metadata": {
    "ExecuteTime": {
     "end_time": "2020-06-20T16:24:34.651116Z",
     "start_time": "2020-06-20T16:24:34.641949Z"
    }
   },
   "outputs": [],
   "source": [
    "def model_builder(hp):\n",
    "    model = keras.Sequential()\n",
    "    model.add(layers.Dense(2000, input_shape=(195,)))\n",
    "    for i in range(hp.Int('num_layers', 2, 5)):\n",
    "        model.add(layers.Dense(2000, activation='relu'))\n",
    "    model.add(layers.Dense(1,activation='sigmoid'))\n",
    "    model.compile(optimizer=Adam(lr=0.001),loss='binary_crossentropy',metrics=['accuracy', f1_metric])\n",
    "    return model"
   ]
  },
  {
   "cell_type": "code",
   "execution_count": 194,
   "metadata": {
    "ExecuteTime": {
     "end_time": "2020-06-20T16:24:44.521182Z",
     "start_time": "2020-06-20T16:24:44.293281Z"
    }
   },
   "outputs": [],
   "source": [
    "tuner = kt.Hyperband(model_builder, objective=kt.Objective(\"val_f1_metric\", direction=\"max\"), \n",
    "                     seed=0, max_epochs=10, project_name='NN_search')"
   ]
  },
  {
   "cell_type": "code",
   "execution_count": 197,
   "metadata": {
    "ExecuteTime": {
     "end_time": "2020-06-20T16:27:09.440459Z",
     "start_time": "2020-06-20T16:27:09.437832Z"
    }
   },
   "outputs": [],
   "source": [
    "# early_stop = EarlyStopping(monitor='val_f1_metric', mode='max', verbose=0, patience=10,\n",
    "#               restore_best_weights=True)\n",
    "# tuner.search(train_x_transformed, train_y, epochs=EPOCHS, \n",
    "#                           validation_split=0.2,\n",
    "#                           callbacks=[early_stop], verbose=2)"
   ]
  },
  {
   "cell_type": "code",
   "execution_count": 196,
   "metadata": {
    "ExecuteTime": {
     "end_time": "2020-06-20T16:26:33.179330Z",
     "start_time": "2020-06-20T16:26:33.135047Z"
    }
   },
   "outputs": [
    {
     "data": {
      "text/html": [
       "<span style=\"color:#4527A0\"><h1 style=\"font-size:18px\">Results summary</h1></span>"
      ],
      "text/plain": [
       "<IPython.core.display.HTML object>"
      ]
     },
     "metadata": {},
     "output_type": "display_data"
    },
    {
     "data": {
      "text/html": [
       "<span style=\"color:cyan\"> |-Results in ./NN_search</span>"
      ],
      "text/plain": [
       "<IPython.core.display.HTML object>"
      ]
     },
     "metadata": {},
     "output_type": "display_data"
    },
    {
     "data": {
      "text/html": [
       "<span style=\"color:cyan\"> |-Showing 1 best trials</span>"
      ],
      "text/plain": [
       "<IPython.core.display.HTML object>"
      ]
     },
     "metadata": {},
     "output_type": "display_data"
    },
    {
     "data": {
      "text/html": [
       "<span style=\"color:cyan\"> |-Objective(name='val_f1_metric', direction='max')</span>"
      ],
      "text/plain": [
       "<IPython.core.display.HTML object>"
      ]
     },
     "metadata": {},
     "output_type": "display_data"
    },
    {
     "data": {
      "text/html": [
       "<span style=\"color:#4527A0\"><h1 style=\"font-size:18px\">Trial summary</h1></span>"
      ],
      "text/plain": [
       "<IPython.core.display.HTML object>"
      ]
     },
     "metadata": {},
     "output_type": "display_data"
    },
    {
     "data": {
      "text/html": [
       "<span style=\"color:cyan\"> |-Trial ID: 8ef8d56e0abeba97af640180261f6e56</span>"
      ],
      "text/plain": [
       "<IPython.core.display.HTML object>"
      ]
     },
     "metadata": {},
     "output_type": "display_data"
    },
    {
     "data": {
      "text/html": [
       "<span style=\"color:cyan\"> |-Score: 0.8233767151832581</span>"
      ],
      "text/plain": [
       "<IPython.core.display.HTML object>"
      ]
     },
     "metadata": {},
     "output_type": "display_data"
    },
    {
     "data": {
      "text/html": [
       "<span style=\"color:cyan\"> |-Best step: 0</span>"
      ],
      "text/plain": [
       "<IPython.core.display.HTML object>"
      ]
     },
     "metadata": {},
     "output_type": "display_data"
    },
    {
     "data": {
      "text/html": [
       "<span style=\"color:#7E57C2\"><h2 style=\"font-size:16px\">Hyperparameters:</h2></span>"
      ],
      "text/plain": [
       "<IPython.core.display.HTML object>"
      ]
     },
     "metadata": {},
     "output_type": "display_data"
    },
    {
     "data": {
      "text/html": [
       "<span style=\"color:cyan\"> |-num_layers: 2</span>"
      ],
      "text/plain": [
       "<IPython.core.display.HTML object>"
      ]
     },
     "metadata": {},
     "output_type": "display_data"
    },
    {
     "data": {
      "text/html": [
       "<span style=\"color:blue\"> |-tuner/bracket: 2</span>"
      ],
      "text/plain": [
       "<IPython.core.display.HTML object>"
      ]
     },
     "metadata": {},
     "output_type": "display_data"
    },
    {
     "data": {
      "text/html": [
       "<span style=\"color:cyan\"> |-tuner/epochs: 2</span>"
      ],
      "text/plain": [
       "<IPython.core.display.HTML object>"
      ]
     },
     "metadata": {},
     "output_type": "display_data"
    },
    {
     "data": {
      "text/html": [
       "<span style=\"color:blue\"> |-tuner/initial_epoch: 0</span>"
      ],
      "text/plain": [
       "<IPython.core.display.HTML object>"
      ]
     },
     "metadata": {},
     "output_type": "display_data"
    },
    {
     "data": {
      "text/html": [
       "<span style=\"color:cyan\"> |-tuner/round: 0</span>"
      ],
      "text/plain": [
       "<IPython.core.display.HTML object>"
      ]
     },
     "metadata": {},
     "output_type": "display_data"
    }
   ],
   "source": [
    "tuner.results_summary(1)"
   ]
  },
  {
   "cell_type": "markdown",
   "metadata": {},
   "source": [
    "### Testing"
   ]
  },
  {
   "cell_type": "markdown",
   "metadata": {},
   "source": [
    "### Focus on val loss"
   ]
  },
  {
   "cell_type": "markdown",
   "metadata": {},
   "source": [
    "Even though I suspect focusing on val loss will result in good results, but let's try"
   ]
  },
  {
   "cell_type": "code",
   "execution_count": 204,
   "metadata": {
    "ExecuteTime": {
     "end_time": "2020-06-20T16:35:56.986091Z",
     "start_time": "2020-06-20T16:35:56.782225Z"
    }
   },
   "outputs": [
    {
     "name": "stdout",
     "output_type": "stream",
     "text": [
      "Model: \"sequential_2\"\n",
      "_________________________________________________________________\n",
      "Layer (type)                 Output Shape              Param #   \n",
      "=================================================================\n",
      "dense_11 (Dense)             (None, 2000)              392000    \n",
      "_________________________________________________________________\n",
      "dense_12 (Dense)             (None, 2000)              4002000   \n",
      "_________________________________________________________________\n",
      "dense_13 (Dense)             (None, 2000)              4002000   \n",
      "_________________________________________________________________\n",
      "dense_14 (Dense)             (None, 1)                 2001      \n",
      "=================================================================\n",
      "Total params: 8,398,001\n",
      "Trainable params: 8,398,001\n",
      "Non-trainable params: 0\n",
      "_________________________________________________________________\n"
     ]
    }
   ],
   "source": [
    "UNITS = 2000\n",
    "model = keras.Sequential()\n",
    "model.add(layers.Dense(UNITS,input_shape=(195,)))\n",
    "model.add(layers.Dense(UNITS,activation='relu'))\n",
    "model.add(layers.Dense(UNITS,activation='relu'))\n",
    "model.add(layers.Dense(1,activation='sigmoid'))\n",
    "model.compile(optimizer=Adam(lr=0.001),loss='binary_crossentropy',metrics=['accuracy', f1_metric])\n",
    "model.summary()"
   ]
  },
  {
   "cell_type": "code",
   "execution_count": 205,
   "metadata": {
    "ExecuteTime": {
     "end_time": "2020-06-20T16:35:57.054079Z",
     "start_time": "2020-06-20T16:35:57.046689Z"
    }
   },
   "outputs": [],
   "source": [
    "early_stop = EarlyStopping(monitor='val_loss', mode='min', verbose=1, patience=10,\n",
    "              restore_best_weights=True)"
   ]
  },
  {
   "cell_type": "code",
   "execution_count": 206,
   "metadata": {
    "ExecuteTime": {
     "end_time": "2020-06-20T16:35:58.354261Z",
     "start_time": "2020-06-20T16:35:58.351057Z"
    }
   },
   "outputs": [],
   "source": [
    "EPOCHS = 100\n",
    "BATCH = 64"
   ]
  },
  {
   "cell_type": "code",
   "execution_count": 207,
   "metadata": {
    "ExecuteTime": {
     "end_time": "2020-06-20T16:37:50.382133Z",
     "start_time": "2020-06-20T16:35:58.820898Z"
    }
   },
   "outputs": [
    {
     "name": "stdout",
     "output_type": "stream",
     "text": [
      "Restoring model weights from the end of the best epoch.\n",
      "Epoch 00020: early stopping\n"
     ]
    }
   ],
   "source": [
    "model_history = model.fit(train_x_transformed, train_y, epochs=EPOCHS, \n",
    "                          validation_split=0.2,\n",
    "                          callbacks=[early_stop], verbose=0)"
   ]
  },
  {
   "cell_type": "code",
   "execution_count": 208,
   "metadata": {
    "ExecuteTime": {
     "end_time": "2020-06-20T16:37:50.795901Z",
     "start_time": "2020-06-20T16:37:50.385122Z"
    }
   },
   "outputs": [
    {
     "name": "stdout",
     "output_type": "stream",
     "text": [
      "highest f1 score: 0.8751996159553528\n"
     ]
    },
    {
     "data": {
      "image/png": "[encoded data removed]",
      "text/plain": [
       "<Figure size 432x288 with 2 Axes>"
      ]
     },
     "metadata": {
      "needs_background": "light"
     },
     "output_type": "display_data"
    }
   ],
   "source": [
    "print('highest f1 score: {}'.format(np.max(model_history.history['val_f1_metric'])))\n",
    "model_performance(model_history)"
   ]
  },
  {
   "cell_type": "code",
   "execution_count": 209,
   "metadata": {
    "ExecuteTime": {
     "end_time": "2020-06-20T16:37:51.192561Z",
     "start_time": "2020-06-20T16:37:50.798945Z"
    }
   },
   "outputs": [
    {
     "name": "stdout",
     "output_type": "stream",
     "text": [
      "f1_score: 0.8787997520438836\n",
      "\n",
      "confucsion matrix: \n",
      "[[786  69]\n",
      " [131 672]]\n",
      "\n",
      "classification report: \n",
      "              precision    recall  f1-score   support\n",
      "\n",
      "           0       0.86      0.92      0.89       855\n",
      "           1       0.91      0.84      0.87       803\n",
      "\n",
      "    accuracy                           0.88      1658\n",
      "   macro avg       0.88      0.88      0.88      1658\n",
      "weighted avg       0.88      0.88      0.88      1658\n",
      "\n"
     ]
    }
   ],
   "source": [
    "predictions = model.predict(test_x_transformed)\n",
    "predictions = np.where(predictions>0.5,1,0)\n",
    "get_result(test_y, predictions)"
   ]
  },
  {
   "cell_type": "markdown",
   "metadata": {},
   "source": [
    "Let's just go back to focusing on f1 score"
   ]
  },
  {
   "cell_type": "markdown",
   "metadata": {},
   "source": [
    "### Focus on f1 metrics"
   ]
  },
  {
   "cell_type": "code",
   "execution_count": 210,
   "metadata": {
    "ExecuteTime": {
     "end_time": "2020-06-20T16:39:33.718399Z",
     "start_time": "2020-06-20T16:39:33.515688Z"
    }
   },
   "outputs": [
    {
     "name": "stdout",
     "output_type": "stream",
     "text": [
      "Model: \"sequential_3\"\n",
      "_________________________________________________________________\n",
      "Layer (type)                 Output Shape              Param #   \n",
      "=================================================================\n",
      "dense_15 (Dense)             (None, 2000)              392000    \n",
      "_________________________________________________________________\n",
      "dense_16 (Dense)             (None, 2000)              4002000   \n",
      "_________________________________________________________________\n",
      "dense_17 (Dense)             (None, 2000)              4002000   \n",
      "_________________________________________________________________\n",
      "dense_18 (Dense)             (None, 1)                 2001      \n",
      "=================================================================\n",
      "Total params: 8,398,001\n",
      "Trainable params: 8,398,001\n",
      "Non-trainable params: 0\n",
      "_________________________________________________________________\n"
     ]
    }
   ],
   "source": [
    "UNITS = 2000\n",
    "model = keras.Sequential()\n",
    "model.add(layers.Dense(UNITS,input_shape=(195,)))\n",
    "model.add(layers.Dense(UNITS,activation='relu'))\n",
    "model.add(layers.Dense(UNITS,activation='relu'))\n",
    "model.add(layers.Dense(1,activation='sigmoid'))\n",
    "model.compile(optimizer=Adam(lr=0.001),loss='binary_crossentropy',metrics=['accuracy', f1_metric])\n",
    "model.summary()"
   ]
  },
  {
   "cell_type": "code",
   "execution_count": 211,
   "metadata": {
    "ExecuteTime": {
     "end_time": "2020-06-20T16:39:34.660802Z",
     "start_time": "2020-06-20T16:39:34.658001Z"
    }
   },
   "outputs": [],
   "source": [
    "early_stop = EarlyStopping(monitor='val_f1_metric', mode='max', verbose=1, patience=10,\n",
    "              restore_best_weights=True)"
   ]
  },
  {
   "cell_type": "code",
   "execution_count": 212,
   "metadata": {
    "ExecuteTime": {
     "end_time": "2020-06-20T16:39:34.997664Z",
     "start_time": "2020-06-20T16:39:34.994796Z"
    }
   },
   "outputs": [],
   "source": [
    "EPOCHS = 100"
   ]
  },
  {
   "cell_type": "code",
   "execution_count": 213,
   "metadata": {
    "ExecuteTime": {
     "end_time": "2020-06-20T16:46:02.162451Z",
     "start_time": "2020-06-20T16:39:35.491369Z"
    }
   },
   "outputs": [
    {
     "name": "stdout",
     "output_type": "stream",
     "text": [
      "Restoring model weights from the end of the best epoch.\n",
      "Epoch 00066: early stopping\n"
     ]
    }
   ],
   "source": [
    "model_history = model.fit(train_x_transformed, train_y, epochs=EPOCHS, \n",
    "                          validation_split=0.2,\n",
    "                          callbacks=[early_stop], verbose=0)"
   ]
  },
  {
   "cell_type": "code",
   "execution_count": 214,
   "metadata": {
    "ExecuteTime": {
     "end_time": "2020-06-20T16:46:02.634324Z",
     "start_time": "2020-06-20T16:46:02.165627Z"
    }
   },
   "outputs": [
    {
     "name": "stdout",
     "output_type": "stream",
     "text": [
      "highest f1 score: 0.9068281054496765\n"
     ]
    },
    {
     "data": {
      "image/png": "[encoded data removed]",
      "text/plain": [
       "<Figure size 432x288 with 2 Axes>"
      ]
     },
     "metadata": {
      "needs_background": "light"
     },
     "output_type": "display_data"
    }
   ],
   "source": [
    "print('highest f1 score: {}'.format(np.max(model_history.history['val_f1_metric'])))\n",
    "model_performance(model_history)"
   ]
  },
  {
   "cell_type": "code",
   "execution_count": 215,
   "metadata": {
    "ExecuteTime": {
     "end_time": "2020-06-20T16:46:03.052450Z",
     "start_time": "2020-06-20T16:46:02.636980Z"
    }
   },
   "outputs": [
    {
     "name": "stdout",
     "output_type": "stream",
     "text": [
      "f1_score: 0.908322747465576\n",
      "\n",
      "confucsion matrix: \n",
      "[[751 104]\n",
      " [ 48 755]]\n",
      "\n",
      "classification report: \n",
      "              precision    recall  f1-score   support\n",
      "\n",
      "           0       0.94      0.88      0.91       855\n",
      "           1       0.88      0.94      0.91       803\n",
      "\n",
      "    accuracy                           0.91      1658\n",
      "   macro avg       0.91      0.91      0.91      1658\n",
      "weighted avg       0.91      0.91      0.91      1658\n",
      "\n"
     ]
    }
   ],
   "source": [
    "predictions = model.predict(test_x_transformed)\n",
    "predictions = np.where(predictions>0.5,1,0)\n",
    "get_result(test_y, predictions)"
   ]
  },
  {
   "cell_type": "markdown",
   "metadata": {},
   "source": [
    "## Training the best model"
   ]
  },
  {
   "cell_type": "code",
   "execution_count": 245,
   "metadata": {
    "ExecuteTime": {
     "end_time": "2020-06-20T17:02:03.937432Z",
     "start_time": "2020-06-20T17:02:03.856271Z"
    }
   },
   "outputs": [],
   "source": [
    "X_transformed = final_preprocess_pipe.fit_transform(X).todense()\n",
    "y = y.values"
   ]
  },
  {
   "cell_type": "code",
   "execution_count": 246,
   "metadata": {
    "ExecuteTime": {
     "end_time": "2020-06-20T17:02:04.902711Z",
     "start_time": "2020-06-20T17:02:04.778224Z"
    }
   },
   "outputs": [
    {
     "name": "stdout",
     "output_type": "stream",
     "text": [
      "Model: \"sequential_8\"\n",
      "_________________________________________________________________\n",
      "Layer (type)                 Output Shape              Param #   \n",
      "=================================================================\n",
      "dense_35 (Dense)             (None, 2000)              392000    \n",
      "_________________________________________________________________\n",
      "dense_36 (Dense)             (None, 2000)              4002000   \n",
      "_________________________________________________________________\n",
      "dense_37 (Dense)             (None, 2000)              4002000   \n",
      "_________________________________________________________________\n",
      "dense_38 (Dense)             (None, 1)                 2001      \n",
      "=================================================================\n",
      "Total params: 8,398,001\n",
      "Trainable params: 8,398,001\n",
      "Non-trainable params: 0\n",
      "_________________________________________________________________\n"
     ]
    }
   ],
   "source": [
    "UNITS = 2000\n",
    "model = keras.Sequential()\n",
    "model.add(layers.Dense(UNITS,input_shape=(195,)))\n",
    "model.add(layers.Dense(UNITS,activation='relu'))\n",
    "model.add(layers.Dense(UNITS,activation='relu'))\n",
    "model.add(layers.Dense(1,activation='sigmoid'))\n",
    "model.compile(optimizer=Adam(lr=0.001),loss='binary_crossentropy',metrics=['accuracy', f1_metric])\n",
    "model.summary()"
   ]
  },
  {
   "cell_type": "code",
   "execution_count": 247,
   "metadata": {
    "ExecuteTime": {
     "end_time": "2020-06-20T17:02:06.613970Z",
     "start_time": "2020-06-20T17:02:06.609743Z"
    }
   },
   "outputs": [],
   "source": [
    "early_stop = EarlyStopping(monitor='val_f1_metric', mode='max', verbose=1, patience=10,\n",
    "              restore_best_weights=True)\n",
    "\n",
    "checkpoint = ModelCheckpoint('NN_saved_model/{epoch:02d}-{val_loss:.2f}.hdf5', monitor='val_f1_metric', \n",
    "                             mode='max', save_best_only=True, verbose=1)"
   ]
  },
  {
   "cell_type": "code",
   "execution_count": 248,
   "metadata": {
    "ExecuteTime": {
     "end_time": "2020-06-20T17:02:08.492686Z",
     "start_time": "2020-06-20T17:02:08.490583Z"
    }
   },
   "outputs": [],
   "source": [
    "EPOCHS = 100"
   ]
  },
  {
   "cell_type": "code",
   "execution_count": 249,
   "metadata": {
    "ExecuteTime": {
     "end_time": "2020-06-20T17:07:08.206355Z",
     "start_time": "2020-06-20T17:02:09.234455Z"
    }
   },
   "outputs": [
    {
     "name": "stdout",
     "output_type": "stream",
     "text": [
      "\n",
      "Epoch 00001: val_f1_metric improved from -inf to 0.82865, saving model to NN_saved_model/01-0.36.hdf5\n",
      "\n",
      "Epoch 00002: val_f1_metric improved from 0.82865 to 0.84383, saving model to NN_saved_model/02-0.32.hdf5\n",
      "\n",
      "Epoch 00003: val_f1_metric did not improve from 0.84383\n",
      "\n",
      "Epoch 00004: val_f1_metric improved from 0.84383 to 0.84951, saving model to NN_saved_model/04-0.34.hdf5\n",
      "\n",
      "Epoch 00005: val_f1_metric improved from 0.84951 to 0.85692, saving model to NN_saved_model/05-0.31.hdf5\n",
      "\n",
      "Epoch 00006: val_f1_metric did not improve from 0.85692\n",
      "\n",
      "Epoch 00007: val_f1_metric did not improve from 0.85692\n",
      "\n",
      "Epoch 00008: val_f1_metric improved from 0.85692 to 0.86110, saving model to NN_saved_model/08-0.30.hdf5\n",
      "\n",
      "Epoch 00009: val_f1_metric did not improve from 0.86110\n",
      "\n",
      "Epoch 00010: val_f1_metric improved from 0.86110 to 0.88290, saving model to NN_saved_model/10-0.30.hdf5\n",
      "\n",
      "Epoch 00011: val_f1_metric did not improve from 0.88290\n",
      "\n",
      "Epoch 00012: val_f1_metric did not improve from 0.88290\n",
      "\n",
      "Epoch 00013: val_f1_metric did not improve from 0.88290\n",
      "\n",
      "Epoch 00014: val_f1_metric improved from 0.88290 to 0.88999, saving model to NN_saved_model/14-0.28.hdf5\n",
      "\n",
      "Epoch 00015: val_f1_metric did not improve from 0.88999\n",
      "\n",
      "Epoch 00016: val_f1_metric did not improve from 0.88999\n",
      "\n",
      "Epoch 00017: val_f1_metric did not improve from 0.88999\n",
      "\n",
      "Epoch 00018: val_f1_metric did not improve from 0.88999\n",
      "\n",
      "Epoch 00019: val_f1_metric improved from 0.88999 to 0.89415, saving model to NN_saved_model/19-0.34.hdf5\n",
      "\n",
      "Epoch 00020: val_f1_metric did not improve from 0.89415\n",
      "\n",
      "Epoch 00021: val_f1_metric did not improve from 0.89415\n",
      "\n",
      "Epoch 00022: val_f1_metric did not improve from 0.89415\n",
      "\n",
      "Epoch 00023: val_f1_metric improved from 0.89415 to 0.90247, saving model to NN_saved_model/23-0.35.hdf5\n",
      "\n",
      "Epoch 00024: val_f1_metric did not improve from 0.90247\n",
      "\n",
      "Epoch 00025: val_f1_metric did not improve from 0.90247\n",
      "\n",
      "Epoch 00026: val_f1_metric did not improve from 0.90247\n",
      "\n",
      "Epoch 00027: val_f1_metric did not improve from 0.90247\n",
      "\n",
      "Epoch 00028: val_f1_metric did not improve from 0.90247\n",
      "\n",
      "Epoch 00029: val_f1_metric improved from 0.90247 to 0.90889, saving model to NN_saved_model/29-0.35.hdf5\n",
      "\n",
      "Epoch 00030: val_f1_metric did not improve from 0.90889\n",
      "\n",
      "Epoch 00031: val_f1_metric did not improve from 0.90889\n",
      "\n",
      "Epoch 00032: val_f1_metric did not improve from 0.90889\n",
      "\n",
      "Epoch 00033: val_f1_metric did not improve from 0.90889\n",
      "\n",
      "Epoch 00034: val_f1_metric did not improve from 0.90889\n",
      "\n",
      "Epoch 00035: val_f1_metric did not improve from 0.90889\n",
      "\n",
      "Epoch 00036: val_f1_metric did not improve from 0.90889\n",
      "\n",
      "Epoch 00037: val_f1_metric did not improve from 0.90889\n",
      "\n",
      "Epoch 00038: val_f1_metric did not improve from 0.90889\n",
      "Restoring model weights from the end of the best epoch.\n",
      "\n",
      "Epoch 00039: val_f1_metric did not improve from 0.90889\n",
      "Epoch 00039: early stopping\n"
     ]
    }
   ],
   "source": [
    "model_history = model.fit(X_transformed, y, epochs=EPOCHS, \n",
    "                          validation_split=0.2,\n",
    "                          callbacks=[early_stop, checkpoint], verbose=0)"
   ]
  },
  {
   "cell_type": "code",
   "execution_count": 250,
   "metadata": {
    "ExecuteTime": {
     "end_time": "2020-06-20T17:07:09.233876Z",
     "start_time": "2020-06-20T17:07:08.209058Z"
    }
   },
   "outputs": [
    {
     "name": "stdout",
     "output_type": "stream",
     "text": [
      "highest f1 score: 0.9088925123214722\n"
     ]
    },
    {
     "data": {
      "image/png": "[encoded data removed]",
      "text/plain": [
       "<Figure size 432x288 with 2 Axes>"
      ]
     },
     "metadata": {
      "needs_background": "light"
     },
     "output_type": "display_data"
    }
   ],
   "source": [
    "print('highest f1 score: {}'.format(np.max(model_history.history['val_f1_metric'])))\n",
    "model_performance(model_history)"
   ]
  },
  {
   "cell_type": "code",
   "execution_count": null,
   "metadata": {},
   "outputs": [],
   "source": [
    "model.save('NN_model.hdf5')"
   ]
  },
  {
   "cell_type": "code",
   "execution_count": 252,
   "metadata": {
    "ExecuteTime": {
     "end_time": "2020-06-20T17:11:15.034188Z",
     "start_time": "2020-06-20T17:08:02.136384Z"
    }
   },
   "outputs": [
    {
     "name": "stdout",
     "output_type": "stream",
     "text": [
      "\n",
      "Epoch 00001: val_f1_metric did not improve from 0.90889\n",
      "\n",
      "Epoch 00002: val_f1_metric did not improve from 0.90889\n",
      "\n",
      "Epoch 00003: val_f1_metric did not improve from 0.90889\n",
      "\n",
      "Epoch 00004: val_f1_metric did not improve from 0.90889\n",
      "\n",
      "Epoch 00005: val_f1_metric improved from 0.90889 to 0.91078, saving model to NN_saved_model/05-0.44.hdf5\n",
      "\n",
      "Epoch 00006: val_f1_metric did not improve from 0.91078\n",
      "\n",
      "Epoch 00007: val_f1_metric did not improve from 0.91078\n",
      "\n",
      "Epoch 00008: val_f1_metric did not improve from 0.91078\n",
      "\n",
      "Epoch 00009: val_f1_metric did not improve from 0.91078\n",
      "\n",
      "Epoch 00010: val_f1_metric did not improve from 0.91078\n",
      "\n",
      "Epoch 00011: val_f1_metric improved from 0.91078 to 0.91242, saving model to NN_saved_model/11-0.46.hdf5\n",
      "\n",
      "Epoch 00012: val_f1_metric did not improve from 0.91242\n",
      "\n",
      "Epoch 00013: val_f1_metric did not improve from 0.91242\n",
      "\n",
      "Epoch 00014: val_f1_metric did not improve from 0.91242\n",
      "\n",
      "Epoch 00015: val_f1_metric improved from 0.91242 to 0.91729, saving model to NN_saved_model/15-0.65.hdf5\n",
      "\n",
      "Epoch 00016: val_f1_metric did not improve from 0.91729\n",
      "\n",
      "Epoch 00017: val_f1_metric improved from 0.91729 to 0.92109, saving model to NN_saved_model/17-0.50.hdf5\n",
      "\n",
      "Epoch 00018: val_f1_metric did not improve from 0.92109\n",
      "\n",
      "Epoch 00019: val_f1_metric did not improve from 0.92109\n",
      "\n",
      "Epoch 00020: val_f1_metric did not improve from 0.92109\n",
      "\n",
      "Epoch 00021: val_f1_metric did not improve from 0.92109\n",
      "\n",
      "Epoch 00022: val_f1_metric did not improve from 0.92109\n",
      "\n",
      "Epoch 00023: val_f1_metric did not improve from 0.92109\n",
      "\n",
      "Epoch 00024: val_f1_metric did not improve from 0.92109\n",
      "\n",
      "Epoch 00025: val_f1_metric did not improve from 0.92109\n",
      "\n",
      "Epoch 00026: val_f1_metric did not improve from 0.92109\n",
      "Restoring model weights from the end of the best epoch.\n",
      "\n",
      "Epoch 00027: val_f1_metric did not improve from 0.92109\n",
      "Epoch 00027: early stopping\n"
     ]
    }
   ],
   "source": [
    "#let's try if we should continue training\n",
    "model_history2 = model.fit(X_transformed, y, epochs=EPOCHS, \n",
    "                          validation_split=0.2,\n",
    "                          callbacks=[early_stop, checkpoint], verbose=0)"
   ]
  },
  {
   "cell_type": "code",
   "execution_count": 255,
   "metadata": {
    "ExecuteTime": {
     "end_time": "2020-06-20T17:12:37.345347Z",
     "start_time": "2020-06-20T17:12:36.970184Z"
    }
   },
   "outputs": [
    {
     "name": "stdout",
     "output_type": "stream",
     "text": [
      "highest f1 score: 0.9210894107818604\n"
     ]
    },
    {
     "data": {
      "image/png": "[encoded data removed]",
      "text/plain": [
       "<Figure size 432x288 with 2 Axes>"
      ]
     },
     "metadata": {
      "needs_background": "light"
     },
     "output_type": "display_data"
    }
   ],
   "source": [
    "print('highest f1 score: {}'.format(np.max(model_history2.history['val_f1_metric'])))\n",
    "model_performance(model_history2)"
   ]
  },
  {
   "cell_type": "code",
   "execution_count": 254,
   "metadata": {
    "ExecuteTime": {
     "end_time": "2020-06-20T17:11:15.602996Z",
     "start_time": "2020-06-20T17:11:15.434794Z"
    }
   },
   "outputs": [],
   "source": [
    "model.save('NN_model2.hdf5')"
   ]
  },
  {
   "cell_type": "code",
   "execution_count": 256,
   "metadata": {
    "ExecuteTime": {
     "end_time": "2020-06-20T17:16:11.145192Z",
     "start_time": "2020-06-20T17:12:58.513594Z"
    }
   },
   "outputs": [
    {
     "name": "stdout",
     "output_type": "stream",
     "text": [
      "\n",
      "Epoch 00001: val_f1_metric did not improve from 0.92109\n",
      "\n",
      "Epoch 00002: val_f1_metric did not improve from 0.92109\n",
      "\n",
      "Epoch 00003: val_f1_metric did not improve from 0.92109\n",
      "\n",
      "Epoch 00004: val_f1_metric did not improve from 0.92109\n",
      "\n",
      "Epoch 00005: val_f1_metric did not improve from 0.92109\n",
      "\n",
      "Epoch 00006: val_f1_metric did not improve from 0.92109\n",
      "\n",
      "Epoch 00007: val_f1_metric did not improve from 0.92109\n",
      "\n",
      "Epoch 00008: val_f1_metric did not improve from 0.92109\n",
      "\n",
      "Epoch 00009: val_f1_metric did not improve from 0.92109\n",
      "\n",
      "Epoch 00010: val_f1_metric did not improve from 0.92109\n",
      "\n",
      "Epoch 00011: val_f1_metric improved from 0.92109 to 0.92301, saving model to NN_saved_model/11-0.59.hdf5\n",
      "\n",
      "Epoch 00012: val_f1_metric did not improve from 0.92301\n",
      "\n",
      "Epoch 00013: val_f1_metric did not improve from 0.92301\n",
      "\n",
      "Epoch 00014: val_f1_metric did not improve from 0.92301\n",
      "\n",
      "Epoch 00015: val_f1_metric did not improve from 0.92301\n",
      "\n",
      "Epoch 00016: val_f1_metric did not improve from 0.92301\n",
      "\n",
      "Epoch 00017: val_f1_metric improved from 0.92301 to 0.92747, saving model to NN_saved_model/17-0.68.hdf5\n",
      "\n",
      "Epoch 00018: val_f1_metric did not improve from 0.92747\n",
      "\n",
      "Epoch 00019: val_f1_metric did not improve from 0.92747\n",
      "\n",
      "Epoch 00020: val_f1_metric did not improve from 0.92747\n",
      "\n",
      "Epoch 00021: val_f1_metric did not improve from 0.92747\n",
      "\n",
      "Epoch 00022: val_f1_metric did not improve from 0.92747\n",
      "\n",
      "Epoch 00023: val_f1_metric did not improve from 0.92747\n",
      "\n",
      "Epoch 00024: val_f1_metric did not improve from 0.92747\n",
      "\n",
      "Epoch 00025: val_f1_metric did not improve from 0.92747\n",
      "\n",
      "Epoch 00026: val_f1_metric did not improve from 0.92747\n",
      "Restoring model weights from the end of the best epoch.\n",
      "\n",
      "Epoch 00027: val_f1_metric did not improve from 0.92747\n",
      "Epoch 00027: early stopping\n"
     ]
    }
   ],
   "source": [
    "#let's try if we should continue training, again\n",
    "model_history3 = model.fit(X_transformed, y, epochs=EPOCHS, \n",
    "                          validation_split=0.2,\n",
    "                          callbacks=[early_stop, checkpoint], verbose=0)"
   ]
  },
  {
   "cell_type": "code",
   "execution_count": 257,
   "metadata": {
    "ExecuteTime": {
     "end_time": "2020-06-20T17:16:11.515609Z",
     "start_time": "2020-06-20T17:16:11.149335Z"
    }
   },
   "outputs": [
    {
     "name": "stdout",
     "output_type": "stream",
     "text": [
      "highest f1 score: 0.9274663925170898\n"
     ]
    },
    {
     "data": {
      "image/png": "[encoded data removed]",
      "text/plain": [
       "<Figure size 432x288 with 2 Axes>"
      ]
     },
     "metadata": {
      "needs_background": "light"
     },
     "output_type": "display_data"
    }
   ],
   "source": [
    "print('highest f1 score: {}'.format(np.max(model_history3.history['val_f1_metric'])))\n",
    "model_performance(model_history3)"
   ]
  },
  {
   "cell_type": "code",
   "execution_count": 258,
   "metadata": {
    "ExecuteTime": {
     "end_time": "2020-06-20T17:16:11.667247Z",
     "start_time": "2020-06-20T17:16:11.518220Z"
    }
   },
   "outputs": [],
   "source": [
    "model.save('NN_model3.hdf5')"
   ]
  },
  {
   "cell_type": "markdown",
   "metadata": {},
   "source": [
    "The improvement in f1 score is very small at this stage"
   ]
  },
  {
   "cell_type": "markdown",
   "metadata": {},
   "source": [
    "# Prediction"
   ]
  },
  {
   "cell_type": "code",
   "execution_count": 301,
   "metadata": {
    "ExecuteTime": {
     "end_time": "2020-06-20T17:29:25.625262Z",
     "start_time": "2020-06-20T17:29:25.599443Z"
    }
   },
   "outputs": [],
   "source": [
    "submission_x = pd.read_csv('../datasets/submission_rename.csv')"
   ]
  },
  {
   "cell_type": "code",
   "execution_count": 265,
   "metadata": {
    "ExecuteTime": {
     "end_time": "2020-06-20T17:21:13.500781Z",
     "start_time": "2020-06-20T17:21:13.473486Z"
    }
   },
   "outputs": [],
   "source": [
    "submission_x_transformed = final_preprocess_pipe.transform(submission_x)"
   ]
  },
  {
   "cell_type": "code",
   "execution_count": 318,
   "metadata": {
    "ExecuteTime": {
     "end_time": "2020-06-20T17:32:51.965431Z",
     "start_time": "2020-06-20T17:32:51.536186Z"
    }
   },
   "outputs": [],
   "source": [
    "best_model = load_model('NN_model2.hdf5', custom_objects={\"f1_metric\": f1_metric})"
   ]
  },
  {
   "cell_type": "code",
   "execution_count": 319,
   "metadata": {
    "ExecuteTime": {
     "end_time": "2020-06-20T17:32:52.620371Z",
     "start_time": "2020-06-20T17:32:52.038923Z"
    }
   },
   "outputs": [],
   "source": [
    "prediction = best_model.predict(submission_x_transformed)"
   ]
  },
  {
   "cell_type": "code",
   "execution_count": 320,
   "metadata": {
    "ExecuteTime": {
     "end_time": "2020-06-20T17:32:52.627817Z",
     "start_time": "2020-06-20T17:32:52.623980Z"
    }
   },
   "outputs": [],
   "source": [
    "prediction_output = np.where(prediction>0.5, 1, 0).reshape(-1,)"
   ]
  },
  {
   "cell_type": "code",
   "execution_count": 321,
   "metadata": {
    "ExecuteTime": {
     "end_time": "2020-06-20T17:32:53.119499Z",
     "start_time": "2020-06-20T17:32:53.098625Z"
    }
   },
   "outputs": [],
   "source": [
    "index = pd.read_csv('../datasets/submission_v1.csv')['phone_no_m'].values"
   ]
  },
  {
   "cell_type": "code",
   "execution_count": 322,
   "metadata": {
    "ExecuteTime": {
     "end_time": "2020-06-20T17:32:53.646194Z",
     "start_time": "2020-06-20T17:32:53.480609Z"
    }
   },
   "outputs": [],
   "source": [
    "submission = pd.DataFrame([index, prediction_output]).T\n",
    "submission.columns = ['phone_no_m','label']"
   ]
  },
  {
   "cell_type": "code",
   "execution_count": 323,
   "metadata": {
    "ExecuteTime": {
     "end_time": "2020-06-20T17:32:53.947025Z",
     "start_time": "2020-06-20T17:32:53.935462Z"
    }
   },
   "outputs": [
    {
     "data": {
      "text/html": [
       "<div>\n",
       "<style scoped>\n",
       "    .dataframe tbody tr th:only-of-type {\n",
       "        vertical-align: middle;\n",
       "    }\n",
       "\n",
       "    .dataframe tbody tr th {\n",
       "        vertical-align: top;\n",
       "    }\n",
       "\n",
       "    .dataframe thead th {\n",
       "        text-align: right;\n",
       "    }\n",
       "</style>\n",
       "<table border=\"1\" class=\"dataframe\">\n",
       "  <thead>\n",
       "    <tr style=\"text-align: right;\">\n",
       "      <th></th>\n",
       "      <th>phone_no_m</th>\n",
       "      <th>label</th>\n",
       "    </tr>\n",
       "  </thead>\n",
       "  <tbody>\n",
       "    <tr>\n",
       "      <th>0</th>\n",
       "      <td>22d522340df77e2252c1a4d92b4bcb00d515e36f3ec6bf...</td>\n",
       "      <td>0</td>\n",
       "    </tr>\n",
       "    <tr>\n",
       "      <th>1</th>\n",
       "      <td>5220d4b8429bdba3971a7b46a088c6b8fa6710f4060759...</td>\n",
       "      <td>1</td>\n",
       "    </tr>\n",
       "    <tr>\n",
       "      <th>2</th>\n",
       "      <td>7d19dd2b50ced56f03d23bf928cf34dc570a48525571a8...</td>\n",
       "      <td>0</td>\n",
       "    </tr>\n",
       "    <tr>\n",
       "      <th>3</th>\n",
       "      <td>134a4a591185c9d3788021896dcfc235e9e0a6a1e3f8a4...</td>\n",
       "      <td>1</td>\n",
       "    </tr>\n",
       "    <tr>\n",
       "      <th>4</th>\n",
       "      <td>2356dcd6759d50455ddaeed03c838843558e9182d5962f...</td>\n",
       "      <td>0</td>\n",
       "    </tr>\n",
       "    <tr>\n",
       "      <th>...</th>\n",
       "      <td>...</td>\n",
       "      <td>...</td>\n",
       "    </tr>\n",
       "    <tr>\n",
       "      <th>2040</th>\n",
       "      <td>b544be7faeb565e3b25b2624121b6fbb188dd783304054...</td>\n",
       "      <td>0</td>\n",
       "    </tr>\n",
       "    <tr>\n",
       "      <th>2041</th>\n",
       "      <td>8f8220d7b20f8a7d92a443c97f2276b4d62f7d058cb172...</td>\n",
       "      <td>0</td>\n",
       "    </tr>\n",
       "    <tr>\n",
       "      <th>2042</th>\n",
       "      <td>2390f521ad86b31fa73e8e6395817a8c447ce077796c79...</td>\n",
       "      <td>0</td>\n",
       "    </tr>\n",
       "    <tr>\n",
       "      <th>2043</th>\n",
       "      <td>15a2d650f7a7a24b3e8dfdd5e59dc251cb3043f290fcaf...</td>\n",
       "      <td>0</td>\n",
       "    </tr>\n",
       "    <tr>\n",
       "      <th>2044</th>\n",
       "      <td>08923b36132be7e0e4739794aa9af2c4ca896dc789e320...</td>\n",
       "      <td>1</td>\n",
       "    </tr>\n",
       "  </tbody>\n",
       "</table>\n",
       "<p>2045 rows × 2 columns</p>\n",
       "</div>"
      ],
      "text/plain": [
       "                                             phone_no_m label\n",
       "0     22d522340df77e2252c1a4d92b4bcb00d515e36f3ec6bf...     0\n",
       "1     5220d4b8429bdba3971a7b46a088c6b8fa6710f4060759...     1\n",
       "2     7d19dd2b50ced56f03d23bf928cf34dc570a48525571a8...     0\n",
       "3     134a4a591185c9d3788021896dcfc235e9e0a6a1e3f8a4...     1\n",
       "4     2356dcd6759d50455ddaeed03c838843558e9182d5962f...     0\n",
       "...                                                 ...   ...\n",
       "2040  b544be7faeb565e3b25b2624121b6fbb188dd783304054...     0\n",
       "2041  8f8220d7b20f8a7d92a443c97f2276b4d62f7d058cb172...     0\n",
       "2042  2390f521ad86b31fa73e8e6395817a8c447ce077796c79...     0\n",
       "2043  15a2d650f7a7a24b3e8dfdd5e59dc251cb3043f290fcaf...     0\n",
       "2044  08923b36132be7e0e4739794aa9af2c4ca896dc789e320...     1\n",
       "\n",
       "[2045 rows x 2 columns]"
      ]
     },
     "execution_count": 323,
     "metadata": {},
     "output_type": "execute_result"
    }
   ],
   "source": [
    "submission"
   ]
  },
  {
   "cell_type": "code",
   "execution_count": 324,
   "metadata": {
    "ExecuteTime": {
     "end_time": "2020-06-20T17:32:55.997773Z",
     "start_time": "2020-06-20T17:32:55.978302Z"
    }
   },
   "outputs": [],
   "source": [
    "submission.to_csv('../datasets/submission_v3.csv', index=False)"
   ]
  },
  {
   "cell_type": "code",
   "execution_count": null,
   "metadata": {},
   "outputs": [],
   "source": []
  }
 ],
 "metadata": {
  "kernelspec": {
   "display_name": "Python 3",
   "language": "python",
   "name": "python3"
  },
  "language_info": {
   "codemirror_mode": {
    "name": "ipython",
    "version": 3
   },
   "file_extension": ".py",
   "mimetype": "text/x-python",
   "name": "python",
   "nbconvert_exporter": "python",
   "pygments_lexer": "ipython3",
   "version": "3.7.7"
  },
  "latex_envs": {
   "LaTeX_envs_menu_present": true,
   "autoclose": false,
   "autocomplete": true,
   "bibliofile": "biblio.bib",
   "cite_by": "apalike",
   "current_citInitial": 1,
   "eqLabelWithNumbers": true,
   "eqNumInitial": 1,
   "hotkeys": {
    "equation": "Ctrl-E",
    "itemize": "Ctrl-I"
   },
   "labels_anchors": false,
   "latex_user_defs": false,
   "report_style_numbering": false,
   "user_envs_cfg": false
  },
  "toc": {
   "base_numbering": 1,
   "nav_menu": {},
   "number_sections": true,
   "sideBar": true,
   "skip_h1_title": false,
   "title_cell": "Table of Contents",
   "title_sidebar": "Contents",
   "toc_cell": false,
   "toc_position": {},
   "toc_section_display": true,
   "toc_window_display": false
  }
 },
 "nbformat": 4,
 "nbformat_minor": 4
}
