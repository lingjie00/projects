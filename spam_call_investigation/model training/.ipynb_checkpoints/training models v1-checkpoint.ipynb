{
 "cells": [
  {
   "cell_type": "code",
   "execution_count": 1,
   "metadata": {
    "ExecuteTime": {
     "end_time": "2020-06-20T14:28:03.949649Z",
     "start_time": "2020-06-20T14:28:03.044528Z"
    }
   },
   "outputs": [],
   "source": [
    "import numpy as np\n",
    "import pandas as pd\n",
    "import matplotlib.pyplot as plt\n",
    "\n",
    "#split data\n",
    "from sklearn.model_selection import train_test_split\n",
    "from sklearn.utils import resample, shuffle\n",
    "\n",
    "#pipeline\n",
    "from sklearn.pipeline import Pipeline, make_pipeline\n",
    "from sklearn.compose import ColumnTransformer, make_column_transformer\n",
    "from sklearn.compose import make_column_selector\n",
    "\n",
    "#preprocessing\n",
    "from sklearn.experimental import enable_iterative_imputer\n",
    "from sklearn.impute import SimpleImputer, KNNImputer, IterativeImputer\n",
    "from sklearn.preprocessing import StandardScaler, RobustScaler, MinMaxScaler, OneHotEncoder\n",
    "from sklearn.tree import DecisionTreeRegressor, DecisionTreeClassifier\n",
    "\n",
    "#models\n",
    "from sklearn.ensemble import RandomForestClassifier, GradientBoostingClassifier\n",
    "from sklearn.neural_network import MLPClassifier\n",
    "from sklearn.linear_model import LogisticRegression, RidgeClassifier\n",
    "from sklearn.linear_model import SGDClassifier\n",
    "from sklearn.svm import LinearSVC, SVC\n",
    "from sklearn.neighbors import KNeighborsClassifier\n",
    "\n",
    "#selection\n",
    "from sklearn.model_selection import GridSearchCV, StratifiedKFold, cross_val_score\n",
    "from sklearn.metrics import f1_score, classification_report, confusion_matrix, auc, precision_recall_curve"
   ]
  },
  {
   "cell_type": "code",
   "execution_count": 2,
   "metadata": {
    "ExecuteTime": {
     "end_time": "2020-06-20T14:28:03.956177Z",
     "start_time": "2020-06-20T14:28:03.952231Z"
    }
   },
   "outputs": [],
   "source": [
    "def get_result(y, predict):\n",
    "    print('f1_score: {}'.format(f1_score(y, predict,average='macro')))\n",
    "    print('\\nconfucsion matrix: \\n{}'.format(confusion_matrix(y,predict)))\n",
    "    print('\\nclassification report: \\n{}'.format(classification_report(y, predict)))"
   ]
  },
  {
   "cell_type": "markdown",
   "metadata": {},
   "source": [
    "# Preprocess"
   ]
  },
  {
   "cell_type": "markdown",
   "metadata": {},
   "source": [
    "## Import dataset and library"
   ]
  },
  {
   "cell_type": "code",
   "execution_count": 3,
   "metadata": {
    "ExecuteTime": {
     "end_time": "2020-06-20T14:28:03.988852Z",
     "start_time": "2020-06-20T14:28:03.958348Z"
    }
   },
   "outputs": [],
   "source": [
    "train_full = pd.read_csv('../datasets/training.csv').set_index('phone_no_m')"
   ]
  },
  {
   "cell_type": "code",
   "execution_count": 4,
   "metadata": {
    "ExecuteTime": {
     "end_time": "2020-06-20T14:28:03.996928Z",
     "start_time": "2020-06-20T14:28:03.990241Z"
    }
   },
   "outputs": [],
   "source": [
    "train_full['arpu'] = train_full[['arpu_201908', 'arpu_201909',\n",
    "       'arpu_201910', 'arpu_201911', 'arpu_201912', 'arpu_202001',\n",
    "       'arpu_202002', 'arpu_202003']].mean(axis=1)\n",
    "train_full = train_full.drop(['arpu_201908', 'arpu_201909',\n",
    "       'arpu_201910', 'arpu_201911', 'arpu_201912', 'arpu_202001',\n",
    "       'arpu_202002', 'arpu_202003'], axis=1)"
   ]
  },
  {
   "cell_type": "code",
   "execution_count": 5,
   "metadata": {
    "ExecuteTime": {
     "end_time": "2020-06-20T14:28:04.005978Z",
     "start_time": "2020-06-20T14:28:03.998211Z"
    }
   },
   "outputs": [],
   "source": [
    "X, y = train_full.drop(['city_name','label'],axis=1), train_full['label']\n",
    "train_x, test_x, train_y, test_y = train_test_split(X, y, random_state=0, test_size=0.2)"
   ]
  },
  {
   "cell_type": "markdown",
   "metadata": {},
   "source": [
    "### Things to do"
   ]
  },
  {
   "cell_type": "markdown",
   "metadata": {},
   "source": [
    "Here are the things we'll need to do:\n",
    "\n",
    "***1. Data preprocessing***\\\n",
    "***2. Model selection***\\\n",
    "***3. Hyperparameter tunning***\n",
    "\n",
    "Data preprocessing:\n",
    "1. Handle imbalanced dataset -> original, undersampling, oversampling\n",
    "2. Handle missing data -> impute mean, median, KNN, DecisionTreeModel\n",
    "3. Handle encoding -> OHE\n",
    "\n",
    "We will build pipeline to automate the process"
   ]
  },
  {
   "cell_type": "code",
   "execution_count": 6,
   "metadata": {
    "ExecuteTime": {
     "end_time": "2020-06-20T14:28:04.017126Z",
     "start_time": "2020-06-20T14:28:04.007259Z"
    }
   },
   "outputs": [
    {
     "name": "stdout",
     "output_type": "stream",
     "text": [
      "<class 'pandas.core.frame.DataFrame'>\n",
      "Index: 3907 entries, 912be683c6fdea413ba878f1e808782aa904dc7ef0332e336c7b072ad40349f5debe072b86c5c97db03afff21b8d81291615ad21405341a0a6e40411c77a1d07 to f759d185723a1e33020aba047b14f4c6232254221a95cce50f946a929f4a583447d9706a4e05b85f579ed80ef0e57b149c21c6dae71b52d586956d38e133f3f2\n",
      "Data columns (total 15 columns):\n",
      " #   Column                     Non-Null Count  Dtype  \n",
      "---  ------                     --------------  -----  \n",
      " 0   county_name                3731 non-null   object \n",
      " 1   idcard_cnt                 3907 non-null   int64  \n",
      " 2   sms_per_receiver           3906 non-null   float64\n",
      " 3   sms_calltype_1             3906 non-null   float64\n",
      " 4   sms_calltype_2             3906 non-null   float64\n",
      " 5   call_dur                   3853 non-null   float64\n",
      " 6   voc_opposite_no_m          3853 non-null   float64\n",
      " 7   voc_calltype_1             3853 non-null   float64\n",
      " 8   voc_calltype_2             3853 non-null   float64\n",
      " 9   voc_calltype_3             3853 non-null   float64\n",
      " 10  voc_receive_unique_county  3853 non-null   float64\n",
      " 11  data_with_known_app_no     3907 non-null   float64\n",
      " 12  data_with_known_app_yes    3907 non-null   float64\n",
      " 13  network_usage              3907 non-null   float64\n",
      " 14  arpu                       3803 non-null   float64\n",
      "dtypes: float64(13), int64(1), object(1)\n",
      "memory usage: 488.4+ KB\n"
     ]
    }
   ],
   "source": [
    "train_x.info()"
   ]
  },
  {
   "cell_type": "code",
   "execution_count": 7,
   "metadata": {
    "ExecuteTime": {
     "end_time": "2020-06-20T14:28:04.038206Z",
     "start_time": "2020-06-20T14:28:04.020870Z"
    }
   },
   "outputs": [
    {
     "data": {
      "text/html": [
       "<div>\n",
       "<style scoped>\n",
       "    .dataframe tbody tr th:only-of-type {\n",
       "        vertical-align: middle;\n",
       "    }\n",
       "\n",
       "    .dataframe tbody tr th {\n",
       "        vertical-align: top;\n",
       "    }\n",
       "\n",
       "    .dataframe thead th {\n",
       "        text-align: right;\n",
       "    }\n",
       "</style>\n",
       "<table border=\"1\" class=\"dataframe\">\n",
       "  <thead>\n",
       "    <tr style=\"text-align: right;\">\n",
       "      <th></th>\n",
       "      <th>county_name</th>\n",
       "      <th>idcard_cnt</th>\n",
       "      <th>sms_per_receiver</th>\n",
       "      <th>sms_calltype_1</th>\n",
       "      <th>sms_calltype_2</th>\n",
       "      <th>call_dur</th>\n",
       "      <th>voc_opposite_no_m</th>\n",
       "      <th>voc_calltype_1</th>\n",
       "      <th>voc_calltype_2</th>\n",
       "      <th>voc_calltype_3</th>\n",
       "      <th>voc_receive_unique_county</th>\n",
       "      <th>data_with_known_app_no</th>\n",
       "      <th>data_with_known_app_yes</th>\n",
       "      <th>network_usage</th>\n",
       "      <th>arpu</th>\n",
       "    </tr>\n",
       "    <tr>\n",
       "      <th>phone_no_m</th>\n",
       "      <th></th>\n",
       "      <th></th>\n",
       "      <th></th>\n",
       "      <th></th>\n",
       "      <th></th>\n",
       "      <th></th>\n",
       "      <th></th>\n",
       "      <th></th>\n",
       "      <th></th>\n",
       "      <th></th>\n",
       "      <th></th>\n",
       "      <th></th>\n",
       "      <th></th>\n",
       "      <th></th>\n",
       "      <th></th>\n",
       "    </tr>\n",
       "  </thead>\n",
       "  <tbody>\n",
       "    <tr>\n",
       "      <th>912be683c6fdea413ba878f1e808782aa904dc7ef0332e336c7b072ad40349f5debe072b86c5c97db03afff21b8d81291615ad21405341a0a6e40411c77a1d07</th>\n",
       "      <td>青羊分公司</td>\n",
       "      <td>4</td>\n",
       "      <td>8.333333</td>\n",
       "      <td>0.048000</td>\n",
       "      <td>0.952000</td>\n",
       "      <td>232.448980</td>\n",
       "      <td>217.0</td>\n",
       "      <td>0.996599</td>\n",
       "      <td>0.003401</td>\n",
       "      <td>0.0</td>\n",
       "      <td>0.0</td>\n",
       "      <td>1.000000</td>\n",
       "      <td>0.000000</td>\n",
       "      <td>0.000000</td>\n",
       "      <td>130.97000</td>\n",
       "    </tr>\n",
       "    <tr>\n",
       "      <th>dfaeefa854cc440c5d9aa4760b9f22e28ec2c49b1cb90e0c7bb2aff95272c06926bb7fc2bdb0a7bb53d4498f37726f67907b431fd6241c5c15ab39c471b18f7f</th>\n",
       "      <td>青神分公司</td>\n",
       "      <td>1</td>\n",
       "      <td>6.472803</td>\n",
       "      <td>0.029735</td>\n",
       "      <td>0.970265</td>\n",
       "      <td>195.209302</td>\n",
       "      <td>37.0</td>\n",
       "      <td>1.000000</td>\n",
       "      <td>0.000000</td>\n",
       "      <td>0.0</td>\n",
       "      <td>5.0</td>\n",
       "      <td>0.058824</td>\n",
       "      <td>0.941176</td>\n",
       "      <td>23.875329</td>\n",
       "      <td>105.64375</td>\n",
       "    </tr>\n",
       "    <tr>\n",
       "      <th>f625c1df6fbf2e57ec4012dd5650554e4d145a5419067899c15ae3485c8daa2c7875bed507399b64e388646e34832a2b6eb7044d3b85eefd2232438f303b7d07</th>\n",
       "      <td>崇州分公司</td>\n",
       "      <td>3</td>\n",
       "      <td>16.197183</td>\n",
       "      <td>0.020000</td>\n",
       "      <td>0.980000</td>\n",
       "      <td>67.442177</td>\n",
       "      <td>200.0</td>\n",
       "      <td>0.795918</td>\n",
       "      <td>0.204082</td>\n",
       "      <td>0.0</td>\n",
       "      <td>1.0</td>\n",
       "      <td>0.031429</td>\n",
       "      <td>0.968571</td>\n",
       "      <td>3.492575</td>\n",
       "      <td>45.91250</td>\n",
       "    </tr>\n",
       "    <tr>\n",
       "      <th>c0081cd7fc67b837d0939db58b047a8b396bc31ac3a19080d437ad86c94b3e18c15ec5d4f172fffdb6902649f9886dd762d24982ad2911f80b86a9100f661831</th>\n",
       "      <td>直管区</td>\n",
       "      <td>2</td>\n",
       "      <td>17.892857</td>\n",
       "      <td>0.075848</td>\n",
       "      <td>0.924152</td>\n",
       "      <td>43.478464</td>\n",
       "      <td>67.0</td>\n",
       "      <td>0.472846</td>\n",
       "      <td>0.527154</td>\n",
       "      <td>0.0</td>\n",
       "      <td>4.0</td>\n",
       "      <td>0.212195</td>\n",
       "      <td>0.787805</td>\n",
       "      <td>47.166810</td>\n",
       "      <td>25.44875</td>\n",
       "    </tr>\n",
       "    <tr>\n",
       "      <th>90f23f85ee585a618b7da87f10cf5227a8c37a4350046797ba1029913cb08e7f0f4467dfea429eb76a528dca17cbc756271a617dfb7ef742c1407298da15cf0f</th>\n",
       "      <td>武侯分公司</td>\n",
       "      <td>3</td>\n",
       "      <td>6.180328</td>\n",
       "      <td>0.013263</td>\n",
       "      <td>0.986737</td>\n",
       "      <td>114.437500</td>\n",
       "      <td>37.0</td>\n",
       "      <td>0.928571</td>\n",
       "      <td>0.071429</td>\n",
       "      <td>0.0</td>\n",
       "      <td>5.0</td>\n",
       "      <td>0.106557</td>\n",
       "      <td>0.893443</td>\n",
       "      <td>30.315298</td>\n",
       "      <td>270.93000</td>\n",
       "    </tr>\n",
       "  </tbody>\n",
       "</table>\n",
       "</div>"
      ],
      "text/plain": [
       "                                                   county_name  idcard_cnt  \\\n",
       "phone_no_m                                                                   \n",
       "912be683c6fdea413ba878f1e808782aa904dc7ef0332e3...       青羊分公司           4   \n",
       "dfaeefa854cc440c5d9aa4760b9f22e28ec2c49b1cb90e0...       青神分公司           1   \n",
       "f625c1df6fbf2e57ec4012dd5650554e4d145a541906789...       崇州分公司           3   \n",
       "c0081cd7fc67b837d0939db58b047a8b396bc31ac3a1908...         直管区           2   \n",
       "90f23f85ee585a618b7da87f10cf5227a8c37a435004679...       武侯分公司           3   \n",
       "\n",
       "                                                    sms_per_receiver  \\\n",
       "phone_no_m                                                             \n",
       "912be683c6fdea413ba878f1e808782aa904dc7ef0332e3...          8.333333   \n",
       "dfaeefa854cc440c5d9aa4760b9f22e28ec2c49b1cb90e0...          6.472803   \n",
       "f625c1df6fbf2e57ec4012dd5650554e4d145a541906789...         16.197183   \n",
       "c0081cd7fc67b837d0939db58b047a8b396bc31ac3a1908...         17.892857   \n",
       "90f23f85ee585a618b7da87f10cf5227a8c37a435004679...          6.180328   \n",
       "\n",
       "                                                    sms_calltype_1  \\\n",
       "phone_no_m                                                           \n",
       "912be683c6fdea413ba878f1e808782aa904dc7ef0332e3...        0.048000   \n",
       "dfaeefa854cc440c5d9aa4760b9f22e28ec2c49b1cb90e0...        0.029735   \n",
       "f625c1df6fbf2e57ec4012dd5650554e4d145a541906789...        0.020000   \n",
       "c0081cd7fc67b837d0939db58b047a8b396bc31ac3a1908...        0.075848   \n",
       "90f23f85ee585a618b7da87f10cf5227a8c37a435004679...        0.013263   \n",
       "\n",
       "                                                    sms_calltype_2  \\\n",
       "phone_no_m                                                           \n",
       "912be683c6fdea413ba878f1e808782aa904dc7ef0332e3...        0.952000   \n",
       "dfaeefa854cc440c5d9aa4760b9f22e28ec2c49b1cb90e0...        0.970265   \n",
       "f625c1df6fbf2e57ec4012dd5650554e4d145a541906789...        0.980000   \n",
       "c0081cd7fc67b837d0939db58b047a8b396bc31ac3a1908...        0.924152   \n",
       "90f23f85ee585a618b7da87f10cf5227a8c37a435004679...        0.986737   \n",
       "\n",
       "                                                      call_dur  \\\n",
       "phone_no_m                                                       \n",
       "912be683c6fdea413ba878f1e808782aa904dc7ef0332e3...  232.448980   \n",
       "dfaeefa854cc440c5d9aa4760b9f22e28ec2c49b1cb90e0...  195.209302   \n",
       "f625c1df6fbf2e57ec4012dd5650554e4d145a541906789...   67.442177   \n",
       "c0081cd7fc67b837d0939db58b047a8b396bc31ac3a1908...   43.478464   \n",
       "90f23f85ee585a618b7da87f10cf5227a8c37a435004679...  114.437500   \n",
       "\n",
       "                                                    voc_opposite_no_m  \\\n",
       "phone_no_m                                                              \n",
       "912be683c6fdea413ba878f1e808782aa904dc7ef0332e3...              217.0   \n",
       "dfaeefa854cc440c5d9aa4760b9f22e28ec2c49b1cb90e0...               37.0   \n",
       "f625c1df6fbf2e57ec4012dd5650554e4d145a541906789...              200.0   \n",
       "c0081cd7fc67b837d0939db58b047a8b396bc31ac3a1908...               67.0   \n",
       "90f23f85ee585a618b7da87f10cf5227a8c37a435004679...               37.0   \n",
       "\n",
       "                                                    voc_calltype_1  \\\n",
       "phone_no_m                                                           \n",
       "912be683c6fdea413ba878f1e808782aa904dc7ef0332e3...        0.996599   \n",
       "dfaeefa854cc440c5d9aa4760b9f22e28ec2c49b1cb90e0...        1.000000   \n",
       "f625c1df6fbf2e57ec4012dd5650554e4d145a541906789...        0.795918   \n",
       "c0081cd7fc67b837d0939db58b047a8b396bc31ac3a1908...        0.472846   \n",
       "90f23f85ee585a618b7da87f10cf5227a8c37a435004679...        0.928571   \n",
       "\n",
       "                                                    voc_calltype_2  \\\n",
       "phone_no_m                                                           \n",
       "912be683c6fdea413ba878f1e808782aa904dc7ef0332e3...        0.003401   \n",
       "dfaeefa854cc440c5d9aa4760b9f22e28ec2c49b1cb90e0...        0.000000   \n",
       "f625c1df6fbf2e57ec4012dd5650554e4d145a541906789...        0.204082   \n",
       "c0081cd7fc67b837d0939db58b047a8b396bc31ac3a1908...        0.527154   \n",
       "90f23f85ee585a618b7da87f10cf5227a8c37a435004679...        0.071429   \n",
       "\n",
       "                                                    voc_calltype_3  \\\n",
       "phone_no_m                                                           \n",
       "912be683c6fdea413ba878f1e808782aa904dc7ef0332e3...             0.0   \n",
       "dfaeefa854cc440c5d9aa4760b9f22e28ec2c49b1cb90e0...             0.0   \n",
       "f625c1df6fbf2e57ec4012dd5650554e4d145a541906789...             0.0   \n",
       "c0081cd7fc67b837d0939db58b047a8b396bc31ac3a1908...             0.0   \n",
       "90f23f85ee585a618b7da87f10cf5227a8c37a435004679...             0.0   \n",
       "\n",
       "                                                    voc_receive_unique_county  \\\n",
       "phone_no_m                                                                      \n",
       "912be683c6fdea413ba878f1e808782aa904dc7ef0332e3...                        0.0   \n",
       "dfaeefa854cc440c5d9aa4760b9f22e28ec2c49b1cb90e0...                        5.0   \n",
       "f625c1df6fbf2e57ec4012dd5650554e4d145a541906789...                        1.0   \n",
       "c0081cd7fc67b837d0939db58b047a8b396bc31ac3a1908...                        4.0   \n",
       "90f23f85ee585a618b7da87f10cf5227a8c37a435004679...                        5.0   \n",
       "\n",
       "                                                    data_with_known_app_no  \\\n",
       "phone_no_m                                                                   \n",
       "912be683c6fdea413ba878f1e808782aa904dc7ef0332e3...                1.000000   \n",
       "dfaeefa854cc440c5d9aa4760b9f22e28ec2c49b1cb90e0...                0.058824   \n",
       "f625c1df6fbf2e57ec4012dd5650554e4d145a541906789...                0.031429   \n",
       "c0081cd7fc67b837d0939db58b047a8b396bc31ac3a1908...                0.212195   \n",
       "90f23f85ee585a618b7da87f10cf5227a8c37a435004679...                0.106557   \n",
       "\n",
       "                                                    data_with_known_app_yes  \\\n",
       "phone_no_m                                                                    \n",
       "912be683c6fdea413ba878f1e808782aa904dc7ef0332e3...                 0.000000   \n",
       "dfaeefa854cc440c5d9aa4760b9f22e28ec2c49b1cb90e0...                 0.941176   \n",
       "f625c1df6fbf2e57ec4012dd5650554e4d145a541906789...                 0.968571   \n",
       "c0081cd7fc67b837d0939db58b047a8b396bc31ac3a1908...                 0.787805   \n",
       "90f23f85ee585a618b7da87f10cf5227a8c37a435004679...                 0.893443   \n",
       "\n",
       "                                                    network_usage       arpu  \n",
       "phone_no_m                                                                    \n",
       "912be683c6fdea413ba878f1e808782aa904dc7ef0332e3...       0.000000  130.97000  \n",
       "dfaeefa854cc440c5d9aa4760b9f22e28ec2c49b1cb90e0...      23.875329  105.64375  \n",
       "f625c1df6fbf2e57ec4012dd5650554e4d145a541906789...       3.492575   45.91250  \n",
       "c0081cd7fc67b837d0939db58b047a8b396bc31ac3a1908...      47.166810   25.44875  \n",
       "90f23f85ee585a618b7da87f10cf5227a8c37a435004679...      30.315298  270.93000  "
      ]
     },
     "execution_count": 7,
     "metadata": {},
     "output_type": "execute_result"
    }
   ],
   "source": [
    "train_x.head()"
   ]
  },
  {
   "cell_type": "markdown",
   "metadata": {},
   "source": [
    "## Data preprocessing"
   ]
  },
  {
   "cell_type": "markdown",
   "metadata": {},
   "source": [
    "### Handle imbalanced dataset"
   ]
  },
  {
   "cell_type": "markdown",
   "metadata": {},
   "source": [
    "3 ways:\n",
    "1. Leave as it is but focus on macro f1-score\n",
    "2. Undersampling\n",
    "3. Oversampling"
   ]
  },
  {
   "cell_type": "code",
   "execution_count": 8,
   "metadata": {
    "ExecuteTime": {
     "end_time": "2020-06-20T14:28:04.047203Z",
     "start_time": "2020-06-20T14:28:04.040910Z"
    }
   },
   "outputs": [
    {
     "data": {
      "text/plain": [
       "count    3907.000000\n",
       "mean        0.320706\n",
       "std         0.466808\n",
       "min         0.000000\n",
       "25%         0.000000\n",
       "50%         0.000000\n",
       "75%         1.000000\n",
       "max         1.000000\n",
       "Name: label, dtype: float64"
      ]
     },
     "execution_count": 8,
     "metadata": {},
     "output_type": "execute_result"
    }
   ],
   "source": [
    "#only 32% of the data are spam callers, this is an imbalanced dataset\n",
    "train_y.describe()"
   ]
  },
  {
   "cell_type": "code",
   "execution_count": 9,
   "metadata": {
    "ExecuteTime": {
     "end_time": "2020-06-20T14:28:04.054124Z",
     "start_time": "2020-06-20T14:28:04.048869Z"
    }
   },
   "outputs": [],
   "source": [
    "majority_class = train_x.loc[train_y==0]\n",
    "minority_class = train_x.loc[train_y==1]"
   ]
  },
  {
   "cell_type": "code",
   "execution_count": 10,
   "metadata": {
    "ExecuteTime": {
     "end_time": "2020-06-20T14:28:04.058399Z",
     "start_time": "2020-06-20T14:28:04.055361Z"
    }
   },
   "outputs": [
    {
     "data": {
      "text/plain": [
       "((2654, 15), (1253, 15))"
      ]
     },
     "execution_count": 10,
     "metadata": {},
     "output_type": "execute_result"
    }
   ],
   "source": [
    "majority_class.shape, minority_class.shape"
   ]
  },
  {
   "cell_type": "code",
   "execution_count": 11,
   "metadata": {
    "ExecuteTime": {
     "end_time": "2020-06-20T14:28:04.065012Z",
     "start_time": "2020-06-20T14:28:04.059675Z"
    }
   },
   "outputs": [],
   "source": [
    "undersample_majority = resample(majority_class,n_samples=minority_class.shape[0],random_state=0)\n",
    "oversample_minority = resample(minority_class,n_samples=majority_class.shape[0],random_state=0)"
   ]
  },
  {
   "cell_type": "code",
   "execution_count": 12,
   "metadata": {
    "ExecuteTime": {
     "end_time": "2020-06-20T14:28:04.069409Z",
     "start_time": "2020-06-20T14:28:04.066302Z"
    }
   },
   "outputs": [
    {
     "data": {
      "text/plain": [
       "((1253, 15), (2654, 15))"
      ]
     },
     "execution_count": 12,
     "metadata": {},
     "output_type": "execute_result"
    }
   ],
   "source": [
    "undersample_majority.shape, oversample_minority.shape"
   ]
  },
  {
   "cell_type": "code",
   "execution_count": 13,
   "metadata": {
    "ExecuteTime": {
     "end_time": "2020-06-20T14:28:04.075693Z",
     "start_time": "2020-06-20T14:28:04.070751Z"
    }
   },
   "outputs": [],
   "source": [
    "train_x_undersample = pd.concat([undersample_majority,minority_class],axis=0)\n",
    "train_x_oversample = pd.concat([majority_class,oversample_minority],axis=0)"
   ]
  },
  {
   "cell_type": "code",
   "execution_count": 14,
   "metadata": {
    "ExecuteTime": {
     "end_time": "2020-06-20T14:28:04.082357Z",
     "start_time": "2020-06-20T14:28:04.076995Z"
    }
   },
   "outputs": [],
   "source": [
    "train_x_undersample = shuffle(train_x_undersample)\n",
    "train_x_oversample = shuffle(train_x_oversample)"
   ]
  },
  {
   "cell_type": "code",
   "execution_count": 15,
   "metadata": {
    "ExecuteTime": {
     "end_time": "2020-06-20T14:28:04.088547Z",
     "start_time": "2020-06-20T14:28:04.083791Z"
    }
   },
   "outputs": [],
   "source": [
    "train_y_undersample = train_y[train_x_undersample.index]\n",
    "train_y_oversample = train_y[train_x_oversample.index]"
   ]
  },
  {
   "cell_type": "code",
   "execution_count": 16,
   "metadata": {
    "ExecuteTime": {
     "end_time": "2020-06-20T14:28:04.093315Z",
     "start_time": "2020-06-20T14:28:04.090002Z"
    }
   },
   "outputs": [
    {
     "data": {
      "text/plain": [
       "((2506,), (5308,))"
      ]
     },
     "execution_count": 16,
     "metadata": {},
     "output_type": "execute_result"
    }
   ],
   "source": [
    "train_y_undersample.shape, train_y_oversample.shape"
   ]
  },
  {
   "cell_type": "code",
   "execution_count": 17,
   "metadata": {
    "ExecuteTime": {
     "end_time": "2020-06-20T14:28:04.098095Z",
     "start_time": "2020-06-20T14:28:04.094637Z"
    }
   },
   "outputs": [
    {
     "data": {
      "text/plain": [
       "(0.5, 0.5)"
      ]
     },
     "execution_count": 17,
     "metadata": {},
     "output_type": "execute_result"
    }
   ],
   "source": [
    "train_y_undersample.mean(), train_y_oversample.mean()"
   ]
  },
  {
   "cell_type": "code",
   "execution_count": 18,
   "metadata": {
    "ExecuteTime": {
     "end_time": "2020-06-20T14:28:04.103057Z",
     "start_time": "2020-06-20T14:28:04.099605Z"
    }
   },
   "outputs": [
    {
     "data": {
      "text/plain": [
       "((3907, 15), (2506, 15), (5308, 15))"
      ]
     },
     "execution_count": 18,
     "metadata": {},
     "output_type": "execute_result"
    }
   ],
   "source": [
    "train_x.shape, train_x_undersample.shape, train_x_oversample.shape"
   ]
  },
  {
   "cell_type": "markdown",
   "metadata": {},
   "source": [
    "Now we have 3 datasets to work with: original, undersampled and oversampled"
   ]
  },
  {
   "cell_type": "markdown",
   "metadata": {},
   "source": [
    "### Imputation and OHE"
   ]
  },
  {
   "cell_type": "code",
   "execution_count": 19,
   "metadata": {
    "ExecuteTime": {
     "end_time": "2020-06-20T14:28:04.108964Z",
     "start_time": "2020-06-20T14:28:04.105069Z"
    },
    "code_folding": []
   },
   "outputs": [],
   "source": [
    "#numeric pipe\n",
    "num_imputers = dict(impute_mean = SimpleImputer(strategy='mean'), impute_median = SimpleImputer(strategy='median'),\n",
    "                    model_impute = IterativeImputer(random_state=0, \n",
    "                                        estimator=DecisionTreeRegressor(max_features='sqrt', random_state=0)))\n",
    "num_scaler = dict(none = None, standard=StandardScaler(),\n",
    "                  minmax_scaler = MinMaxScaler(), quantile_scaler=RobustScaler())\n",
    "num_pipe = Pipeline([('num_impute',num_imputers['impute_median']),('num_scale',num_scaler['standard'])])"
   ]
  },
  {
   "cell_type": "code",
   "execution_count": 20,
   "metadata": {
    "ExecuteTime": {
     "end_time": "2020-06-20T14:28:04.113127Z",
     "start_time": "2020-06-20T14:28:04.110283Z"
    }
   },
   "outputs": [],
   "source": [
    "#categorical pipe -> only county name is categorical\n",
    "county_imputer = SimpleImputer(strategy='most_frequent')\n",
    "county_ohe = OneHotEncoder(handle_unknown='ignore')\n",
    "county_pipe = Pipeline([('impute',county_imputer),('ohe',county_ohe)])"
   ]
  },
  {
   "cell_type": "code",
   "execution_count": 21,
   "metadata": {
    "ExecuteTime": {
     "end_time": "2020-06-20T14:28:04.117071Z",
     "start_time": "2020-06-20T14:28:04.114582Z"
    }
   },
   "outputs": [],
   "source": [
    "#preprocessing pipeline\n",
    "preprocess_pipe = ColumnTransformer([('numeric',num_pipe,make_column_selector(dtype_exclude='object')),\n",
    "                                    ('county_name',county_pipe,make_column_selector(dtype_include='object'))])"
   ]
  },
  {
   "cell_type": "markdown",
   "metadata": {},
   "source": [
    "## Model Selection"
   ]
  },
  {
   "cell_type": "code",
   "execution_count": 22,
   "metadata": {
    "ExecuteTime": {
     "end_time": "2020-06-20T14:28:04.126380Z",
     "start_time": "2020-06-20T14:28:04.121912Z"
    }
   },
   "outputs": [],
   "source": [
    "models = [RandomForestClassifier(random_state=0, n_jobs=-1), LogisticRegression(random_state=0,n_jobs=-1),\n",
    "          RidgeClassifier(random_state=0),LinearSVC(max_iter=10000,random_state=0),\n",
    "          KNeighborsClassifier(n_jobs=-1),\n",
    "          MLPClassifier(hidden_layer_sizes=(200,200),max_iter=10000,random_state=0),\n",
    "            SGDClassifier(random_state=0,n_jobs=-1), GradientBoostingClassifier(random_state=0)]"
   ]
  },
  {
   "cell_type": "code",
   "execution_count": 23,
   "metadata": {
    "ExecuteTime": {
     "end_time": "2020-06-20T14:28:04.132946Z",
     "start_time": "2020-06-20T14:28:04.130360Z"
    }
   },
   "outputs": [],
   "source": [
    "model_pipe = Pipeline([('preprocess',preprocess_pipe),('model',models[1])])"
   ]
  },
  {
   "cell_type": "markdown",
   "metadata": {},
   "source": [
    "# Compare performance"
   ]
  },
  {
   "cell_type": "markdown",
   "metadata": {},
   "source": [
    "### Compare original/undersample/oversample dataset performance"
   ]
  },
  {
   "cell_type": "markdown",
   "metadata": {},
   "source": [
    "we will compare the performance of original, undersampled and oversampled dataset while applying grid search to find out the best combination of models and preprocessing steps for each kind of dataset"
   ]
  },
  {
   "cell_type": "code",
   "execution_count": 24,
   "metadata": {
    "ExecuteTime": {
     "end_time": "2020-06-20T14:28:04.137826Z",
     "start_time": "2020-06-20T14:28:04.134956Z"
    }
   },
   "outputs": [],
   "source": [
    "params = dict(model=models)"
   ]
  },
  {
   "cell_type": "code",
   "execution_count": 25,
   "metadata": {
    "ExecuteTime": {
     "end_time": "2020-06-20T14:28:04.142895Z",
     "start_time": "2020-06-20T14:28:04.139879Z"
    }
   },
   "outputs": [],
   "source": [
    "search = GridSearchCV(model_pipe,params,cv=5,verbose=1,\n",
    "                      return_train_score=True,n_jobs=-1,scoring='f1_macro')"
   ]
  },
  {
   "cell_type": "code",
   "execution_count": 26,
   "metadata": {
    "ExecuteTime": {
     "end_time": "2020-06-20T14:28:04.148045Z",
     "start_time": "2020-06-20T14:28:04.144758Z"
    }
   },
   "outputs": [],
   "source": [
    "search_undersample = GridSearchCV(model_pipe,params,cv=5,verbose=1,\n",
    "                                  return_train_score=True,n_jobs=-1,scoring='f1_macro')"
   ]
  },
  {
   "cell_type": "code",
   "execution_count": 27,
   "metadata": {
    "ExecuteTime": {
     "end_time": "2020-06-20T14:28:04.153139Z",
     "start_time": "2020-06-20T14:28:04.149980Z"
    }
   },
   "outputs": [],
   "source": [
    "search_oversample = GridSearchCV(model_pipe,params,cv=5,verbose=1,\n",
    "                                 return_train_score=True,n_jobs=-1,scoring='f1_macro')"
   ]
  },
  {
   "cell_type": "code",
   "execution_count": 28,
   "metadata": {
    "ExecuteTime": {
     "end_time": "2020-06-20T14:28:23.447941Z",
     "start_time": "2020-06-20T14:28:04.154764Z"
    }
   },
   "outputs": [
    {
     "name": "stdout",
     "output_type": "stream",
     "text": [
      "Fitting 5 folds for each of 8 candidates, totalling 40 fits\n"
     ]
    },
    {
     "name": "stderr",
     "output_type": "stream",
     "text": [
      "[Parallel(n_jobs=-1)]: Using backend LokyBackend with 8 concurrent workers.\n",
      "[Parallel(n_jobs=-1)]: Done  40 out of  40 | elapsed:   18.9s finished\n"
     ]
    }
   ],
   "source": [
    "search.fit(train_x,train_y);"
   ]
  },
  {
   "cell_type": "code",
   "execution_count": 29,
   "metadata": {
    "ExecuteTime": {
     "end_time": "2020-06-20T14:28:36.089529Z",
     "start_time": "2020-06-20T14:28:23.453757Z"
    }
   },
   "outputs": [
    {
     "name": "stdout",
     "output_type": "stream",
     "text": [
      "Fitting 5 folds for each of 8 candidates, totalling 40 fits\n"
     ]
    },
    {
     "name": "stderr",
     "output_type": "stream",
     "text": [
      "[Parallel(n_jobs=-1)]: Using backend LokyBackend with 8 concurrent workers.\n",
      "[Parallel(n_jobs=-1)]: Done  40 out of  40 | elapsed:   12.4s finished\n"
     ]
    }
   ],
   "source": [
    "search_undersample.fit(train_x_undersample,train_y_undersample);"
   ]
  },
  {
   "cell_type": "code",
   "execution_count": 30,
   "metadata": {
    "ExecuteTime": {
     "end_time": "2020-06-20T14:28:57.558297Z",
     "start_time": "2020-06-20T14:28:36.092273Z"
    }
   },
   "outputs": [
    {
     "name": "stdout",
     "output_type": "stream",
     "text": [
      "Fitting 5 folds for each of 8 candidates, totalling 40 fits\n"
     ]
    },
    {
     "name": "stderr",
     "output_type": "stream",
     "text": [
      "[Parallel(n_jobs=-1)]: Using backend LokyBackend with 8 concurrent workers.\n",
      "[Parallel(n_jobs=-1)]: Done  40 out of  40 | elapsed:   21.0s finished\n"
     ]
    }
   ],
   "source": [
    "search_oversample.fit(train_x_oversample,train_y_oversample);"
   ]
  },
  {
   "cell_type": "code",
   "execution_count": 31,
   "metadata": {
    "ExecuteTime": {
     "end_time": "2020-06-20T14:28:57.587226Z",
     "start_time": "2020-06-20T14:28:57.561820Z"
    }
   },
   "outputs": [],
   "source": [
    "search_result = pd.concat([pd.concat([pd.Series(['original'] * 8,name='data_type'),pd.DataFrame(search.cv_results_)],axis=1),\n",
    "           pd.concat([pd.Series(['undersample'] * 8,name='data_type'),pd.DataFrame(search_undersample.cv_results_)],axis=1),\n",
    "          pd.concat([pd.Series(['oversample'] * 8,name='data_type'),pd.DataFrame(search_oversample.cv_results_)],axis=1)],\n",
    "          axis=0).reset_index(drop=True)\\\n",
    "    [['data_type','param_model','rank_test_score','mean_test_score',\n",
    "      'std_test_score','mean_train_score', 'std_train_score']].sort_values('mean_test_score',ascending=False)"
   ]
  },
  {
   "cell_type": "code",
   "execution_count": 32,
   "metadata": {
    "ExecuteTime": {
     "end_time": "2020-06-20T14:28:57.604679Z",
     "start_time": "2020-06-20T14:28:57.588971Z"
    }
   },
   "outputs": [
    {
     "data": {
      "text/html": [
       "<div>\n",
       "<style scoped>\n",
       "    .dataframe tbody tr th:only-of-type {\n",
       "        vertical-align: middle;\n",
       "    }\n",
       "\n",
       "    .dataframe tbody tr th {\n",
       "        vertical-align: top;\n",
       "    }\n",
       "\n",
       "    .dataframe thead th {\n",
       "        text-align: right;\n",
       "    }\n",
       "</style>\n",
       "<table border=\"1\" class=\"dataframe\">\n",
       "  <thead>\n",
       "    <tr style=\"text-align: right;\">\n",
       "      <th></th>\n",
       "      <th>mean_test_score</th>\n",
       "      <th>std_test_score</th>\n",
       "      <th>mean_train_score</th>\n",
       "      <th>std_train_score</th>\n",
       "    </tr>\n",
       "    <tr>\n",
       "      <th>data_type</th>\n",
       "      <th></th>\n",
       "      <th></th>\n",
       "      <th></th>\n",
       "      <th></th>\n",
       "    </tr>\n",
       "  </thead>\n",
       "  <tbody>\n",
       "    <tr>\n",
       "      <th>oversample</th>\n",
       "      <td>0.867762</td>\n",
       "      <td>0.011024</td>\n",
       "      <td>0.896967</td>\n",
       "      <td>0.003521</td>\n",
       "    </tr>\n",
       "    <tr>\n",
       "      <th>original</th>\n",
       "      <td>0.850125</td>\n",
       "      <td>0.009262</td>\n",
       "      <td>0.903101</td>\n",
       "      <td>0.002370</td>\n",
       "    </tr>\n",
       "    <tr>\n",
       "      <th>undersample</th>\n",
       "      <td>0.838888</td>\n",
       "      <td>0.014241</td>\n",
       "      <td>0.901259</td>\n",
       "      <td>0.005406</td>\n",
       "    </tr>\n",
       "  </tbody>\n",
       "</table>\n",
       "</div>"
      ],
      "text/plain": [
       "             mean_test_score  std_test_score  mean_train_score  \\\n",
       "data_type                                                        \n",
       "oversample          0.867762        0.011024          0.896967   \n",
       "original            0.850125        0.009262          0.903101   \n",
       "undersample         0.838888        0.014241          0.901259   \n",
       "\n",
       "             std_train_score  \n",
       "data_type                     \n",
       "oversample          0.003521  \n",
       "original            0.002370  \n",
       "undersample         0.005406  "
      ]
     },
     "execution_count": 32,
     "metadata": {},
     "output_type": "execute_result"
    }
   ],
   "source": [
    "search_result[['data_type','mean_test_score',\n",
    "      'std_test_score','mean_train_score', 'std_train_score']].groupby('data_type').\\\n",
    "                mean().sort_values('mean_test_score',ascending=False)"
   ]
  },
  {
   "cell_type": "markdown",
   "metadata": {},
   "source": [
    "We will be using oversample dataset since it has the best average performance.\\\n",
    "Clearly there is some overfitting issues we need to handle as well (training score is perfect)"
   ]
  },
  {
   "cell_type": "markdown",
   "metadata": {},
   "source": [
    "### Compare different preprocessing methods"
   ]
  },
  {
   "cell_type": "code",
   "execution_count": 33,
   "metadata": {
    "ExecuteTime": {
     "end_time": "2020-06-20T14:28:57.623369Z",
     "start_time": "2020-06-20T14:28:57.606426Z"
    }
   },
   "outputs": [
    {
     "data": {
      "text/html": [
       "<div>\n",
       "<style scoped>\n",
       "    .dataframe tbody tr th:only-of-type {\n",
       "        vertical-align: middle;\n",
       "    }\n",
       "\n",
       "    .dataframe tbody tr th {\n",
       "        vertical-align: top;\n",
       "    }\n",
       "\n",
       "    .dataframe thead th {\n",
       "        text-align: right;\n",
       "    }\n",
       "</style>\n",
       "<table border=\"1\" class=\"dataframe\">\n",
       "  <thead>\n",
       "    <tr style=\"text-align: right;\">\n",
       "      <th></th>\n",
       "      <th>data_type</th>\n",
       "      <th>param_model</th>\n",
       "      <th>rank_test_score</th>\n",
       "      <th>mean_test_score</th>\n",
       "      <th>std_test_score</th>\n",
       "      <th>mean_train_score</th>\n",
       "      <th>std_train_score</th>\n",
       "    </tr>\n",
       "  </thead>\n",
       "  <tbody>\n",
       "    <tr>\n",
       "      <th>16</th>\n",
       "      <td>oversample</td>\n",
       "      <td>RandomForestClassifier(n_jobs=-1, random_state=0)</td>\n",
       "      <td>1</td>\n",
       "      <td>0.959304</td>\n",
       "      <td>0.005106</td>\n",
       "      <td>0.999953</td>\n",
       "      <td>0.000094</td>\n",
       "    </tr>\n",
       "    <tr>\n",
       "      <th>21</th>\n",
       "      <td>oversample</td>\n",
       "      <td>MLPClassifier(hidden_layer_sizes=(200, 200), m...</td>\n",
       "      <td>2</td>\n",
       "      <td>0.934946</td>\n",
       "      <td>0.012376</td>\n",
       "      <td>0.998069</td>\n",
       "      <td>0.002534</td>\n",
       "    </tr>\n",
       "    <tr>\n",
       "      <th>23</th>\n",
       "      <td>oversample</td>\n",
       "      <td>GradientBoostingClassifier(random_state=0)</td>\n",
       "      <td>3</td>\n",
       "      <td>0.891751</td>\n",
       "      <td>0.010034</td>\n",
       "      <td>0.915090</td>\n",
       "      <td>0.002456</td>\n",
       "    </tr>\n",
       "    <tr>\n",
       "      <th>20</th>\n",
       "      <td>oversample</td>\n",
       "      <td>KNeighborsClassifier(n_jobs=-1)</td>\n",
       "      <td>4</td>\n",
       "      <td>0.849441</td>\n",
       "      <td>0.012048</td>\n",
       "      <td>0.900541</td>\n",
       "      <td>0.001210</td>\n",
       "    </tr>\n",
       "    <tr>\n",
       "      <th>17</th>\n",
       "      <td>oversample</td>\n",
       "      <td>LogisticRegression(n_jobs=-1, random_state=0)</td>\n",
       "      <td>5</td>\n",
       "      <td>0.835504</td>\n",
       "      <td>0.007762</td>\n",
       "      <td>0.845332</td>\n",
       "      <td>0.003594</td>\n",
       "    </tr>\n",
       "  </tbody>\n",
       "</table>\n",
       "</div>"
      ],
      "text/plain": [
       "     data_type                                        param_model  \\\n",
       "16  oversample  RandomForestClassifier(n_jobs=-1, random_state=0)   \n",
       "21  oversample  MLPClassifier(hidden_layer_sizes=(200, 200), m...   \n",
       "23  oversample         GradientBoostingClassifier(random_state=0)   \n",
       "20  oversample                    KNeighborsClassifier(n_jobs=-1)   \n",
       "17  oversample      LogisticRegression(n_jobs=-1, random_state=0)   \n",
       "\n",
       "    rank_test_score  mean_test_score  std_test_score  mean_train_score  \\\n",
       "16                1         0.959304        0.005106          0.999953   \n",
       "21                2         0.934946        0.012376          0.998069   \n",
       "23                3         0.891751        0.010034          0.915090   \n",
       "20                4         0.849441        0.012048          0.900541   \n",
       "17                5         0.835504        0.007762          0.845332   \n",
       "\n",
       "    std_train_score  \n",
       "16         0.000094  \n",
       "21         0.002534  \n",
       "23         0.002456  \n",
       "20         0.001210  \n",
       "17         0.003594  "
      ]
     },
     "execution_count": 33,
     "metadata": {},
     "output_type": "execute_result"
    }
   ],
   "source": [
    "search_result[search_result['data_type'] == 'oversample'].head()"
   ]
  },
  {
   "cell_type": "code",
   "execution_count": 34,
   "metadata": {
    "ExecuteTime": {
     "end_time": "2020-06-20T14:28:57.637930Z",
     "start_time": "2020-06-20T14:28:57.625256Z"
    }
   },
   "outputs": [
    {
     "data": {
      "text/html": [
       "<div>\n",
       "<style scoped>\n",
       "    .dataframe tbody tr th:only-of-type {\n",
       "        vertical-align: middle;\n",
       "    }\n",
       "\n",
       "    .dataframe tbody tr th {\n",
       "        vertical-align: top;\n",
       "    }\n",
       "\n",
       "    .dataframe thead th {\n",
       "        text-align: right;\n",
       "    }\n",
       "</style>\n",
       "<table border=\"1\" class=\"dataframe\">\n",
       "  <thead>\n",
       "    <tr style=\"text-align: right;\">\n",
       "      <th></th>\n",
       "      <th>data_type</th>\n",
       "      <th>param_model</th>\n",
       "      <th>rank_test_score</th>\n",
       "      <th>mean_test_score</th>\n",
       "      <th>std_test_score</th>\n",
       "      <th>mean_train_score</th>\n",
       "      <th>std_train_score</th>\n",
       "    </tr>\n",
       "  </thead>\n",
       "  <tbody>\n",
       "    <tr>\n",
       "      <th>16</th>\n",
       "      <td>oversample</td>\n",
       "      <td>RandomForestClassifier(n_jobs=-1, random_state=0)</td>\n",
       "      <td>1</td>\n",
       "      <td>0.959304</td>\n",
       "      <td>0.005106</td>\n",
       "      <td>0.999953</td>\n",
       "      <td>0.000094</td>\n",
       "    </tr>\n",
       "    <tr>\n",
       "      <th>21</th>\n",
       "      <td>oversample</td>\n",
       "      <td>MLPClassifier(hidden_layer_sizes=(200, 200), m...</td>\n",
       "      <td>2</td>\n",
       "      <td>0.934946</td>\n",
       "      <td>0.012376</td>\n",
       "      <td>0.998069</td>\n",
       "      <td>0.002534</td>\n",
       "    </tr>\n",
       "    <tr>\n",
       "      <th>23</th>\n",
       "      <td>oversample</td>\n",
       "      <td>GradientBoostingClassifier(random_state=0)</td>\n",
       "      <td>3</td>\n",
       "      <td>0.891751</td>\n",
       "      <td>0.010034</td>\n",
       "      <td>0.915090</td>\n",
       "      <td>0.002456</td>\n",
       "    </tr>\n",
       "    <tr>\n",
       "      <th>0</th>\n",
       "      <td>original</td>\n",
       "      <td>RandomForestClassifier(n_jobs=-1, random_state=0)</td>\n",
       "      <td>1</td>\n",
       "      <td>0.875358</td>\n",
       "      <td>0.008687</td>\n",
       "      <td>1.000000</td>\n",
       "      <td>0.000000</td>\n",
       "    </tr>\n",
       "    <tr>\n",
       "      <th>7</th>\n",
       "      <td>original</td>\n",
       "      <td>GradientBoostingClassifier(random_state=0)</td>\n",
       "      <td>2</td>\n",
       "      <td>0.874957</td>\n",
       "      <td>0.005870</td>\n",
       "      <td>0.916739</td>\n",
       "      <td>0.001487</td>\n",
       "    </tr>\n",
       "  </tbody>\n",
       "</table>\n",
       "</div>"
      ],
      "text/plain": [
       "     data_type                                        param_model  \\\n",
       "16  oversample  RandomForestClassifier(n_jobs=-1, random_state=0)   \n",
       "21  oversample  MLPClassifier(hidden_layer_sizes=(200, 200), m...   \n",
       "23  oversample         GradientBoostingClassifier(random_state=0)   \n",
       "0     original  RandomForestClassifier(n_jobs=-1, random_state=0)   \n",
       "7     original         GradientBoostingClassifier(random_state=0)   \n",
       "\n",
       "    rank_test_score  mean_test_score  std_test_score  mean_train_score  \\\n",
       "16                1         0.959304        0.005106          0.999953   \n",
       "21                2         0.934946        0.012376          0.998069   \n",
       "23                3         0.891751        0.010034          0.915090   \n",
       "0                 1         0.875358        0.008687          1.000000   \n",
       "7                 2         0.874957        0.005870          0.916739   \n",
       "\n",
       "    std_train_score  \n",
       "16         0.000094  \n",
       "21         0.002534  \n",
       "23         0.002456  \n",
       "0          0.000000  \n",
       "7          0.001487  "
      ]
     },
     "execution_count": 34,
     "metadata": {},
     "output_type": "execute_result"
    }
   ],
   "source": [
    "search_result.head()"
   ]
  },
  {
   "cell_type": "markdown",
   "metadata": {},
   "source": [
    "We will use Random Forest, MLP Classifier and GradientBoostingClassifier to test different preprocessing methods since they are the best performed models for oversample and in general"
   ]
  },
  {
   "cell_type": "code",
   "execution_count": 35,
   "metadata": {
    "ExecuteTime": {
     "end_time": "2020-06-20T14:28:57.643357Z",
     "start_time": "2020-06-20T14:28:57.639750Z"
    }
   },
   "outputs": [],
   "source": [
    "preprocess_models = [RandomForestClassifier(random_state=0, n_jobs=-1),\n",
    "          MLPClassifier(hidden_layer_sizes=(200,200),max_iter=10000,random_state=0),\n",
    "            GradientBoostingClassifier(random_state=0)]"
   ]
  },
  {
   "cell_type": "code",
   "execution_count": 36,
   "metadata": {
    "ExecuteTime": {
     "end_time": "2020-06-20T14:28:57.647947Z",
     "start_time": "2020-06-20T14:28:57.645210Z"
    }
   },
   "outputs": [],
   "source": [
    "preprocess_selection_pipe = Pipeline([('preprocess',preprocess_pipe),('model',preprocess_models[0])])"
   ]
  },
  {
   "cell_type": "code",
   "execution_count": 37,
   "metadata": {
    "ExecuteTime": {
     "end_time": "2020-06-20T14:28:57.652283Z",
     "start_time": "2020-06-20T14:28:57.649715Z"
    }
   },
   "outputs": [],
   "source": [
    "preprocess_params = dict(model=preprocess_models, preprocess__numeric__num_impute=list(num_imputers.values()),\n",
    "                         preprocess__numeric__num_scale=list(num_scaler.values()))"
   ]
  },
  {
   "cell_type": "code",
   "execution_count": 38,
   "metadata": {
    "ExecuteTime": {
     "end_time": "2020-06-20T14:28:57.657397Z",
     "start_time": "2020-06-20T14:28:57.654210Z"
    }
   },
   "outputs": [],
   "source": [
    "search_preprocess = GridSearchCV(preprocess_selection_pipe,preprocess_params,cv=5,verbose=1,\n",
    "                      return_train_score=True,n_jobs=-1,scoring='f1_macro')"
   ]
  },
  {
   "cell_type": "code",
   "execution_count": 39,
   "metadata": {
    "ExecuteTime": {
     "end_time": "2020-06-20T14:32:32.588627Z",
     "start_time": "2020-06-20T14:28:57.659327Z"
    }
   },
   "outputs": [
    {
     "name": "stdout",
     "output_type": "stream",
     "text": [
      "Fitting 5 folds for each of 36 candidates, totalling 180 fits\n"
     ]
    },
    {
     "name": "stderr",
     "output_type": "stream",
     "text": [
      "[Parallel(n_jobs=-1)]: Using backend LokyBackend with 8 concurrent workers.\n",
      "[Parallel(n_jobs=-1)]: Done  34 tasks      | elapsed:   12.1s\n",
      "[Parallel(n_jobs=-1)]: Done 180 out of 180 | elapsed:  3.6min finished\n"
     ]
    }
   ],
   "source": [
    "search_preprocess.fit(train_x_oversample, train_y_oversample);"
   ]
  },
  {
   "cell_type": "code",
   "execution_count": 40,
   "metadata": {
    "ExecuteTime": {
     "end_time": "2020-06-20T14:32:32.597550Z",
     "start_time": "2020-06-20T14:32:32.590133Z"
    }
   },
   "outputs": [],
   "source": [
    "preprocess_result = pd.DataFrame(search_preprocess.cv_results_)\\\n",
    "    [['rank_test_score','param_model','param_preprocess__numeric__num_impute',\n",
    "      'param_preprocess__numeric__num_scale', 'mean_test_score', \n",
    "      'std_test_score','mean_train_score', 'std_train_score']].set_index('rank_test_score').\\\n",
    "        sort_values('mean_test_score',ascending=False)"
   ]
  },
  {
   "cell_type": "code",
   "execution_count": 41,
   "metadata": {
    "ExecuteTime": {
     "end_time": "2020-06-20T14:32:32.616033Z",
     "start_time": "2020-06-20T14:32:32.599647Z"
    }
   },
   "outputs": [
    {
     "data": {
      "text/html": [
       "<div>\n",
       "<style scoped>\n",
       "    .dataframe tbody tr th:only-of-type {\n",
       "        vertical-align: middle;\n",
       "    }\n",
       "\n",
       "    .dataframe tbody tr th {\n",
       "        vertical-align: top;\n",
       "    }\n",
       "\n",
       "    .dataframe thead th {\n",
       "        text-align: right;\n",
       "    }\n",
       "</style>\n",
       "<table border=\"1\" class=\"dataframe\">\n",
       "  <thead>\n",
       "    <tr style=\"text-align: right;\">\n",
       "      <th></th>\n",
       "      <th>param_model</th>\n",
       "      <th>param_preprocess__numeric__num_impute</th>\n",
       "      <th>param_preprocess__numeric__num_scale</th>\n",
       "      <th>mean_test_score</th>\n",
       "      <th>std_test_score</th>\n",
       "      <th>mean_train_score</th>\n",
       "      <th>std_train_score</th>\n",
       "    </tr>\n",
       "    <tr>\n",
       "      <th>rank_test_score</th>\n",
       "      <th></th>\n",
       "      <th></th>\n",
       "      <th></th>\n",
       "      <th></th>\n",
       "      <th></th>\n",
       "      <th></th>\n",
       "      <th></th>\n",
       "    </tr>\n",
       "  </thead>\n",
       "  <tbody>\n",
       "    <tr>\n",
       "      <th>1</th>\n",
       "      <td>RandomForestClassifier(n_jobs=-1, random_state=0)</td>\n",
       "      <td>SimpleImputer()</td>\n",
       "      <td>RobustScaler()</td>\n",
       "      <td>0.960246</td>\n",
       "      <td>0.004353</td>\n",
       "      <td>1.000000</td>\n",
       "      <td>0.000000</td>\n",
       "    </tr>\n",
       "    <tr>\n",
       "      <th>2</th>\n",
       "      <td>RandomForestClassifier(n_jobs=-1, random_state=0)</td>\n",
       "      <td>SimpleImputer()</td>\n",
       "      <td>None</td>\n",
       "      <td>0.959870</td>\n",
       "      <td>0.004151</td>\n",
       "      <td>1.000000</td>\n",
       "      <td>0.000000</td>\n",
       "    </tr>\n",
       "    <tr>\n",
       "      <th>3</th>\n",
       "      <td>RandomForestClassifier(n_jobs=-1, random_state=0)</td>\n",
       "      <td>SimpleImputer()</td>\n",
       "      <td>MinMaxScaler()</td>\n",
       "      <td>0.959681</td>\n",
       "      <td>0.004270</td>\n",
       "      <td>1.000000</td>\n",
       "      <td>0.000000</td>\n",
       "    </tr>\n",
       "    <tr>\n",
       "      <th>4</th>\n",
       "      <td>RandomForestClassifier(n_jobs=-1, random_state=0)</td>\n",
       "      <td>SimpleImputer()</td>\n",
       "      <td>StandardScaler()</td>\n",
       "      <td>0.959681</td>\n",
       "      <td>0.004667</td>\n",
       "      <td>1.000000</td>\n",
       "      <td>0.000000</td>\n",
       "    </tr>\n",
       "    <tr>\n",
       "      <th>5</th>\n",
       "      <td>RandomForestClassifier(n_jobs=-1, random_state=0)</td>\n",
       "      <td>SimpleImputer(strategy='median')</td>\n",
       "      <td>RobustScaler()</td>\n",
       "      <td>0.959493</td>\n",
       "      <td>0.005162</td>\n",
       "      <td>0.999953</td>\n",
       "      <td>0.000094</td>\n",
       "    </tr>\n",
       "  </tbody>\n",
       "</table>\n",
       "</div>"
      ],
      "text/plain": [
       "                                                       param_model  \\\n",
       "rank_test_score                                                      \n",
       "1                RandomForestClassifier(n_jobs=-1, random_state=0)   \n",
       "2                RandomForestClassifier(n_jobs=-1, random_state=0)   \n",
       "3                RandomForestClassifier(n_jobs=-1, random_state=0)   \n",
       "4                RandomForestClassifier(n_jobs=-1, random_state=0)   \n",
       "5                RandomForestClassifier(n_jobs=-1, random_state=0)   \n",
       "\n",
       "                param_preprocess__numeric__num_impute  \\\n",
       "rank_test_score                                         \n",
       "1                                     SimpleImputer()   \n",
       "2                                     SimpleImputer()   \n",
       "3                                     SimpleImputer()   \n",
       "4                                     SimpleImputer()   \n",
       "5                    SimpleImputer(strategy='median')   \n",
       "\n",
       "                param_preprocess__numeric__num_scale  mean_test_score  \\\n",
       "rank_test_score                                                         \n",
       "1                                     RobustScaler()         0.960246   \n",
       "2                                               None         0.959870   \n",
       "3                                     MinMaxScaler()         0.959681   \n",
       "4                                   StandardScaler()         0.959681   \n",
       "5                                     RobustScaler()         0.959493   \n",
       "\n",
       "                 std_test_score  mean_train_score  std_train_score  \n",
       "rank_test_score                                                     \n",
       "1                      0.004353          1.000000         0.000000  \n",
       "2                      0.004151          1.000000         0.000000  \n",
       "3                      0.004270          1.000000         0.000000  \n",
       "4                      0.004667          1.000000         0.000000  \n",
       "5                      0.005162          0.999953         0.000094  "
      ]
     },
     "execution_count": 41,
     "metadata": {},
     "output_type": "execute_result"
    }
   ],
   "source": [
    "preprocess_result.head()"
   ]
  },
  {
   "cell_type": "markdown",
   "metadata": {},
   "source": [
    "We will focus on random forest with simple imputer and Robust scaler"
   ]
  },
  {
   "cell_type": "markdown",
   "metadata": {},
   "source": [
    "### Hyperparameter optimising"
   ]
  },
  {
   "cell_type": "code",
   "execution_count": 78,
   "metadata": {
    "ExecuteTime": {
     "end_time": "2020-06-20T14:40:55.282121Z",
     "start_time": "2020-06-20T14:40:55.276725Z"
    }
   },
   "outputs": [],
   "source": [
    "final_model = RandomForestClassifier(random_state=0, n_jobs=-1)\n",
    "final_num_pipe = Pipeline([('num_impute',SimpleImputer(strategy='mean')),\n",
    "                           ('num_scale',RobustScaler())])\n",
    "final_cat_pipe = Pipeline([('impute',SimpleImputer(strategy='most_frequent')),\n",
    "                           ('ohe',OneHotEncoder(handle_unknown='ignore'))])\n",
    "final_preprocess_pipe = ColumnTransformer([('numeric',final_num_pipe,make_column_selector(dtype_exclude='object')),\n",
    "                                    ('county_name',final_cat_pipe,make_column_selector(dtype_include='object'))])\n",
    "final_model_pipe = Pipeline([('preprocess',final_preprocess_pipe),\n",
    "                             ('model',final_model)])"
   ]
  },
  {
   "cell_type": "markdown",
   "metadata": {},
   "source": [
    "#### search 1"
   ]
  },
  {
   "cell_type": "code",
   "execution_count": 79,
   "metadata": {
    "ExecuteTime": {
     "end_time": "2020-06-20T14:40:56.956364Z",
     "start_time": "2020-06-20T14:40:56.952172Z"
    }
   },
   "outputs": [],
   "source": [
    "model_params = dict(model__n_estimators=[100,500,1000], model__max_depth=[None, 3, 5, 10],\n",
    "                   model__max_features=['auto', 22, 10, 5, 3])"
   ]
  },
  {
   "cell_type": "code",
   "execution_count": 80,
   "metadata": {
    "ExecuteTime": {
     "end_time": "2020-06-20T14:40:57.702824Z",
     "start_time": "2020-06-20T14:40:57.699620Z"
    }
   },
   "outputs": [],
   "source": [
    "search_model = GridSearchCV(final_model_pipe,model_params,cv=5,verbose=1,\n",
    "                      return_train_score=True,n_jobs=-1,scoring='f1_macro')"
   ]
  },
  {
   "cell_type": "code",
   "execution_count": 81,
   "metadata": {
    "ExecuteTime": {
     "end_time": "2020-06-20T14:45:04.206817Z",
     "start_time": "2020-06-20T14:40:58.385148Z"
    }
   },
   "outputs": [
    {
     "name": "stdout",
     "output_type": "stream",
     "text": [
      "Fitting 5 folds for each of 60 candidates, totalling 300 fits\n"
     ]
    },
    {
     "name": "stderr",
     "output_type": "stream",
     "text": [
      "[Parallel(n_jobs=-1)]: Using backend LokyBackend with 8 concurrent workers.\n",
      "[Parallel(n_jobs=-1)]: Done  34 tasks      | elapsed:   51.1s\n",
      "[Parallel(n_jobs=-1)]: Done 184 tasks      | elapsed:  2.9min\n",
      "[Parallel(n_jobs=-1)]: Done 300 out of 300 | elapsed:  4.0min finished\n"
     ]
    }
   ],
   "source": [
    "search_model.fit(train_x_oversample, train_y_oversample);"
   ]
  },
  {
   "cell_type": "code",
   "execution_count": 82,
   "metadata": {
    "ExecuteTime": {
     "end_time": "2020-06-20T14:45:04.237178Z",
     "start_time": "2020-06-20T14:45:04.212039Z"
    }
   },
   "outputs": [
    {
     "data": {
      "text/html": [
       "<div>\n",
       "<style scoped>\n",
       "    .dataframe tbody tr th:only-of-type {\n",
       "        vertical-align: middle;\n",
       "    }\n",
       "\n",
       "    .dataframe tbody tr th {\n",
       "        vertical-align: top;\n",
       "    }\n",
       "\n",
       "    .dataframe thead th {\n",
       "        text-align: right;\n",
       "    }\n",
       "</style>\n",
       "<table border=\"1\" class=\"dataframe\">\n",
       "  <thead>\n",
       "    <tr style=\"text-align: right;\">\n",
       "      <th></th>\n",
       "      <th>param_model__max_depth</th>\n",
       "      <th>param_model__max_features</th>\n",
       "      <th>param_model__n_estimators</th>\n",
       "      <th>mean_test_score</th>\n",
       "      <th>std_test_score</th>\n",
       "      <th>mean_train_score</th>\n",
       "      <th>std_train_score</th>\n",
       "    </tr>\n",
       "    <tr>\n",
       "      <th>rank_test_score</th>\n",
       "      <th></th>\n",
       "      <th></th>\n",
       "      <th></th>\n",
       "      <th></th>\n",
       "      <th></th>\n",
       "      <th></th>\n",
       "      <th></th>\n",
       "    </tr>\n",
       "  </thead>\n",
       "  <tbody>\n",
       "    <tr>\n",
       "      <th>1</th>\n",
       "      <td>None</td>\n",
       "      <td>5</td>\n",
       "      <td>1000</td>\n",
       "      <td>0.962507</td>\n",
       "      <td>0.004190</td>\n",
       "      <td>1.0</td>\n",
       "      <td>0.0</td>\n",
       "    </tr>\n",
       "    <tr>\n",
       "      <th>2</th>\n",
       "      <td>None</td>\n",
       "      <td>10</td>\n",
       "      <td>1000</td>\n",
       "      <td>0.962130</td>\n",
       "      <td>0.005474</td>\n",
       "      <td>1.0</td>\n",
       "      <td>0.0</td>\n",
       "    </tr>\n",
       "    <tr>\n",
       "      <th>3</th>\n",
       "      <td>None</td>\n",
       "      <td>5</td>\n",
       "      <td>500</td>\n",
       "      <td>0.962130</td>\n",
       "      <td>0.004357</td>\n",
       "      <td>1.0</td>\n",
       "      <td>0.0</td>\n",
       "    </tr>\n",
       "    <tr>\n",
       "      <th>4</th>\n",
       "      <td>None</td>\n",
       "      <td>10</td>\n",
       "      <td>500</td>\n",
       "      <td>0.961565</td>\n",
       "      <td>0.005759</td>\n",
       "      <td>1.0</td>\n",
       "      <td>0.0</td>\n",
       "    </tr>\n",
       "    <tr>\n",
       "      <th>5</th>\n",
       "      <td>None</td>\n",
       "      <td>3</td>\n",
       "      <td>500</td>\n",
       "      <td>0.961565</td>\n",
       "      <td>0.005476</td>\n",
       "      <td>1.0</td>\n",
       "      <td>0.0</td>\n",
       "    </tr>\n",
       "  </tbody>\n",
       "</table>\n",
       "</div>"
      ],
      "text/plain": [
       "                param_model__max_depth param_model__max_features  \\\n",
       "rank_test_score                                                    \n",
       "1                                 None                         5   \n",
       "2                                 None                        10   \n",
       "3                                 None                         5   \n",
       "4                                 None                        10   \n",
       "5                                 None                         3   \n",
       "\n",
       "                param_model__n_estimators  mean_test_score  std_test_score  \\\n",
       "rank_test_score                                                              \n",
       "1                                    1000         0.962507        0.004190   \n",
       "2                                    1000         0.962130        0.005474   \n",
       "3                                     500         0.962130        0.004357   \n",
       "4                                     500         0.961565        0.005759   \n",
       "5                                     500         0.961565        0.005476   \n",
       "\n",
       "                 mean_train_score  std_train_score  \n",
       "rank_test_score                                     \n",
       "1                             1.0              0.0  \n",
       "2                             1.0              0.0  \n",
       "3                             1.0              0.0  \n",
       "4                             1.0              0.0  \n",
       "5                             1.0              0.0  "
      ]
     },
     "execution_count": 82,
     "metadata": {},
     "output_type": "execute_result"
    }
   ],
   "source": [
    "pd.DataFrame(search_model.cv_results_)\\\n",
    "                [['rank_test_score','param_model__max_depth', 'param_model__max_features', 'param_model__n_estimators',\n",
    "                 'mean_test_score', 'std_test_score','mean_train_score', 'std_train_score']]\\\n",
    ".sort_values('mean_test_score',ascending=False).set_index('rank_test_score').head()"
   ]
  },
  {
   "cell_type": "markdown",
   "metadata": {},
   "source": [
    "We can fix max depth as None and focus on max features and n_estimators"
   ]
  },
  {
   "cell_type": "markdown",
   "metadata": {},
   "source": [
    "#### search 2"
   ]
  },
  {
   "cell_type": "code",
   "execution_count": 83,
   "metadata": {
    "ExecuteTime": {
     "end_time": "2020-06-20T14:45:25.543375Z",
     "start_time": "2020-06-20T14:45:25.539132Z"
    }
   },
   "outputs": [],
   "source": [
    "model_params2 = dict(model__n_estimators=[500,1000,5000],\n",
    "                   model__max_features=['auto', 10, 5, 3])"
   ]
  },
  {
   "cell_type": "code",
   "execution_count": 84,
   "metadata": {
    "ExecuteTime": {
     "end_time": "2020-06-20T14:45:26.236827Z",
     "start_time": "2020-06-20T14:45:26.233216Z"
    }
   },
   "outputs": [],
   "source": [
    "search_model2 = GridSearchCV(final_model_pipe,model_params2,cv=5,verbose=1,\n",
    "                      return_train_score=True,n_jobs=-1,scoring='f1_macro')"
   ]
  },
  {
   "cell_type": "code",
   "execution_count": 85,
   "metadata": {
    "ExecuteTime": {
     "end_time": "2020-06-20T14:50:52.434080Z",
     "start_time": "2020-06-20T14:45:26.772673Z"
    }
   },
   "outputs": [
    {
     "name": "stdout",
     "output_type": "stream",
     "text": [
      "Fitting 5 folds for each of 12 candidates, totalling 60 fits\n"
     ]
    },
    {
     "name": "stderr",
     "output_type": "stream",
     "text": [
      "[Parallel(n_jobs=-1)]: Using backend LokyBackend with 8 concurrent workers.\n",
      "[Parallel(n_jobs=-1)]: Done  34 tasks      | elapsed:  2.7min\n",
      "[Parallel(n_jobs=-1)]: Done  60 out of  60 | elapsed:  5.3min finished\n"
     ]
    }
   ],
   "source": [
    "search_model2.fit(train_x_oversample, train_y_oversample);"
   ]
  },
  {
   "cell_type": "code",
   "execution_count": 86,
   "metadata": {
    "ExecuteTime": {
     "end_time": "2020-06-20T14:50:52.457698Z",
     "start_time": "2020-06-20T14:50:52.438721Z"
    }
   },
   "outputs": [],
   "source": [
    "search2_result = pd.DataFrame(search_model2.cv_results_)\\\n",
    "                [['rank_test_score','param_model__max_features', 'param_model__n_estimators',\n",
    "                 'mean_test_score', 'std_test_score','mean_train_score', 'std_train_score']]\\\n",
    ".set_index('rank_test_score')"
   ]
  },
  {
   "cell_type": "code",
   "execution_count": 87,
   "metadata": {
    "ExecuteTime": {
     "end_time": "2020-06-20T14:50:52.484160Z",
     "start_time": "2020-06-20T14:50:52.461478Z"
    }
   },
   "outputs": [
    {
     "data": {
      "text/html": [
       "<div>\n",
       "<style scoped>\n",
       "    .dataframe tbody tr th:only-of-type {\n",
       "        vertical-align: middle;\n",
       "    }\n",
       "\n",
       "    .dataframe tbody tr th {\n",
       "        vertical-align: top;\n",
       "    }\n",
       "\n",
       "    .dataframe thead th {\n",
       "        text-align: right;\n",
       "    }\n",
       "</style>\n",
       "<table border=\"1\" class=\"dataframe\">\n",
       "  <thead>\n",
       "    <tr style=\"text-align: right;\">\n",
       "      <th></th>\n",
       "      <th>param_model__max_features</th>\n",
       "      <th>param_model__n_estimators</th>\n",
       "      <th>mean_test_score</th>\n",
       "      <th>std_test_score</th>\n",
       "      <th>mean_train_score</th>\n",
       "      <th>std_train_score</th>\n",
       "    </tr>\n",
       "    <tr>\n",
       "      <th>rank_test_score</th>\n",
       "      <th></th>\n",
       "      <th></th>\n",
       "      <th></th>\n",
       "      <th></th>\n",
       "      <th></th>\n",
       "      <th></th>\n",
       "    </tr>\n",
       "  </thead>\n",
       "  <tbody>\n",
       "    <tr>\n",
       "      <th>1</th>\n",
       "      <td>5</td>\n",
       "      <td>1000</td>\n",
       "      <td>0.962507</td>\n",
       "      <td>0.004190</td>\n",
       "      <td>1.0</td>\n",
       "      <td>0.0</td>\n",
       "    </tr>\n",
       "    <tr>\n",
       "      <th>2</th>\n",
       "      <td>10</td>\n",
       "      <td>1000</td>\n",
       "      <td>0.962130</td>\n",
       "      <td>0.005474</td>\n",
       "      <td>1.0</td>\n",
       "      <td>0.0</td>\n",
       "    </tr>\n",
       "    <tr>\n",
       "      <th>3</th>\n",
       "      <td>5</td>\n",
       "      <td>500</td>\n",
       "      <td>0.962130</td>\n",
       "      <td>0.004357</td>\n",
       "      <td>1.0</td>\n",
       "      <td>0.0</td>\n",
       "    </tr>\n",
       "    <tr>\n",
       "      <th>4</th>\n",
       "      <td>10</td>\n",
       "      <td>5000</td>\n",
       "      <td>0.961754</td>\n",
       "      <td>0.005213</td>\n",
       "      <td>1.0</td>\n",
       "      <td>0.0</td>\n",
       "    </tr>\n",
       "    <tr>\n",
       "      <th>5</th>\n",
       "      <td>10</td>\n",
       "      <td>500</td>\n",
       "      <td>0.961565</td>\n",
       "      <td>0.005759</td>\n",
       "      <td>1.0</td>\n",
       "      <td>0.0</td>\n",
       "    </tr>\n",
       "  </tbody>\n",
       "</table>\n",
       "</div>"
      ],
      "text/plain": [
       "                param_model__max_features param_model__n_estimators  \\\n",
       "rank_test_score                                                       \n",
       "1                                       5                      1000   \n",
       "2                                      10                      1000   \n",
       "3                                       5                       500   \n",
       "4                                      10                      5000   \n",
       "5                                      10                       500   \n",
       "\n",
       "                 mean_test_score  std_test_score  mean_train_score  \\\n",
       "rank_test_score                                                      \n",
       "1                       0.962507        0.004190               1.0   \n",
       "2                       0.962130        0.005474               1.0   \n",
       "3                       0.962130        0.004357               1.0   \n",
       "4                       0.961754        0.005213               1.0   \n",
       "5                       0.961565        0.005759               1.0   \n",
       "\n",
       "                 std_train_score  \n",
       "rank_test_score                   \n",
       "1                            0.0  \n",
       "2                            0.0  \n",
       "3                            0.0  \n",
       "4                            0.0  \n",
       "5                            0.0  "
      ]
     },
     "execution_count": 87,
     "metadata": {},
     "output_type": "execute_result"
    }
   ],
   "source": [
    "search2_result.sort_values('mean_test_score',ascending=False).head()"
   ]
  },
  {
   "cell_type": "code",
   "execution_count": 88,
   "metadata": {
    "ExecuteTime": {
     "end_time": "2020-06-20T14:50:52.864361Z",
     "start_time": "2020-06-20T14:50:52.487698Z"
    }
   },
   "outputs": [
    {
     "data": {
      "text/plain": [
       "<matplotlib.colorbar.Colorbar at 0x7fc49517c7d0>"
      ]
     },
     "execution_count": 88,
     "metadata": {},
     "output_type": "execute_result"
    },
    {
     "data": {
      "image/png": "[encoded data removed]",
      "text/plain": [
       "<Figure size 288x384 with 2 Axes>"
      ]
     },
     "metadata": {
      "needs_background": "light"
     },
     "output_type": "display_data"
    }
   ],
   "source": [
    "plt.matshow(search2_result['mean_test_score'].values.reshape(4,-1),cmap=\"magma\")\n",
    "plt.xlabel('n_estimators'), plt.ylabel('max_features')\n",
    "plt.xticks(ticks=[0,1,2],labels=[500,1000,5000])\n",
    "plt.yticks(ticks=[0,1,2,3],labels=['auto','10','5','3'])\n",
    "plt.colorbar()"
   ]
  },
  {
   "cell_type": "markdown",
   "metadata": {},
   "source": [
    "#### search 3"
   ]
  },
  {
   "cell_type": "code",
   "execution_count": 89,
   "metadata": {
    "ExecuteTime": {
     "end_time": "2020-06-20T14:52:42.685202Z",
     "start_time": "2020-06-20T14:52:42.678058Z"
    }
   },
   "outputs": [],
   "source": [
    "model_params3 = dict(model__n_estimators=[1000,800,1200],\n",
    "                   model__max_features=[5, 6, 4])"
   ]
  },
  {
   "cell_type": "code",
   "execution_count": 90,
   "metadata": {
    "ExecuteTime": {
     "end_time": "2020-06-20T14:52:44.705071Z",
     "start_time": "2020-06-20T14:52:44.696158Z"
    }
   },
   "outputs": [],
   "source": [
    "search_model3 = GridSearchCV(final_model_pipe,model_params3,cv=5,verbose=1,\n",
    "                      return_train_score=True,n_jobs=-1,scoring='f1_macro')"
   ]
  },
  {
   "cell_type": "code",
   "execution_count": 91,
   "metadata": {
    "ExecuteTime": {
     "end_time": "2020-06-20T14:55:09.037708Z",
     "start_time": "2020-06-20T14:52:45.521079Z"
    }
   },
   "outputs": [
    {
     "name": "stdout",
     "output_type": "stream",
     "text": [
      "Fitting 5 folds for each of 9 candidates, totalling 45 fits\n"
     ]
    },
    {
     "name": "stderr",
     "output_type": "stream",
     "text": [
      "[Parallel(n_jobs=-1)]: Using backend LokyBackend with 8 concurrent workers.\n",
      "[Parallel(n_jobs=-1)]: Done  45 out of  45 | elapsed:  2.3min finished\n"
     ]
    }
   ],
   "source": [
    "search_model3.fit(train_x_oversample, train_y_oversample);"
   ]
  },
  {
   "cell_type": "code",
   "execution_count": 92,
   "metadata": {
    "ExecuteTime": {
     "end_time": "2020-06-20T14:55:09.077358Z",
     "start_time": "2020-06-20T14:55:09.044172Z"
    }
   },
   "outputs": [],
   "source": [
    "search3_result = pd.DataFrame(search_model3.cv_results_)\\\n",
    "                [['rank_test_score','param_model__max_features', 'param_model__n_estimators',\n",
    "                 'mean_test_score', 'std_test_score','mean_train_score', 'std_train_score']]\\\n",
    ".set_index('rank_test_score')"
   ]
  },
  {
   "cell_type": "code",
   "execution_count": 93,
   "metadata": {
    "ExecuteTime": {
     "end_time": "2020-06-20T14:55:09.131997Z",
     "start_time": "2020-06-20T14:55:09.089609Z"
    }
   },
   "outputs": [
    {
     "data": {
      "text/html": [
       "<div>\n",
       "<style scoped>\n",
       "    .dataframe tbody tr th:only-of-type {\n",
       "        vertical-align: middle;\n",
       "    }\n",
       "\n",
       "    .dataframe tbody tr th {\n",
       "        vertical-align: top;\n",
       "    }\n",
       "\n",
       "    .dataframe thead th {\n",
       "        text-align: right;\n",
       "    }\n",
       "</style>\n",
       "<table border=\"1\" class=\"dataframe\">\n",
       "  <thead>\n",
       "    <tr style=\"text-align: right;\">\n",
       "      <th></th>\n",
       "      <th>param_model__max_features</th>\n",
       "      <th>param_model__n_estimators</th>\n",
       "      <th>mean_test_score</th>\n",
       "      <th>std_test_score</th>\n",
       "      <th>mean_train_score</th>\n",
       "      <th>std_train_score</th>\n",
       "    </tr>\n",
       "    <tr>\n",
       "      <th>rank_test_score</th>\n",
       "      <th></th>\n",
       "      <th></th>\n",
       "      <th></th>\n",
       "      <th></th>\n",
       "      <th></th>\n",
       "      <th></th>\n",
       "    </tr>\n",
       "  </thead>\n",
       "  <tbody>\n",
       "    <tr>\n",
       "      <th>1</th>\n",
       "      <td>4</td>\n",
       "      <td>1200</td>\n",
       "      <td>0.962508</td>\n",
       "      <td>0.004887</td>\n",
       "      <td>1.0</td>\n",
       "      <td>0.0</td>\n",
       "    </tr>\n",
       "    <tr>\n",
       "      <th>2</th>\n",
       "      <td>5</td>\n",
       "      <td>1000</td>\n",
       "      <td>0.962507</td>\n",
       "      <td>0.004190</td>\n",
       "      <td>1.0</td>\n",
       "      <td>0.0</td>\n",
       "    </tr>\n",
       "    <tr>\n",
       "      <th>3</th>\n",
       "      <td>4</td>\n",
       "      <td>1000</td>\n",
       "      <td>0.962319</td>\n",
       "      <td>0.005427</td>\n",
       "      <td>1.0</td>\n",
       "      <td>0.0</td>\n",
       "    </tr>\n",
       "    <tr>\n",
       "      <th>4</th>\n",
       "      <td>4</td>\n",
       "      <td>800</td>\n",
       "      <td>0.962130</td>\n",
       "      <td>0.005665</td>\n",
       "      <td>1.0</td>\n",
       "      <td>0.0</td>\n",
       "    </tr>\n",
       "    <tr>\n",
       "      <th>5</th>\n",
       "      <td>5</td>\n",
       "      <td>800</td>\n",
       "      <td>0.962130</td>\n",
       "      <td>0.003882</td>\n",
       "      <td>1.0</td>\n",
       "      <td>0.0</td>\n",
       "    </tr>\n",
       "  </tbody>\n",
       "</table>\n",
       "</div>"
      ],
      "text/plain": [
       "                param_model__max_features param_model__n_estimators  \\\n",
       "rank_test_score                                                       \n",
       "1                                       4                      1200   \n",
       "2                                       5                      1000   \n",
       "3                                       4                      1000   \n",
       "4                                       4                       800   \n",
       "5                                       5                       800   \n",
       "\n",
       "                 mean_test_score  std_test_score  mean_train_score  \\\n",
       "rank_test_score                                                      \n",
       "1                       0.962508        0.004887               1.0   \n",
       "2                       0.962507        0.004190               1.0   \n",
       "3                       0.962319        0.005427               1.0   \n",
       "4                       0.962130        0.005665               1.0   \n",
       "5                       0.962130        0.003882               1.0   \n",
       "\n",
       "                 std_train_score  \n",
       "rank_test_score                   \n",
       "1                            0.0  \n",
       "2                            0.0  \n",
       "3                            0.0  \n",
       "4                            0.0  \n",
       "5                            0.0  "
      ]
     },
     "execution_count": 93,
     "metadata": {},
     "output_type": "execute_result"
    }
   ],
   "source": [
    "search3_result.sort_values('mean_test_score',ascending=False).head()"
   ]
  },
  {
   "cell_type": "code",
   "execution_count": 95,
   "metadata": {
    "ExecuteTime": {
     "end_time": "2020-06-20T14:56:39.038957Z",
     "start_time": "2020-06-20T14:56:38.772929Z"
    }
   },
   "outputs": [
    {
     "data": {
      "text/plain": [
       "<matplotlib.colorbar.Colorbar at 0x7fc49e73a810>"
      ]
     },
     "execution_count": 95,
     "metadata": {},
     "output_type": "execute_result"
    },
    {
     "data": {
      "image/png": "[encoded data removed]",
      "text/plain": [
       "<Figure size 288x288 with 2 Axes>"
      ]
     },
     "metadata": {
      "needs_background": "light"
     },
     "output_type": "display_data"
    }
   ],
   "source": [
    "plt.matshow(search3_result['mean_test_score'].values.reshape(3,-1),cmap=\"magma\")\n",
    "plt.xlabel('n_estimators'), plt.ylabel('max_features')\n",
    "plt.xticks(ticks=[0,1,2,3],labels=[1000,800,1200])\n",
    "plt.yticks(ticks=[0,1,2,3],labels=[5, 6, 4])\n",
    "plt.colorbar()"
   ]
  },
  {
   "cell_type": "markdown",
   "metadata": {},
   "source": [
    "Let's set our best n_estimators = 1000 and max_features = 5"
   ]
  },
  {
   "cell_type": "markdown",
   "metadata": {},
   "source": [
    "# Final test"
   ]
  },
  {
   "cell_type": "code",
   "execution_count": 96,
   "metadata": {
    "ExecuteTime": {
     "end_time": "2020-06-20T14:57:05.035603Z",
     "start_time": "2020-06-20T14:57:05.024681Z"
    }
   },
   "outputs": [],
   "source": [
    "best_model = RandomForestClassifier(random_state=0, n_jobs=-1, n_estimators=1000, max_features=5)\n",
    "final_num_pipe = Pipeline([('num_impute',SimpleImputer(strategy='median')),\n",
    "                           ('num_scale',MinMaxScaler())])\n",
    "final_cat_pipe = Pipeline([('impute',SimpleImputer(strategy='most_frequent')),\n",
    "                           ('ohe',OneHotEncoder(handle_unknown='ignore'))])\n",
    "final_preprocess_pipe = ColumnTransformer([('numeric',final_num_pipe,make_column_selector(dtype_exclude='object')),\n",
    "                                    ('county_name',final_cat_pipe,make_column_selector(dtype_include='object'))])\n",
    "final_model_pipe = Pipeline([('preprocess',final_preprocess_pipe),\n",
    "                             ('model',best_model)])"
   ]
  },
  {
   "cell_type": "code",
   "execution_count": 97,
   "metadata": {
    "ExecuteTime": {
     "end_time": "2020-06-20T14:57:11.106734Z",
     "start_time": "2020-06-20T14:57:06.866116Z"
    }
   },
   "outputs": [
    {
     "data": {
      "text/plain": [
       "Pipeline(steps=[('preprocess',\n",
       "                 ColumnTransformer(transformers=[('numeric',\n",
       "                                                  Pipeline(steps=[('num_impute',\n",
       "                                                                   SimpleImputer(strategy='median')),\n",
       "                                                                  ('num_scale',\n",
       "                                                                   MinMaxScaler())]),\n",
       "                                                  <sklearn.compose._column_transformer.make_column_selector object at 0x7fc49f1e6550>),\n",
       "                                                 ('county_name',\n",
       "                                                  Pipeline(steps=[('impute',\n",
       "                                                                   SimpleImputer(strategy='most_frequent')),\n",
       "                                                                  ('ohe',\n",
       "                                                                   OneHotEncoder(handle_unknown='ignore'))]),\n",
       "                                                  <sklearn.compose._column_transformer.make_column_selector object at 0x7fc49f1e00d0>)])),\n",
       "                ('model',\n",
       "                 RandomForestClassifier(max_features=5, n_estimators=1000,\n",
       "                                        n_jobs=-1, random_state=0))])"
      ]
     },
     "execution_count": 97,
     "metadata": {},
     "output_type": "execute_result"
    }
   ],
   "source": [
    "final_model_pipe.fit(train_x_oversample, train_y_oversample)"
   ]
  },
  {
   "cell_type": "code",
   "execution_count": 98,
   "metadata": {
    "ExecuteTime": {
     "end_time": "2020-06-20T14:57:11.358018Z",
     "start_time": "2020-06-20T14:57:11.108703Z"
    }
   },
   "outputs": [
    {
     "name": "stdout",
     "output_type": "stream",
     "text": [
      "f1_score: 0.8896626547302571\n",
      "\n",
      "confucsion matrix: \n",
      "[[648  17]\n",
      " [ 72 240]]\n",
      "\n",
      "classification report: \n",
      "              precision    recall  f1-score   support\n",
      "\n",
      "           0       0.90      0.97      0.94       665\n",
      "           1       0.93      0.77      0.84       312\n",
      "\n",
      "    accuracy                           0.91       977\n",
      "   macro avg       0.92      0.87      0.89       977\n",
      "weighted avg       0.91      0.91      0.91       977\n",
      "\n"
     ]
    }
   ],
   "source": [
    "prediction = final_model_pipe.predict(test_x)\n",
    "get_result(test_y, prediction)"
   ]
  },
  {
   "cell_type": "markdown",
   "metadata": {},
   "source": [
    "We have pretty good precision and recall except for spam caller's recall.\\\n",
    "Let's try to increase our recall now."
   ]
  },
  {
   "cell_type": "markdown",
   "metadata": {},
   "source": [
    "## Changing threshold"
   ]
  },
  {
   "cell_type": "code",
   "execution_count": 110,
   "metadata": {
    "ExecuteTime": {
     "end_time": "2020-06-20T14:59:17.165473Z",
     "start_time": "2020-06-20T14:59:16.834269Z"
    }
   },
   "outputs": [],
   "source": [
    "predict_proba = final_model_pipe.predict_proba(test_x)"
   ]
  },
  {
   "cell_type": "code",
   "execution_count": 111,
   "metadata": {
    "ExecuteTime": {
     "end_time": "2020-06-20T14:59:21.436786Z",
     "start_time": "2020-06-20T14:59:21.430222Z"
    }
   },
   "outputs": [],
   "source": [
    "precision, recall, thresholds = precision_recall_curve(test_y, predict_proba[:,1])"
   ]
  },
  {
   "cell_type": "code",
   "execution_count": 128,
   "metadata": {
    "ExecuteTime": {
     "end_time": "2020-06-20T15:05:42.671995Z",
     "start_time": "2020-06-20T15:05:42.663634Z"
    }
   },
   "outputs": [],
   "source": [
    "predict_proba_thresholds = pd.DataFrame(zip(precision, recall, thresholds))\n",
    "predict_proba_thresholds.columns = ['precision', 'recall', 'thresholds']\n",
    "predict_proba_thresholds['f1_score'] = (predict_proba_thresholds['precision']*predict_proba_thresholds['recall']/\\\n",
    "        (predict_proba_thresholds['precision']+predict_proba_thresholds['recall']))*2"
   ]
  },
  {
   "cell_type": "code",
   "execution_count": 136,
   "metadata": {
    "ExecuteTime": {
     "end_time": "2020-06-20T15:07:30.228993Z",
     "start_time": "2020-06-20T15:07:30.209863Z"
    }
   },
   "outputs": [
    {
     "data": {
      "text/html": [
       "<div>\n",
       "<style scoped>\n",
       "    .dataframe tbody tr th:only-of-type {\n",
       "        vertical-align: middle;\n",
       "    }\n",
       "\n",
       "    .dataframe tbody tr th {\n",
       "        vertical-align: top;\n",
       "    }\n",
       "\n",
       "    .dataframe thead th {\n",
       "        text-align: right;\n",
       "    }\n",
       "</style>\n",
       "<table border=\"1\" class=\"dataframe\">\n",
       "  <thead>\n",
       "    <tr style=\"text-align: right;\">\n",
       "      <th></th>\n",
       "      <th>precision</th>\n",
       "      <th>recall</th>\n",
       "      <th>thresholds</th>\n",
       "      <th>f1_score</th>\n",
       "    </tr>\n",
       "  </thead>\n",
       "  <tbody>\n",
       "    <tr>\n",
       "      <th>268</th>\n",
       "      <td>0.894737</td>\n",
       "      <td>0.817308</td>\n",
       "      <td>0.426</td>\n",
       "      <td>0.854271</td>\n",
       "    </tr>\n",
       "    <tr>\n",
       "      <th>269</th>\n",
       "      <td>0.897527</td>\n",
       "      <td>0.814103</td>\n",
       "      <td>0.431</td>\n",
       "      <td>0.853782</td>\n",
       "    </tr>\n",
       "    <tr>\n",
       "      <th>267</th>\n",
       "      <td>0.891608</td>\n",
       "      <td>0.817308</td>\n",
       "      <td>0.422</td>\n",
       "      <td>0.852843</td>\n",
       "    </tr>\n",
       "    <tr>\n",
       "      <th>274</th>\n",
       "      <td>0.906137</td>\n",
       "      <td>0.804487</td>\n",
       "      <td>0.454</td>\n",
       "      <td>0.852292</td>\n",
       "    </tr>\n",
       "    <tr>\n",
       "      <th>270</th>\n",
       "      <td>0.897163</td>\n",
       "      <td>0.810897</td>\n",
       "      <td>0.435</td>\n",
       "      <td>0.851852</td>\n",
       "    </tr>\n",
       "    <tr>\n",
       "      <th>...</th>\n",
       "      <td>...</td>\n",
       "      <td>...</td>\n",
       "      <td>...</td>\n",
       "      <td>...</td>\n",
       "    </tr>\n",
       "    <tr>\n",
       "      <th>468</th>\n",
       "      <td>1.000000</td>\n",
       "      <td>0.032051</td>\n",
       "      <td>0.993</td>\n",
       "      <td>0.062112</td>\n",
       "    </tr>\n",
       "    <tr>\n",
       "      <th>469</th>\n",
       "      <td>1.000000</td>\n",
       "      <td>0.028846</td>\n",
       "      <td>0.994</td>\n",
       "      <td>0.056075</td>\n",
       "    </tr>\n",
       "    <tr>\n",
       "      <th>470</th>\n",
       "      <td>1.000000</td>\n",
       "      <td>0.025641</td>\n",
       "      <td>0.995</td>\n",
       "      <td>0.050000</td>\n",
       "    </tr>\n",
       "    <tr>\n",
       "      <th>471</th>\n",
       "      <td>1.000000</td>\n",
       "      <td>0.016026</td>\n",
       "      <td>0.997</td>\n",
       "      <td>0.031546</td>\n",
       "    </tr>\n",
       "    <tr>\n",
       "      <th>472</th>\n",
       "      <td>1.000000</td>\n",
       "      <td>0.003205</td>\n",
       "      <td>0.998</td>\n",
       "      <td>0.006390</td>\n",
       "    </tr>\n",
       "  </tbody>\n",
       "</table>\n",
       "<p>473 rows × 4 columns</p>\n",
       "</div>"
      ],
      "text/plain": [
       "     precision    recall  thresholds  f1_score\n",
       "268   0.894737  0.817308       0.426  0.854271\n",
       "269   0.897527  0.814103       0.431  0.853782\n",
       "267   0.891608  0.817308       0.422  0.852843\n",
       "274   0.906137  0.804487       0.454  0.852292\n",
       "270   0.897163  0.810897       0.435  0.851852\n",
       "..         ...       ...         ...       ...\n",
       "468   1.000000  0.032051       0.993  0.062112\n",
       "469   1.000000  0.028846       0.994  0.056075\n",
       "470   1.000000  0.025641       0.995  0.050000\n",
       "471   1.000000  0.016026       0.997  0.031546\n",
       "472   1.000000  0.003205       0.998  0.006390\n",
       "\n",
       "[473 rows x 4 columns]"
      ]
     },
     "execution_count": 136,
     "metadata": {},
     "output_type": "execute_result"
    }
   ],
   "source": [
    "predict_proba_thresholds.sort_values('f1_score',ascending=False)"
   ]
  },
  {
   "cell_type": "code",
   "execution_count": 132,
   "metadata": {
    "ExecuteTime": {
     "end_time": "2020-06-20T15:06:21.458664Z",
     "start_time": "2020-06-20T15:06:21.270070Z"
    }
   },
   "outputs": [
    {
     "data": {
      "image/png": "[encoded data removed]",
      "text/plain": [
       "<Figure size 432x288 with 1 Axes>"
      ]
     },
     "metadata": {
      "needs_background": "light"
     },
     "output_type": "display_data"
    }
   ],
   "source": [
    "plt.plot(precision,recall)\n",
    "plt.xlabel('precision'),plt.ylabel('recall');"
   ]
  },
  {
   "cell_type": "code",
   "execution_count": 137,
   "metadata": {
    "ExecuteTime": {
     "end_time": "2020-06-20T15:07:36.278267Z",
     "start_time": "2020-06-20T15:07:36.275428Z"
    }
   },
   "outputs": [],
   "source": [
    "THRESHOLD = 0.426"
   ]
  },
  {
   "cell_type": "code",
   "execution_count": 138,
   "metadata": {
    "ExecuteTime": {
     "end_time": "2020-06-20T15:07:37.294902Z",
     "start_time": "2020-06-20T15:07:36.952976Z"
    }
   },
   "outputs": [
    {
     "name": "stdout",
     "output_type": "stream",
     "text": [
      "f1_score: 0.8896626547302571\n",
      "\n",
      "confucsion matrix: \n",
      "[[648  17]\n",
      " [ 72 240]]\n",
      "\n",
      "classification report: \n",
      "              precision    recall  f1-score   support\n",
      "\n",
      "           0       0.90      0.97      0.94       665\n",
      "           1       0.93      0.77      0.84       312\n",
      "\n",
      "    accuracy                           0.91       977\n",
      "   macro avg       0.92      0.87      0.89       977\n",
      "weighted avg       0.91      0.91      0.91       977\n",
      "\n"
     ]
    }
   ],
   "source": [
    "get_result(test_y, final_model_pipe.predict(test_x))"
   ]
  },
  {
   "cell_type": "code",
   "execution_count": 139,
   "metadata": {
    "ExecuteTime": {
     "end_time": "2020-06-20T15:07:38.623451Z",
     "start_time": "2020-06-20T15:07:38.279021Z"
    }
   },
   "outputs": [
    {
     "name": "stdout",
     "output_type": "stream",
     "text": [
      "f1_score: 0.8948819262804459\n",
      "\n",
      "confucsion matrix: \n",
      "[[636  29]\n",
      " [ 58 254]]\n",
      "\n",
      "classification report: \n",
      "              precision    recall  f1-score   support\n",
      "\n",
      "           0       0.92      0.96      0.94       665\n",
      "           1       0.90      0.81      0.85       312\n",
      "\n",
      "    accuracy                           0.91       977\n",
      "   macro avg       0.91      0.89      0.89       977\n",
      "weighted avg       0.91      0.91      0.91       977\n",
      "\n"
     ]
    }
   ],
   "source": [
    "get_result(test_y, np.where(final_model_pipe.predict_proba(test_x)[:,1]>THRESHOLD,1,0))"
   ]
  },
  {
   "cell_type": "markdown",
   "metadata": {},
   "source": [
    "## Validation set"
   ]
  },
  {
   "cell_type": "code",
   "execution_count": 140,
   "metadata": {
    "ExecuteTime": {
     "end_time": "2020-06-20T15:07:54.730504Z",
     "start_time": "2020-06-20T15:07:54.714948Z"
    }
   },
   "outputs": [],
   "source": [
    "validation = pd.read_csv('../datasets/validation.csv')"
   ]
  },
  {
   "cell_type": "code",
   "execution_count": 141,
   "metadata": {
    "ExecuteTime": {
     "end_time": "2020-06-20T15:07:55.292222Z",
     "start_time": "2020-06-20T15:07:55.280971Z"
    }
   },
   "outputs": [],
   "source": [
    "validation['arpu'] = validation[['arpu_201908', 'arpu_201909',\n",
    "       'arpu_201910', 'arpu_201911', 'arpu_201912', 'arpu_202001',\n",
    "       'arpu_202002', 'arpu_202003']].mean(axis=1)\n",
    "validation = validation.drop(['arpu_201908', 'arpu_201909',\n",
    "       'arpu_201910', 'arpu_201911', 'arpu_201912', 'arpu_202001',\n",
    "       'arpu_202002', 'arpu_202003','city_name'], axis=1).set_index('phone_no_m')"
   ]
  },
  {
   "cell_type": "code",
   "execution_count": 142,
   "metadata": {
    "ExecuteTime": {
     "end_time": "2020-06-20T15:07:56.859968Z",
     "start_time": "2020-06-20T15:07:56.851667Z"
    }
   },
   "outputs": [],
   "source": [
    "validation_X, validation_y = validation.drop('label',axis=1), validation['label']"
   ]
  },
  {
   "cell_type": "code",
   "execution_count": 143,
   "metadata": {
    "ExecuteTime": {
     "end_time": "2020-06-20T15:08:00.916952Z",
     "start_time": "2020-06-20T15:08:00.576105Z"
    },
    "scrolled": true
   },
   "outputs": [
    {
     "name": "stdout",
     "output_type": "stream",
     "text": [
      "f1_score: 0.8647001470758349\n",
      "\n",
      "confucsion matrix: \n",
      "[[810  15]\n",
      " [119 278]]\n",
      "\n",
      "classification report: \n",
      "              precision    recall  f1-score   support\n",
      "\n",
      "           0       0.87      0.98      0.92       825\n",
      "           1       0.95      0.70      0.81       397\n",
      "\n",
      "    accuracy                           0.89      1222\n",
      "   macro avg       0.91      0.84      0.86      1222\n",
      "weighted avg       0.90      0.89      0.89      1222\n",
      "\n"
     ]
    }
   ],
   "source": [
    "valid_predict = final_model_pipe.predict(validation_X)\n",
    "get_result(validation_y, valid_predict)"
   ]
  },
  {
   "cell_type": "code",
   "execution_count": 144,
   "metadata": {
    "ExecuteTime": {
     "end_time": "2020-06-20T15:08:02.423177Z",
     "start_time": "2020-06-20T15:08:02.083337Z"
    }
   },
   "outputs": [
    {
     "name": "stdout",
     "output_type": "stream",
     "text": [
      "f1_score: 0.8811669049565092\n",
      "\n",
      "confucsion matrix: \n",
      "[[800  25]\n",
      " [ 96 301]]\n",
      "\n",
      "classification report: \n",
      "              precision    recall  f1-score   support\n",
      "\n",
      "           0       0.89      0.97      0.93       825\n",
      "           1       0.92      0.76      0.83       397\n",
      "\n",
      "    accuracy                           0.90      1222\n",
      "   macro avg       0.91      0.86      0.88      1222\n",
      "weighted avg       0.90      0.90      0.90      1222\n",
      "\n"
     ]
    }
   ],
   "source": [
    "valid_predict_proba = final_model_pipe.predict_proba(validation_X)\n",
    "get_result(validation_y, np.where(valid_predict_proba[:,1]>THRESHOLD,1,0))"
   ]
  },
  {
   "cell_type": "markdown",
   "metadata": {},
   "source": [
    "We have established the best threshold based on all the test data as well.\\\n",
    "We can't adjust the threshold anymore since we don't have any unseen datasets."
   ]
  },
  {
   "cell_type": "markdown",
   "metadata": {},
   "source": [
    "# Prediction"
   ]
  },
  {
   "cell_type": "code",
   "execution_count": 145,
   "metadata": {
    "ExecuteTime": {
     "end_time": "2020-06-20T15:08:17.789571Z",
     "start_time": "2020-06-20T15:08:17.779440Z"
    }
   },
   "outputs": [],
   "source": [
    "combined_X = pd.concat([X, validation_X], axis=0)\n",
    "combined_y = pd.concat([y, validation_y], axis=0)"
   ]
  },
  {
   "cell_type": "code",
   "execution_count": 146,
   "metadata": {
    "ExecuteTime": {
     "end_time": "2020-06-20T15:08:22.971512Z",
     "start_time": "2020-06-20T15:08:22.966656Z"
    }
   },
   "outputs": [
    {
     "data": {
      "text/plain": [
       "((6106, 15), (6106,))"
      ]
     },
     "execution_count": 146,
     "metadata": {},
     "output_type": "execute_result"
    }
   ],
   "source": [
    "combined_X.shape, combined_y.shape"
   ]
  },
  {
   "cell_type": "code",
   "execution_count": 165,
   "metadata": {
    "ExecuteTime": {
     "end_time": "2020-06-20T15:11:34.617064Z",
     "start_time": "2020-06-20T15:11:34.608494Z"
    }
   },
   "outputs": [],
   "source": [
    "X_majority_class = combined_X.loc[combined_y==0]\n",
    "X_minority_class = combined_X.loc[combined_y==1]"
   ]
  },
  {
   "cell_type": "code",
   "execution_count": 166,
   "metadata": {
    "ExecuteTime": {
     "end_time": "2020-06-20T15:11:42.236283Z",
     "start_time": "2020-06-20T15:11:42.231113Z"
    }
   },
   "outputs": [],
   "source": [
    "X_minority_oversample = resample(X_minority_class, n_samples=X_majority_class.shape[0], random_state=0)"
   ]
  },
  {
   "cell_type": "code",
   "execution_count": 167,
   "metadata": {
    "ExecuteTime": {
     "end_time": "2020-06-20T15:11:43.336539Z",
     "start_time": "2020-06-20T15:11:43.332921Z"
    }
   },
   "outputs": [
    {
     "data": {
      "text/plain": [
       "((4144, 15), (4144, 15))"
      ]
     },
     "execution_count": 167,
     "metadata": {},
     "output_type": "execute_result"
    }
   ],
   "source": [
    "X_majority_class.shape, X_minority_oversample.shape"
   ]
  },
  {
   "cell_type": "code",
   "execution_count": 182,
   "metadata": {
    "ExecuteTime": {
     "end_time": "2020-06-20T15:15:03.125098Z",
     "start_time": "2020-06-20T15:15:03.115883Z"
    }
   },
   "outputs": [],
   "source": [
    "X_oversample = pd.concat([X_majority_class, X_minority_oversample], axis=0)\n",
    "X_oversample = shuffle(X_oversample)\n",
    "y_oversample = combined_y[X_oversample.index]"
   ]
  },
  {
   "cell_type": "code",
   "execution_count": 184,
   "metadata": {
    "ExecuteTime": {
     "end_time": "2020-06-20T15:15:06.664421Z",
     "start_time": "2020-06-20T15:15:06.658321Z"
    }
   },
   "outputs": [
    {
     "data": {
      "text/plain": [
       "((8288, 15), (8288,))"
      ]
     },
     "execution_count": 184,
     "metadata": {},
     "output_type": "execute_result"
    }
   ],
   "source": [
    "X_oversample.shape, y_oversample.shape"
   ]
  },
  {
   "cell_type": "code",
   "execution_count": 185,
   "metadata": {
    "ExecuteTime": {
     "end_time": "2020-06-20T15:15:08.204516Z",
     "start_time": "2020-06-20T15:15:08.190527Z"
    }
   },
   "outputs": [
    {
     "name": "stdout",
     "output_type": "stream",
     "text": [
      "<class 'pandas.core.frame.DataFrame'>\n",
      "Index: 8288 entries, 35c2052fc5ecd8038f92052d22a2015b35b42a128efc7aeeed066566ec77adea1351e3ead71ce018a26a49110220a04602736179c9e4adfc5916c2dba2d663dc to 9578c98b8f193d87c9963fb8aff23b720c6170ccbfd817cd1339b3c086a2acc6b91d4488c2d716194b7a2d6df83e7acbc97ca175a1cc3dbe320cd1ab084b857c\n",
      "Data columns (total 15 columns):\n",
      " #   Column                     Non-Null Count  Dtype  \n",
      "---  ------                     --------------  -----  \n",
      " 0   county_name                7740 non-null   object \n",
      " 1   idcard_cnt                 8288 non-null   int64  \n",
      " 2   sms_per_receiver           8285 non-null   float64\n",
      " 3   sms_calltype_1             8285 non-null   float64\n",
      " 4   sms_calltype_2             8285 non-null   float64\n",
      " 5   call_dur                   8123 non-null   float64\n",
      " 6   voc_opposite_no_m          8123 non-null   float64\n",
      " 7   voc_calltype_1             8123 non-null   float64\n",
      " 8   voc_calltype_2             8123 non-null   float64\n",
      " 9   voc_calltype_3             8123 non-null   float64\n",
      " 10  voc_receive_unique_county  8123 non-null   float64\n",
      " 11  data_with_known_app_no     8288 non-null   float64\n",
      " 12  data_with_known_app_yes    8288 non-null   float64\n",
      " 13  network_usage              8288 non-null   float64\n",
      " 14  arpu                       7940 non-null   float64\n",
      "dtypes: float64(13), int64(1), object(1)\n",
      "memory usage: 1.0+ MB\n"
     ]
    }
   ],
   "source": [
    "X_oversample.info()"
   ]
  },
  {
   "cell_type": "code",
   "execution_count": 186,
   "metadata": {
    "ExecuteTime": {
     "end_time": "2020-06-20T15:15:22.902398Z",
     "start_time": "2020-06-20T15:15:16.774216Z"
    }
   },
   "outputs": [],
   "source": [
    "final_model_pipe.fit(X_oversample, y_oversample);"
   ]
  },
  {
   "cell_type": "code",
   "execution_count": 187,
   "metadata": {
    "ExecuteTime": {
     "end_time": "2020-06-20T15:15:25.040614Z",
     "start_time": "2020-06-20T15:15:25.009618Z"
    }
   },
   "outputs": [],
   "source": [
    "submission_x = pd.read_csv('../datasets/test.csv').\\\n",
    "            rename(columns = {'arpu_202004':'arpu'}).set_index('phone_no_m').drop('city_name',axis=1)\n",
    "submission_x = submission_x[X_oversample.columns.values]"
   ]
  },
  {
   "cell_type": "code",
   "execution_count": 188,
   "metadata": {
    "ExecuteTime": {
     "end_time": "2020-06-20T15:15:25.988183Z",
     "start_time": "2020-06-20T15:15:25.975538Z"
    }
   },
   "outputs": [
    {
     "name": "stdout",
     "output_type": "stream",
     "text": [
      "<class 'pandas.core.frame.DataFrame'>\n",
      "Index: 2045 entries, 22d522340df77e2252c1a4d92b4bcb00d515e36f3ec6bf94e017b4ffd67e26520af18637ad91bde69abd831cc36cdc0c5af5e57bc280f95f79efef7bfa9c6926 to 08923b36132be7e0e4739794aa9af2c4ca896dc789e320284772a974ba3804690d4191dbceffc0516186dda9a1ad133ec9b55203a65bc164bfff58ec2594e60c\n",
      "Data columns (total 15 columns):\n",
      " #   Column                     Non-Null Count  Dtype  \n",
      "---  ------                     --------------  -----  \n",
      " 0   county_name                1978 non-null   object \n",
      " 1   idcard_cnt                 2045 non-null   int64  \n",
      " 2   sms_per_receiver           2008 non-null   float64\n",
      " 3   sms_calltype_1             2008 non-null   float64\n",
      " 4   sms_calltype_2             2008 non-null   float64\n",
      " 5   call_dur                   1965 non-null   float64\n",
      " 6   voc_opposite_no_m          1965 non-null   float64\n",
      " 7   voc_calltype_1             1965 non-null   float64\n",
      " 8   voc_calltype_2             1965 non-null   float64\n",
      " 9   voc_calltype_3             1965 non-null   float64\n",
      " 10  voc_receive_unique_county  1965 non-null   float64\n",
      " 11  data_with_known_app_no     2045 non-null   float64\n",
      " 12  data_with_known_app_yes    2045 non-null   float64\n",
      " 13  network_usage              2045 non-null   float64\n",
      " 14  arpu                       1869 non-null   float64\n",
      "dtypes: float64(13), int64(1), object(1)\n",
      "memory usage: 255.6+ KB\n"
     ]
    }
   ],
   "source": [
    "submission_x.info()"
   ]
  },
  {
   "cell_type": "code",
   "execution_count": 189,
   "metadata": {
    "ExecuteTime": {
     "end_time": "2020-06-20T15:15:32.708346Z",
     "start_time": "2020-06-20T15:15:32.377026Z"
    }
   },
   "outputs": [],
   "source": [
    "test_predict_proba = final_model_pipe.predict_proba(submission_x)\n",
    "submission_predict = np.where(test_predict_proba[:,1]>THRESHOLD,1,0)"
   ]
  },
  {
   "cell_type": "code",
   "execution_count": 194,
   "metadata": {
    "ExecuteTime": {
     "end_time": "2020-06-20T15:18:01.948672Z",
     "start_time": "2020-06-20T15:18:01.459380Z"
    }
   },
   "outputs": [],
   "source": [
    "submission_predict = final_model_pipe.predict(submission_x)"
   ]
  },
  {
   "cell_type": "code",
   "execution_count": 195,
   "metadata": {
    "ExecuteTime": {
     "end_time": "2020-06-20T15:18:02.712223Z",
     "start_time": "2020-06-20T15:18:02.704831Z"
    }
   },
   "outputs": [
    {
     "data": {
      "text/plain": [
       "0.2938875305623472"
      ]
     },
     "execution_count": 195,
     "metadata": {},
     "output_type": "execute_result"
    }
   ],
   "source": [
    "submission_predict.mean()"
   ]
  },
  {
   "cell_type": "code",
   "execution_count": 196,
   "metadata": {
    "ExecuteTime": {
     "end_time": "2020-06-20T15:18:04.299965Z",
     "start_time": "2020-06-20T15:18:04.292890Z"
    }
   },
   "outputs": [],
   "source": [
    "submission = pd.DataFrame({'phone_no_m':submission_x.index.values,'label':submission_predict})"
   ]
  },
  {
   "cell_type": "code",
   "execution_count": 197,
   "metadata": {
    "ExecuteTime": {
     "end_time": "2020-06-20T15:18:04.808378Z",
     "start_time": "2020-06-20T15:18:04.787835Z"
    }
   },
   "outputs": [
    {
     "data": {
      "text/html": [
       "<div>\n",
       "<style scoped>\n",
       "    .dataframe tbody tr th:only-of-type {\n",
       "        vertical-align: middle;\n",
       "    }\n",
       "\n",
       "    .dataframe tbody tr th {\n",
       "        vertical-align: top;\n",
       "    }\n",
       "\n",
       "    .dataframe thead th {\n",
       "        text-align: right;\n",
       "    }\n",
       "</style>\n",
       "<table border=\"1\" class=\"dataframe\">\n",
       "  <thead>\n",
       "    <tr style=\"text-align: right;\">\n",
       "      <th></th>\n",
       "      <th>phone_no_m</th>\n",
       "      <th>label</th>\n",
       "    </tr>\n",
       "  </thead>\n",
       "  <tbody>\n",
       "    <tr>\n",
       "      <th>0</th>\n",
       "      <td>22d522340df77e2252c1a4d92b4bcb00d515e36f3ec6bf...</td>\n",
       "      <td>1</td>\n",
       "    </tr>\n",
       "    <tr>\n",
       "      <th>1</th>\n",
       "      <td>5220d4b8429bdba3971a7b46a088c6b8fa6710f4060759...</td>\n",
       "      <td>1</td>\n",
       "    </tr>\n",
       "    <tr>\n",
       "      <th>2</th>\n",
       "      <td>7d19dd2b50ced56f03d23bf928cf34dc570a48525571a8...</td>\n",
       "      <td>0</td>\n",
       "    </tr>\n",
       "    <tr>\n",
       "      <th>3</th>\n",
       "      <td>134a4a591185c9d3788021896dcfc235e9e0a6a1e3f8a4...</td>\n",
       "      <td>1</td>\n",
       "    </tr>\n",
       "    <tr>\n",
       "      <th>4</th>\n",
       "      <td>2356dcd6759d50455ddaeed03c838843558e9182d5962f...</td>\n",
       "      <td>0</td>\n",
       "    </tr>\n",
       "  </tbody>\n",
       "</table>\n",
       "</div>"
      ],
      "text/plain": [
       "                                          phone_no_m  label\n",
       "0  22d522340df77e2252c1a4d92b4bcb00d515e36f3ec6bf...      1\n",
       "1  5220d4b8429bdba3971a7b46a088c6b8fa6710f4060759...      1\n",
       "2  7d19dd2b50ced56f03d23bf928cf34dc570a48525571a8...      0\n",
       "3  134a4a591185c9d3788021896dcfc235e9e0a6a1e3f8a4...      1\n",
       "4  2356dcd6759d50455ddaeed03c838843558e9182d5962f...      0"
      ]
     },
     "execution_count": 197,
     "metadata": {},
     "output_type": "execute_result"
    }
   ],
   "source": [
    "submission.head()"
   ]
  },
  {
   "cell_type": "code",
   "execution_count": 198,
   "metadata": {
    "ExecuteTime": {
     "end_time": "2020-06-20T15:18:08.866396Z",
     "start_time": "2020-06-20T15:18:08.847182Z"
    }
   },
   "outputs": [],
   "source": [
    "submission.to_csv('../datasets/submission_v2.csv',index=False)"
   ]
  },
  {
   "cell_type": "code",
   "execution_count": 200,
   "metadata": {
    "ExecuteTime": {
     "end_time": "2020-06-20T15:25:58.391974Z",
     "start_time": "2020-06-20T15:25:58.197307Z"
    }
   },
   "outputs": [],
   "source": [
    "X_oversample.to_csv('../datasets/X_oversample.csv', index=False)"
   ]
  },
  {
   "cell_type": "code",
   "execution_count": 201,
   "metadata": {
    "ExecuteTime": {
     "end_time": "2020-06-20T15:26:00.086017Z",
     "start_time": "2020-06-20T15:26:00.073104Z"
    }
   },
   "outputs": [],
   "source": [
    "y_oversample.to_csv('../datasets/y_oversample.csv', index=False)"
   ]
  },
  {
   "cell_type": "code",
   "execution_count": 202,
   "metadata": {
    "ExecuteTime": {
     "end_time": "2020-06-20T15:26:09.084895Z",
     "start_time": "2020-06-20T15:26:09.033787Z"
    }
   },
   "outputs": [],
   "source": [
    "submission_x.to_csv('../datasets/submission_rename.csv', index=False)"
   ]
  }
 ],
 "metadata": {
  "kernelspec": {
   "display_name": "Python 3",
   "language": "python",
   "name": "python3"
  },
  "language_info": {
   "codemirror_mode": {
    "name": "ipython",
    "version": 3
   },
   "file_extension": ".py",
   "mimetype": "text/x-python",
   "name": "python",
   "nbconvert_exporter": "python",
   "pygments_lexer": "ipython3",
   "version": "3.7.7"
  },
  "latex_envs": {
   "LaTeX_envs_menu_present": true,
   "autoclose": false,
   "autocomplete": true,
   "bibliofile": "biblio.bib",
   "cite_by": "apalike",
   "current_citInitial": 1,
   "eqLabelWithNumbers": true,
   "eqNumInitial": 1,
   "hotkeys": {
    "equation": "Ctrl-E",
    "itemize": "Ctrl-I"
   },
   "labels_anchors": false,
   "latex_user_defs": false,
   "report_style_numbering": false,
   "user_envs_cfg": false
  },
  "toc": {
   "base_numbering": 1,
   "nav_menu": {},
   "number_sections": true,
   "sideBar": true,
   "skip_h1_title": false,
   "title_cell": "Table of Contents",
   "title_sidebar": "Contents",
   "toc_cell": false,
   "toc_position": {},
   "toc_section_display": true,
   "toc_window_display": false
  }
 },
 "nbformat": 4,
 "nbformat_minor": 4
}
