{
 "cells": [
  {
   "cell_type": "code",
   "execution_count": 1,
   "metadata": {},
   "outputs": [],
   "source": [
    "import numpy as np\n",
    "import pandas as pd\n",
    "\n",
    "from sklearn.model_selection import train_test_split\n",
    "from sklearn.preprocessing import StandardScaler, RobustScaler, MinMaxScaler\n",
    "from sklearn.experimental import enable_iterative_imputer\n",
    "from sklearn.impute import SimpleImputer, KNNImputer, IterativeImputer\n",
    "from sklearn.tree import DecisionTreeRegressor\n",
    "from sklearn.pipeline import Pipeline\n",
    "\n",
    "#baseline model\n",
    "from sklearn.model_selection import train_test_split, cross_val_score, GridSearchCV\n",
    "from sklearn.ensemble import RandomForestClassifier\n",
    "from sklearn.linear_model import LogisticRegression, RidgeClassifier\n",
    "from sklearn.metrics import f1_score, classification_report, confusion_matrix"
   ]
  },
  {
   "cell_type": "code",
   "execution_count": 2,
   "metadata": {},
   "outputs": [],
   "source": [
    "train_app_full = pd.read_csv('train/train_app_cleaned.csv')"
   ]
  },
  {
   "cell_type": "code",
   "execution_count": 3,
   "metadata": {},
   "outputs": [],
   "source": [
    "train_user = pd.read_csv('train/train_user.csv')[['phone_no_m','label']]"
   ]
  },
  {
   "cell_type": "code",
   "execution_count": 4,
   "metadata": {},
   "outputs": [],
   "source": [
    "train_app_full = pd.merge(train_app_full, train_user, on='phone_no_m', how='right')"
   ]
  },
  {
   "cell_type": "code",
   "execution_count": 5,
   "metadata": {},
   "outputs": [
    {
     "data": {
      "text/html": [
       "<div>\n",
       "<style scoped>\n",
       "    .dataframe tbody tr th:only-of-type {\n",
       "        vertical-align: middle;\n",
       "    }\n",
       "\n",
       "    .dataframe tbody tr th {\n",
       "        vertical-align: top;\n",
       "    }\n",
       "\n",
       "    .dataframe thead th {\n",
       "        text-align: right;\n",
       "    }\n",
       "</style>\n",
       "<table border=\"1\" class=\"dataframe\">\n",
       "  <thead>\n",
       "    <tr style=\"text-align: right;\">\n",
       "      <th></th>\n",
       "      <th>phone_no_m</th>\n",
       "      <th>data_with_known_app_no</th>\n",
       "      <th>data_with_known_app_yes</th>\n",
       "      <th>network_usage</th>\n",
       "      <th>label</th>\n",
       "    </tr>\n",
       "  </thead>\n",
       "  <tbody>\n",
       "    <tr>\n",
       "      <th>0</th>\n",
       "      <td>00073ceecc0f7220a440580ac5dea410c90d14b6669458...</td>\n",
       "      <td>0.137097</td>\n",
       "      <td>0.862903</td>\n",
       "      <td>31.427467</td>\n",
       "      <td>0</td>\n",
       "    </tr>\n",
       "    <tr>\n",
       "      <th>1</th>\n",
       "      <td>00086f1d2e2c1227f811c3e17f2e9c37cf9971f47bb933...</td>\n",
       "      <td>0.076923</td>\n",
       "      <td>0.923077</td>\n",
       "      <td>4.166953</td>\n",
       "      <td>1</td>\n",
       "    </tr>\n",
       "    <tr>\n",
       "      <th>2</th>\n",
       "      <td>000c00db8809c27e723ba90582bf334b2d3ca9063f53fb...</td>\n",
       "      <td>1.000000</td>\n",
       "      <td>0.000000</td>\n",
       "      <td>0.000000</td>\n",
       "      <td>1</td>\n",
       "    </tr>\n",
       "    <tr>\n",
       "      <th>3</th>\n",
       "      <td>0014b698069503ceadb9442605834729064be51cdd7002...</td>\n",
       "      <td>0.200000</td>\n",
       "      <td>0.800000</td>\n",
       "      <td>0.298681</td>\n",
       "      <td>1</td>\n",
       "    </tr>\n",
       "    <tr>\n",
       "      <th>4</th>\n",
       "      <td>0034030646f2008d36431e00b133db30efc8b0c31757f3...</td>\n",
       "      <td>0.208750</td>\n",
       "      <td>0.791250</td>\n",
       "      <td>17.019287</td>\n",
       "      <td>0</td>\n",
       "    </tr>\n",
       "  </tbody>\n",
       "</table>\n",
       "</div>"
      ],
      "text/plain": [
       "                                          phone_no_m  data_with_known_app_no  \\\n",
       "0  00073ceecc0f7220a440580ac5dea410c90d14b6669458...                0.137097   \n",
       "1  00086f1d2e2c1227f811c3e17f2e9c37cf9971f47bb933...                0.076923   \n",
       "2  000c00db8809c27e723ba90582bf334b2d3ca9063f53fb...                1.000000   \n",
       "3  0014b698069503ceadb9442605834729064be51cdd7002...                0.200000   \n",
       "4  0034030646f2008d36431e00b133db30efc8b0c31757f3...                0.208750   \n",
       "\n",
       "   data_with_known_app_yes  network_usage  label  \n",
       "0                 0.862903      31.427467      0  \n",
       "1                 0.923077       4.166953      1  \n",
       "2                 0.000000       0.000000      1  \n",
       "3                 0.800000       0.298681      1  \n",
       "4                 0.791250      17.019287      0  "
      ]
     },
     "execution_count": 5,
     "metadata": {},
     "output_type": "execute_result"
    }
   ],
   "source": [
    "train_app_full.head()"
   ]
  },
  {
   "cell_type": "code",
   "execution_count": 6,
   "metadata": {},
   "outputs": [
    {
     "name": "stdout",
     "output_type": "stream",
     "text": [
      "<class 'pandas.core.frame.DataFrame'>\n",
      "Int64Index: 4884 entries, 0 to 4883\n",
      "Data columns (total 5 columns):\n",
      " #   Column                   Non-Null Count  Dtype  \n",
      "---  ------                   --------------  -----  \n",
      " 0   phone_no_m               4884 non-null   object \n",
      " 1   data_with_known_app_no   4884 non-null   float64\n",
      " 2   data_with_known_app_yes  4884 non-null   float64\n",
      " 3   network_usage            4884 non-null   float64\n",
      " 4   label                    4884 non-null   int64  \n",
      "dtypes: float64(3), int64(1), object(1)\n",
      "memory usage: 228.9+ KB\n"
     ]
    }
   ],
   "source": [
    "train_app_full.info()"
   ]
  },
  {
   "cell_type": "code",
   "execution_count": 7,
   "metadata": {},
   "outputs": [],
   "source": [
    "train_x, test_x, train_y, test_y = train_test_split(train_app_full.drop(['phone_no_m',\n",
    "                                                        'label'],axis=1),\n",
    "                                                   train_app_full['label'],\n",
    "                                                   random_state=0, test_size=0.2,\n",
    "                                                    stratify=train_app_full['label'])"
   ]
  },
  {
   "cell_type": "code",
   "execution_count": 8,
   "metadata": {},
   "outputs": [
    {
     "name": "stdout",
     "output_type": "stream",
     "text": [
      "<class 'pandas.core.frame.DataFrame'>\n",
      "Int64Index: 3907 entries, 3016 to 33\n",
      "Data columns (total 3 columns):\n",
      " #   Column                   Non-Null Count  Dtype  \n",
      "---  ------                   --------------  -----  \n",
      " 0   data_with_known_app_no   3907 non-null   float64\n",
      " 1   data_with_known_app_yes  3907 non-null   float64\n",
      " 2   network_usage            3907 non-null   float64\n",
      "dtypes: float64(3)\n",
      "memory usage: 122.1 KB\n"
     ]
    }
   ],
   "source": [
    "train_x.info()"
   ]
  },
  {
   "cell_type": "code",
   "execution_count": 9,
   "metadata": {},
   "outputs": [
    {
     "data": {
      "text/html": [
       "<div>\n",
       "<style scoped>\n",
       "    .dataframe tbody tr th:only-of-type {\n",
       "        vertical-align: middle;\n",
       "    }\n",
       "\n",
       "    .dataframe tbody tr th {\n",
       "        vertical-align: top;\n",
       "    }\n",
       "\n",
       "    .dataframe thead th {\n",
       "        text-align: right;\n",
       "    }\n",
       "</style>\n",
       "<table border=\"1\" class=\"dataframe\">\n",
       "  <thead>\n",
       "    <tr style=\"text-align: right;\">\n",
       "      <th></th>\n",
       "      <th>count</th>\n",
       "      <th>mean</th>\n",
       "      <th>std</th>\n",
       "      <th>min</th>\n",
       "      <th>25%</th>\n",
       "      <th>50%</th>\n",
       "      <th>75%</th>\n",
       "      <th>max</th>\n",
       "    </tr>\n",
       "  </thead>\n",
       "  <tbody>\n",
       "    <tr>\n",
       "      <th>data_with_known_app_no</th>\n",
       "      <td>3907.0</td>\n",
       "      <td>0.266401</td>\n",
       "      <td>0.327295</td>\n",
       "      <td>0.0</td>\n",
       "      <td>0.055965</td>\n",
       "      <td>0.117107</td>\n",
       "      <td>0.277778</td>\n",
       "      <td>1.00000</td>\n",
       "    </tr>\n",
       "    <tr>\n",
       "      <th>data_with_known_app_yes</th>\n",
       "      <td>3907.0</td>\n",
       "      <td>0.733599</td>\n",
       "      <td>0.327295</td>\n",
       "      <td>0.0</td>\n",
       "      <td>0.722222</td>\n",
       "      <td>0.882893</td>\n",
       "      <td>0.944035</td>\n",
       "      <td>1.00000</td>\n",
       "    </tr>\n",
       "    <tr>\n",
       "      <th>network_usage</th>\n",
       "      <td>3907.0</td>\n",
       "      <td>25.937047</td>\n",
       "      <td>41.993301</td>\n",
       "      <td>0.0</td>\n",
       "      <td>0.092348</td>\n",
       "      <td>6.737151</td>\n",
       "      <td>35.169165</td>\n",
       "      <td>554.97145</td>\n",
       "    </tr>\n",
       "  </tbody>\n",
       "</table>\n",
       "</div>"
      ],
      "text/plain": [
       "                          count       mean        std  min       25%  \\\n",
       "data_with_known_app_no   3907.0   0.266401   0.327295  0.0  0.055965   \n",
       "data_with_known_app_yes  3907.0   0.733599   0.327295  0.0  0.722222   \n",
       "network_usage            3907.0  25.937047  41.993301  0.0  0.092348   \n",
       "\n",
       "                              50%        75%        max  \n",
       "data_with_known_app_no   0.117107   0.277778    1.00000  \n",
       "data_with_known_app_yes  0.882893   0.944035    1.00000  \n",
       "network_usage            6.737151  35.169165  554.97145  "
      ]
     },
     "execution_count": 9,
     "metadata": {},
     "output_type": "execute_result"
    }
   ],
   "source": [
    "#we use robust scaling as network_usage is skewed\n",
    "train_x.describe().T"
   ]
  },
  {
   "cell_type": "markdown",
   "metadata": {},
   "source": [
    "### Baseline score"
   ]
  },
  {
   "cell_type": "code",
   "execution_count": 10,
   "metadata": {},
   "outputs": [],
   "source": [
    "scalers = [StandardScaler(), RobustScaler(), MinMaxScaler()]"
   ]
  },
  {
   "cell_type": "code",
   "execution_count": 11,
   "metadata": {},
   "outputs": [],
   "source": [
    "imputers = [SimpleImputer(strategy='mean'), KNNImputer(), SimpleImputer(strategy='median'),\n",
    "           IterativeImputer(random_state=0,estimator=DecisionTreeRegressor(max_features='sqrt',random_state=0))]"
   ]
  },
  {
   "cell_type": "code",
   "execution_count": 12,
   "metadata": {},
   "outputs": [],
   "source": [
    "preprocess = Pipeline([('scale',scalers[0]),('impute',imputers[0])])"
   ]
  },
  {
   "cell_type": "code",
   "execution_count": 13,
   "metadata": {},
   "outputs": [],
   "source": [
    "models = [RandomForestClassifier(n_jobs=-1,random_state=0),\n",
    "         LogisticRegression(n_jobs=-1,random_state=0),\n",
    "         RidgeClassifier(random_state=0)]"
   ]
  },
  {
   "cell_type": "code",
   "execution_count": 14,
   "metadata": {},
   "outputs": [],
   "source": [
    "model_pipeline = Pipeline([('preprocess',preprocess),('model',models[1])])"
   ]
  },
  {
   "cell_type": "code",
   "execution_count": 15,
   "metadata": {},
   "outputs": [
    {
     "data": {
      "text/plain": [
       "0.4716959741671441"
      ]
     },
     "execution_count": 15,
     "metadata": {},
     "output_type": "execute_result"
    }
   ],
   "source": [
    "#baseline score\n",
    "cross_val_score(model_pipeline, train_x, train_y, n_jobs=-1, cv=5, scoring='f1_macro').mean()"
   ]
  },
  {
   "cell_type": "markdown",
   "metadata": {},
   "source": [
    "### Best combination"
   ]
  },
  {
   "cell_type": "code",
   "execution_count": 16,
   "metadata": {},
   "outputs": [],
   "source": [
    "params = dict(preprocess__scale=scalers, preprocess__impute=imputers, model=models)"
   ]
  },
  {
   "cell_type": "code",
   "execution_count": 17,
   "metadata": {},
   "outputs": [],
   "source": [
    "# params = dict(preprocess__scale=scalers, preprocess__impute=imputers)"
   ]
  },
  {
   "cell_type": "code",
   "execution_count": 18,
   "metadata": {},
   "outputs": [],
   "source": [
    "combi_search = GridSearchCV(model_pipeline,params,scoring='f1_macro',cv=5,n_jobs=-1,verbose=1)"
   ]
  },
  {
   "cell_type": "code",
   "execution_count": 19,
   "metadata": {},
   "outputs": [
    {
     "name": "stdout",
     "output_type": "stream",
     "text": [
      "Fitting 5 folds for each of 36 candidates, totalling 180 fits\n"
     ]
    },
    {
     "name": "stderr",
     "output_type": "stream",
     "text": [
      "[Parallel(n_jobs=-1)]: Using backend LokyBackend with 8 concurrent workers.\n",
      "[Parallel(n_jobs=-1)]: Done  34 tasks      | elapsed:    3.7s\n",
      "[Parallel(n_jobs=-1)]: Done 180 out of 180 | elapsed:    7.2s finished\n"
     ]
    }
   ],
   "source": [
    "combi_search.fit(train_x,train_y);"
   ]
  },
  {
   "cell_type": "code",
   "execution_count": 20,
   "metadata": {},
   "outputs": [],
   "source": [
    "results = pd.DataFrame(combi_search.cv_results_).sort_values(by='rank_test_score')"
   ]
  },
  {
   "cell_type": "code",
   "execution_count": 21,
   "metadata": {},
   "outputs": [
    {
     "data": {
      "text/html": [
       "<div>\n",
       "<style scoped>\n",
       "    .dataframe tbody tr th:only-of-type {\n",
       "        vertical-align: middle;\n",
       "    }\n",
       "\n",
       "    .dataframe tbody tr th {\n",
       "        vertical-align: top;\n",
       "    }\n",
       "\n",
       "    .dataframe thead th {\n",
       "        text-align: right;\n",
       "    }\n",
       "</style>\n",
       "<table border=\"1\" class=\"dataframe\">\n",
       "  <thead>\n",
       "    <tr style=\"text-align: right;\">\n",
       "      <th></th>\n",
       "      <th>mean_fit_time</th>\n",
       "      <th>std_fit_time</th>\n",
       "      <th>mean_score_time</th>\n",
       "      <th>std_score_time</th>\n",
       "      <th>param_model</th>\n",
       "      <th>param_preprocess__impute</th>\n",
       "      <th>param_preprocess__scale</th>\n",
       "      <th>params</th>\n",
       "      <th>split0_test_score</th>\n",
       "      <th>split1_test_score</th>\n",
       "      <th>split2_test_score</th>\n",
       "      <th>split3_test_score</th>\n",
       "      <th>split4_test_score</th>\n",
       "      <th>mean_test_score</th>\n",
       "      <th>std_test_score</th>\n",
       "      <th>rank_test_score</th>\n",
       "    </tr>\n",
       "  </thead>\n",
       "  <tbody>\n",
       "    <tr>\n",
       "      <th>11</th>\n",
       "      <td>0.594387</td>\n",
       "      <td>0.037940</td>\n",
       "      <td>0.124752</td>\n",
       "      <td>0.017617</td>\n",
       "      <td>RandomForestClassifier(n_jobs=-1, random_state=0)</td>\n",
       "      <td>IterativeImputer(estimator=DecisionTreeRegress...</td>\n",
       "      <td>MinMaxScaler()</td>\n",
       "      <td>{'model': RandomForestClassifier(n_jobs=-1, ra...</td>\n",
       "      <td>0.664533</td>\n",
       "      <td>0.720081</td>\n",
       "      <td>0.686205</td>\n",
       "      <td>0.739516</td>\n",
       "      <td>0.715857</td>\n",
       "      <td>0.705239</td>\n",
       "      <td>0.026560</td>\n",
       "      <td>1</td>\n",
       "    </tr>\n",
       "    <tr>\n",
       "      <th>2</th>\n",
       "      <td>0.406012</td>\n",
       "      <td>0.043584</td>\n",
       "      <td>0.106956</td>\n",
       "      <td>0.000875</td>\n",
       "      <td>RandomForestClassifier(n_jobs=-1, random_state=0)</td>\n",
       "      <td>SimpleImputer()</td>\n",
       "      <td>MinMaxScaler()</td>\n",
       "      <td>{'model': RandomForestClassifier(n_jobs=-1, ra...</td>\n",
       "      <td>0.664533</td>\n",
       "      <td>0.720081</td>\n",
       "      <td>0.686205</td>\n",
       "      <td>0.739516</td>\n",
       "      <td>0.715857</td>\n",
       "      <td>0.705239</td>\n",
       "      <td>0.026560</td>\n",
       "      <td>1</td>\n",
       "    </tr>\n",
       "    <tr>\n",
       "      <th>8</th>\n",
       "      <td>0.667041</td>\n",
       "      <td>0.048495</td>\n",
       "      <td>0.129511</td>\n",
       "      <td>0.006795</td>\n",
       "      <td>RandomForestClassifier(n_jobs=-1, random_state=0)</td>\n",
       "      <td>SimpleImputer(strategy='median')</td>\n",
       "      <td>MinMaxScaler()</td>\n",
       "      <td>{'model': RandomForestClassifier(n_jobs=-1, ra...</td>\n",
       "      <td>0.664533</td>\n",
       "      <td>0.720081</td>\n",
       "      <td>0.686205</td>\n",
       "      <td>0.739516</td>\n",
       "      <td>0.715857</td>\n",
       "      <td>0.705239</td>\n",
       "      <td>0.026560</td>\n",
       "      <td>1</td>\n",
       "    </tr>\n",
       "    <tr>\n",
       "      <th>5</th>\n",
       "      <td>0.604524</td>\n",
       "      <td>0.032927</td>\n",
       "      <td>0.128411</td>\n",
       "      <td>0.019977</td>\n",
       "      <td>RandomForestClassifier(n_jobs=-1, random_state=0)</td>\n",
       "      <td>KNNImputer()</td>\n",
       "      <td>MinMaxScaler()</td>\n",
       "      <td>{'model': RandomForestClassifier(n_jobs=-1, ra...</td>\n",
       "      <td>0.664533</td>\n",
       "      <td>0.720081</td>\n",
       "      <td>0.686205</td>\n",
       "      <td>0.739516</td>\n",
       "      <td>0.715857</td>\n",
       "      <td>0.705239</td>\n",
       "      <td>0.026560</td>\n",
       "      <td>1</td>\n",
       "    </tr>\n",
       "    <tr>\n",
       "      <th>10</th>\n",
       "      <td>0.695245</td>\n",
       "      <td>0.066519</td>\n",
       "      <td>0.146172</td>\n",
       "      <td>0.030825</td>\n",
       "      <td>RandomForestClassifier(n_jobs=-1, random_state=0)</td>\n",
       "      <td>IterativeImputer(estimator=DecisionTreeRegress...</td>\n",
       "      <td>RobustScaler()</td>\n",
       "      <td>{'model': RandomForestClassifier(n_jobs=-1, ra...</td>\n",
       "      <td>0.663420</td>\n",
       "      <td>0.718211</td>\n",
       "      <td>0.689199</td>\n",
       "      <td>0.736539</td>\n",
       "      <td>0.712328</td>\n",
       "      <td>0.703939</td>\n",
       "      <td>0.025282</td>\n",
       "      <td>5</td>\n",
       "    </tr>\n",
       "  </tbody>\n",
       "</table>\n",
       "</div>"
      ],
      "text/plain": [
       "    mean_fit_time  std_fit_time  mean_score_time  std_score_time  \\\n",
       "11       0.594387      0.037940         0.124752        0.017617   \n",
       "2        0.406012      0.043584         0.106956        0.000875   \n",
       "8        0.667041      0.048495         0.129511        0.006795   \n",
       "5        0.604524      0.032927         0.128411        0.019977   \n",
       "10       0.695245      0.066519         0.146172        0.030825   \n",
       "\n",
       "                                          param_model  \\\n",
       "11  RandomForestClassifier(n_jobs=-1, random_state=0)   \n",
       "2   RandomForestClassifier(n_jobs=-1, random_state=0)   \n",
       "8   RandomForestClassifier(n_jobs=-1, random_state=0)   \n",
       "5   RandomForestClassifier(n_jobs=-1, random_state=0)   \n",
       "10  RandomForestClassifier(n_jobs=-1, random_state=0)   \n",
       "\n",
       "                             param_preprocess__impute param_preprocess__scale  \\\n",
       "11  IterativeImputer(estimator=DecisionTreeRegress...          MinMaxScaler()   \n",
       "2                                     SimpleImputer()          MinMaxScaler()   \n",
       "8                    SimpleImputer(strategy='median')          MinMaxScaler()   \n",
       "5                                        KNNImputer()          MinMaxScaler()   \n",
       "10  IterativeImputer(estimator=DecisionTreeRegress...          RobustScaler()   \n",
       "\n",
       "                                               params  split0_test_score  \\\n",
       "11  {'model': RandomForestClassifier(n_jobs=-1, ra...           0.664533   \n",
       "2   {'model': RandomForestClassifier(n_jobs=-1, ra...           0.664533   \n",
       "8   {'model': RandomForestClassifier(n_jobs=-1, ra...           0.664533   \n",
       "5   {'model': RandomForestClassifier(n_jobs=-1, ra...           0.664533   \n",
       "10  {'model': RandomForestClassifier(n_jobs=-1, ra...           0.663420   \n",
       "\n",
       "    split1_test_score  split2_test_score  split3_test_score  \\\n",
       "11           0.720081           0.686205           0.739516   \n",
       "2            0.720081           0.686205           0.739516   \n",
       "8            0.720081           0.686205           0.739516   \n",
       "5            0.720081           0.686205           0.739516   \n",
       "10           0.718211           0.689199           0.736539   \n",
       "\n",
       "    split4_test_score  mean_test_score  std_test_score  rank_test_score  \n",
       "11           0.715857         0.705239        0.026560                1  \n",
       "2            0.715857         0.705239        0.026560                1  \n",
       "8            0.715857         0.705239        0.026560                1  \n",
       "5            0.715857         0.705239        0.026560                1  \n",
       "10           0.712328         0.703939        0.025282                5  "
      ]
     },
     "execution_count": 21,
     "metadata": {},
     "output_type": "execute_result"
    }
   ],
   "source": [
    "results[results['param_model'] == results['param_model'].unique()[0]].sort_values('rank_test_score').head()"
   ]
  },
  {
   "cell_type": "code",
   "execution_count": 22,
   "metadata": {},
   "outputs": [
    {
     "data": {
      "text/html": [
       "<div>\n",
       "<style scoped>\n",
       "    .dataframe tbody tr th:only-of-type {\n",
       "        vertical-align: middle;\n",
       "    }\n",
       "\n",
       "    .dataframe tbody tr th {\n",
       "        vertical-align: top;\n",
       "    }\n",
       "\n",
       "    .dataframe thead th {\n",
       "        text-align: right;\n",
       "    }\n",
       "</style>\n",
       "<table border=\"1\" class=\"dataframe\">\n",
       "  <thead>\n",
       "    <tr style=\"text-align: right;\">\n",
       "      <th></th>\n",
       "      <th>mean_fit_time</th>\n",
       "      <th>std_fit_time</th>\n",
       "      <th>mean_score_time</th>\n",
       "      <th>std_score_time</th>\n",
       "      <th>param_model</th>\n",
       "      <th>param_preprocess__impute</th>\n",
       "      <th>param_preprocess__scale</th>\n",
       "      <th>params</th>\n",
       "      <th>split0_test_score</th>\n",
       "      <th>split1_test_score</th>\n",
       "      <th>split2_test_score</th>\n",
       "      <th>split3_test_score</th>\n",
       "      <th>split4_test_score</th>\n",
       "      <th>mean_test_score</th>\n",
       "      <th>std_test_score</th>\n",
       "      <th>rank_test_score</th>\n",
       "    </tr>\n",
       "  </thead>\n",
       "  <tbody>\n",
       "    <tr>\n",
       "      <th>24</th>\n",
       "      <td>0.010921</td>\n",
       "      <td>0.002673</td>\n",
       "      <td>0.004067</td>\n",
       "      <td>0.000613</td>\n",
       "      <td>RidgeClassifier(random_state=0)</td>\n",
       "      <td>SimpleImputer()</td>\n",
       "      <td>StandardScaler()</td>\n",
       "      <td>{'model': RidgeClassifier(random_state=0), 'pr...</td>\n",
       "      <td>0.56989</td>\n",
       "      <td>0.404417</td>\n",
       "      <td>0.574721</td>\n",
       "      <td>0.404726</td>\n",
       "      <td>0.404726</td>\n",
       "      <td>0.471696</td>\n",
       "      <td>0.082162</td>\n",
       "      <td>13</td>\n",
       "    </tr>\n",
       "    <tr>\n",
       "      <th>33</th>\n",
       "      <td>0.033697</td>\n",
       "      <td>0.001806</td>\n",
       "      <td>0.004103</td>\n",
       "      <td>0.000663</td>\n",
       "      <td>RidgeClassifier(random_state=0)</td>\n",
       "      <td>IterativeImputer(estimator=DecisionTreeRegress...</td>\n",
       "      <td>StandardScaler()</td>\n",
       "      <td>{'model': RidgeClassifier(random_state=0), 'pr...</td>\n",
       "      <td>0.56989</td>\n",
       "      <td>0.404417</td>\n",
       "      <td>0.574721</td>\n",
       "      <td>0.404726</td>\n",
       "      <td>0.404726</td>\n",
       "      <td>0.471696</td>\n",
       "      <td>0.082162</td>\n",
       "      <td>13</td>\n",
       "    </tr>\n",
       "    <tr>\n",
       "      <th>32</th>\n",
       "      <td>0.012116</td>\n",
       "      <td>0.001443</td>\n",
       "      <td>0.004604</td>\n",
       "      <td>0.000333</td>\n",
       "      <td>RidgeClassifier(random_state=0)</td>\n",
       "      <td>SimpleImputer(strategy='median')</td>\n",
       "      <td>MinMaxScaler()</td>\n",
       "      <td>{'model': RidgeClassifier(random_state=0), 'pr...</td>\n",
       "      <td>0.56989</td>\n",
       "      <td>0.404417</td>\n",
       "      <td>0.574721</td>\n",
       "      <td>0.404726</td>\n",
       "      <td>0.404726</td>\n",
       "      <td>0.471696</td>\n",
       "      <td>0.082162</td>\n",
       "      <td>13</td>\n",
       "    </tr>\n",
       "    <tr>\n",
       "      <th>31</th>\n",
       "      <td>0.012188</td>\n",
       "      <td>0.001139</td>\n",
       "      <td>0.004394</td>\n",
       "      <td>0.000088</td>\n",
       "      <td>RidgeClassifier(random_state=0)</td>\n",
       "      <td>SimpleImputer(strategy='median')</td>\n",
       "      <td>RobustScaler()</td>\n",
       "      <td>{'model': RidgeClassifier(random_state=0), 'pr...</td>\n",
       "      <td>0.56989</td>\n",
       "      <td>0.404417</td>\n",
       "      <td>0.574721</td>\n",
       "      <td>0.404726</td>\n",
       "      <td>0.404726</td>\n",
       "      <td>0.471696</td>\n",
       "      <td>0.082162</td>\n",
       "      <td>13</td>\n",
       "    </tr>\n",
       "    <tr>\n",
       "      <th>30</th>\n",
       "      <td>0.009294</td>\n",
       "      <td>0.000494</td>\n",
       "      <td>0.003577</td>\n",
       "      <td>0.000533</td>\n",
       "      <td>RidgeClassifier(random_state=0)</td>\n",
       "      <td>SimpleImputer(strategy='median')</td>\n",
       "      <td>StandardScaler()</td>\n",
       "      <td>{'model': RidgeClassifier(random_state=0), 'pr...</td>\n",
       "      <td>0.56989</td>\n",
       "      <td>0.404417</td>\n",
       "      <td>0.574721</td>\n",
       "      <td>0.404726</td>\n",
       "      <td>0.404726</td>\n",
       "      <td>0.471696</td>\n",
       "      <td>0.082162</td>\n",
       "      <td>13</td>\n",
       "    </tr>\n",
       "  </tbody>\n",
       "</table>\n",
       "</div>"
      ],
      "text/plain": [
       "    mean_fit_time  std_fit_time  mean_score_time  std_score_time  \\\n",
       "24       0.010921      0.002673         0.004067        0.000613   \n",
       "33       0.033697      0.001806         0.004103        0.000663   \n",
       "32       0.012116      0.001443         0.004604        0.000333   \n",
       "31       0.012188      0.001139         0.004394        0.000088   \n",
       "30       0.009294      0.000494         0.003577        0.000533   \n",
       "\n",
       "                        param_model  \\\n",
       "24  RidgeClassifier(random_state=0)   \n",
       "33  RidgeClassifier(random_state=0)   \n",
       "32  RidgeClassifier(random_state=0)   \n",
       "31  RidgeClassifier(random_state=0)   \n",
       "30  RidgeClassifier(random_state=0)   \n",
       "\n",
       "                             param_preprocess__impute param_preprocess__scale  \\\n",
       "24                                    SimpleImputer()        StandardScaler()   \n",
       "33  IterativeImputer(estimator=DecisionTreeRegress...        StandardScaler()   \n",
       "32                   SimpleImputer(strategy='median')          MinMaxScaler()   \n",
       "31                   SimpleImputer(strategy='median')          RobustScaler()   \n",
       "30                   SimpleImputer(strategy='median')        StandardScaler()   \n",
       "\n",
       "                                               params  split0_test_score  \\\n",
       "24  {'model': RidgeClassifier(random_state=0), 'pr...            0.56989   \n",
       "33  {'model': RidgeClassifier(random_state=0), 'pr...            0.56989   \n",
       "32  {'model': RidgeClassifier(random_state=0), 'pr...            0.56989   \n",
       "31  {'model': RidgeClassifier(random_state=0), 'pr...            0.56989   \n",
       "30  {'model': RidgeClassifier(random_state=0), 'pr...            0.56989   \n",
       "\n",
       "    split1_test_score  split2_test_score  split3_test_score  \\\n",
       "24           0.404417           0.574721           0.404726   \n",
       "33           0.404417           0.574721           0.404726   \n",
       "32           0.404417           0.574721           0.404726   \n",
       "31           0.404417           0.574721           0.404726   \n",
       "30           0.404417           0.574721           0.404726   \n",
       "\n",
       "    split4_test_score  mean_test_score  std_test_score  rank_test_score  \n",
       "24           0.404726         0.471696        0.082162               13  \n",
       "33           0.404726         0.471696        0.082162               13  \n",
       "32           0.404726         0.471696        0.082162               13  \n",
       "31           0.404726         0.471696        0.082162               13  \n",
       "30           0.404726         0.471696        0.082162               13  "
      ]
     },
     "execution_count": 22,
     "metadata": {},
     "output_type": "execute_result"
    }
   ],
   "source": [
    "results[results['param_model'] == results['param_model'].unique()[1]].sort_values('rank_test_score').head()"
   ]
  },
  {
   "cell_type": "code",
   "execution_count": 23,
   "metadata": {},
   "outputs": [
    {
     "data": {
      "text/html": [
       "<div>\n",
       "<style scoped>\n",
       "    .dataframe tbody tr th:only-of-type {\n",
       "        vertical-align: middle;\n",
       "    }\n",
       "\n",
       "    .dataframe tbody tr th {\n",
       "        vertical-align: top;\n",
       "    }\n",
       "\n",
       "    .dataframe thead th {\n",
       "        text-align: right;\n",
       "    }\n",
       "</style>\n",
       "<table border=\"1\" class=\"dataframe\">\n",
       "  <thead>\n",
       "    <tr style=\"text-align: right;\">\n",
       "      <th></th>\n",
       "      <th>mean_fit_time</th>\n",
       "      <th>std_fit_time</th>\n",
       "      <th>mean_score_time</th>\n",
       "      <th>std_score_time</th>\n",
       "      <th>param_model</th>\n",
       "      <th>param_preprocess__impute</th>\n",
       "      <th>param_preprocess__scale</th>\n",
       "      <th>params</th>\n",
       "      <th>split0_test_score</th>\n",
       "      <th>split1_test_score</th>\n",
       "      <th>split2_test_score</th>\n",
       "      <th>split3_test_score</th>\n",
       "      <th>split4_test_score</th>\n",
       "      <th>mean_test_score</th>\n",
       "      <th>std_test_score</th>\n",
       "      <th>rank_test_score</th>\n",
       "    </tr>\n",
       "  </thead>\n",
       "  <tbody>\n",
       "    <tr>\n",
       "      <th>23</th>\n",
       "      <td>0.128244</td>\n",
       "      <td>0.002503</td>\n",
       "      <td>0.004823</td>\n",
       "      <td>0.000571</td>\n",
       "      <td>LogisticRegression(n_jobs=-1, random_state=0)</td>\n",
       "      <td>IterativeImputer(estimator=DecisionTreeRegress...</td>\n",
       "      <td>MinMaxScaler()</td>\n",
       "      <td>{'model': LogisticRegression(n_jobs=-1, random...</td>\n",
       "      <td>0.56989</td>\n",
       "      <td>0.404417</td>\n",
       "      <td>0.574721</td>\n",
       "      <td>0.404726</td>\n",
       "      <td>0.404726</td>\n",
       "      <td>0.471696</td>\n",
       "      <td>0.082162</td>\n",
       "      <td>13</td>\n",
       "    </tr>\n",
       "    <tr>\n",
       "      <th>17</th>\n",
       "      <td>0.111806</td>\n",
       "      <td>0.003263</td>\n",
       "      <td>0.003684</td>\n",
       "      <td>0.000830</td>\n",
       "      <td>LogisticRegression(n_jobs=-1, random_state=0)</td>\n",
       "      <td>KNNImputer()</td>\n",
       "      <td>MinMaxScaler()</td>\n",
       "      <td>{'model': LogisticRegression(n_jobs=-1, random...</td>\n",
       "      <td>0.56989</td>\n",
       "      <td>0.404417</td>\n",
       "      <td>0.574721</td>\n",
       "      <td>0.404726</td>\n",
       "      <td>0.404726</td>\n",
       "      <td>0.471696</td>\n",
       "      <td>0.082162</td>\n",
       "      <td>13</td>\n",
       "    </tr>\n",
       "    <tr>\n",
       "      <th>21</th>\n",
       "      <td>0.129100</td>\n",
       "      <td>0.001957</td>\n",
       "      <td>0.003524</td>\n",
       "      <td>0.000407</td>\n",
       "      <td>LogisticRegression(n_jobs=-1, random_state=0)</td>\n",
       "      <td>IterativeImputer(estimator=DecisionTreeRegress...</td>\n",
       "      <td>StandardScaler()</td>\n",
       "      <td>{'model': LogisticRegression(n_jobs=-1, random...</td>\n",
       "      <td>0.56989</td>\n",
       "      <td>0.404417</td>\n",
       "      <td>0.574721</td>\n",
       "      <td>0.404726</td>\n",
       "      <td>0.404726</td>\n",
       "      <td>0.471696</td>\n",
       "      <td>0.082162</td>\n",
       "      <td>13</td>\n",
       "    </tr>\n",
       "    <tr>\n",
       "      <th>20</th>\n",
       "      <td>0.112061</td>\n",
       "      <td>0.002224</td>\n",
       "      <td>0.003944</td>\n",
       "      <td>0.000942</td>\n",
       "      <td>LogisticRegression(n_jobs=-1, random_state=0)</td>\n",
       "      <td>SimpleImputer(strategy='median')</td>\n",
       "      <td>MinMaxScaler()</td>\n",
       "      <td>{'model': LogisticRegression(n_jobs=-1, random...</td>\n",
       "      <td>0.56989</td>\n",
       "      <td>0.404417</td>\n",
       "      <td>0.574721</td>\n",
       "      <td>0.404726</td>\n",
       "      <td>0.404726</td>\n",
       "      <td>0.471696</td>\n",
       "      <td>0.082162</td>\n",
       "      <td>13</td>\n",
       "    </tr>\n",
       "    <tr>\n",
       "      <th>19</th>\n",
       "      <td>0.112005</td>\n",
       "      <td>0.001854</td>\n",
       "      <td>0.004641</td>\n",
       "      <td>0.001057</td>\n",
       "      <td>LogisticRegression(n_jobs=-1, random_state=0)</td>\n",
       "      <td>SimpleImputer(strategy='median')</td>\n",
       "      <td>RobustScaler()</td>\n",
       "      <td>{'model': LogisticRegression(n_jobs=-1, random...</td>\n",
       "      <td>0.56989</td>\n",
       "      <td>0.404417</td>\n",
       "      <td>0.574721</td>\n",
       "      <td>0.404726</td>\n",
       "      <td>0.404726</td>\n",
       "      <td>0.471696</td>\n",
       "      <td>0.082162</td>\n",
       "      <td>13</td>\n",
       "    </tr>\n",
       "  </tbody>\n",
       "</table>\n",
       "</div>"
      ],
      "text/plain": [
       "    mean_fit_time  std_fit_time  mean_score_time  std_score_time  \\\n",
       "23       0.128244      0.002503         0.004823        0.000571   \n",
       "17       0.111806      0.003263         0.003684        0.000830   \n",
       "21       0.129100      0.001957         0.003524        0.000407   \n",
       "20       0.112061      0.002224         0.003944        0.000942   \n",
       "19       0.112005      0.001854         0.004641        0.001057   \n",
       "\n",
       "                                      param_model  \\\n",
       "23  LogisticRegression(n_jobs=-1, random_state=0)   \n",
       "17  LogisticRegression(n_jobs=-1, random_state=0)   \n",
       "21  LogisticRegression(n_jobs=-1, random_state=0)   \n",
       "20  LogisticRegression(n_jobs=-1, random_state=0)   \n",
       "19  LogisticRegression(n_jobs=-1, random_state=0)   \n",
       "\n",
       "                             param_preprocess__impute param_preprocess__scale  \\\n",
       "23  IterativeImputer(estimator=DecisionTreeRegress...          MinMaxScaler()   \n",
       "17                                       KNNImputer()          MinMaxScaler()   \n",
       "21  IterativeImputer(estimator=DecisionTreeRegress...        StandardScaler()   \n",
       "20                   SimpleImputer(strategy='median')          MinMaxScaler()   \n",
       "19                   SimpleImputer(strategy='median')          RobustScaler()   \n",
       "\n",
       "                                               params  split0_test_score  \\\n",
       "23  {'model': LogisticRegression(n_jobs=-1, random...            0.56989   \n",
       "17  {'model': LogisticRegression(n_jobs=-1, random...            0.56989   \n",
       "21  {'model': LogisticRegression(n_jobs=-1, random...            0.56989   \n",
       "20  {'model': LogisticRegression(n_jobs=-1, random...            0.56989   \n",
       "19  {'model': LogisticRegression(n_jobs=-1, random...            0.56989   \n",
       "\n",
       "    split1_test_score  split2_test_score  split3_test_score  \\\n",
       "23           0.404417           0.574721           0.404726   \n",
       "17           0.404417           0.574721           0.404726   \n",
       "21           0.404417           0.574721           0.404726   \n",
       "20           0.404417           0.574721           0.404726   \n",
       "19           0.404417           0.574721           0.404726   \n",
       "\n",
       "    split4_test_score  mean_test_score  std_test_score  rank_test_score  \n",
       "23           0.404726         0.471696        0.082162               13  \n",
       "17           0.404726         0.471696        0.082162               13  \n",
       "21           0.404726         0.471696        0.082162               13  \n",
       "20           0.404726         0.471696        0.082162               13  \n",
       "19           0.404726         0.471696        0.082162               13  "
      ]
     },
     "execution_count": 23,
     "metadata": {},
     "output_type": "execute_result"
    }
   ],
   "source": [
    "results[results['param_model'] == results['param_model'].unique()[2]].sort_values('rank_test_score').head()"
   ]
  },
  {
   "cell_type": "markdown",
   "metadata": {},
   "source": [
    "### Best way to handle train_app"
   ]
  },
  {
   "cell_type": "markdown",
   "metadata": {},
   "source": [
    "scaler:\n",
    "- standard/robust/MinMax -> uncertain\n",
    "\n",
    "impute:\n",
    "- mean/model -> uncertain"
   ]
  },
  {
   "cell_type": "code",
   "execution_count": 24,
   "metadata": {},
   "outputs": [],
   "source": [
    "best_model = combi_search.best_estimator_"
   ]
  },
  {
   "cell_type": "code",
   "execution_count": 25,
   "metadata": {},
   "outputs": [
    {
     "data": {
      "text/plain": [
       "0.7052386325245152"
      ]
     },
     "execution_count": 25,
     "metadata": {},
     "output_type": "execute_result"
    }
   ],
   "source": [
    "#baseline score: 0.4716959741671441\n",
    "cross_val_score(best_model, train_x, train_y, n_jobs=-1, cv=5, scoring='f1_macro').mean()"
   ]
  },
  {
   "cell_type": "code",
   "execution_count": 26,
   "metadata": {},
   "outputs": [
    {
     "name": "stdout",
     "output_type": "stream",
     "text": [
      "0.0\n",
      "0.0\n"
     ]
    }
   ],
   "source": [
    "#when comparing with log model\n",
    "print(0.4716959741671441 - 0.4716959741671441) #improve score by 0\n",
    "print((0.4716959741671441 - 0.4716959741671441)/0.4716959741671441 * 100) #or 0% improvement"
   ]
  },
  {
   "cell_type": "code",
   "execution_count": 27,
   "metadata": {},
   "outputs": [
    {
     "name": "stdout",
     "output_type": "stream",
     "text": [
      "0.23354265835737115\n",
      "49.51126809376075\n"
     ]
    }
   ],
   "source": [
    "#when comparing with best model\n",
    "print(0.7052386325245152 - 0.4716959741671441) #improve score by 0.234\n",
    "print((0.7052386325245152 - 0.4716959741671441)/0.4716959741671441 * 100) #or 49.5% improvement"
   ]
  },
  {
   "cell_type": "markdown",
   "metadata": {},
   "source": [
    "### Final result"
   ]
  },
  {
   "cell_type": "markdown",
   "metadata": {},
   "source": [
    "We will now use our validation set to estimate our model's performance in the real world.\\\n",
    "We will not make any changes to our model after this stage to avoid data leakage"
   ]
  },
  {
   "cell_type": "code",
   "execution_count": 28,
   "metadata": {},
   "outputs": [],
   "source": [
    "prediction = best_model.predict(test_x)"
   ]
  },
  {
   "cell_type": "code",
   "execution_count": 29,
   "metadata": {},
   "outputs": [
    {
     "data": {
      "text/plain": [
       "0.70180512760886"
      ]
     },
     "execution_count": 29,
     "metadata": {},
     "output_type": "execute_result"
    }
   ],
   "source": [
    "f1_score(test_y, prediction, average='macro')"
   ]
  },
  {
   "cell_type": "code",
   "execution_count": 30,
   "metadata": {},
   "outputs": [
    {
     "data": {
      "text/plain": [
       "array([[542, 122],\n",
       "       [130, 183]])"
      ]
     },
     "execution_count": 30,
     "metadata": {},
     "output_type": "execute_result"
    }
   ],
   "source": [
    "confusion_matrix(test_y, prediction)"
   ]
  },
  {
   "cell_type": "code",
   "execution_count": 31,
   "metadata": {},
   "outputs": [
    {
     "name": "stdout",
     "output_type": "stream",
     "text": [
      "              precision    recall  f1-score   support\n",
      "\n",
      "           0       0.81      0.82      0.81       664\n",
      "           1       0.60      0.58      0.59       313\n",
      "\n",
      "    accuracy                           0.74       977\n",
      "   macro avg       0.70      0.70      0.70       977\n",
      "weighted avg       0.74      0.74      0.74       977\n",
      "\n"
     ]
    }
   ],
   "source": [
    "print(classification_report(test_y, prediction))"
   ]
  }
 ],
 "metadata": {
  "kernelspec": {
   "display_name": "Python 3",
   "language": "python",
   "name": "python3"
  },
  "language_info": {
   "codemirror_mode": {
    "name": "ipython",
    "version": 3
   },
   "file_extension": ".py",
   "mimetype": "text/x-python",
   "name": "python",
   "nbconvert_exporter": "python",
   "pygments_lexer": "ipython3",
   "version": "3.7.7"
  }
 },
 "nbformat": 4,
 "nbformat_minor": 4
}
