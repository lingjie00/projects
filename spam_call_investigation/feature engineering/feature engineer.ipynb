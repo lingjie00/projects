{
 "cells": [
  {
   "cell_type": "code",
   "execution_count": 2,
   "metadata": {
    "ExecuteTime": {
     "end_time": "2020-06-20T14:09:09.071940Z",
     "start_time": "2020-06-20T14:09:09.062396Z"
    }
   },
   "outputs": [],
   "source": [
    "import numpy as np\n",
    "import pandas as pd\n",
    "from engineer_dataset import FeatureEngineer"
   ]
  },
  {
   "cell_type": "code",
   "execution_count": 2,
   "metadata": {
    "ExecuteTime": {
     "end_time": "2020-06-20T05:09:25.685585Z",
     "start_time": "2020-06-20T05:09:25.661294Z"
    }
   },
   "outputs": [],
   "source": [
    "train_user = pd.read_csv('../train/train_user.csv')"
   ]
  },
  {
   "cell_type": "code",
   "execution_count": 3,
   "metadata": {
    "ExecuteTime": {
     "end_time": "2020-06-20T05:09:25.698519Z",
     "start_time": "2020-06-20T05:09:25.688076Z"
    }
   },
   "outputs": [],
   "source": [
    "valid_user = pd.read_csv('../train/valid_user.csv')"
   ]
  },
  {
   "cell_type": "code",
   "execution_count": 4,
   "metadata": {
    "ExecuteTime": {
     "end_time": "2020-06-20T05:09:37.114221Z",
     "start_time": "2020-06-20T05:09:25.701237Z"
    }
   },
   "outputs": [],
   "source": [
    "train_sms = pd.read_csv('../train/train_sms.csv')"
   ]
  },
  {
   "cell_type": "code",
   "execution_count": 5,
   "metadata": {
    "ExecuteTime": {
     "end_time": "2020-06-20T05:09:52.461545Z",
     "start_time": "2020-06-20T05:09:37.116374Z"
    }
   },
   "outputs": [
    {
     "name": "stderr",
     "output_type": "stream",
     "text": [
      "/Users/lingjie/opt/anaconda3/lib/python3.7/site-packages/IPython/core/interactiveshell.py:3063: DtypeWarning: Columns (5,6) have mixed types.Specify dtype option on import or set low_memory=False.\n",
      "  interactivity=interactivity, compiler=compiler, result=result)\n"
     ]
    }
   ],
   "source": [
    "train_voc = pd.read_csv('../train/train_voc.csv')"
   ]
  },
  {
   "cell_type": "code",
   "execution_count": 6,
   "metadata": {
    "ExecuteTime": {
     "end_time": "2020-06-20T05:09:55.329477Z",
     "start_time": "2020-06-20T05:09:52.464784Z"
    }
   },
   "outputs": [],
   "source": [
    "train_app = pd.read_csv('../train/train_app.csv')"
   ]
  },
  {
   "cell_type": "code",
   "execution_count": 11,
   "metadata": {
    "ExecuteTime": {
     "end_time": "2020-06-20T05:12:00.730220Z",
     "start_time": "2020-06-20T05:12:00.718813Z"
    }
   },
   "outputs": [],
   "source": [
    "test_user = pd.read_csv('../test/test_user.csv')"
   ]
  },
  {
   "cell_type": "code",
   "execution_count": 12,
   "metadata": {
    "ExecuteTime": {
     "end_time": "2020-06-20T05:12:14.267570Z",
     "start_time": "2020-06-20T05:12:13.430494Z"
    }
   },
   "outputs": [],
   "source": [
    "test_sms = pd.read_csv('../test/test_sms.csv')"
   ]
  },
  {
   "cell_type": "code",
   "execution_count": 13,
   "metadata": {
    "ExecuteTime": {
     "end_time": "2020-06-20T05:12:26.157140Z",
     "start_time": "2020-06-20T05:12:25.222410Z"
    }
   },
   "outputs": [],
   "source": [
    "test_voc = pd.read_csv('../test/test_voc.csv')"
   ]
  },
  {
   "cell_type": "code",
   "execution_count": 14,
   "metadata": {
    "ExecuteTime": {
     "end_time": "2020-06-20T05:12:36.903523Z",
     "start_time": "2020-06-20T05:12:36.742010Z"
    }
   },
   "outputs": [],
   "source": [
    "test_app = pd.read_csv('../test/test_app.csv')"
   ]
  },
  {
   "cell_type": "code",
   "execution_count": 7,
   "metadata": {
    "ExecuteTime": {
     "end_time": "2020-06-20T05:10:12.936302Z",
     "start_time": "2020-06-20T05:09:55.332712Z"
    }
   },
   "outputs": [
    {
     "name": "stdout",
     "output_type": "stream",
     "text": [
      "done engineering opposite_no_m\n",
      "done engineering calltype_id\n",
      "done engineering\n",
      "done engineering call_dur\n",
      "done engineering calltype_id\n",
      "done engineering county_name\n",
      "done engineering opposite_no_m\n",
      "done engineering\n",
      "done engineering flow\n"
     ]
    },
    {
     "name": "stderr",
     "output_type": "stream",
     "text": [
      "/Users/lingjie/opt/anaconda3/lib/python3.7/site-packages/pandas/core/generic.py:8765: SettingWithCopyWarning: \n",
      "A value is trying to be set on a copy of a slice from a DataFrame\n",
      "\n",
      "See the caveats in the documentation: https://pandas.pydata.org/pandas-docs/stable/user_guide/indexing.html#returning-a-view-versus-a-copy\n",
      "  self._update_inplace(new_data)\n"
     ]
    },
    {
     "name": "stdout",
     "output_type": "stream",
     "text": [
      "done engineering busi_name\n",
      "done engineering\n",
      "done engineering all features\n",
      "done merging all features\n"
     ]
    }
   ],
   "source": [
    "training = FeatureEngineer(user=train_user,sms=train_sms,voc=train_voc,app=train_app).combine()"
   ]
  },
  {
   "cell_type": "code",
   "execution_count": 9,
   "metadata": {
    "ExecuteTime": {
     "end_time": "2020-06-20T05:11:16.656520Z",
     "start_time": "2020-06-20T05:10:59.526552Z"
    }
   },
   "outputs": [
    {
     "name": "stdout",
     "output_type": "stream",
     "text": [
      "done engineering opposite_no_m\n",
      "done engineering calltype_id\n",
      "done engineering\n",
      "done engineering call_dur\n",
      "done engineering calltype_id\n",
      "done engineering county_name\n",
      "done engineering opposite_no_m\n",
      "done engineering\n",
      "done engineering flow\n",
      "done engineering busi_name\n",
      "done engineering\n",
      "done engineering all features\n",
      "done merging all features\n"
     ]
    }
   ],
   "source": [
    "validation = FeatureEngineer(user=valid_user,sms=train_sms,voc=train_voc,app=train_app).combine()"
   ]
  },
  {
   "cell_type": "code",
   "execution_count": 15,
   "metadata": {
    "ExecuteTime": {
     "end_time": "2020-06-20T05:12:59.911315Z",
     "start_time": "2020-06-20T05:12:58.994280Z"
    }
   },
   "outputs": [
    {
     "name": "stdout",
     "output_type": "stream",
     "text": [
      "done engineering opposite_no_m\n",
      "done engineering calltype_id\n",
      "done engineering\n",
      "done engineering call_dur\n",
      "done engineering calltype_id\n",
      "done engineering county_name\n",
      "done engineering opposite_no_m\n",
      "done engineering\n",
      "done engineering flow\n",
      "done engineering busi_name\n",
      "done engineering\n",
      "done engineering all features\n",
      "done merging all features\n"
     ]
    },
    {
     "name": "stderr",
     "output_type": "stream",
     "text": [
      "/Users/lingjie/opt/anaconda3/lib/python3.7/site-packages/pandas/core/generic.py:8765: SettingWithCopyWarning: \n",
      "A value is trying to be set on a copy of a slice from a DataFrame\n",
      "\n",
      "See the caveats in the documentation: https://pandas.pydata.org/pandas-docs/stable/user_guide/indexing.html#returning-a-view-versus-a-copy\n",
      "  self._update_inplace(new_data)\n"
     ]
    }
   ],
   "source": [
    "test = FeatureEngineer(user=test_user,sms=test_sms,voc=test_voc,app=test_app).combine()"
   ]
  },
  {
   "cell_type": "code",
   "execution_count": 16,
   "metadata": {
    "ExecuteTime": {
     "end_time": "2020-06-20T05:13:16.673419Z",
     "start_time": "2020-06-20T05:13:16.668615Z"
    }
   },
   "outputs": [
    {
     "data": {
      "text/plain": [
       "((4884, 25), (1222, 25), (2045, 17))"
      ]
     },
     "execution_count": 16,
     "metadata": {},
     "output_type": "execute_result"
    }
   ],
   "source": [
    "training.shape, validation.shape, test.shape"
   ]
  },
  {
   "cell_type": "code",
   "execution_count": 25,
   "metadata": {
    "ExecuteTime": {
     "end_time": "2020-06-20T05:16:00.867182Z",
     "start_time": "2020-06-20T05:16:00.713705Z"
    }
   },
   "outputs": [],
   "source": [
    "training.to_csv('../datasets/training.csv',index=False)"
   ]
  },
  {
   "cell_type": "code",
   "execution_count": 26,
   "metadata": {
    "ExecuteTime": {
     "end_time": "2020-06-20T05:16:17.568167Z",
     "start_time": "2020-06-20T05:16:17.508080Z"
    }
   },
   "outputs": [],
   "source": [
    "validation.to_csv('../datasets/validation.csv',index=False)"
   ]
  },
  {
   "cell_type": "code",
   "execution_count": 27,
   "metadata": {
    "ExecuteTime": {
     "end_time": "2020-06-20T05:16:32.632825Z",
     "start_time": "2020-06-20T05:16:32.573290Z"
    }
   },
   "outputs": [],
   "source": [
    "test.to_csv('../datasets/test.csv',index=False)"
   ]
  }
 ],
 "metadata": {
  "kernelspec": {
   "display_name": "Python 3",
   "language": "python",
   "name": "python3"
  },
  "language_info": {
   "codemirror_mode": {
    "name": "ipython",
    "version": 3
   },
   "file_extension": ".py",
   "mimetype": "text/x-python",
   "name": "python",
   "nbconvert_exporter": "python",
   "pygments_lexer": "ipython3",
   "version": "3.7.7"
  },
  "latex_envs": {
   "LaTeX_envs_menu_present": true,
   "autoclose": false,
   "autocomplete": true,
   "bibliofile": "biblio.bib",
   "cite_by": "apalike",
   "current_citInitial": 1,
   "eqLabelWithNumbers": true,
   "eqNumInitial": 1,
   "hotkeys": {
    "equation": "Ctrl-E",
    "itemize": "Ctrl-I"
   },
   "labels_anchors": false,
   "latex_user_defs": false,
   "report_style_numbering": false,
   "user_envs_cfg": false
  },
  "toc": {
   "base_numbering": 1,
   "nav_menu": {},
   "number_sections": true,
   "sideBar": true,
   "skip_h1_title": false,
   "title_cell": "Table of Contents",
   "title_sidebar": "Contents",
   "toc_cell": false,
   "toc_position": {},
   "toc_section_display": true,
   "toc_window_display": false
  }
 },
 "nbformat": 4,
 "nbformat_minor": 4
}
