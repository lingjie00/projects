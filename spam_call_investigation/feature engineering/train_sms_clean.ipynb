{
 "cells": [
  {
   "cell_type": "code",
   "execution_count": 1,
   "metadata": {},
   "outputs": [],
   "source": [
    "import numpy as np\n",
    "import pandas as pd"
   ]
  },
  {
   "cell_type": "code",
   "execution_count": 2,
   "metadata": {},
   "outputs": [],
   "source": [
    "train_sms_full = pd.read_csv('train/train_sms.csv')"
   ]
  },
  {
   "cell_type": "code",
   "execution_count": 3,
   "metadata": {},
   "outputs": [
    {
     "name": "stdout",
     "output_type": "stream",
     "text": [
      "<class 'pandas.core.frame.DataFrame'>\n",
      "RangeIndex: 6848509 entries, 0 to 6848508\n",
      "Data columns (total 4 columns):\n",
      " #   Column            Dtype \n",
      "---  ------            ----- \n",
      " 0   phone_no_m        object\n",
      " 1   opposite_no_m     object\n",
      " 2   calltype_id       int64 \n",
      " 3   request_datetime  object\n",
      "dtypes: int64(1), object(3)\n",
      "memory usage: 209.0+ MB\n"
     ]
    }
   ],
   "source": [
    "train_sms_full.info()"
   ]
  },
  {
   "cell_type": "code",
   "execution_count": 4,
   "metadata": {},
   "outputs": [
    {
     "data": {
      "text/html": [
       "<div>\n",
       "<style scoped>\n",
       "    .dataframe tbody tr th:only-of-type {\n",
       "        vertical-align: middle;\n",
       "    }\n",
       "\n",
       "    .dataframe tbody tr th {\n",
       "        vertical-align: top;\n",
       "    }\n",
       "\n",
       "    .dataframe thead th {\n",
       "        text-align: right;\n",
       "    }\n",
       "</style>\n",
       "<table border=\"1\" class=\"dataframe\">\n",
       "  <thead>\n",
       "    <tr style=\"text-align: right;\">\n",
       "      <th></th>\n",
       "      <th>phone_no_m</th>\n",
       "      <th>opposite_no_m</th>\n",
       "      <th>calltype_id</th>\n",
       "      <th>request_datetime</th>\n",
       "    </tr>\n",
       "  </thead>\n",
       "  <tbody>\n",
       "    <tr>\n",
       "      <th>0</th>\n",
       "      <td>0251387744988114430181c3e680a3733001a26fe686bd...</td>\n",
       "      <td>df22edbc0e3dd6bc4f2f453e687b743e8442a54834b64f...</td>\n",
       "      <td>2</td>\n",
       "      <td>2019-08-01 12:13:08</td>\n",
       "    </tr>\n",
       "    <tr>\n",
       "      <th>1</th>\n",
       "      <td>0251387744988114430181c3e680a3733001a26fe686bd...</td>\n",
       "      <td>df22edbc0e3dd6bc4f2f453e687b743e8442a54834b64f...</td>\n",
       "      <td>2</td>\n",
       "      <td>2019-08-01 12:13:08</td>\n",
       "    </tr>\n",
       "    <tr>\n",
       "      <th>2</th>\n",
       "      <td>0251387744988114430181c3e680a3733001a26fe686bd...</td>\n",
       "      <td>df22edbc0e3dd6bc4f2f453e687b743e8442a54834b64f...</td>\n",
       "      <td>2</td>\n",
       "      <td>2019-08-01 12:13:08</td>\n",
       "    </tr>\n",
       "    <tr>\n",
       "      <th>3</th>\n",
       "      <td>296cfae1d838070c4dd05a125a85c3d29bbb95f713c2ea...</td>\n",
       "      <td>1205bb229d750a6bcb3f9c33893b5d68c8fc8a6443b0a7...</td>\n",
       "      <td>2</td>\n",
       "      <td>2019-08-01 17:46:44</td>\n",
       "    </tr>\n",
       "    <tr>\n",
       "      <th>4</th>\n",
       "      <td>39de6ef3a87b8e660e42496450c54b731f3621ca708944...</td>\n",
       "      <td>972affd4be9e7596420379b7e7910843759cdfbd81315e...</td>\n",
       "      <td>2</td>\n",
       "      <td>2019-08-01 16:46:30</td>\n",
       "    </tr>\n",
       "  </tbody>\n",
       "</table>\n",
       "</div>"
      ],
      "text/plain": [
       "                                          phone_no_m  \\\n",
       "0  0251387744988114430181c3e680a3733001a26fe686bd...   \n",
       "1  0251387744988114430181c3e680a3733001a26fe686bd...   \n",
       "2  0251387744988114430181c3e680a3733001a26fe686bd...   \n",
       "3  296cfae1d838070c4dd05a125a85c3d29bbb95f713c2ea...   \n",
       "4  39de6ef3a87b8e660e42496450c54b731f3621ca708944...   \n",
       "\n",
       "                                       opposite_no_m  calltype_id  \\\n",
       "0  df22edbc0e3dd6bc4f2f453e687b743e8442a54834b64f...            2   \n",
       "1  df22edbc0e3dd6bc4f2f453e687b743e8442a54834b64f...            2   \n",
       "2  df22edbc0e3dd6bc4f2f453e687b743e8442a54834b64f...            2   \n",
       "3  1205bb229d750a6bcb3f9c33893b5d68c8fc8a6443b0a7...            2   \n",
       "4  972affd4be9e7596420379b7e7910843759cdfbd81315e...            2   \n",
       "\n",
       "      request_datetime  \n",
       "0  2019-08-01 12:13:08  \n",
       "1  2019-08-01 12:13:08  \n",
       "2  2019-08-01 12:13:08  \n",
       "3  2019-08-01 17:46:44  \n",
       "4  2019-08-01 16:46:30  "
      ]
     },
     "execution_count": 4,
     "metadata": {},
     "output_type": "execute_result"
    }
   ],
   "source": [
    "train_sms_full.head()"
   ]
  },
  {
   "cell_type": "markdown",
   "metadata": {},
   "source": [
    "### opposite_no_m"
   ]
  },
  {
   "cell_type": "code",
   "execution_count": 17,
   "metadata": {},
   "outputs": [],
   "source": [
    "opposite_no_m = (train_sms_full[['phone_no_m','opposite_no_m']].\\\n",
    "                groupby('phone_no_m').count()/train_sms_full[['phone_no_m','opposite_no_m']].\\\n",
    "                groupby('phone_no_m').nunique()).drop('phone_no_m',axis=1).reset_index()"
   ]
  },
  {
   "cell_type": "code",
   "execution_count": 19,
   "metadata": {},
   "outputs": [],
   "source": [
    "opposite_no_m.columns = ['phone_no_m','sms_per_receiver']"
   ]
  },
  {
   "cell_type": "code",
   "execution_count": 21,
   "metadata": {},
   "outputs": [
    {
     "data": {
      "text/html": [
       "<div>\n",
       "<style scoped>\n",
       "    .dataframe tbody tr th:only-of-type {\n",
       "        vertical-align: middle;\n",
       "    }\n",
       "\n",
       "    .dataframe tbody tr th {\n",
       "        vertical-align: top;\n",
       "    }\n",
       "\n",
       "    .dataframe thead th {\n",
       "        text-align: right;\n",
       "    }\n",
       "</style>\n",
       "<table border=\"1\" class=\"dataframe\">\n",
       "  <thead>\n",
       "    <tr style=\"text-align: right;\">\n",
       "      <th></th>\n",
       "      <th>phone_no_m</th>\n",
       "      <th>sms_per_receiver</th>\n",
       "    </tr>\n",
       "  </thead>\n",
       "  <tbody>\n",
       "    <tr>\n",
       "      <th>0</th>\n",
       "      <td>00073ceecc0f7220a440580ac5dea410c90d14b6669458...</td>\n",
       "      <td>8.147541</td>\n",
       "    </tr>\n",
       "    <tr>\n",
       "      <th>1</th>\n",
       "      <td>00086f1d2e2c1227f811c3e17f2e9c37cf9971f47bb933...</td>\n",
       "      <td>16.205882</td>\n",
       "    </tr>\n",
       "    <tr>\n",
       "      <th>2</th>\n",
       "      <td>000c00db8809c27e723ba90582bf334b2d3ca9063f53fb...</td>\n",
       "      <td>3.129032</td>\n",
       "    </tr>\n",
       "    <tr>\n",
       "      <th>3</th>\n",
       "      <td>0014b698069503ceadb9442605834729064be51cdd7002...</td>\n",
       "      <td>4.785714</td>\n",
       "    </tr>\n",
       "    <tr>\n",
       "      <th>4</th>\n",
       "      <td>0034030646f2008d36431e00b133db30efc8b0c31757f3...</td>\n",
       "      <td>5.835443</td>\n",
       "    </tr>\n",
       "  </tbody>\n",
       "</table>\n",
       "</div>"
      ],
      "text/plain": [
       "                                          phone_no_m  sms_per_receiver\n",
       "0  00073ceecc0f7220a440580ac5dea410c90d14b6669458...          8.147541\n",
       "1  00086f1d2e2c1227f811c3e17f2e9c37cf9971f47bb933...         16.205882\n",
       "2  000c00db8809c27e723ba90582bf334b2d3ca9063f53fb...          3.129032\n",
       "3  0014b698069503ceadb9442605834729064be51cdd7002...          4.785714\n",
       "4  0034030646f2008d36431e00b133db30efc8b0c31757f3...          5.835443"
      ]
     },
     "execution_count": 21,
     "metadata": {},
     "output_type": "execute_result"
    }
   ],
   "source": [
    "opposite_no_m.head()"
   ]
  },
  {
   "cell_type": "markdown",
   "metadata": {},
   "source": [
    "### calltype_id"
   ]
  },
  {
   "cell_type": "code",
   "execution_count": 27,
   "metadata": {},
   "outputs": [],
   "source": [
    "calltype_id = pd.get_dummies(train_sms_full[['phone_no_m','calltype_id']],\n",
    "                             columns=['calltype_id'], prefix='sms_calltype').\\\n",
    "                groupby('phone_no_m').mean().reset_index()"
   ]
  },
  {
   "cell_type": "code",
   "execution_count": 29,
   "metadata": {},
   "outputs": [
    {
     "data": {
      "text/html": [
       "<div>\n",
       "<style scoped>\n",
       "    .dataframe tbody tr th:only-of-type {\n",
       "        vertical-align: middle;\n",
       "    }\n",
       "\n",
       "    .dataframe tbody tr th {\n",
       "        vertical-align: top;\n",
       "    }\n",
       "\n",
       "    .dataframe thead th {\n",
       "        text-align: right;\n",
       "    }\n",
       "</style>\n",
       "<table border=\"1\" class=\"dataframe\">\n",
       "  <thead>\n",
       "    <tr style=\"text-align: right;\">\n",
       "      <th></th>\n",
       "      <th>phone_no_m</th>\n",
       "      <th>sms_calltype_1</th>\n",
       "      <th>sms_calltype_2</th>\n",
       "    </tr>\n",
       "  </thead>\n",
       "  <tbody>\n",
       "    <tr>\n",
       "      <th>0</th>\n",
       "      <td>00073ceecc0f7220a440580ac5dea410c90d14b6669458...</td>\n",
       "      <td>0.006036</td>\n",
       "      <td>0.993964</td>\n",
       "    </tr>\n",
       "    <tr>\n",
       "      <th>1</th>\n",
       "      <td>00086f1d2e2c1227f811c3e17f2e9c37cf9971f47bb933...</td>\n",
       "      <td>0.018149</td>\n",
       "      <td>0.981851</td>\n",
       "    </tr>\n",
       "    <tr>\n",
       "      <th>2</th>\n",
       "      <td>000c00db8809c27e723ba90582bf334b2d3ca9063f53fb...</td>\n",
       "      <td>0.164948</td>\n",
       "      <td>0.835052</td>\n",
       "    </tr>\n",
       "    <tr>\n",
       "      <th>3</th>\n",
       "      <td>0014b698069503ceadb9442605834729064be51cdd7002...</td>\n",
       "      <td>0.029851</td>\n",
       "      <td>0.970149</td>\n",
       "    </tr>\n",
       "    <tr>\n",
       "      <th>4</th>\n",
       "      <td>0034030646f2008d36431e00b133db30efc8b0c31757f3...</td>\n",
       "      <td>0.012292</td>\n",
       "      <td>0.987708</td>\n",
       "    </tr>\n",
       "  </tbody>\n",
       "</table>\n",
       "</div>"
      ],
      "text/plain": [
       "                                          phone_no_m  sms_calltype_1  \\\n",
       "0  00073ceecc0f7220a440580ac5dea410c90d14b6669458...        0.006036   \n",
       "1  00086f1d2e2c1227f811c3e17f2e9c37cf9971f47bb933...        0.018149   \n",
       "2  000c00db8809c27e723ba90582bf334b2d3ca9063f53fb...        0.164948   \n",
       "3  0014b698069503ceadb9442605834729064be51cdd7002...        0.029851   \n",
       "4  0034030646f2008d36431e00b133db30efc8b0c31757f3...        0.012292   \n",
       "\n",
       "   sms_calltype_2  \n",
       "0        0.993964  \n",
       "1        0.981851  \n",
       "2        0.835052  \n",
       "3        0.970149  \n",
       "4        0.987708  "
      ]
     },
     "execution_count": 29,
     "metadata": {},
     "output_type": "execute_result"
    }
   ],
   "source": [
    "calltype_id.head()"
   ]
  },
  {
   "cell_type": "markdown",
   "metadata": {},
   "source": [
    "### Final train_sms to be used"
   ]
  },
  {
   "cell_type": "code",
   "execution_count": 30,
   "metadata": {},
   "outputs": [],
   "source": [
    "train_sms = pd.merge(opposite_no_m, calltype_id, on='phone_no_m', how='outer')"
   ]
  },
  {
   "cell_type": "code",
   "execution_count": 31,
   "metadata": {},
   "outputs": [
    {
     "data": {
      "text/html": [
       "<div>\n",
       "<style scoped>\n",
       "    .dataframe tbody tr th:only-of-type {\n",
       "        vertical-align: middle;\n",
       "    }\n",
       "\n",
       "    .dataframe tbody tr th {\n",
       "        vertical-align: top;\n",
       "    }\n",
       "\n",
       "    .dataframe thead th {\n",
       "        text-align: right;\n",
       "    }\n",
       "</style>\n",
       "<table border=\"1\" class=\"dataframe\">\n",
       "  <thead>\n",
       "    <tr style=\"text-align: right;\">\n",
       "      <th></th>\n",
       "      <th>phone_no_m</th>\n",
       "      <th>sms_per_receiver</th>\n",
       "      <th>sms_calltype_1</th>\n",
       "      <th>sms_calltype_2</th>\n",
       "    </tr>\n",
       "  </thead>\n",
       "  <tbody>\n",
       "    <tr>\n",
       "      <th>0</th>\n",
       "      <td>00073ceecc0f7220a440580ac5dea410c90d14b6669458...</td>\n",
       "      <td>8.147541</td>\n",
       "      <td>0.006036</td>\n",
       "      <td>0.993964</td>\n",
       "    </tr>\n",
       "    <tr>\n",
       "      <th>1</th>\n",
       "      <td>00086f1d2e2c1227f811c3e17f2e9c37cf9971f47bb933...</td>\n",
       "      <td>16.205882</td>\n",
       "      <td>0.018149</td>\n",
       "      <td>0.981851</td>\n",
       "    </tr>\n",
       "    <tr>\n",
       "      <th>2</th>\n",
       "      <td>000c00db8809c27e723ba90582bf334b2d3ca9063f53fb...</td>\n",
       "      <td>3.129032</td>\n",
       "      <td>0.164948</td>\n",
       "      <td>0.835052</td>\n",
       "    </tr>\n",
       "    <tr>\n",
       "      <th>3</th>\n",
       "      <td>0014b698069503ceadb9442605834729064be51cdd7002...</td>\n",
       "      <td>4.785714</td>\n",
       "      <td>0.029851</td>\n",
       "      <td>0.970149</td>\n",
       "    </tr>\n",
       "    <tr>\n",
       "      <th>4</th>\n",
       "      <td>0034030646f2008d36431e00b133db30efc8b0c31757f3...</td>\n",
       "      <td>5.835443</td>\n",
       "      <td>0.012292</td>\n",
       "      <td>0.987708</td>\n",
       "    </tr>\n",
       "  </tbody>\n",
       "</table>\n",
       "</div>"
      ],
      "text/plain": [
       "                                          phone_no_m  sms_per_receiver  \\\n",
       "0  00073ceecc0f7220a440580ac5dea410c90d14b6669458...          8.147541   \n",
       "1  00086f1d2e2c1227f811c3e17f2e9c37cf9971f47bb933...         16.205882   \n",
       "2  000c00db8809c27e723ba90582bf334b2d3ca9063f53fb...          3.129032   \n",
       "3  0014b698069503ceadb9442605834729064be51cdd7002...          4.785714   \n",
       "4  0034030646f2008d36431e00b133db30efc8b0c31757f3...          5.835443   \n",
       "\n",
       "   sms_calltype_1  sms_calltype_2  \n",
       "0        0.006036        0.993964  \n",
       "1        0.018149        0.981851  \n",
       "2        0.164948        0.835052  \n",
       "3        0.029851        0.970149  \n",
       "4        0.012292        0.987708  "
      ]
     },
     "execution_count": 31,
     "metadata": {},
     "output_type": "execute_result"
    }
   ],
   "source": [
    "train_sms.head()"
   ]
  },
  {
   "cell_type": "code",
   "execution_count": null,
   "metadata": {},
   "outputs": [],
   "source": [
    "train_sms.to_csv('train/train_sms_cleaned.csv',index=False)"
   ]
  }
 ],
 "metadata": {
  "kernelspec": {
   "display_name": "Python 3",
   "language": "python",
   "name": "python3"
  },
  "language_info": {
   "codemirror_mode": {
    "name": "ipython",
    "version": 3
   },
   "file_extension": ".py",
   "mimetype": "text/x-python",
   "name": "python",
   "nbconvert_exporter": "python",
   "pygments_lexer": "ipython3",
   "version": "3.7.7"
  }
 },
 "nbformat": 4,
 "nbformat_minor": 4
}
