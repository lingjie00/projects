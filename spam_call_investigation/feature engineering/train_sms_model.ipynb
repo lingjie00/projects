{
 "cells": [
  {
   "cell_type": "code",
   "execution_count": 1,
   "metadata": {},
   "outputs": [],
   "source": [
    "import numpy as np\n",
    "import pandas as pd\n",
    "\n",
    "from sklearn.model_selection import train_test_split\n",
    "from sklearn.preprocessing import StandardScaler, RobustScaler, MinMaxScaler\n",
    "from sklearn.experimental import enable_iterative_imputer\n",
    "from sklearn.impute import SimpleImputer, KNNImputer, IterativeImputer\n",
    "from sklearn.tree import DecisionTreeRegressor\n",
    "from sklearn.pipeline import Pipeline\n",
    "\n",
    "#baseline model\n",
    "from sklearn.model_selection import train_test_split, cross_val_score, GridSearchCV\n",
    "from sklearn.ensemble import RandomForestClassifier\n",
    "from sklearn.linear_model import LogisticRegression, RidgeClassifier\n",
    "from sklearn.metrics import f1_score, classification_report, confusion_matrix"
   ]
  },
  {
   "cell_type": "code",
   "execution_count": 2,
   "metadata": {},
   "outputs": [],
   "source": [
    "train_sms_full = pd.read_csv('train/train_sms_cleaned.csv')"
   ]
  },
  {
   "cell_type": "code",
   "execution_count": 3,
   "metadata": {},
   "outputs": [],
   "source": [
    "train_user = pd.read_csv('train/train_user.csv')[['phone_no_m','label']]"
   ]
  },
  {
   "cell_type": "code",
   "execution_count": 4,
   "metadata": {},
   "outputs": [],
   "source": [
    "train_sms_full = pd.merge(train_sms_full, train_user, on='phone_no_m', how='right')"
   ]
  },
  {
   "cell_type": "code",
   "execution_count": 5,
   "metadata": {},
   "outputs": [
    {
     "data": {
      "text/html": [
       "<div>\n",
       "<style scoped>\n",
       "    .dataframe tbody tr th:only-of-type {\n",
       "        vertical-align: middle;\n",
       "    }\n",
       "\n",
       "    .dataframe tbody tr th {\n",
       "        vertical-align: top;\n",
       "    }\n",
       "\n",
       "    .dataframe thead th {\n",
       "        text-align: right;\n",
       "    }\n",
       "</style>\n",
       "<table border=\"1\" class=\"dataframe\">\n",
       "  <thead>\n",
       "    <tr style=\"text-align: right;\">\n",
       "      <th></th>\n",
       "      <th>phone_no_m</th>\n",
       "      <th>sms_per_receiver</th>\n",
       "      <th>sms_calltype_1</th>\n",
       "      <th>sms_calltype_2</th>\n",
       "      <th>label</th>\n",
       "    </tr>\n",
       "  </thead>\n",
       "  <tbody>\n",
       "    <tr>\n",
       "      <th>0</th>\n",
       "      <td>00073ceecc0f7220a440580ac5dea410c90d14b6669458...</td>\n",
       "      <td>8.147541</td>\n",
       "      <td>0.006036</td>\n",
       "      <td>0.993964</td>\n",
       "      <td>0</td>\n",
       "    </tr>\n",
       "    <tr>\n",
       "      <th>1</th>\n",
       "      <td>00086f1d2e2c1227f811c3e17f2e9c37cf9971f47bb933...</td>\n",
       "      <td>16.205882</td>\n",
       "      <td>0.018149</td>\n",
       "      <td>0.981851</td>\n",
       "      <td>1</td>\n",
       "    </tr>\n",
       "    <tr>\n",
       "      <th>2</th>\n",
       "      <td>000c00db8809c27e723ba90582bf334b2d3ca9063f53fb...</td>\n",
       "      <td>3.129032</td>\n",
       "      <td>0.164948</td>\n",
       "      <td>0.835052</td>\n",
       "      <td>1</td>\n",
       "    </tr>\n",
       "    <tr>\n",
       "      <th>3</th>\n",
       "      <td>0014b698069503ceadb9442605834729064be51cdd7002...</td>\n",
       "      <td>4.785714</td>\n",
       "      <td>0.029851</td>\n",
       "      <td>0.970149</td>\n",
       "      <td>1</td>\n",
       "    </tr>\n",
       "    <tr>\n",
       "      <th>4</th>\n",
       "      <td>0034030646f2008d36431e00b133db30efc8b0c31757f3...</td>\n",
       "      <td>5.835443</td>\n",
       "      <td>0.012292</td>\n",
       "      <td>0.987708</td>\n",
       "      <td>0</td>\n",
       "    </tr>\n",
       "  </tbody>\n",
       "</table>\n",
       "</div>"
      ],
      "text/plain": [
       "                                          phone_no_m  sms_per_receiver  \\\n",
       "0  00073ceecc0f7220a440580ac5dea410c90d14b6669458...          8.147541   \n",
       "1  00086f1d2e2c1227f811c3e17f2e9c37cf9971f47bb933...         16.205882   \n",
       "2  000c00db8809c27e723ba90582bf334b2d3ca9063f53fb...          3.129032   \n",
       "3  0014b698069503ceadb9442605834729064be51cdd7002...          4.785714   \n",
       "4  0034030646f2008d36431e00b133db30efc8b0c31757f3...          5.835443   \n",
       "\n",
       "   sms_calltype_1  sms_calltype_2  label  \n",
       "0        0.006036        0.993964      0  \n",
       "1        0.018149        0.981851      1  \n",
       "2        0.164948        0.835052      1  \n",
       "3        0.029851        0.970149      1  \n",
       "4        0.012292        0.987708      0  "
      ]
     },
     "execution_count": 5,
     "metadata": {},
     "output_type": "execute_result"
    }
   ],
   "source": [
    "train_sms_full.head()"
   ]
  },
  {
   "cell_type": "code",
   "execution_count": 6,
   "metadata": {},
   "outputs": [
    {
     "name": "stdout",
     "output_type": "stream",
     "text": [
      "<class 'pandas.core.frame.DataFrame'>\n",
      "Int64Index: 4884 entries, 0 to 4883\n",
      "Data columns (total 5 columns):\n",
      " #   Column            Non-Null Count  Dtype  \n",
      "---  ------            --------------  -----  \n",
      " 0   phone_no_m        4884 non-null   object \n",
      " 1   sms_per_receiver  4882 non-null   float64\n",
      " 2   sms_calltype_1    4882 non-null   float64\n",
      " 3   sms_calltype_2    4882 non-null   float64\n",
      " 4   label             4884 non-null   int64  \n",
      "dtypes: float64(3), int64(1), object(1)\n",
      "memory usage: 228.9+ KB\n"
     ]
    }
   ],
   "source": [
    "#we need to handle missing values\n",
    "train_sms_full.info()"
   ]
  },
  {
   "cell_type": "code",
   "execution_count": 7,
   "metadata": {},
   "outputs": [],
   "source": [
    "train_x, test_x, train_y, test_y = train_test_split(train_sms_full.drop(['phone_no_m',\n",
    "                                                        'label'],axis=1),\n",
    "                                                   train_sms_full['label'],\n",
    "                                                   random_state=0, test_size=0.2,\n",
    "                                                    stratify=train_sms_full['label'])"
   ]
  },
  {
   "cell_type": "code",
   "execution_count": 8,
   "metadata": {},
   "outputs": [
    {
     "name": "stdout",
     "output_type": "stream",
     "text": [
      "<class 'pandas.core.frame.DataFrame'>\n",
      "Int64Index: 3907 entries, 3015 to 33\n",
      "Data columns (total 3 columns):\n",
      " #   Column            Non-Null Count  Dtype  \n",
      "---  ------            --------------  -----  \n",
      " 0   sms_per_receiver  3905 non-null   float64\n",
      " 1   sms_calltype_1    3905 non-null   float64\n",
      " 2   sms_calltype_2    3905 non-null   float64\n",
      "dtypes: float64(3)\n",
      "memory usage: 122.1 KB\n"
     ]
    }
   ],
   "source": [
    "train_x.info()"
   ]
  },
  {
   "cell_type": "code",
   "execution_count": 9,
   "metadata": {},
   "outputs": [
    {
     "data": {
      "text/html": [
       "<div>\n",
       "<style scoped>\n",
       "    .dataframe tbody tr th:only-of-type {\n",
       "        vertical-align: middle;\n",
       "    }\n",
       "\n",
       "    .dataframe tbody tr th {\n",
       "        vertical-align: top;\n",
       "    }\n",
       "\n",
       "    .dataframe thead th {\n",
       "        text-align: right;\n",
       "    }\n",
       "</style>\n",
       "<table border=\"1\" class=\"dataframe\">\n",
       "  <thead>\n",
       "    <tr style=\"text-align: right;\">\n",
       "      <th></th>\n",
       "      <th>count</th>\n",
       "      <th>mean</th>\n",
       "      <th>std</th>\n",
       "      <th>min</th>\n",
       "      <th>25%</th>\n",
       "      <th>50%</th>\n",
       "      <th>75%</th>\n",
       "      <th>max</th>\n",
       "    </tr>\n",
       "  </thead>\n",
       "  <tbody>\n",
       "    <tr>\n",
       "      <th>sms_per_receiver</th>\n",
       "      <td>3905.0</td>\n",
       "      <td>11.782607</td>\n",
       "      <td>12.647800</td>\n",
       "      <td>1.000000</td>\n",
       "      <td>5.460259</td>\n",
       "      <td>8.230769</td>\n",
       "      <td>13.781250</td>\n",
       "      <td>358.307692</td>\n",
       "    </tr>\n",
       "    <tr>\n",
       "      <th>sms_calltype_1</th>\n",
       "      <td>3905.0</td>\n",
       "      <td>0.050530</td>\n",
       "      <td>0.122577</td>\n",
       "      <td>0.000000</td>\n",
       "      <td>0.002500</td>\n",
       "      <td>0.010799</td>\n",
       "      <td>0.040892</td>\n",
       "      <td>0.988199</td>\n",
       "    </tr>\n",
       "    <tr>\n",
       "      <th>sms_calltype_2</th>\n",
       "      <td>3905.0</td>\n",
       "      <td>0.949470</td>\n",
       "      <td>0.122577</td>\n",
       "      <td>0.011801</td>\n",
       "      <td>0.959108</td>\n",
       "      <td>0.989201</td>\n",
       "      <td>0.997500</td>\n",
       "      <td>1.000000</td>\n",
       "    </tr>\n",
       "  </tbody>\n",
       "</table>\n",
       "</div>"
      ],
      "text/plain": [
       "                   count       mean        std       min       25%       50%  \\\n",
       "sms_per_receiver  3905.0  11.782607  12.647800  1.000000  5.460259  8.230769   \n",
       "sms_calltype_1    3905.0   0.050530   0.122577  0.000000  0.002500  0.010799   \n",
       "sms_calltype_2    3905.0   0.949470   0.122577  0.011801  0.959108  0.989201   \n",
       "\n",
       "                        75%         max  \n",
       "sms_per_receiver  13.781250  358.307692  \n",
       "sms_calltype_1     0.040892    0.988199  \n",
       "sms_calltype_2     0.997500    1.000000  "
      ]
     },
     "execution_count": 9,
     "metadata": {},
     "output_type": "execute_result"
    }
   ],
   "source": [
    "#we use robust scaling as sms_per_receiver is skewed\n",
    "train_x.describe().T"
   ]
  },
  {
   "cell_type": "markdown",
   "metadata": {},
   "source": [
    "### Baseline score"
   ]
  },
  {
   "cell_type": "code",
   "execution_count": 10,
   "metadata": {},
   "outputs": [],
   "source": [
    "scalers = [StandardScaler(), RobustScaler(), MinMaxScaler()]"
   ]
  },
  {
   "cell_type": "code",
   "execution_count": 11,
   "metadata": {},
   "outputs": [],
   "source": [
    "imputers = [SimpleImputer(strategy='mean'), KNNImputer(), SimpleImputer(strategy='median'),\n",
    "           IterativeImputer(random_state=0,estimator=DecisionTreeRegressor(max_features='sqrt',random_state=0))]"
   ]
  },
  {
   "cell_type": "code",
   "execution_count": 12,
   "metadata": {},
   "outputs": [],
   "source": [
    "preprocess = Pipeline([('scale',scalers[0]),('impute',imputers[0])])"
   ]
  },
  {
   "cell_type": "code",
   "execution_count": 13,
   "metadata": {},
   "outputs": [],
   "source": [
    "models = [RandomForestClassifier(n_jobs=-1,random_state=0),\n",
    "         LogisticRegression(n_jobs=-1,random_state=0),\n",
    "         RidgeClassifier(random_state=0)]"
   ]
  },
  {
   "cell_type": "code",
   "execution_count": 14,
   "metadata": {},
   "outputs": [],
   "source": [
    "model_pipeline = Pipeline([('preprocess',preprocess),('model',models[1])])"
   ]
  },
  {
   "cell_type": "code",
   "execution_count": 15,
   "metadata": {},
   "outputs": [
    {
     "data": {
      "text/plain": [
       "0.6518376970945112"
      ]
     },
     "execution_count": 15,
     "metadata": {},
     "output_type": "execute_result"
    }
   ],
   "source": [
    "#baseline score\n",
    "cross_val_score(model_pipeline, train_x, train_y, n_jobs=-1, cv=5, scoring='f1_macro').mean()"
   ]
  },
  {
   "cell_type": "markdown",
   "metadata": {},
   "source": [
    "### Best combination"
   ]
  },
  {
   "cell_type": "code",
   "execution_count": 16,
   "metadata": {},
   "outputs": [],
   "source": [
    "params = dict(preprocess__scale=scalers, preprocess__impute=imputers, model=models)"
   ]
  },
  {
   "cell_type": "code",
   "execution_count": 17,
   "metadata": {},
   "outputs": [],
   "source": [
    "#to compare with base model\n",
    "# params = dict(preprocess__scale=scalers, preprocess__impute=imputers)"
   ]
  },
  {
   "cell_type": "code",
   "execution_count": 18,
   "metadata": {},
   "outputs": [],
   "source": [
    "combi_search = GridSearchCV(model_pipeline,params,scoring='f1_macro',cv=5,n_jobs=-1,verbose=1)"
   ]
  },
  {
   "cell_type": "code",
   "execution_count": 19,
   "metadata": {},
   "outputs": [
    {
     "name": "stdout",
     "output_type": "stream",
     "text": [
      "Fitting 5 folds for each of 36 candidates, totalling 180 fits\n"
     ]
    },
    {
     "name": "stderr",
     "output_type": "stream",
     "text": [
      "[Parallel(n_jobs=-1)]: Using backend LokyBackend with 8 concurrent workers.\n",
      "[Parallel(n_jobs=-1)]: Done  34 tasks      | elapsed:    3.7s\n",
      "[Parallel(n_jobs=-1)]: Done 165 out of 180 | elapsed:    7.5s remaining:    0.7s\n",
      "[Parallel(n_jobs=-1)]: Done 180 out of 180 | elapsed:    7.6s finished\n"
     ]
    }
   ],
   "source": [
    "combi_search.fit(train_x,train_y);"
   ]
  },
  {
   "cell_type": "code",
   "execution_count": 20,
   "metadata": {},
   "outputs": [],
   "source": [
    "results = pd.DataFrame(combi_search.cv_results_).sort_values(by='rank_test_score')"
   ]
  },
  {
   "cell_type": "code",
   "execution_count": 21,
   "metadata": {},
   "outputs": [
    {
     "data": {
      "text/html": [
       "<div>\n",
       "<style scoped>\n",
       "    .dataframe tbody tr th:only-of-type {\n",
       "        vertical-align: middle;\n",
       "    }\n",
       "\n",
       "    .dataframe tbody tr th {\n",
       "        vertical-align: top;\n",
       "    }\n",
       "\n",
       "    .dataframe thead th {\n",
       "        text-align: right;\n",
       "    }\n",
       "</style>\n",
       "<table border=\"1\" class=\"dataframe\">\n",
       "  <thead>\n",
       "    <tr style=\"text-align: right;\">\n",
       "      <th></th>\n",
       "      <th>mean_fit_time</th>\n",
       "      <th>std_fit_time</th>\n",
       "      <th>mean_score_time</th>\n",
       "      <th>std_score_time</th>\n",
       "      <th>param_model</th>\n",
       "      <th>param_preprocess__impute</th>\n",
       "      <th>param_preprocess__scale</th>\n",
       "      <th>params</th>\n",
       "      <th>split0_test_score</th>\n",
       "      <th>split1_test_score</th>\n",
       "      <th>split2_test_score</th>\n",
       "      <th>split3_test_score</th>\n",
       "      <th>split4_test_score</th>\n",
       "      <th>mean_test_score</th>\n",
       "      <th>std_test_score</th>\n",
       "      <th>rank_test_score</th>\n",
       "    </tr>\n",
       "  </thead>\n",
       "  <tbody>\n",
       "    <tr>\n",
       "      <th>11</th>\n",
       "      <td>0.797063</td>\n",
       "      <td>0.134822</td>\n",
       "      <td>0.109240</td>\n",
       "      <td>0.001244</td>\n",
       "      <td>RandomForestClassifier(n_jobs=-1, random_state=0)</td>\n",
       "      <td>IterativeImputer(estimator=DecisionTreeRegress...</td>\n",
       "      <td>MinMaxScaler()</td>\n",
       "      <td>{'model': RandomForestClassifier(n_jobs=-1, ra...</td>\n",
       "      <td>0.707851</td>\n",
       "      <td>0.675230</td>\n",
       "      <td>0.667618</td>\n",
       "      <td>0.721348</td>\n",
       "      <td>0.665092</td>\n",
       "      <td>0.687428</td>\n",
       "      <td>0.022838</td>\n",
       "      <td>1</td>\n",
       "    </tr>\n",
       "    <tr>\n",
       "      <th>9</th>\n",
       "      <td>0.774402</td>\n",
       "      <td>0.133760</td>\n",
       "      <td>0.161700</td>\n",
       "      <td>0.037274</td>\n",
       "      <td>RandomForestClassifier(n_jobs=-1, random_state=0)</td>\n",
       "      <td>IterativeImputer(estimator=DecisionTreeRegress...</td>\n",
       "      <td>StandardScaler()</td>\n",
       "      <td>{'model': RandomForestClassifier(n_jobs=-1, ra...</td>\n",
       "      <td>0.702831</td>\n",
       "      <td>0.675230</td>\n",
       "      <td>0.667618</td>\n",
       "      <td>0.723192</td>\n",
       "      <td>0.665092</td>\n",
       "      <td>0.686793</td>\n",
       "      <td>0.022603</td>\n",
       "      <td>2</td>\n",
       "    </tr>\n",
       "    <tr>\n",
       "      <th>10</th>\n",
       "      <td>0.733758</td>\n",
       "      <td>0.089084</td>\n",
       "      <td>0.129914</td>\n",
       "      <td>0.013935</td>\n",
       "      <td>RandomForestClassifier(n_jobs=-1, random_state=0)</td>\n",
       "      <td>IterativeImputer(estimator=DecisionTreeRegress...</td>\n",
       "      <td>RobustScaler()</td>\n",
       "      <td>{'model': RandomForestClassifier(n_jobs=-1, ra...</td>\n",
       "      <td>0.702831</td>\n",
       "      <td>0.675230</td>\n",
       "      <td>0.667618</td>\n",
       "      <td>0.721348</td>\n",
       "      <td>0.665092</td>\n",
       "      <td>0.686424</td>\n",
       "      <td>0.022013</td>\n",
       "      <td>3</td>\n",
       "    </tr>\n",
       "    <tr>\n",
       "      <th>6</th>\n",
       "      <td>0.564546</td>\n",
       "      <td>0.031589</td>\n",
       "      <td>0.191612</td>\n",
       "      <td>0.047259</td>\n",
       "      <td>RandomForestClassifier(n_jobs=-1, random_state=0)</td>\n",
       "      <td>SimpleImputer(strategy='median')</td>\n",
       "      <td>StandardScaler()</td>\n",
       "      <td>{'model': RandomForestClassifier(n_jobs=-1, ra...</td>\n",
       "      <td>0.696213</td>\n",
       "      <td>0.675650</td>\n",
       "      <td>0.669068</td>\n",
       "      <td>0.721864</td>\n",
       "      <td>0.666174</td>\n",
       "      <td>0.685794</td>\n",
       "      <td>0.020867</td>\n",
       "      <td>4</td>\n",
       "    </tr>\n",
       "    <tr>\n",
       "      <th>0</th>\n",
       "      <td>0.529183</td>\n",
       "      <td>0.045261</td>\n",
       "      <td>0.111202</td>\n",
       "      <td>0.005423</td>\n",
       "      <td>RandomForestClassifier(n_jobs=-1, random_state=0)</td>\n",
       "      <td>SimpleImputer()</td>\n",
       "      <td>StandardScaler()</td>\n",
       "      <td>{'model': RandomForestClassifier(n_jobs=-1, ra...</td>\n",
       "      <td>0.705163</td>\n",
       "      <td>0.666763</td>\n",
       "      <td>0.672537</td>\n",
       "      <td>0.721190</td>\n",
       "      <td>0.662115</td>\n",
       "      <td>0.685554</td>\n",
       "      <td>0.023351</td>\n",
       "      <td>5</td>\n",
       "    </tr>\n",
       "  </tbody>\n",
       "</table>\n",
       "</div>"
      ],
      "text/plain": [
       "    mean_fit_time  std_fit_time  mean_score_time  std_score_time  \\\n",
       "11       0.797063      0.134822         0.109240        0.001244   \n",
       "9        0.774402      0.133760         0.161700        0.037274   \n",
       "10       0.733758      0.089084         0.129914        0.013935   \n",
       "6        0.564546      0.031589         0.191612        0.047259   \n",
       "0        0.529183      0.045261         0.111202        0.005423   \n",
       "\n",
       "                                          param_model  \\\n",
       "11  RandomForestClassifier(n_jobs=-1, random_state=0)   \n",
       "9   RandomForestClassifier(n_jobs=-1, random_state=0)   \n",
       "10  RandomForestClassifier(n_jobs=-1, random_state=0)   \n",
       "6   RandomForestClassifier(n_jobs=-1, random_state=0)   \n",
       "0   RandomForestClassifier(n_jobs=-1, random_state=0)   \n",
       "\n",
       "                             param_preprocess__impute param_preprocess__scale  \\\n",
       "11  IterativeImputer(estimator=DecisionTreeRegress...          MinMaxScaler()   \n",
       "9   IterativeImputer(estimator=DecisionTreeRegress...        StandardScaler()   \n",
       "10  IterativeImputer(estimator=DecisionTreeRegress...          RobustScaler()   \n",
       "6                    SimpleImputer(strategy='median')        StandardScaler()   \n",
       "0                                     SimpleImputer()        StandardScaler()   \n",
       "\n",
       "                                               params  split0_test_score  \\\n",
       "11  {'model': RandomForestClassifier(n_jobs=-1, ra...           0.707851   \n",
       "9   {'model': RandomForestClassifier(n_jobs=-1, ra...           0.702831   \n",
       "10  {'model': RandomForestClassifier(n_jobs=-1, ra...           0.702831   \n",
       "6   {'model': RandomForestClassifier(n_jobs=-1, ra...           0.696213   \n",
       "0   {'model': RandomForestClassifier(n_jobs=-1, ra...           0.705163   \n",
       "\n",
       "    split1_test_score  split2_test_score  split3_test_score  \\\n",
       "11           0.675230           0.667618           0.721348   \n",
       "9            0.675230           0.667618           0.723192   \n",
       "10           0.675230           0.667618           0.721348   \n",
       "6            0.675650           0.669068           0.721864   \n",
       "0            0.666763           0.672537           0.721190   \n",
       "\n",
       "    split4_test_score  mean_test_score  std_test_score  rank_test_score  \n",
       "11           0.665092         0.687428        0.022838                1  \n",
       "9            0.665092         0.686793        0.022603                2  \n",
       "10           0.665092         0.686424        0.022013                3  \n",
       "6            0.666174         0.685794        0.020867                4  \n",
       "0            0.662115         0.685554        0.023351                5  "
      ]
     },
     "execution_count": 21,
     "metadata": {},
     "output_type": "execute_result"
    }
   ],
   "source": [
    "results[results['param_model'] == results['param_model'].unique()[0]].sort_values('rank_test_score').head()"
   ]
  },
  {
   "cell_type": "code",
   "execution_count": 22,
   "metadata": {},
   "outputs": [
    {
     "data": {
      "text/html": [
       "<div>\n",
       "<style scoped>\n",
       "    .dataframe tbody tr th:only-of-type {\n",
       "        vertical-align: middle;\n",
       "    }\n",
       "\n",
       "    .dataframe tbody tr th {\n",
       "        vertical-align: top;\n",
       "    }\n",
       "\n",
       "    .dataframe thead th {\n",
       "        text-align: right;\n",
       "    }\n",
       "</style>\n",
       "<table border=\"1\" class=\"dataframe\">\n",
       "  <thead>\n",
       "    <tr style=\"text-align: right;\">\n",
       "      <th></th>\n",
       "      <th>mean_fit_time</th>\n",
       "      <th>std_fit_time</th>\n",
       "      <th>mean_score_time</th>\n",
       "      <th>std_score_time</th>\n",
       "      <th>param_model</th>\n",
       "      <th>param_preprocess__impute</th>\n",
       "      <th>param_preprocess__scale</th>\n",
       "      <th>params</th>\n",
       "      <th>split0_test_score</th>\n",
       "      <th>split1_test_score</th>\n",
       "      <th>split2_test_score</th>\n",
       "      <th>split3_test_score</th>\n",
       "      <th>split4_test_score</th>\n",
       "      <th>mean_test_score</th>\n",
       "      <th>std_test_score</th>\n",
       "      <th>rank_test_score</th>\n",
       "    </tr>\n",
       "  </thead>\n",
       "  <tbody>\n",
       "    <tr>\n",
       "      <th>19</th>\n",
       "      <td>0.115750</td>\n",
       "      <td>0.002045</td>\n",
       "      <td>0.003923</td>\n",
       "      <td>0.000776</td>\n",
       "      <td>LogisticRegression(n_jobs=-1, random_state=0)</td>\n",
       "      <td>SimpleImputer(strategy='median')</td>\n",
       "      <td>RobustScaler()</td>\n",
       "      <td>{'model': LogisticRegression(n_jobs=-1, random...</td>\n",
       "      <td>0.639625</td>\n",
       "      <td>0.629735</td>\n",
       "      <td>0.648735</td>\n",
       "      <td>0.681027</td>\n",
       "      <td>0.665053</td>\n",
       "      <td>0.652835</td>\n",
       "      <td>0.018270</td>\n",
       "      <td>13</td>\n",
       "    </tr>\n",
       "    <tr>\n",
       "      <th>22</th>\n",
       "      <td>0.150240</td>\n",
       "      <td>0.005617</td>\n",
       "      <td>0.004419</td>\n",
       "      <td>0.001272</td>\n",
       "      <td>LogisticRegression(n_jobs=-1, random_state=0)</td>\n",
       "      <td>IterativeImputer(estimator=DecisionTreeRegress...</td>\n",
       "      <td>RobustScaler()</td>\n",
       "      <td>{'model': LogisticRegression(n_jobs=-1, random...</td>\n",
       "      <td>0.639625</td>\n",
       "      <td>0.629735</td>\n",
       "      <td>0.648735</td>\n",
       "      <td>0.681027</td>\n",
       "      <td>0.665053</td>\n",
       "      <td>0.652835</td>\n",
       "      <td>0.018270</td>\n",
       "      <td>13</td>\n",
       "    </tr>\n",
       "    <tr>\n",
       "      <th>16</th>\n",
       "      <td>0.111634</td>\n",
       "      <td>0.001679</td>\n",
       "      <td>0.003795</td>\n",
       "      <td>0.001048</td>\n",
       "      <td>LogisticRegression(n_jobs=-1, random_state=0)</td>\n",
       "      <td>KNNImputer()</td>\n",
       "      <td>RobustScaler()</td>\n",
       "      <td>{'model': LogisticRegression(n_jobs=-1, random...</td>\n",
       "      <td>0.639625</td>\n",
       "      <td>0.629735</td>\n",
       "      <td>0.648735</td>\n",
       "      <td>0.681027</td>\n",
       "      <td>0.665053</td>\n",
       "      <td>0.652835</td>\n",
       "      <td>0.018270</td>\n",
       "      <td>13</td>\n",
       "    </tr>\n",
       "    <tr>\n",
       "      <th>13</th>\n",
       "      <td>0.173569</td>\n",
       "      <td>0.103223</td>\n",
       "      <td>0.004554</td>\n",
       "      <td>0.000860</td>\n",
       "      <td>LogisticRegression(n_jobs=-1, random_state=0)</td>\n",
       "      <td>SimpleImputer()</td>\n",
       "      <td>RobustScaler()</td>\n",
       "      <td>{'model': LogisticRegression(n_jobs=-1, random...</td>\n",
       "      <td>0.639625</td>\n",
       "      <td>0.629735</td>\n",
       "      <td>0.648735</td>\n",
       "      <td>0.681027</td>\n",
       "      <td>0.665053</td>\n",
       "      <td>0.652835</td>\n",
       "      <td>0.018270</td>\n",
       "      <td>13</td>\n",
       "    </tr>\n",
       "    <tr>\n",
       "      <th>18</th>\n",
       "      <td>0.112070</td>\n",
       "      <td>0.003328</td>\n",
       "      <td>0.003515</td>\n",
       "      <td>0.000484</td>\n",
       "      <td>LogisticRegression(n_jobs=-1, random_state=0)</td>\n",
       "      <td>SimpleImputer(strategy='median')</td>\n",
       "      <td>StandardScaler()</td>\n",
       "      <td>{'model': LogisticRegression(n_jobs=-1, random...</td>\n",
       "      <td>0.639625</td>\n",
       "      <td>0.629735</td>\n",
       "      <td>0.646247</td>\n",
       "      <td>0.681027</td>\n",
       "      <td>0.665053</td>\n",
       "      <td>0.652337</td>\n",
       "      <td>0.018408</td>\n",
       "      <td>17</td>\n",
       "    </tr>\n",
       "  </tbody>\n",
       "</table>\n",
       "</div>"
      ],
      "text/plain": [
       "    mean_fit_time  std_fit_time  mean_score_time  std_score_time  \\\n",
       "19       0.115750      0.002045         0.003923        0.000776   \n",
       "22       0.150240      0.005617         0.004419        0.001272   \n",
       "16       0.111634      0.001679         0.003795        0.001048   \n",
       "13       0.173569      0.103223         0.004554        0.000860   \n",
       "18       0.112070      0.003328         0.003515        0.000484   \n",
       "\n",
       "                                      param_model  \\\n",
       "19  LogisticRegression(n_jobs=-1, random_state=0)   \n",
       "22  LogisticRegression(n_jobs=-1, random_state=0)   \n",
       "16  LogisticRegression(n_jobs=-1, random_state=0)   \n",
       "13  LogisticRegression(n_jobs=-1, random_state=0)   \n",
       "18  LogisticRegression(n_jobs=-1, random_state=0)   \n",
       "\n",
       "                             param_preprocess__impute param_preprocess__scale  \\\n",
       "19                   SimpleImputer(strategy='median')          RobustScaler()   \n",
       "22  IterativeImputer(estimator=DecisionTreeRegress...          RobustScaler()   \n",
       "16                                       KNNImputer()          RobustScaler()   \n",
       "13                                    SimpleImputer()          RobustScaler()   \n",
       "18                   SimpleImputer(strategy='median')        StandardScaler()   \n",
       "\n",
       "                                               params  split0_test_score  \\\n",
       "19  {'model': LogisticRegression(n_jobs=-1, random...           0.639625   \n",
       "22  {'model': LogisticRegression(n_jobs=-1, random...           0.639625   \n",
       "16  {'model': LogisticRegression(n_jobs=-1, random...           0.639625   \n",
       "13  {'model': LogisticRegression(n_jobs=-1, random...           0.639625   \n",
       "18  {'model': LogisticRegression(n_jobs=-1, random...           0.639625   \n",
       "\n",
       "    split1_test_score  split2_test_score  split3_test_score  \\\n",
       "19           0.629735           0.648735           0.681027   \n",
       "22           0.629735           0.648735           0.681027   \n",
       "16           0.629735           0.648735           0.681027   \n",
       "13           0.629735           0.648735           0.681027   \n",
       "18           0.629735           0.646247           0.681027   \n",
       "\n",
       "    split4_test_score  mean_test_score  std_test_score  rank_test_score  \n",
       "19           0.665053         0.652835        0.018270               13  \n",
       "22           0.665053         0.652835        0.018270               13  \n",
       "16           0.665053         0.652835        0.018270               13  \n",
       "13           0.665053         0.652835        0.018270               13  \n",
       "18           0.665053         0.652337        0.018408               17  "
      ]
     },
     "execution_count": 22,
     "metadata": {},
     "output_type": "execute_result"
    }
   ],
   "source": [
    "results[results['param_model'] == results['param_model'].unique()[1]].sort_values('rank_test_score').head()"
   ]
  },
  {
   "cell_type": "code",
   "execution_count": 23,
   "metadata": {},
   "outputs": [
    {
     "data": {
      "text/html": [
       "<div>\n",
       "<style scoped>\n",
       "    .dataframe tbody tr th:only-of-type {\n",
       "        vertical-align: middle;\n",
       "    }\n",
       "\n",
       "    .dataframe tbody tr th {\n",
       "        vertical-align: top;\n",
       "    }\n",
       "\n",
       "    .dataframe thead th {\n",
       "        text-align: right;\n",
       "    }\n",
       "</style>\n",
       "<table border=\"1\" class=\"dataframe\">\n",
       "  <thead>\n",
       "    <tr style=\"text-align: right;\">\n",
       "      <th></th>\n",
       "      <th>mean_fit_time</th>\n",
       "      <th>std_fit_time</th>\n",
       "      <th>mean_score_time</th>\n",
       "      <th>std_score_time</th>\n",
       "      <th>param_model</th>\n",
       "      <th>param_preprocess__impute</th>\n",
       "      <th>param_preprocess__scale</th>\n",
       "      <th>params</th>\n",
       "      <th>split0_test_score</th>\n",
       "      <th>split1_test_score</th>\n",
       "      <th>split2_test_score</th>\n",
       "      <th>split3_test_score</th>\n",
       "      <th>split4_test_score</th>\n",
       "      <th>mean_test_score</th>\n",
       "      <th>std_test_score</th>\n",
       "      <th>rank_test_score</th>\n",
       "    </tr>\n",
       "  </thead>\n",
       "  <tbody>\n",
       "    <tr>\n",
       "      <th>24</th>\n",
       "      <td>0.007621</td>\n",
       "      <td>0.001115</td>\n",
       "      <td>0.002737</td>\n",
       "      <td>0.000151</td>\n",
       "      <td>RidgeClassifier(random_state=0)</td>\n",
       "      <td>SimpleImputer()</td>\n",
       "      <td>StandardScaler()</td>\n",
       "      <td>{'model': RidgeClassifier(random_state=0), 'pr...</td>\n",
       "      <td>0.53098</td>\n",
       "      <td>0.502847</td>\n",
       "      <td>0.523199</td>\n",
       "      <td>0.544192</td>\n",
       "      <td>0.535262</td>\n",
       "      <td>0.527296</td>\n",
       "      <td>0.013979</td>\n",
       "      <td>25</td>\n",
       "    </tr>\n",
       "    <tr>\n",
       "      <th>25</th>\n",
       "      <td>0.008832</td>\n",
       "      <td>0.001137</td>\n",
       "      <td>0.003131</td>\n",
       "      <td>0.000339</td>\n",
       "      <td>RidgeClassifier(random_state=0)</td>\n",
       "      <td>SimpleImputer()</td>\n",
       "      <td>RobustScaler()</td>\n",
       "      <td>{'model': RidgeClassifier(random_state=0), 'pr...</td>\n",
       "      <td>0.53098</td>\n",
       "      <td>0.502847</td>\n",
       "      <td>0.523199</td>\n",
       "      <td>0.544192</td>\n",
       "      <td>0.535262</td>\n",
       "      <td>0.527296</td>\n",
       "      <td>0.013979</td>\n",
       "      <td>25</td>\n",
       "    </tr>\n",
       "    <tr>\n",
       "      <th>27</th>\n",
       "      <td>0.009016</td>\n",
       "      <td>0.001089</td>\n",
       "      <td>0.003922</td>\n",
       "      <td>0.001246</td>\n",
       "      <td>RidgeClassifier(random_state=0)</td>\n",
       "      <td>KNNImputer()</td>\n",
       "      <td>StandardScaler()</td>\n",
       "      <td>{'model': RidgeClassifier(random_state=0), 'pr...</td>\n",
       "      <td>0.53098</td>\n",
       "      <td>0.502847</td>\n",
       "      <td>0.523199</td>\n",
       "      <td>0.544192</td>\n",
       "      <td>0.535262</td>\n",
       "      <td>0.527296</td>\n",
       "      <td>0.013979</td>\n",
       "      <td>25</td>\n",
       "    </tr>\n",
       "    <tr>\n",
       "      <th>28</th>\n",
       "      <td>0.011666</td>\n",
       "      <td>0.001222</td>\n",
       "      <td>0.004665</td>\n",
       "      <td>0.001146</td>\n",
       "      <td>RidgeClassifier(random_state=0)</td>\n",
       "      <td>KNNImputer()</td>\n",
       "      <td>RobustScaler()</td>\n",
       "      <td>{'model': RidgeClassifier(random_state=0), 'pr...</td>\n",
       "      <td>0.53098</td>\n",
       "      <td>0.502847</td>\n",
       "      <td>0.523199</td>\n",
       "      <td>0.544192</td>\n",
       "      <td>0.535262</td>\n",
       "      <td>0.527296</td>\n",
       "      <td>0.013979</td>\n",
       "      <td>25</td>\n",
       "    </tr>\n",
       "    <tr>\n",
       "      <th>30</th>\n",
       "      <td>0.011463</td>\n",
       "      <td>0.001025</td>\n",
       "      <td>0.004168</td>\n",
       "      <td>0.000638</td>\n",
       "      <td>RidgeClassifier(random_state=0)</td>\n",
       "      <td>SimpleImputer(strategy='median')</td>\n",
       "      <td>StandardScaler()</td>\n",
       "      <td>{'model': RidgeClassifier(random_state=0), 'pr...</td>\n",
       "      <td>0.53098</td>\n",
       "      <td>0.502847</td>\n",
       "      <td>0.523199</td>\n",
       "      <td>0.544192</td>\n",
       "      <td>0.535262</td>\n",
       "      <td>0.527296</td>\n",
       "      <td>0.013979</td>\n",
       "      <td>25</td>\n",
       "    </tr>\n",
       "  </tbody>\n",
       "</table>\n",
       "</div>"
      ],
      "text/plain": [
       "    mean_fit_time  std_fit_time  mean_score_time  std_score_time  \\\n",
       "24       0.007621      0.001115         0.002737        0.000151   \n",
       "25       0.008832      0.001137         0.003131        0.000339   \n",
       "27       0.009016      0.001089         0.003922        0.001246   \n",
       "28       0.011666      0.001222         0.004665        0.001146   \n",
       "30       0.011463      0.001025         0.004168        0.000638   \n",
       "\n",
       "                        param_model          param_preprocess__impute  \\\n",
       "24  RidgeClassifier(random_state=0)                   SimpleImputer()   \n",
       "25  RidgeClassifier(random_state=0)                   SimpleImputer()   \n",
       "27  RidgeClassifier(random_state=0)                      KNNImputer()   \n",
       "28  RidgeClassifier(random_state=0)                      KNNImputer()   \n",
       "30  RidgeClassifier(random_state=0)  SimpleImputer(strategy='median')   \n",
       "\n",
       "   param_preprocess__scale                                             params  \\\n",
       "24        StandardScaler()  {'model': RidgeClassifier(random_state=0), 'pr...   \n",
       "25          RobustScaler()  {'model': RidgeClassifier(random_state=0), 'pr...   \n",
       "27        StandardScaler()  {'model': RidgeClassifier(random_state=0), 'pr...   \n",
       "28          RobustScaler()  {'model': RidgeClassifier(random_state=0), 'pr...   \n",
       "30        StandardScaler()  {'model': RidgeClassifier(random_state=0), 'pr...   \n",
       "\n",
       "    split0_test_score  split1_test_score  split2_test_score  \\\n",
       "24            0.53098           0.502847           0.523199   \n",
       "25            0.53098           0.502847           0.523199   \n",
       "27            0.53098           0.502847           0.523199   \n",
       "28            0.53098           0.502847           0.523199   \n",
       "30            0.53098           0.502847           0.523199   \n",
       "\n",
       "    split3_test_score  split4_test_score  mean_test_score  std_test_score  \\\n",
       "24           0.544192           0.535262         0.527296        0.013979   \n",
       "25           0.544192           0.535262         0.527296        0.013979   \n",
       "27           0.544192           0.535262         0.527296        0.013979   \n",
       "28           0.544192           0.535262         0.527296        0.013979   \n",
       "30           0.544192           0.535262         0.527296        0.013979   \n",
       "\n",
       "    rank_test_score  \n",
       "24               25  \n",
       "25               25  \n",
       "27               25  \n",
       "28               25  \n",
       "30               25  "
      ]
     },
     "execution_count": 23,
     "metadata": {},
     "output_type": "execute_result"
    }
   ],
   "source": [
    "results[results['param_model'] == results['param_model'].unique()[2]].sort_values('rank_test_score').head()"
   ]
  },
  {
   "cell_type": "markdown",
   "metadata": {},
   "source": [
    "### Best way to handle train_sms"
   ]
  },
  {
   "cell_type": "markdown",
   "metadata": {},
   "source": [
    "scaler:\n",
    "- robust/MinMax -> uncertain\n",
    "\n",
    "impute:\n",
    "- mean/median/model -> uncertain"
   ]
  },
  {
   "cell_type": "code",
   "execution_count": 24,
   "metadata": {},
   "outputs": [],
   "source": [
    "best_model = combi_search.best_estimator_"
   ]
  },
  {
   "cell_type": "code",
   "execution_count": 25,
   "metadata": {},
   "outputs": [
    {
     "data": {
      "text/plain": [
       "0.6874279062265012"
      ]
     },
     "execution_count": 25,
     "metadata": {},
     "output_type": "execute_result"
    }
   ],
   "source": [
    "#baseline score: 0.6518376970945112\n",
    "cross_val_score(best_model, train_x, train_y, n_jobs=-1, cv=5, scoring='f1_macro').mean()"
   ]
  },
  {
   "cell_type": "code",
   "execution_count": 26,
   "metadata": {},
   "outputs": [
    {
     "name": "stdout",
     "output_type": "stream",
     "text": [
      "0.0009972890516065647\n",
      "0.15299652905191916\n"
     ]
    }
   ],
   "source": [
    "#when comparing with log model\n",
    "print(0.6528349861461178 - 0.6518376970945112) #improve score by 0.001\n",
    "print((0.6528349861461178 - 0.6518376970945112)/0.6518376970945112 * 100) #or 0.153% improvement"
   ]
  },
  {
   "cell_type": "code",
   "execution_count": 32,
   "metadata": {},
   "outputs": [
    {
     "name": "stdout",
     "output_type": "stream",
     "text": [
      "0.03559020913198996\n",
      "5.459980189950516\n"
     ]
    }
   ],
   "source": [
    "#when comparing with best model\n",
    "print(0.6874279062265012 - 0.6518376970945112) #improve score by 0.03\n",
    "print((0.6874279062265012 - 0.6518376970945112)/0.6518376970945112 * 100) #or 5.5% improvement"
   ]
  },
  {
   "cell_type": "markdown",
   "metadata": {},
   "source": [
    "### Final result"
   ]
  },
  {
   "cell_type": "markdown",
   "metadata": {},
   "source": [
    "We will now use our validation set to estimate our model's performance in the real world.\\\n",
    "We will not make any changes to our model after this stage to avoid data leakage"
   ]
  },
  {
   "cell_type": "code",
   "execution_count": 28,
   "metadata": {},
   "outputs": [],
   "source": [
    "prediction = best_model.predict(test_x)"
   ]
  },
  {
   "cell_type": "code",
   "execution_count": 29,
   "metadata": {},
   "outputs": [
    {
     "data": {
      "text/plain": [
       "0.7050865834200912"
      ]
     },
     "execution_count": 29,
     "metadata": {},
     "output_type": "execute_result"
    }
   ],
   "source": [
    "f1_score(test_y, prediction, average='macro')"
   ]
  },
  {
   "cell_type": "code",
   "execution_count": 30,
   "metadata": {},
   "outputs": [
    {
     "data": {
      "text/plain": [
       "array([[555, 109],\n",
       "       [136, 177]])"
      ]
     },
     "execution_count": 30,
     "metadata": {},
     "output_type": "execute_result"
    }
   ],
   "source": [
    "confusion_matrix(test_y, prediction)"
   ]
  },
  {
   "cell_type": "code",
   "execution_count": 31,
   "metadata": {},
   "outputs": [
    {
     "name": "stdout",
     "output_type": "stream",
     "text": [
      "              precision    recall  f1-score   support\n",
      "\n",
      "           0       0.80      0.84      0.82       664\n",
      "           1       0.62      0.57      0.59       313\n",
      "\n",
      "    accuracy                           0.75       977\n",
      "   macro avg       0.71      0.70      0.71       977\n",
      "weighted avg       0.74      0.75      0.75       977\n",
      "\n"
     ]
    }
   ],
   "source": [
    "print(classification_report(test_y, prediction))"
   ]
  }
 ],
 "metadata": {
  "kernelspec": {
   "display_name": "Python 3",
   "language": "python",
   "name": "python3"
  },
  "language_info": {
   "codemirror_mode": {
    "name": "ipython",
    "version": 3
   },
   "file_extension": ".py",
   "mimetype": "text/x-python",
   "name": "python",
   "nbconvert_exporter": "python",
   "pygments_lexer": "ipython3",
   "version": "3.7.7"
  }
 },
 "nbformat": 4,
 "nbformat_minor": 4
}
