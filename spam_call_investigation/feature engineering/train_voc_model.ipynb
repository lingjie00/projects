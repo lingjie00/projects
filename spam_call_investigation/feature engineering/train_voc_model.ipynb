{
 "cells": [
  {
   "cell_type": "code",
   "execution_count": 1,
   "metadata": {},
   "outputs": [],
   "source": [
    "import numpy as np\n",
    "import pandas as pd\n",
    "\n",
    "from sklearn.model_selection import train_test_split\n",
    "from sklearn.preprocessing import StandardScaler, RobustScaler, MinMaxScaler\n",
    "from sklearn.experimental import enable_iterative_imputer\n",
    "from sklearn.impute import SimpleImputer, KNNImputer, IterativeImputer\n",
    "from sklearn.tree import DecisionTreeRegressor\n",
    "from sklearn.pipeline import Pipeline\n",
    "\n",
    "#baseline model\n",
    "from sklearn.model_selection import train_test_split, cross_val_score, GridSearchCV\n",
    "from sklearn.ensemble import RandomForestClassifier\n",
    "from sklearn.linear_model import LogisticRegression, RidgeClassifier\n",
    "from sklearn.metrics import f1_score, classification_report, confusion_matrix"
   ]
  },
  {
   "cell_type": "code",
   "execution_count": 2,
   "metadata": {},
   "outputs": [],
   "source": [
    "train_user = pd.read_csv('train/train_user.csv')[['phone_no_m','label']]"
   ]
  },
  {
   "cell_type": "code",
   "execution_count": 3,
   "metadata": {},
   "outputs": [],
   "source": [
    "train_voc_full = pd.read_csv('train/train_voc_cleaned.csv')"
   ]
  },
  {
   "cell_type": "code",
   "execution_count": 4,
   "metadata": {},
   "outputs": [],
   "source": [
    "train_voc_full = pd.merge(train_voc_full,train_user,on='phone_no_m',how='outer')"
   ]
  },
  {
   "cell_type": "code",
   "execution_count": 5,
   "metadata": {},
   "outputs": [],
   "source": [
    "train_x, test_x, train_y, test_y = train_test_split(train_voc_full.drop(['phone_no_m','label'],axis=1), \n",
    "                                                    train_voc_full['label'],\n",
    "                                                    random_state=0, stratify=train_voc_full['label'])"
   ]
  },
  {
   "cell_type": "code",
   "execution_count": 6,
   "metadata": {},
   "outputs": [
    {
     "name": "stdout",
     "output_type": "stream",
     "text": [
      "<class 'pandas.core.frame.DataFrame'>\n",
      "Int64Index: 3663 entries, 610 to 32\n",
      "Data columns (total 6 columns):\n",
      " #   Column                     Non-Null Count  Dtype  \n",
      "---  ------                     --------------  -----  \n",
      " 0   call_dur                   3613 non-null   float64\n",
      " 1   voc_opposite_no_m          3613 non-null   float64\n",
      " 2   voc_calltype_1             3613 non-null   float64\n",
      " 3   voc_calltype_2             3613 non-null   float64\n",
      " 4   voc_calltype_3             3613 non-null   float64\n",
      " 5   voc_receive_unique_county  3613 non-null   float64\n",
      "dtypes: float64(6)\n",
      "memory usage: 200.3 KB\n"
     ]
    }
   ],
   "source": [
    "train_x.info()"
   ]
  },
  {
   "cell_type": "code",
   "execution_count": 7,
   "metadata": {},
   "outputs": [
    {
     "data": {
      "text/html": [
       "<div>\n",
       "<style scoped>\n",
       "    .dataframe tbody tr th:only-of-type {\n",
       "        vertical-align: middle;\n",
       "    }\n",
       "\n",
       "    .dataframe tbody tr th {\n",
       "        vertical-align: top;\n",
       "    }\n",
       "\n",
       "    .dataframe thead th {\n",
       "        text-align: right;\n",
       "    }\n",
       "</style>\n",
       "<table border=\"1\" class=\"dataframe\">\n",
       "  <thead>\n",
       "    <tr style=\"text-align: right;\">\n",
       "      <th></th>\n",
       "      <th>call_dur</th>\n",
       "      <th>voc_opposite_no_m</th>\n",
       "      <th>voc_calltype_1</th>\n",
       "      <th>voc_calltype_2</th>\n",
       "      <th>voc_calltype_3</th>\n",
       "      <th>voc_receive_unique_county</th>\n",
       "    </tr>\n",
       "  </thead>\n",
       "  <tbody>\n",
       "    <tr>\n",
       "      <th>610</th>\n",
       "      <td>43.168067</td>\n",
       "      <td>15.0</td>\n",
       "      <td>0.235294</td>\n",
       "      <td>0.764706</td>\n",
       "      <td>0.0</td>\n",
       "      <td>2.0</td>\n",
       "    </tr>\n",
       "    <tr>\n",
       "      <th>1260</th>\n",
       "      <td>63.925532</td>\n",
       "      <td>76.0</td>\n",
       "      <td>0.978723</td>\n",
       "      <td>0.021277</td>\n",
       "      <td>0.0</td>\n",
       "      <td>0.0</td>\n",
       "    </tr>\n",
       "    <tr>\n",
       "      <th>3252</th>\n",
       "      <td>100.036364</td>\n",
       "      <td>109.0</td>\n",
       "      <td>0.990909</td>\n",
       "      <td>0.009091</td>\n",
       "      <td>0.0</td>\n",
       "      <td>4.0</td>\n",
       "    </tr>\n",
       "    <tr>\n",
       "      <th>3413</th>\n",
       "      <td>102.987871</td>\n",
       "      <td>274.0</td>\n",
       "      <td>0.322102</td>\n",
       "      <td>0.677898</td>\n",
       "      <td>0.0</td>\n",
       "      <td>11.0</td>\n",
       "    </tr>\n",
       "    <tr>\n",
       "      <th>601</th>\n",
       "      <td>100.127056</td>\n",
       "      <td>198.0</td>\n",
       "      <td>0.569484</td>\n",
       "      <td>0.430516</td>\n",
       "      <td>0.0</td>\n",
       "      <td>16.0</td>\n",
       "    </tr>\n",
       "  </tbody>\n",
       "</table>\n",
       "</div>"
      ],
      "text/plain": [
       "        call_dur  voc_opposite_no_m  voc_calltype_1  voc_calltype_2  \\\n",
       "610    43.168067               15.0        0.235294        0.764706   \n",
       "1260   63.925532               76.0        0.978723        0.021277   \n",
       "3252  100.036364              109.0        0.990909        0.009091   \n",
       "3413  102.987871              274.0        0.322102        0.677898   \n",
       "601   100.127056              198.0        0.569484        0.430516   \n",
       "\n",
       "      voc_calltype_3  voc_receive_unique_county  \n",
       "610              0.0                        2.0  \n",
       "1260             0.0                        0.0  \n",
       "3252             0.0                        4.0  \n",
       "3413             0.0                       11.0  \n",
       "601              0.0                       16.0  "
      ]
     },
     "execution_count": 7,
     "metadata": {},
     "output_type": "execute_result"
    }
   ],
   "source": [
    "train_x.head()"
   ]
  },
  {
   "cell_type": "code",
   "execution_count": 8,
   "metadata": {},
   "outputs": [
    {
     "data": {
      "text/html": [
       "<div>\n",
       "<style scoped>\n",
       "    .dataframe tbody tr th:only-of-type {\n",
       "        vertical-align: middle;\n",
       "    }\n",
       "\n",
       "    .dataframe tbody tr th {\n",
       "        vertical-align: top;\n",
       "    }\n",
       "\n",
       "    .dataframe thead th {\n",
       "        text-align: right;\n",
       "    }\n",
       "</style>\n",
       "<table border=\"1\" class=\"dataframe\">\n",
       "  <thead>\n",
       "    <tr style=\"text-align: right;\">\n",
       "      <th></th>\n",
       "      <th>count</th>\n",
       "      <th>mean</th>\n",
       "      <th>std</th>\n",
       "      <th>min</th>\n",
       "      <th>25%</th>\n",
       "      <th>50%</th>\n",
       "      <th>75%</th>\n",
       "      <th>max</th>\n",
       "    </tr>\n",
       "  </thead>\n",
       "  <tbody>\n",
       "    <tr>\n",
       "      <th>call_dur</th>\n",
       "      <td>3613.0</td>\n",
       "      <td>104.476081</td>\n",
       "      <td>88.923224</td>\n",
       "      <td>2.0</td>\n",
       "      <td>55.209209</td>\n",
       "      <td>80.502879</td>\n",
       "      <td>124.205882</td>\n",
       "      <td>1360.000000</td>\n",
       "    </tr>\n",
       "    <tr>\n",
       "      <th>voc_opposite_no_m</th>\n",
       "      <td>3613.0</td>\n",
       "      <td>234.257681</td>\n",
       "      <td>799.041788</td>\n",
       "      <td>1.0</td>\n",
       "      <td>32.000000</td>\n",
       "      <td>77.000000</td>\n",
       "      <td>182.000000</td>\n",
       "      <td>13746.000000</td>\n",
       "    </tr>\n",
       "    <tr>\n",
       "      <th>voc_calltype_1</th>\n",
       "      <td>3613.0</td>\n",
       "      <td>0.645566</td>\n",
       "      <td>0.275716</td>\n",
       "      <td>0.0</td>\n",
       "      <td>0.442029</td>\n",
       "      <td>0.592105</td>\n",
       "      <td>0.967480</td>\n",
       "      <td>1.000000</td>\n",
       "    </tr>\n",
       "    <tr>\n",
       "      <th>voc_calltype_2</th>\n",
       "      <td>3613.0</td>\n",
       "      <td>0.353311</td>\n",
       "      <td>0.275258</td>\n",
       "      <td>0.0</td>\n",
       "      <td>0.032258</td>\n",
       "      <td>0.407255</td>\n",
       "      <td>0.556838</td>\n",
       "      <td>1.000000</td>\n",
       "    </tr>\n",
       "    <tr>\n",
       "      <th>voc_calltype_3</th>\n",
       "      <td>3613.0</td>\n",
       "      <td>0.001123</td>\n",
       "      <td>0.013184</td>\n",
       "      <td>0.0</td>\n",
       "      <td>0.000000</td>\n",
       "      <td>0.000000</td>\n",
       "      <td>0.000000</td>\n",
       "      <td>0.476923</td>\n",
       "    </tr>\n",
       "    <tr>\n",
       "      <th>voc_receive_unique_county</th>\n",
       "      <td>3613.0</td>\n",
       "      <td>5.318018</td>\n",
       "      <td>6.566965</td>\n",
       "      <td>0.0</td>\n",
       "      <td>1.000000</td>\n",
       "      <td>3.000000</td>\n",
       "      <td>7.000000</td>\n",
       "      <td>61.000000</td>\n",
       "    </tr>\n",
       "  </tbody>\n",
       "</table>\n",
       "</div>"
      ],
      "text/plain": [
       "                            count        mean         std  min        25%  \\\n",
       "call_dur                   3613.0  104.476081   88.923224  2.0  55.209209   \n",
       "voc_opposite_no_m          3613.0  234.257681  799.041788  1.0  32.000000   \n",
       "voc_calltype_1             3613.0    0.645566    0.275716  0.0   0.442029   \n",
       "voc_calltype_2             3613.0    0.353311    0.275258  0.0   0.032258   \n",
       "voc_calltype_3             3613.0    0.001123    0.013184  0.0   0.000000   \n",
       "voc_receive_unique_county  3613.0    5.318018    6.566965  0.0   1.000000   \n",
       "\n",
       "                                 50%         75%           max  \n",
       "call_dur                   80.502879  124.205882   1360.000000  \n",
       "voc_opposite_no_m          77.000000  182.000000  13746.000000  \n",
       "voc_calltype_1              0.592105    0.967480      1.000000  \n",
       "voc_calltype_2              0.407255    0.556838      1.000000  \n",
       "voc_calltype_3              0.000000    0.000000      0.476923  \n",
       "voc_receive_unique_county   3.000000    7.000000     61.000000  "
      ]
     },
     "execution_count": 8,
     "metadata": {},
     "output_type": "execute_result"
    }
   ],
   "source": [
    "train_x.describe().T"
   ]
  },
  {
   "cell_type": "markdown",
   "metadata": {},
   "source": [
    "## Baseline score"
   ]
  },
  {
   "cell_type": "code",
   "execution_count": 9,
   "metadata": {},
   "outputs": [],
   "source": [
    "scalers = [StandardScaler(), RobustScaler(), MinMaxScaler()]"
   ]
  },
  {
   "cell_type": "code",
   "execution_count": 10,
   "metadata": {},
   "outputs": [],
   "source": [
    "imputers = [SimpleImputer(strategy='mean'), KNNImputer(), SimpleImputer(strategy='median'),\n",
    "           IterativeImputer(random_state=0,estimator=DecisionTreeRegressor(max_features='sqrt',random_state=0))]"
   ]
  },
  {
   "cell_type": "code",
   "execution_count": 11,
   "metadata": {},
   "outputs": [],
   "source": [
    "preprocess = Pipeline([('scale',scalers[0]),('impute',imputers[0])])"
   ]
  },
  {
   "cell_type": "code",
   "execution_count": 12,
   "metadata": {},
   "outputs": [],
   "source": [
    "models = [RandomForestClassifier(n_jobs=-1,random_state=0),\n",
    "         LogisticRegression(n_jobs=-1,random_state=0),\n",
    "         RidgeClassifier(random_state=0)]"
   ]
  },
  {
   "cell_type": "code",
   "execution_count": 48,
   "metadata": {},
   "outputs": [],
   "source": [
    "model_pipeline = Pipeline([('preprocess',preprocess),('model',models[1])])"
   ]
  },
  {
   "cell_type": "code",
   "execution_count": 49,
   "metadata": {},
   "outputs": [
    {
     "data": {
      "text/plain": [
       "0.7881887106438912"
      ]
     },
     "execution_count": 49,
     "metadata": {},
     "output_type": "execute_result"
    }
   ],
   "source": [
    "#baseline score\n",
    "cross_val_score(model_pipeline, train_x, train_y, n_jobs=-1, cv=4, scoring='f1_macro').mean()"
   ]
  },
  {
   "cell_type": "markdown",
   "metadata": {},
   "source": [
    "## Best combination"
   ]
  },
  {
   "cell_type": "code",
   "execution_count": 17,
   "metadata": {},
   "outputs": [],
   "source": [
    "#model_pipe.get_params()"
   ]
  },
  {
   "cell_type": "code",
   "execution_count": 57,
   "metadata": {},
   "outputs": [],
   "source": [
    "params = dict(preprocess__scale=scalers, preprocess__impute=imputers, model=models)"
   ]
  },
  {
   "cell_type": "code",
   "execution_count": 51,
   "metadata": {},
   "outputs": [],
   "source": [
    "#to compare with base model\n",
    "# params = dict(preprocess__scale=scalers, preprocess__impute=imputers)"
   ]
  },
  {
   "cell_type": "code",
   "execution_count": 58,
   "metadata": {},
   "outputs": [],
   "source": [
    "combi_search = GridSearchCV(model_pipeline,params,scoring='f1_macro',cv=5,n_jobs=-1,verbose=1)"
   ]
  },
  {
   "cell_type": "code",
   "execution_count": 59,
   "metadata": {},
   "outputs": [
    {
     "name": "stdout",
     "output_type": "stream",
     "text": [
      "Fitting 5 folds for each of 36 candidates, totalling 180 fits\n"
     ]
    },
    {
     "name": "stderr",
     "output_type": "stream",
     "text": [
      "[Parallel(n_jobs=-1)]: Using backend LokyBackend with 8 concurrent workers.\n",
      "[Parallel(n_jobs=-1)]: Done  34 tasks      | elapsed:    3.7s\n",
      "[Parallel(n_jobs=-1)]: Done 165 out of 180 | elapsed:    8.2s remaining:    0.7s\n",
      "[Parallel(n_jobs=-1)]: Done 180 out of 180 | elapsed:    8.8s finished\n"
     ]
    }
   ],
   "source": [
    "combi_search.fit(train_x,train_y);"
   ]
  },
  {
   "cell_type": "code",
   "execution_count": 42,
   "metadata": {},
   "outputs": [],
   "source": [
    "results = pd.DataFrame(combi_search.cv_results_).sort_values(by='rank_test_score')"
   ]
  },
  {
   "cell_type": "code",
   "execution_count": 43,
   "metadata": {},
   "outputs": [
    {
     "data": {
      "text/html": [
       "<div>\n",
       "<style scoped>\n",
       "    .dataframe tbody tr th:only-of-type {\n",
       "        vertical-align: middle;\n",
       "    }\n",
       "\n",
       "    .dataframe tbody tr th {\n",
       "        vertical-align: top;\n",
       "    }\n",
       "\n",
       "    .dataframe thead th {\n",
       "        text-align: right;\n",
       "    }\n",
       "</style>\n",
       "<table border=\"1\" class=\"dataframe\">\n",
       "  <thead>\n",
       "    <tr style=\"text-align: right;\">\n",
       "      <th></th>\n",
       "      <th>mean_fit_time</th>\n",
       "      <th>std_fit_time</th>\n",
       "      <th>mean_score_time</th>\n",
       "      <th>std_score_time</th>\n",
       "      <th>param_model</th>\n",
       "      <th>param_preprocess__impute</th>\n",
       "      <th>param_preprocess__scale</th>\n",
       "      <th>params</th>\n",
       "      <th>split0_test_score</th>\n",
       "      <th>split1_test_score</th>\n",
       "      <th>split2_test_score</th>\n",
       "      <th>split3_test_score</th>\n",
       "      <th>split4_test_score</th>\n",
       "      <th>mean_test_score</th>\n",
       "      <th>std_test_score</th>\n",
       "      <th>rank_test_score</th>\n",
       "    </tr>\n",
       "  </thead>\n",
       "  <tbody>\n",
       "    <tr>\n",
       "      <th>10</th>\n",
       "      <td>1.053278</td>\n",
       "      <td>0.392209</td>\n",
       "      <td>0.119317</td>\n",
       "      <td>0.004383</td>\n",
       "      <td>RandomForestClassifier(n_jobs=-1, random_state=0)</td>\n",
       "      <td>IterativeImputer(estimator=DecisionTreeRegress...</td>\n",
       "      <td>RobustScaler()</td>\n",
       "      <td>{'model': RandomForestClassifier(n_jobs=-1, ra...</td>\n",
       "      <td>0.839293</td>\n",
       "      <td>0.827314</td>\n",
       "      <td>0.848002</td>\n",
       "      <td>0.828661</td>\n",
       "      <td>0.854324</td>\n",
       "      <td>0.839519</td>\n",
       "      <td>0.010565</td>\n",
       "      <td>1</td>\n",
       "    </tr>\n",
       "    <tr>\n",
       "      <th>6</th>\n",
       "      <td>0.648087</td>\n",
       "      <td>0.008259</td>\n",
       "      <td>0.193847</td>\n",
       "      <td>0.016094</td>\n",
       "      <td>RandomForestClassifier(n_jobs=-1, random_state=0)</td>\n",
       "      <td>SimpleImputer(strategy='median')</td>\n",
       "      <td>StandardScaler()</td>\n",
       "      <td>{'model': RandomForestClassifier(n_jobs=-1, ra...</td>\n",
       "      <td>0.839293</td>\n",
       "      <td>0.823928</td>\n",
       "      <td>0.846571</td>\n",
       "      <td>0.823307</td>\n",
       "      <td>0.856179</td>\n",
       "      <td>0.837855</td>\n",
       "      <td>0.012801</td>\n",
       "      <td>2</td>\n",
       "    </tr>\n",
       "    <tr>\n",
       "      <th>8</th>\n",
       "      <td>0.573837</td>\n",
       "      <td>0.029793</td>\n",
       "      <td>0.110426</td>\n",
       "      <td>0.003303</td>\n",
       "      <td>RandomForestClassifier(n_jobs=-1, random_state=0)</td>\n",
       "      <td>SimpleImputer(strategy='median')</td>\n",
       "      <td>MinMaxScaler()</td>\n",
       "      <td>{'model': RandomForestClassifier(n_jobs=-1, ra...</td>\n",
       "      <td>0.839293</td>\n",
       "      <td>0.823928</td>\n",
       "      <td>0.846571</td>\n",
       "      <td>0.824742</td>\n",
       "      <td>0.854725</td>\n",
       "      <td>0.837852</td>\n",
       "      <td>0.012071</td>\n",
       "      <td>3</td>\n",
       "    </tr>\n",
       "    <tr>\n",
       "      <th>7</th>\n",
       "      <td>0.597575</td>\n",
       "      <td>0.094106</td>\n",
       "      <td>0.142035</td>\n",
       "      <td>0.059319</td>\n",
       "      <td>RandomForestClassifier(n_jobs=-1, random_state=0)</td>\n",
       "      <td>SimpleImputer(strategy='median')</td>\n",
       "      <td>RobustScaler()</td>\n",
       "      <td>{'model': RandomForestClassifier(n_jobs=-1, ra...</td>\n",
       "      <td>0.839293</td>\n",
       "      <td>0.822500</td>\n",
       "      <td>0.845143</td>\n",
       "      <td>0.825268</td>\n",
       "      <td>0.856179</td>\n",
       "      <td>0.837676</td>\n",
       "      <td>0.012530</td>\n",
       "      <td>4</td>\n",
       "    </tr>\n",
       "    <tr>\n",
       "      <th>11</th>\n",
       "      <td>1.055159</td>\n",
       "      <td>0.261524</td>\n",
       "      <td>0.121330</td>\n",
       "      <td>0.006833</td>\n",
       "      <td>RandomForestClassifier(n_jobs=-1, random_state=0)</td>\n",
       "      <td>IterativeImputer(estimator=DecisionTreeRegress...</td>\n",
       "      <td>MinMaxScaler()</td>\n",
       "      <td>{'model': RandomForestClassifier(n_jobs=-1, ra...</td>\n",
       "      <td>0.836882</td>\n",
       "      <td>0.822500</td>\n",
       "      <td>0.845548</td>\n",
       "      <td>0.823835</td>\n",
       "      <td>0.857635</td>\n",
       "      <td>0.837280</td>\n",
       "      <td>0.013282</td>\n",
       "      <td>5</td>\n",
       "    </tr>\n",
       "  </tbody>\n",
       "</table>\n",
       "</div>"
      ],
      "text/plain": [
       "    mean_fit_time  std_fit_time  mean_score_time  std_score_time  \\\n",
       "10       1.053278      0.392209         0.119317        0.004383   \n",
       "6        0.648087      0.008259         0.193847        0.016094   \n",
       "8        0.573837      0.029793         0.110426        0.003303   \n",
       "7        0.597575      0.094106         0.142035        0.059319   \n",
       "11       1.055159      0.261524         0.121330        0.006833   \n",
       "\n",
       "                                          param_model  \\\n",
       "10  RandomForestClassifier(n_jobs=-1, random_state=0)   \n",
       "6   RandomForestClassifier(n_jobs=-1, random_state=0)   \n",
       "8   RandomForestClassifier(n_jobs=-1, random_state=0)   \n",
       "7   RandomForestClassifier(n_jobs=-1, random_state=0)   \n",
       "11  RandomForestClassifier(n_jobs=-1, random_state=0)   \n",
       "\n",
       "                             param_preprocess__impute param_preprocess__scale  \\\n",
       "10  IterativeImputer(estimator=DecisionTreeRegress...          RobustScaler()   \n",
       "6                    SimpleImputer(strategy='median')        StandardScaler()   \n",
       "8                    SimpleImputer(strategy='median')          MinMaxScaler()   \n",
       "7                    SimpleImputer(strategy='median')          RobustScaler()   \n",
       "11  IterativeImputer(estimator=DecisionTreeRegress...          MinMaxScaler()   \n",
       "\n",
       "                                               params  split0_test_score  \\\n",
       "10  {'model': RandomForestClassifier(n_jobs=-1, ra...           0.839293   \n",
       "6   {'model': RandomForestClassifier(n_jobs=-1, ra...           0.839293   \n",
       "8   {'model': RandomForestClassifier(n_jobs=-1, ra...           0.839293   \n",
       "7   {'model': RandomForestClassifier(n_jobs=-1, ra...           0.839293   \n",
       "11  {'model': RandomForestClassifier(n_jobs=-1, ra...           0.836882   \n",
       "\n",
       "    split1_test_score  split2_test_score  split3_test_score  \\\n",
       "10           0.827314           0.848002           0.828661   \n",
       "6            0.823928           0.846571           0.823307   \n",
       "8            0.823928           0.846571           0.824742   \n",
       "7            0.822500           0.845143           0.825268   \n",
       "11           0.822500           0.845548           0.823835   \n",
       "\n",
       "    split4_test_score  mean_test_score  std_test_score  rank_test_score  \n",
       "10           0.854324         0.839519        0.010565                1  \n",
       "6            0.856179         0.837855        0.012801                2  \n",
       "8            0.854725         0.837852        0.012071                3  \n",
       "7            0.856179         0.837676        0.012530                4  \n",
       "11           0.857635         0.837280        0.013282                5  "
      ]
     },
     "execution_count": 43,
     "metadata": {},
     "output_type": "execute_result"
    }
   ],
   "source": [
    "results[results['param_model'] == results['param_model'].unique()[0]].sort_values('rank_test_score').head()"
   ]
  },
  {
   "cell_type": "code",
   "execution_count": 44,
   "metadata": {},
   "outputs": [
    {
     "data": {
      "text/html": [
       "<div>\n",
       "<style scoped>\n",
       "    .dataframe tbody tr th:only-of-type {\n",
       "        vertical-align: middle;\n",
       "    }\n",
       "\n",
       "    .dataframe tbody tr th {\n",
       "        vertical-align: top;\n",
       "    }\n",
       "\n",
       "    .dataframe thead th {\n",
       "        text-align: right;\n",
       "    }\n",
       "</style>\n",
       "<table border=\"1\" class=\"dataframe\">\n",
       "  <thead>\n",
       "    <tr style=\"text-align: right;\">\n",
       "      <th></th>\n",
       "      <th>mean_fit_time</th>\n",
       "      <th>std_fit_time</th>\n",
       "      <th>mean_score_time</th>\n",
       "      <th>std_score_time</th>\n",
       "      <th>param_model</th>\n",
       "      <th>param_preprocess__impute</th>\n",
       "      <th>param_preprocess__scale</th>\n",
       "      <th>params</th>\n",
       "      <th>split0_test_score</th>\n",
       "      <th>split1_test_score</th>\n",
       "      <th>split2_test_score</th>\n",
       "      <th>split3_test_score</th>\n",
       "      <th>split4_test_score</th>\n",
       "      <th>mean_test_score</th>\n",
       "      <th>std_test_score</th>\n",
       "      <th>rank_test_score</th>\n",
       "    </tr>\n",
       "  </thead>\n",
       "  <tbody>\n",
       "    <tr>\n",
       "      <th>19</th>\n",
       "      <td>0.115600</td>\n",
       "      <td>0.003081</td>\n",
       "      <td>0.003093</td>\n",
       "      <td>0.000069</td>\n",
       "      <td>LogisticRegression(n_jobs=-1, random_state=0)</td>\n",
       "      <td>SimpleImputer(strategy='median')</td>\n",
       "      <td>RobustScaler()</td>\n",
       "      <td>{'model': LogisticRegression(n_jobs=-1, random...</td>\n",
       "      <td>0.777134</td>\n",
       "      <td>0.805832</td>\n",
       "      <td>0.780367</td>\n",
       "      <td>0.795947</td>\n",
       "      <td>0.807115</td>\n",
       "      <td>0.793279</td>\n",
       "      <td>0.012518</td>\n",
       "      <td>13</td>\n",
       "    </tr>\n",
       "    <tr>\n",
       "      <th>13</th>\n",
       "      <td>0.129317</td>\n",
       "      <td>0.009933</td>\n",
       "      <td>0.026999</td>\n",
       "      <td>0.020058</td>\n",
       "      <td>LogisticRegression(n_jobs=-1, random_state=0)</td>\n",
       "      <td>SimpleImputer()</td>\n",
       "      <td>RobustScaler()</td>\n",
       "      <td>{'model': LogisticRegression(n_jobs=-1, random...</td>\n",
       "      <td>0.775830</td>\n",
       "      <td>0.803023</td>\n",
       "      <td>0.780628</td>\n",
       "      <td>0.794732</td>\n",
       "      <td>0.806585</td>\n",
       "      <td>0.792160</td>\n",
       "      <td>0.012103</td>\n",
       "      <td>14</td>\n",
       "    </tr>\n",
       "    <tr>\n",
       "      <th>16</th>\n",
       "      <td>0.129478</td>\n",
       "      <td>0.002664</td>\n",
       "      <td>0.011666</td>\n",
       "      <td>0.003921</td>\n",
       "      <td>LogisticRegression(n_jobs=-1, random_state=0)</td>\n",
       "      <td>KNNImputer()</td>\n",
       "      <td>RobustScaler()</td>\n",
       "      <td>{'model': LogisticRegression(n_jobs=-1, random...</td>\n",
       "      <td>0.775830</td>\n",
       "      <td>0.803023</td>\n",
       "      <td>0.780628</td>\n",
       "      <td>0.794732</td>\n",
       "      <td>0.806585</td>\n",
       "      <td>0.792160</td>\n",
       "      <td>0.012103</td>\n",
       "      <td>14</td>\n",
       "    </tr>\n",
       "    <tr>\n",
       "      <th>22</th>\n",
       "      <td>0.365264</td>\n",
       "      <td>0.147307</td>\n",
       "      <td>0.010979</td>\n",
       "      <td>0.004606</td>\n",
       "      <td>LogisticRegression(n_jobs=-1, random_state=0)</td>\n",
       "      <td>IterativeImputer(estimator=DecisionTreeRegress...</td>\n",
       "      <td>RobustScaler()</td>\n",
       "      <td>{'model': LogisticRegression(n_jobs=-1, random...</td>\n",
       "      <td>0.775133</td>\n",
       "      <td>0.803612</td>\n",
       "      <td>0.770594</td>\n",
       "      <td>0.800712</td>\n",
       "      <td>0.809891</td>\n",
       "      <td>0.791989</td>\n",
       "      <td>0.015960</td>\n",
       "      <td>16</td>\n",
       "    </tr>\n",
       "    <tr>\n",
       "      <th>15</th>\n",
       "      <td>0.117876</td>\n",
       "      <td>0.001923</td>\n",
       "      <td>0.012848</td>\n",
       "      <td>0.001714</td>\n",
       "      <td>LogisticRegression(n_jobs=-1, random_state=0)</td>\n",
       "      <td>KNNImputer()</td>\n",
       "      <td>StandardScaler()</td>\n",
       "      <td>{'model': LogisticRegression(n_jobs=-1, random...</td>\n",
       "      <td>0.774476</td>\n",
       "      <td>0.804426</td>\n",
       "      <td>0.777970</td>\n",
       "      <td>0.791801</td>\n",
       "      <td>0.805731</td>\n",
       "      <td>0.790881</td>\n",
       "      <td>0.012966</td>\n",
       "      <td>17</td>\n",
       "    </tr>\n",
       "  </tbody>\n",
       "</table>\n",
       "</div>"
      ],
      "text/plain": [
       "    mean_fit_time  std_fit_time  mean_score_time  std_score_time  \\\n",
       "19       0.115600      0.003081         0.003093        0.000069   \n",
       "13       0.129317      0.009933         0.026999        0.020058   \n",
       "16       0.129478      0.002664         0.011666        0.003921   \n",
       "22       0.365264      0.147307         0.010979        0.004606   \n",
       "15       0.117876      0.001923         0.012848        0.001714   \n",
       "\n",
       "                                      param_model  \\\n",
       "19  LogisticRegression(n_jobs=-1, random_state=0)   \n",
       "13  LogisticRegression(n_jobs=-1, random_state=0)   \n",
       "16  LogisticRegression(n_jobs=-1, random_state=0)   \n",
       "22  LogisticRegression(n_jobs=-1, random_state=0)   \n",
       "15  LogisticRegression(n_jobs=-1, random_state=0)   \n",
       "\n",
       "                             param_preprocess__impute param_preprocess__scale  \\\n",
       "19                   SimpleImputer(strategy='median')          RobustScaler()   \n",
       "13                                    SimpleImputer()          RobustScaler()   \n",
       "16                                       KNNImputer()          RobustScaler()   \n",
       "22  IterativeImputer(estimator=DecisionTreeRegress...          RobustScaler()   \n",
       "15                                       KNNImputer()        StandardScaler()   \n",
       "\n",
       "                                               params  split0_test_score  \\\n",
       "19  {'model': LogisticRegression(n_jobs=-1, random...           0.777134   \n",
       "13  {'model': LogisticRegression(n_jobs=-1, random...           0.775830   \n",
       "16  {'model': LogisticRegression(n_jobs=-1, random...           0.775830   \n",
       "22  {'model': LogisticRegression(n_jobs=-1, random...           0.775133   \n",
       "15  {'model': LogisticRegression(n_jobs=-1, random...           0.774476   \n",
       "\n",
       "    split1_test_score  split2_test_score  split3_test_score  \\\n",
       "19           0.805832           0.780367           0.795947   \n",
       "13           0.803023           0.780628           0.794732   \n",
       "16           0.803023           0.780628           0.794732   \n",
       "22           0.803612           0.770594           0.800712   \n",
       "15           0.804426           0.777970           0.791801   \n",
       "\n",
       "    split4_test_score  mean_test_score  std_test_score  rank_test_score  \n",
       "19           0.807115         0.793279        0.012518               13  \n",
       "13           0.806585         0.792160        0.012103               14  \n",
       "16           0.806585         0.792160        0.012103               14  \n",
       "22           0.809891         0.791989        0.015960               16  \n",
       "15           0.805731         0.790881        0.012966               17  "
      ]
     },
     "execution_count": 44,
     "metadata": {},
     "output_type": "execute_result"
    }
   ],
   "source": [
    "results[results['param_model'] == results['param_model'].unique()[1]].sort_values('rank_test_score').head()"
   ]
  },
  {
   "cell_type": "code",
   "execution_count": 45,
   "metadata": {},
   "outputs": [
    {
     "data": {
      "text/html": [
       "<div>\n",
       "<style scoped>\n",
       "    .dataframe tbody tr th:only-of-type {\n",
       "        vertical-align: middle;\n",
       "    }\n",
       "\n",
       "    .dataframe tbody tr th {\n",
       "        vertical-align: top;\n",
       "    }\n",
       "\n",
       "    .dataframe thead th {\n",
       "        text-align: right;\n",
       "    }\n",
       "</style>\n",
       "<table border=\"1\" class=\"dataframe\">\n",
       "  <thead>\n",
       "    <tr style=\"text-align: right;\">\n",
       "      <th></th>\n",
       "      <th>mean_fit_time</th>\n",
       "      <th>std_fit_time</th>\n",
       "      <th>mean_score_time</th>\n",
       "      <th>std_score_time</th>\n",
       "      <th>param_model</th>\n",
       "      <th>param_preprocess__impute</th>\n",
       "      <th>param_preprocess__scale</th>\n",
       "      <th>params</th>\n",
       "      <th>split0_test_score</th>\n",
       "      <th>split1_test_score</th>\n",
       "      <th>split2_test_score</th>\n",
       "      <th>split3_test_score</th>\n",
       "      <th>split4_test_score</th>\n",
       "      <th>mean_test_score</th>\n",
       "      <th>std_test_score</th>\n",
       "      <th>rank_test_score</th>\n",
       "    </tr>\n",
       "  </thead>\n",
       "  <tbody>\n",
       "    <tr>\n",
       "      <th>31</th>\n",
       "      <td>0.018946</td>\n",
       "      <td>0.003686</td>\n",
       "      <td>0.005624</td>\n",
       "      <td>0.001129</td>\n",
       "      <td>RidgeClassifier(random_state=0)</td>\n",
       "      <td>SimpleImputer(strategy='median')</td>\n",
       "      <td>RobustScaler()</td>\n",
       "      <td>{'model': RidgeClassifier(random_state=0), 'pr...</td>\n",
       "      <td>0.757075</td>\n",
       "      <td>0.759003</td>\n",
       "      <td>0.748123</td>\n",
       "      <td>0.748381</td>\n",
       "      <td>0.790289</td>\n",
       "      <td>0.760574</td>\n",
       "      <td>0.015501</td>\n",
       "      <td>21</td>\n",
       "    </tr>\n",
       "    <tr>\n",
       "      <th>34</th>\n",
       "      <td>0.276534</td>\n",
       "      <td>0.128606</td>\n",
       "      <td>0.010448</td>\n",
       "      <td>0.001683</td>\n",
       "      <td>RidgeClassifier(random_state=0)</td>\n",
       "      <td>IterativeImputer(estimator=DecisionTreeRegress...</td>\n",
       "      <td>RobustScaler()</td>\n",
       "      <td>{'model': RidgeClassifier(random_state=0), 'pr...</td>\n",
       "      <td>0.755769</td>\n",
       "      <td>0.759003</td>\n",
       "      <td>0.746326</td>\n",
       "      <td>0.748381</td>\n",
       "      <td>0.790289</td>\n",
       "      <td>0.759954</td>\n",
       "      <td>0.015864</td>\n",
       "      <td>23</td>\n",
       "    </tr>\n",
       "    <tr>\n",
       "      <th>25</th>\n",
       "      <td>0.012558</td>\n",
       "      <td>0.001458</td>\n",
       "      <td>0.004485</td>\n",
       "      <td>0.000121</td>\n",
       "      <td>RidgeClassifier(random_state=0)</td>\n",
       "      <td>SimpleImputer()</td>\n",
       "      <td>RobustScaler()</td>\n",
       "      <td>{'model': RidgeClassifier(random_state=0), 'pr...</td>\n",
       "      <td>0.755769</td>\n",
       "      <td>0.755140</td>\n",
       "      <td>0.748123</td>\n",
       "      <td>0.750273</td>\n",
       "      <td>0.788951</td>\n",
       "      <td>0.759651</td>\n",
       "      <td>0.014931</td>\n",
       "      <td>24</td>\n",
       "    </tr>\n",
       "    <tr>\n",
       "      <th>28</th>\n",
       "      <td>0.025776</td>\n",
       "      <td>0.000967</td>\n",
       "      <td>0.008997</td>\n",
       "      <td>0.000703</td>\n",
       "      <td>RidgeClassifier(random_state=0)</td>\n",
       "      <td>KNNImputer()</td>\n",
       "      <td>RobustScaler()</td>\n",
       "      <td>{'model': RidgeClassifier(random_state=0), 'pr...</td>\n",
       "      <td>0.755769</td>\n",
       "      <td>0.755140</td>\n",
       "      <td>0.748123</td>\n",
       "      <td>0.750273</td>\n",
       "      <td>0.788951</td>\n",
       "      <td>0.759651</td>\n",
       "      <td>0.014931</td>\n",
       "      <td>24</td>\n",
       "    </tr>\n",
       "    <tr>\n",
       "      <th>26</th>\n",
       "      <td>0.012185</td>\n",
       "      <td>0.001014</td>\n",
       "      <td>0.005058</td>\n",
       "      <td>0.000345</td>\n",
       "      <td>RidgeClassifier(random_state=0)</td>\n",
       "      <td>SimpleImputer()</td>\n",
       "      <td>MinMaxScaler()</td>\n",
       "      <td>{'model': RidgeClassifier(random_state=0), 'pr...</td>\n",
       "      <td>0.759617</td>\n",
       "      <td>0.760314</td>\n",
       "      <td>0.746326</td>\n",
       "      <td>0.743911</td>\n",
       "      <td>0.787615</td>\n",
       "      <td>0.759556</td>\n",
       "      <td>0.015541</td>\n",
       "      <td>26</td>\n",
       "    </tr>\n",
       "  </tbody>\n",
       "</table>\n",
       "</div>"
      ],
      "text/plain": [
       "    mean_fit_time  std_fit_time  mean_score_time  std_score_time  \\\n",
       "31       0.018946      0.003686         0.005624        0.001129   \n",
       "34       0.276534      0.128606         0.010448        0.001683   \n",
       "25       0.012558      0.001458         0.004485        0.000121   \n",
       "28       0.025776      0.000967         0.008997        0.000703   \n",
       "26       0.012185      0.001014         0.005058        0.000345   \n",
       "\n",
       "                        param_model  \\\n",
       "31  RidgeClassifier(random_state=0)   \n",
       "34  RidgeClassifier(random_state=0)   \n",
       "25  RidgeClassifier(random_state=0)   \n",
       "28  RidgeClassifier(random_state=0)   \n",
       "26  RidgeClassifier(random_state=0)   \n",
       "\n",
       "                             param_preprocess__impute param_preprocess__scale  \\\n",
       "31                   SimpleImputer(strategy='median')          RobustScaler()   \n",
       "34  IterativeImputer(estimator=DecisionTreeRegress...          RobustScaler()   \n",
       "25                                    SimpleImputer()          RobustScaler()   \n",
       "28                                       KNNImputer()          RobustScaler()   \n",
       "26                                    SimpleImputer()          MinMaxScaler()   \n",
       "\n",
       "                                               params  split0_test_score  \\\n",
       "31  {'model': RidgeClassifier(random_state=0), 'pr...           0.757075   \n",
       "34  {'model': RidgeClassifier(random_state=0), 'pr...           0.755769   \n",
       "25  {'model': RidgeClassifier(random_state=0), 'pr...           0.755769   \n",
       "28  {'model': RidgeClassifier(random_state=0), 'pr...           0.755769   \n",
       "26  {'model': RidgeClassifier(random_state=0), 'pr...           0.759617   \n",
       "\n",
       "    split1_test_score  split2_test_score  split3_test_score  \\\n",
       "31           0.759003           0.748123           0.748381   \n",
       "34           0.759003           0.746326           0.748381   \n",
       "25           0.755140           0.748123           0.750273   \n",
       "28           0.755140           0.748123           0.750273   \n",
       "26           0.760314           0.746326           0.743911   \n",
       "\n",
       "    split4_test_score  mean_test_score  std_test_score  rank_test_score  \n",
       "31           0.790289         0.760574        0.015501               21  \n",
       "34           0.790289         0.759954        0.015864               23  \n",
       "25           0.788951         0.759651        0.014931               24  \n",
       "28           0.788951         0.759651        0.014931               24  \n",
       "26           0.787615         0.759556        0.015541               26  "
      ]
     },
     "execution_count": 45,
     "metadata": {},
     "output_type": "execute_result"
    }
   ],
   "source": [
    "results[results['param_model'] == results['param_model'].unique()[2]].sort_values('rank_test_score').head()"
   ]
  },
  {
   "cell_type": "markdown",
   "metadata": {},
   "source": [
    "## Best way to handle train_voc_cleaned"
   ]
  },
  {
   "cell_type": "markdown",
   "metadata": {},
   "source": [
    "scaler:\n",
    "\n",
    "- robust scale → confirm\n",
    "\n",
    "imputer:\n",
    "\n",
    "- median or decision tree model → uncertain"
   ]
  },
  {
   "cell_type": "code",
   "execution_count": 54,
   "metadata": {},
   "outputs": [],
   "source": [
    "best_model = combi_search.best_estimator_"
   ]
  },
  {
   "cell_type": "code",
   "execution_count": 55,
   "metadata": {},
   "outputs": [
    {
     "data": {
      "text/plain": [
       "0.7914336263088502"
      ]
     },
     "execution_count": 55,
     "metadata": {},
     "output_type": "execute_result"
    }
   ],
   "source": [
    "#baseline score: 0.7881887106438912\n",
    "cross_val_score(best_model, train_x, train_y, n_jobs=-1, cv=4, scoring='f1_macro').mean()"
   ]
  },
  {
   "cell_type": "code",
   "execution_count": 56,
   "metadata": {},
   "outputs": [
    {
     "name": "stdout",
     "output_type": "stream",
     "text": [
      "0.0032449156649589916\n",
      "0.4116927356531329\n"
     ]
    }
   ],
   "source": [
    "#when comparing with log model\n",
    "print(0.7914336263088502 - 0.7881887106438912) #improve score by 0.003\n",
    "print((0.7914336263088502 - 0.7881887106438912)/0.7881887106438912 * 100) #or 0.412% improvement"
   ]
  },
  {
   "cell_type": "code",
   "execution_count": 50,
   "metadata": {},
   "outputs": [
    {
     "name": "stdout",
     "output_type": "stream",
     "text": [
      "0.049945998670412606\n",
      "6.336807162539852\n"
     ]
    }
   ],
   "source": [
    "#when comparing with best model\n",
    "print(0.8381347093143038 - 0.7881887106438912) #improve score by 0.05\n",
    "print((0.8381347093143038 - 0.7881887106438912)/0.7881887106438912 * 100) #or 6.34% improvement"
   ]
  },
  {
   "cell_type": "markdown",
   "metadata": {},
   "source": [
    "# Final result"
   ]
  },
  {
   "cell_type": "markdown",
   "metadata": {},
   "source": [
    "We will now use our validation set to estimate our model's performance in the real world.\\\n",
    "We will not make any changes to our model after this stage to avoid data leakage"
   ]
  },
  {
   "cell_type": "code",
   "execution_count": 60,
   "metadata": {},
   "outputs": [],
   "source": [
    "prediction = best_model.predict(test_x)"
   ]
  },
  {
   "cell_type": "code",
   "execution_count": 61,
   "metadata": {},
   "outputs": [
    {
     "data": {
      "text/plain": [
       "0.80322480067703"
      ]
     },
     "execution_count": 61,
     "metadata": {},
     "output_type": "execute_result"
    }
   ],
   "source": [
    "f1_score(test_y, prediction, average='macro')"
   ]
  },
  {
   "cell_type": "code",
   "execution_count": 62,
   "metadata": {},
   "outputs": [
    {
     "data": {
      "text/plain": [
       "array([[764,  66],\n",
       "       [133, 258]])"
      ]
     },
     "execution_count": 62,
     "metadata": {},
     "output_type": "execute_result"
    }
   ],
   "source": [
    "confusion_matrix(test_y, prediction)"
   ]
  },
  {
   "cell_type": "code",
   "execution_count": 63,
   "metadata": {},
   "outputs": [
    {
     "name": "stdout",
     "output_type": "stream",
     "text": [
      "              precision    recall  f1-score   support\n",
      "\n",
      "           0       0.85      0.92      0.88       830\n",
      "           1       0.80      0.66      0.72       391\n",
      "\n",
      "    accuracy                           0.84      1221\n",
      "   macro avg       0.82      0.79      0.80      1221\n",
      "weighted avg       0.83      0.84      0.83      1221\n",
      "\n"
     ]
    }
   ],
   "source": [
    "print(classification_report(test_y, prediction))"
   ]
  }
 ],
 "metadata": {
  "kernelspec": {
   "display_name": "Python 3",
   "language": "python",
   "name": "python3"
  },
  "language_info": {
   "codemirror_mode": {
    "name": "ipython",
    "version": 3
   },
   "file_extension": ".py",
   "mimetype": "text/x-python",
   "name": "python",
   "nbconvert_exporter": "python",
   "pygments_lexer": "ipython3",
   "version": "3.7.7"
  }
 },
 "nbformat": 4,
 "nbformat_minor": 4
}
