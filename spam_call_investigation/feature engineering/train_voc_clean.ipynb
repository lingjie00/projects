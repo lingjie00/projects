{
 "cells": [
  {
   "cell_type": "code",
   "execution_count": 1,
   "metadata": {},
   "outputs": [],
   "source": [
    "import pandas as pd\n",
    "import numpy as np"
   ]
  },
  {
   "cell_type": "code",
   "execution_count": 2,
   "metadata": {},
   "outputs": [
    {
     "name": "stderr",
     "output_type": "stream",
     "text": [
      "/Users/lingjie/opt/anaconda3/lib/python3.7/site-packages/IPython/core/interactiveshell.py:3063: DtypeWarning: Columns (5,6) have mixed types.Specify dtype option on import or set low_memory=False.\n",
      "  interactivity=interactivity, compiler=compiler, result=result)\n"
     ]
    }
   ],
   "source": [
    "train_voc_full = pd.read_csv('train/train_voc.csv')"
   ]
  },
  {
   "cell_type": "code",
   "execution_count": 4,
   "metadata": {},
   "outputs": [],
   "source": [
    "train_voc_full = pd.merge(train_voc_full, train_user, on='phone_no_m', how='inner')"
   ]
  },
  {
   "cell_type": "code",
   "execution_count": 5,
   "metadata": {},
   "outputs": [],
   "source": [
    "train_voc_full['start_datetime'] = pd.to_datetime(train_voc_full['start_datetime'])"
   ]
  },
  {
   "cell_type": "code",
   "execution_count": 6,
   "metadata": {},
   "outputs": [
    {
     "name": "stdout",
     "output_type": "stream",
     "text": [
      "<class 'pandas.core.frame.DataFrame'>\n",
      "Int64Index: 3977982 entries, 0 to 3977981\n",
      "Data columns (total 9 columns):\n",
      " #   Column          Dtype         \n",
      "---  ------          -----         \n",
      " 0   phone_no_m      object        \n",
      " 1   opposite_no_m   object        \n",
      " 2   calltype_id     int64         \n",
      " 3   start_datetime  datetime64[ns]\n",
      " 4   call_dur        int64         \n",
      " 5   city_name       object        \n",
      " 6   county_name     object        \n",
      " 7   imei_m          object        \n",
      " 8   label           int64         \n",
      "dtypes: datetime64[ns](1), int64(3), object(5)\n",
      "memory usage: 303.5+ MB\n"
     ]
    }
   ],
   "source": [
    "train_voc_full.info()"
   ]
  },
  {
   "cell_type": "code",
   "execution_count": 7,
   "metadata": {},
   "outputs": [
    {
     "data": {
      "text/html": [
       "<div>\n",
       "<style scoped>\n",
       "    .dataframe tbody tr th:only-of-type {\n",
       "        vertical-align: middle;\n",
       "    }\n",
       "\n",
       "    .dataframe tbody tr th {\n",
       "        vertical-align: top;\n",
       "    }\n",
       "\n",
       "    .dataframe thead th {\n",
       "        text-align: right;\n",
       "    }\n",
       "</style>\n",
       "<table border=\"1\" class=\"dataframe\">\n",
       "  <thead>\n",
       "    <tr style=\"text-align: right;\">\n",
       "      <th></th>\n",
       "      <th>phone_no_m</th>\n",
       "      <th>opposite_no_m</th>\n",
       "      <th>calltype_id</th>\n",
       "      <th>start_datetime</th>\n",
       "      <th>call_dur</th>\n",
       "      <th>city_name</th>\n",
       "      <th>county_name</th>\n",
       "      <th>imei_m</th>\n",
       "      <th>label</th>\n",
       "    </tr>\n",
       "  </thead>\n",
       "  <tbody>\n",
       "    <tr>\n",
       "      <th>0</th>\n",
       "      <td>41a97bdfe77f3210deba78689baecb110922878be2f14c...</td>\n",
       "      <td>79ef199a532bcb9a89990d0996cee3d40557f06b9e5265...</td>\n",
       "      <td>1</td>\n",
       "      <td>2019-09-18 16:19:20</td>\n",
       "      <td>34</td>\n",
       "      <td>NaN</td>\n",
       "      <td>NaN</td>\n",
       "      <td>5f054945a5037e688abe0ef36d88a0fd351d476e3320c2...</td>\n",
       "      <td>0</td>\n",
       "    </tr>\n",
       "    <tr>\n",
       "      <th>1</th>\n",
       "      <td>41a97bdfe77f3210deba78689baecb110922878be2f14c...</td>\n",
       "      <td>e273542129cf7fa37c28d3f4c95b7b9e8bcb561bbabc50...</td>\n",
       "      <td>2</td>\n",
       "      <td>2019-09-18 16:18:46</td>\n",
       "      <td>23</td>\n",
       "      <td>NaN</td>\n",
       "      <td>NaN</td>\n",
       "      <td>5f054945a5037e688abe0ef36d88a0fd351d476e3320c2...</td>\n",
       "      <td>0</td>\n",
       "    </tr>\n",
       "    <tr>\n",
       "      <th>2</th>\n",
       "      <td>41a97bdfe77f3210deba78689baecb110922878be2f14c...</td>\n",
       "      <td>3c84b94a5623bc1dc5c4f2ba686043bfe14128f1311803...</td>\n",
       "      <td>2</td>\n",
       "      <td>2019-09-19 14:33:11</td>\n",
       "      <td>61</td>\n",
       "      <td>NaN</td>\n",
       "      <td>NaN</td>\n",
       "      <td>5f054945a5037e688abe0ef36d88a0fd351d476e3320c2...</td>\n",
       "      <td>0</td>\n",
       "    </tr>\n",
       "    <tr>\n",
       "      <th>3</th>\n",
       "      <td>41a97bdfe77f3210deba78689baecb110922878be2f14c...</td>\n",
       "      <td>56523c905b13a867a7bc0b862d77b53cef13f424ba73f6...</td>\n",
       "      <td>2</td>\n",
       "      <td>2019-09-20 13:12:21</td>\n",
       "      <td>28</td>\n",
       "      <td>NaN</td>\n",
       "      <td>NaN</td>\n",
       "      <td>5f054945a5037e688abe0ef36d88a0fd351d476e3320c2...</td>\n",
       "      <td>0</td>\n",
       "    </tr>\n",
       "    <tr>\n",
       "      <th>4</th>\n",
       "      <td>41a97bdfe77f3210deba78689baecb110922878be2f14c...</td>\n",
       "      <td>6f458a273a51bcce963508b6e2d4fda76d9822c63553af...</td>\n",
       "      <td>1</td>\n",
       "      <td>2019-08-02 13:14:07</td>\n",
       "      <td>45</td>\n",
       "      <td>NaN</td>\n",
       "      <td>NaN</td>\n",
       "      <td>5f054945a5037e688abe0ef36d88a0fd351d476e3320c2...</td>\n",
       "      <td>0</td>\n",
       "    </tr>\n",
       "  </tbody>\n",
       "</table>\n",
       "</div>"
      ],
      "text/plain": [
       "                                          phone_no_m  \\\n",
       "0  41a97bdfe77f3210deba78689baecb110922878be2f14c...   \n",
       "1  41a97bdfe77f3210deba78689baecb110922878be2f14c...   \n",
       "2  41a97bdfe77f3210deba78689baecb110922878be2f14c...   \n",
       "3  41a97bdfe77f3210deba78689baecb110922878be2f14c...   \n",
       "4  41a97bdfe77f3210deba78689baecb110922878be2f14c...   \n",
       "\n",
       "                                       opposite_no_m  calltype_id  \\\n",
       "0  79ef199a532bcb9a89990d0996cee3d40557f06b9e5265...            1   \n",
       "1  e273542129cf7fa37c28d3f4c95b7b9e8bcb561bbabc50...            2   \n",
       "2  3c84b94a5623bc1dc5c4f2ba686043bfe14128f1311803...            2   \n",
       "3  56523c905b13a867a7bc0b862d77b53cef13f424ba73f6...            2   \n",
       "4  6f458a273a51bcce963508b6e2d4fda76d9822c63553af...            1   \n",
       "\n",
       "       start_datetime  call_dur city_name county_name  \\\n",
       "0 2019-09-18 16:19:20        34       NaN         NaN   \n",
       "1 2019-09-18 16:18:46        23       NaN         NaN   \n",
       "2 2019-09-19 14:33:11        61       NaN         NaN   \n",
       "3 2019-09-20 13:12:21        28       NaN         NaN   \n",
       "4 2019-08-02 13:14:07        45       NaN         NaN   \n",
       "\n",
       "                                              imei_m  label  \n",
       "0  5f054945a5037e688abe0ef36d88a0fd351d476e3320c2...      0  \n",
       "1  5f054945a5037e688abe0ef36d88a0fd351d476e3320c2...      0  \n",
       "2  5f054945a5037e688abe0ef36d88a0fd351d476e3320c2...      0  \n",
       "3  5f054945a5037e688abe0ef36d88a0fd351d476e3320c2...      0  \n",
       "4  5f054945a5037e688abe0ef36d88a0fd351d476e3320c2...      0  "
      ]
     },
     "execution_count": 7,
     "metadata": {},
     "output_type": "execute_result"
    }
   ],
   "source": [
    "train_voc_full.head()"
   ]
  },
  {
   "cell_type": "markdown",
   "metadata": {},
   "source": [
    "### call_dur"
   ]
  },
  {
   "cell_type": "code",
   "execution_count": 12,
   "metadata": {},
   "outputs": [],
   "source": [
    "call_dur = train_voc_full[['phone_no_m','call_dur']].groupby('phone_no_m').mean().reset_index()"
   ]
  },
  {
   "cell_type": "code",
   "execution_count": 13,
   "metadata": {},
   "outputs": [
    {
     "data": {
      "text/html": [
       "<div>\n",
       "<style scoped>\n",
       "    .dataframe tbody tr th:only-of-type {\n",
       "        vertical-align: middle;\n",
       "    }\n",
       "\n",
       "    .dataframe tbody tr th {\n",
       "        vertical-align: top;\n",
       "    }\n",
       "\n",
       "    .dataframe thead th {\n",
       "        text-align: right;\n",
       "    }\n",
       "</style>\n",
       "<table border=\"1\" class=\"dataframe\">\n",
       "  <thead>\n",
       "    <tr style=\"text-align: right;\">\n",
       "      <th></th>\n",
       "      <th>phone_no_m</th>\n",
       "      <th>call_dur</th>\n",
       "    </tr>\n",
       "  </thead>\n",
       "  <tbody>\n",
       "    <tr>\n",
       "      <th>0</th>\n",
       "      <td>00073ceecc0f7220a440580ac5dea410c90d14b6669458...</td>\n",
       "      <td>138.505814</td>\n",
       "    </tr>\n",
       "    <tr>\n",
       "      <th>1</th>\n",
       "      <td>00086f1d2e2c1227f811c3e17f2e9c37cf9971f47bb933...</td>\n",
       "      <td>28.821743</td>\n",
       "    </tr>\n",
       "    <tr>\n",
       "      <th>2</th>\n",
       "      <td>000c00db8809c27e723ba90582bf334b2d3ca9063f53fb...</td>\n",
       "      <td>59.690987</td>\n",
       "    </tr>\n",
       "    <tr>\n",
       "      <th>3</th>\n",
       "      <td>0014b698069503ceadb9442605834729064be51cdd7002...</td>\n",
       "      <td>23.787854</td>\n",
       "    </tr>\n",
       "    <tr>\n",
       "      <th>4</th>\n",
       "      <td>0034030646f2008d36431e00b133db30efc8b0c31757f3...</td>\n",
       "      <td>46.735166</td>\n",
       "    </tr>\n",
       "  </tbody>\n",
       "</table>\n",
       "</div>"
      ],
      "text/plain": [
       "                                          phone_no_m    call_dur\n",
       "0  00073ceecc0f7220a440580ac5dea410c90d14b6669458...  138.505814\n",
       "1  00086f1d2e2c1227f811c3e17f2e9c37cf9971f47bb933...   28.821743\n",
       "2  000c00db8809c27e723ba90582bf334b2d3ca9063f53fb...   59.690987\n",
       "3  0014b698069503ceadb9442605834729064be51cdd7002...   23.787854\n",
       "4  0034030646f2008d36431e00b133db30efc8b0c31757f3...   46.735166"
      ]
     },
     "execution_count": 13,
     "metadata": {},
     "output_type": "execute_result"
    }
   ],
   "source": [
    "call_dur.head()"
   ]
  },
  {
   "cell_type": "markdown",
   "metadata": {},
   "source": [
    "### opposite_no_m"
   ]
  },
  {
   "cell_type": "code",
   "execution_count": 60,
   "metadata": {},
   "outputs": [],
   "source": [
    "opposite_no_m = train_voc_full[['phone_no_m','opposite_no_m']].\\\n",
    "                groupby('phone_no_m')['opposite_no_m'].nunique().reset_index()"
   ]
  },
  {
   "cell_type": "code",
   "execution_count": 61,
   "metadata": {},
   "outputs": [],
   "source": [
    "opposite_no_m.columns = ['phone_no_m','voc_opposite_no_m']"
   ]
  },
  {
   "cell_type": "code",
   "execution_count": 62,
   "metadata": {},
   "outputs": [
    {
     "data": {
      "text/html": [
       "<div>\n",
       "<style scoped>\n",
       "    .dataframe tbody tr th:only-of-type {\n",
       "        vertical-align: middle;\n",
       "    }\n",
       "\n",
       "    .dataframe tbody tr th {\n",
       "        vertical-align: top;\n",
       "    }\n",
       "\n",
       "    .dataframe thead th {\n",
       "        text-align: right;\n",
       "    }\n",
       "</style>\n",
       "<table border=\"1\" class=\"dataframe\">\n",
       "  <thead>\n",
       "    <tr style=\"text-align: right;\">\n",
       "      <th></th>\n",
       "      <th>phone_no_m</th>\n",
       "      <th>voc_opposite_no_m</th>\n",
       "    </tr>\n",
       "  </thead>\n",
       "  <tbody>\n",
       "    <tr>\n",
       "      <th>0</th>\n",
       "      <td>00073ceecc0f7220a440580ac5dea410c90d14b6669458...</td>\n",
       "      <td>47</td>\n",
       "    </tr>\n",
       "    <tr>\n",
       "      <th>1</th>\n",
       "      <td>00086f1d2e2c1227f811c3e17f2e9c37cf9971f47bb933...</td>\n",
       "      <td>8945</td>\n",
       "    </tr>\n",
       "    <tr>\n",
       "      <th>2</th>\n",
       "      <td>000c00db8809c27e723ba90582bf334b2d3ca9063f53fb...</td>\n",
       "      <td>370</td>\n",
       "    </tr>\n",
       "    <tr>\n",
       "      <th>3</th>\n",
       "      <td>0014b698069503ceadb9442605834729064be51cdd7002...</td>\n",
       "      <td>1235</td>\n",
       "    </tr>\n",
       "    <tr>\n",
       "      <th>4</th>\n",
       "      <td>0034030646f2008d36431e00b133db30efc8b0c31757f3...</td>\n",
       "      <td>66</td>\n",
       "    </tr>\n",
       "    <tr>\n",
       "      <th>...</th>\n",
       "      <td>...</td>\n",
       "      <td>...</td>\n",
       "    </tr>\n",
       "    <tr>\n",
       "      <th>4811</th>\n",
       "      <td>ffc523b3b043cd14a72f03a879beb6794b1065f353800e...</td>\n",
       "      <td>228</td>\n",
       "    </tr>\n",
       "    <tr>\n",
       "      <th>4812</th>\n",
       "      <td>ffd3a62b9204a8695140a7f04d2bf821c53b1e798fd938...</td>\n",
       "      <td>31</td>\n",
       "    </tr>\n",
       "    <tr>\n",
       "      <th>4813</th>\n",
       "      <td>ffdbcf9285b71d560a7c79445700db2c363b066003a73d...</td>\n",
       "      <td>517</td>\n",
       "    </tr>\n",
       "    <tr>\n",
       "      <th>4814</th>\n",
       "      <td>ffdf60d18dbbc25bb8c1697f7c97e8547517b2523d7001...</td>\n",
       "      <td>21</td>\n",
       "    </tr>\n",
       "    <tr>\n",
       "      <th>4815</th>\n",
       "      <td>ffe9b31003bfabebaad23e4e9eb593cf8566a906c3e4c0...</td>\n",
       "      <td>95</td>\n",
       "    </tr>\n",
       "  </tbody>\n",
       "</table>\n",
       "<p>4816 rows × 2 columns</p>\n",
       "</div>"
      ],
      "text/plain": [
       "                                             phone_no_m  voc_opposite_no_m\n",
       "0     00073ceecc0f7220a440580ac5dea410c90d14b6669458...                 47\n",
       "1     00086f1d2e2c1227f811c3e17f2e9c37cf9971f47bb933...               8945\n",
       "2     000c00db8809c27e723ba90582bf334b2d3ca9063f53fb...                370\n",
       "3     0014b698069503ceadb9442605834729064be51cdd7002...               1235\n",
       "4     0034030646f2008d36431e00b133db30efc8b0c31757f3...                 66\n",
       "...                                                 ...                ...\n",
       "4811  ffc523b3b043cd14a72f03a879beb6794b1065f353800e...                228\n",
       "4812  ffd3a62b9204a8695140a7f04d2bf821c53b1e798fd938...                 31\n",
       "4813  ffdbcf9285b71d560a7c79445700db2c363b066003a73d...                517\n",
       "4814  ffdf60d18dbbc25bb8c1697f7c97e8547517b2523d7001...                 21\n",
       "4815  ffe9b31003bfabebaad23e4e9eb593cf8566a906c3e4c0...                 95\n",
       "\n",
       "[4816 rows x 2 columns]"
      ]
     },
     "execution_count": 62,
     "metadata": {},
     "output_type": "execute_result"
    }
   ],
   "source": [
    "opposite_no_m"
   ]
  },
  {
   "cell_type": "markdown",
   "metadata": {},
   "source": [
    "### calltype_id"
   ]
  },
  {
   "cell_type": "code",
   "execution_count": 14,
   "metadata": {},
   "outputs": [],
   "source": [
    "calltype_id = pd.get_dummies(train_voc_full[['phone_no_m','calltype_id']],columns=['calltype_id']).\\\n",
    "                    groupby('phone_no_m').mean().reset_index()"
   ]
  },
  {
   "cell_type": "code",
   "execution_count": 53,
   "metadata": {},
   "outputs": [],
   "source": [
    "calltype_id.columns = ['phone_no_m', 'voc_calltype_1', 'voc_calltype_2', 'voc_calltype_3']"
   ]
  },
  {
   "cell_type": "code",
   "execution_count": 54,
   "metadata": {},
   "outputs": [
    {
     "data": {
      "text/html": [
       "<div>\n",
       "<style scoped>\n",
       "    .dataframe tbody tr th:only-of-type {\n",
       "        vertical-align: middle;\n",
       "    }\n",
       "\n",
       "    .dataframe tbody tr th {\n",
       "        vertical-align: top;\n",
       "    }\n",
       "\n",
       "    .dataframe thead th {\n",
       "        text-align: right;\n",
       "    }\n",
       "</style>\n",
       "<table border=\"1\" class=\"dataframe\">\n",
       "  <thead>\n",
       "    <tr style=\"text-align: right;\">\n",
       "      <th></th>\n",
       "      <th>phone_no_m</th>\n",
       "      <th>voc_calltype_1</th>\n",
       "      <th>voc_calltype_2</th>\n",
       "      <th>voc_calltype_3</th>\n",
       "    </tr>\n",
       "  </thead>\n",
       "  <tbody>\n",
       "    <tr>\n",
       "      <th>0</th>\n",
       "      <td>00073ceecc0f7220a440580ac5dea410c90d14b6669458...</td>\n",
       "      <td>1.000000</td>\n",
       "      <td>0.000000</td>\n",
       "      <td>0.0</td>\n",
       "    </tr>\n",
       "    <tr>\n",
       "      <th>1</th>\n",
       "      <td>00086f1d2e2c1227f811c3e17f2e9c37cf9971f47bb933...</td>\n",
       "      <td>1.000000</td>\n",
       "      <td>0.000000</td>\n",
       "      <td>0.0</td>\n",
       "    </tr>\n",
       "    <tr>\n",
       "      <th>2</th>\n",
       "      <td>000c00db8809c27e723ba90582bf334b2d3ca9063f53fb...</td>\n",
       "      <td>0.954936</td>\n",
       "      <td>0.045064</td>\n",
       "      <td>0.0</td>\n",
       "    </tr>\n",
       "    <tr>\n",
       "      <th>3</th>\n",
       "      <td>0014b698069503ceadb9442605834729064be51cdd7002...</td>\n",
       "      <td>1.000000</td>\n",
       "      <td>0.000000</td>\n",
       "      <td>0.0</td>\n",
       "    </tr>\n",
       "    <tr>\n",
       "      <th>4</th>\n",
       "      <td>0034030646f2008d36431e00b133db30efc8b0c31757f3...</td>\n",
       "      <td>0.651230</td>\n",
       "      <td>0.348770</td>\n",
       "      <td>0.0</td>\n",
       "    </tr>\n",
       "  </tbody>\n",
       "</table>\n",
       "</div>"
      ],
      "text/plain": [
       "                                          phone_no_m  voc_calltype_1  \\\n",
       "0  00073ceecc0f7220a440580ac5dea410c90d14b6669458...        1.000000   \n",
       "1  00086f1d2e2c1227f811c3e17f2e9c37cf9971f47bb933...        1.000000   \n",
       "2  000c00db8809c27e723ba90582bf334b2d3ca9063f53fb...        0.954936   \n",
       "3  0014b698069503ceadb9442605834729064be51cdd7002...        1.000000   \n",
       "4  0034030646f2008d36431e00b133db30efc8b0c31757f3...        0.651230   \n",
       "\n",
       "   voc_calltype_2  voc_calltype_3  \n",
       "0        0.000000             0.0  \n",
       "1        0.000000             0.0  \n",
       "2        0.045064             0.0  \n",
       "3        0.000000             0.0  \n",
       "4        0.348770             0.0  "
      ]
     },
     "execution_count": 54,
     "metadata": {},
     "output_type": "execute_result"
    }
   ],
   "source": [
    "calltype_id.head()"
   ]
  },
  {
   "cell_type": "markdown",
   "metadata": {},
   "source": [
    "### county_name"
   ]
  },
  {
   "cell_type": "code",
   "execution_count": 48,
   "metadata": {},
   "outputs": [],
   "source": [
    "county_name = train_voc_full[['phone_no_m','county_name']].\\\n",
    "                groupby('phone_no_m')['county_name'].nunique().reset_index()"
   ]
  },
  {
   "cell_type": "code",
   "execution_count": 58,
   "metadata": {},
   "outputs": [],
   "source": [
    "county_name.columns = ['phone_no_m','voc_receive_unique_county']"
   ]
  },
  {
   "cell_type": "code",
   "execution_count": 59,
   "metadata": {},
   "outputs": [
    {
     "data": {
      "text/html": [
       "<div>\n",
       "<style scoped>\n",
       "    .dataframe tbody tr th:only-of-type {\n",
       "        vertical-align: middle;\n",
       "    }\n",
       "\n",
       "    .dataframe tbody tr th {\n",
       "        vertical-align: top;\n",
       "    }\n",
       "\n",
       "    .dataframe thead th {\n",
       "        text-align: right;\n",
       "    }\n",
       "</style>\n",
       "<table border=\"1\" class=\"dataframe\">\n",
       "  <thead>\n",
       "    <tr style=\"text-align: right;\">\n",
       "      <th></th>\n",
       "      <th>phone_no_m</th>\n",
       "      <th>voc_receive_unique_county</th>\n",
       "    </tr>\n",
       "  </thead>\n",
       "  <tbody>\n",
       "    <tr>\n",
       "      <th>0</th>\n",
       "      <td>00073ceecc0f7220a440580ac5dea410c90d14b6669458...</td>\n",
       "      <td>4</td>\n",
       "    </tr>\n",
       "    <tr>\n",
       "      <th>1</th>\n",
       "      <td>00086f1d2e2c1227f811c3e17f2e9c37cf9971f47bb933...</td>\n",
       "      <td>2</td>\n",
       "    </tr>\n",
       "    <tr>\n",
       "      <th>2</th>\n",
       "      <td>000c00db8809c27e723ba90582bf334b2d3ca9063f53fb...</td>\n",
       "      <td>1</td>\n",
       "    </tr>\n",
       "    <tr>\n",
       "      <th>3</th>\n",
       "      <td>0014b698069503ceadb9442605834729064be51cdd7002...</td>\n",
       "      <td>1</td>\n",
       "    </tr>\n",
       "    <tr>\n",
       "      <th>4</th>\n",
       "      <td>0034030646f2008d36431e00b133db30efc8b0c31757f3...</td>\n",
       "      <td>5</td>\n",
       "    </tr>\n",
       "  </tbody>\n",
       "</table>\n",
       "</div>"
      ],
      "text/plain": [
       "                                          phone_no_m  \\\n",
       "0  00073ceecc0f7220a440580ac5dea410c90d14b6669458...   \n",
       "1  00086f1d2e2c1227f811c3e17f2e9c37cf9971f47bb933...   \n",
       "2  000c00db8809c27e723ba90582bf334b2d3ca9063f53fb...   \n",
       "3  0014b698069503ceadb9442605834729064be51cdd7002...   \n",
       "4  0034030646f2008d36431e00b133db30efc8b0c31757f3...   \n",
       "\n",
       "   voc_receive_unique_county  \n",
       "0                          4  \n",
       "1                          2  \n",
       "2                          1  \n",
       "3                          1  \n",
       "4                          5  "
      ]
     },
     "execution_count": 59,
     "metadata": {},
     "output_type": "execute_result"
    }
   ],
   "source": [
    "county_name.head()"
   ]
  },
  {
   "cell_type": "markdown",
   "metadata": {},
   "source": [
    "### Final data to use"
   ]
  },
  {
   "cell_type": "code",
   "execution_count": 63,
   "metadata": {},
   "outputs": [],
   "source": [
    "train_voc = pd.merge(call_dur,opposite_no_m,on='phone_no_m',how='outer')"
   ]
  },
  {
   "cell_type": "code",
   "execution_count": 64,
   "metadata": {},
   "outputs": [],
   "source": [
    "train_voc = pd.merge(train_voc,calltype_id,on='phone_no_m',how='outer')"
   ]
  },
  {
   "cell_type": "code",
   "execution_count": 65,
   "metadata": {},
   "outputs": [],
   "source": [
    "train_voc = pd.merge(train_voc,county_name,on='phone_no_m',how='outer')"
   ]
  },
  {
   "cell_type": "code",
   "execution_count": 68,
   "metadata": {},
   "outputs": [],
   "source": [
    "train_voc.to_csv('train/train_voc_cleaned.csv',index=False)"
   ]
  },
  {
   "cell_type": "code",
   "execution_count": 69,
   "metadata": {},
   "outputs": [
    {
     "data": {
      "text/html": [
       "<div>\n",
       "<style scoped>\n",
       "    .dataframe tbody tr th:only-of-type {\n",
       "        vertical-align: middle;\n",
       "    }\n",
       "\n",
       "    .dataframe tbody tr th {\n",
       "        vertical-align: top;\n",
       "    }\n",
       "\n",
       "    .dataframe thead th {\n",
       "        text-align: right;\n",
       "    }\n",
       "</style>\n",
       "<table border=\"1\" class=\"dataframe\">\n",
       "  <thead>\n",
       "    <tr style=\"text-align: right;\">\n",
       "      <th></th>\n",
       "      <th>phone_no_m</th>\n",
       "      <th>call_dur</th>\n",
       "      <th>voc_opposite_no_m</th>\n",
       "      <th>voc_calltype_1</th>\n",
       "      <th>voc_calltype_2</th>\n",
       "      <th>voc_calltype_3</th>\n",
       "      <th>voc_receive_unique_county</th>\n",
       "    </tr>\n",
       "  </thead>\n",
       "  <tbody>\n",
       "    <tr>\n",
       "      <th>0</th>\n",
       "      <td>00073ceecc0f7220a440580ac5dea410c90d14b6669458...</td>\n",
       "      <td>138.505814</td>\n",
       "      <td>47</td>\n",
       "      <td>1.000000</td>\n",
       "      <td>0.000000</td>\n",
       "      <td>0.0</td>\n",
       "      <td>4</td>\n",
       "    </tr>\n",
       "    <tr>\n",
       "      <th>1</th>\n",
       "      <td>00086f1d2e2c1227f811c3e17f2e9c37cf9971f47bb933...</td>\n",
       "      <td>28.821743</td>\n",
       "      <td>8945</td>\n",
       "      <td>1.000000</td>\n",
       "      <td>0.000000</td>\n",
       "      <td>0.0</td>\n",
       "      <td>2</td>\n",
       "    </tr>\n",
       "    <tr>\n",
       "      <th>2</th>\n",
       "      <td>000c00db8809c27e723ba90582bf334b2d3ca9063f53fb...</td>\n",
       "      <td>59.690987</td>\n",
       "      <td>370</td>\n",
       "      <td>0.954936</td>\n",
       "      <td>0.045064</td>\n",
       "      <td>0.0</td>\n",
       "      <td>1</td>\n",
       "    </tr>\n",
       "    <tr>\n",
       "      <th>3</th>\n",
       "      <td>0014b698069503ceadb9442605834729064be51cdd7002...</td>\n",
       "      <td>23.787854</td>\n",
       "      <td>1235</td>\n",
       "      <td>1.000000</td>\n",
       "      <td>0.000000</td>\n",
       "      <td>0.0</td>\n",
       "      <td>1</td>\n",
       "    </tr>\n",
       "    <tr>\n",
       "      <th>4</th>\n",
       "      <td>0034030646f2008d36431e00b133db30efc8b0c31757f3...</td>\n",
       "      <td>46.735166</td>\n",
       "      <td>66</td>\n",
       "      <td>0.651230</td>\n",
       "      <td>0.348770</td>\n",
       "      <td>0.0</td>\n",
       "      <td>5</td>\n",
       "    </tr>\n",
       "    <tr>\n",
       "      <th>...</th>\n",
       "      <td>...</td>\n",
       "      <td>...</td>\n",
       "      <td>...</td>\n",
       "      <td>...</td>\n",
       "      <td>...</td>\n",
       "      <td>...</td>\n",
       "      <td>...</td>\n",
       "    </tr>\n",
       "    <tr>\n",
       "      <th>4811</th>\n",
       "      <td>ffc523b3b043cd14a72f03a879beb6794b1065f353800e...</td>\n",
       "      <td>58.026771</td>\n",
       "      <td>228</td>\n",
       "      <td>0.371061</td>\n",
       "      <td>0.628939</td>\n",
       "      <td>0.0</td>\n",
       "      <td>15</td>\n",
       "    </tr>\n",
       "    <tr>\n",
       "      <th>4812</th>\n",
       "      <td>ffd3a62b9204a8695140a7f04d2bf821c53b1e798fd938...</td>\n",
       "      <td>48.727273</td>\n",
       "      <td>31</td>\n",
       "      <td>0.456938</td>\n",
       "      <td>0.543062</td>\n",
       "      <td>0.0</td>\n",
       "      <td>3</td>\n",
       "    </tr>\n",
       "    <tr>\n",
       "      <th>4813</th>\n",
       "      <td>ffdbcf9285b71d560a7c79445700db2c363b066003a73d...</td>\n",
       "      <td>69.560429</td>\n",
       "      <td>517</td>\n",
       "      <td>0.330432</td>\n",
       "      <td>0.669568</td>\n",
       "      <td>0.0</td>\n",
       "      <td>6</td>\n",
       "    </tr>\n",
       "    <tr>\n",
       "      <th>4814</th>\n",
       "      <td>ffdf60d18dbbc25bb8c1697f7c97e8547517b2523d7001...</td>\n",
       "      <td>43.219653</td>\n",
       "      <td>21</td>\n",
       "      <td>0.988439</td>\n",
       "      <td>0.011561</td>\n",
       "      <td>0.0</td>\n",
       "      <td>5</td>\n",
       "    </tr>\n",
       "    <tr>\n",
       "      <th>4815</th>\n",
       "      <td>ffe9b31003bfabebaad23e4e9eb593cf8566a906c3e4c0...</td>\n",
       "      <td>94.986538</td>\n",
       "      <td>95</td>\n",
       "      <td>0.544231</td>\n",
       "      <td>0.455769</td>\n",
       "      <td>0.0</td>\n",
       "      <td>15</td>\n",
       "    </tr>\n",
       "  </tbody>\n",
       "</table>\n",
       "<p>4816 rows × 7 columns</p>\n",
       "</div>"
      ],
      "text/plain": [
       "                                             phone_no_m    call_dur  \\\n",
       "0     00073ceecc0f7220a440580ac5dea410c90d14b6669458...  138.505814   \n",
       "1     00086f1d2e2c1227f811c3e17f2e9c37cf9971f47bb933...   28.821743   \n",
       "2     000c00db8809c27e723ba90582bf334b2d3ca9063f53fb...   59.690987   \n",
       "3     0014b698069503ceadb9442605834729064be51cdd7002...   23.787854   \n",
       "4     0034030646f2008d36431e00b133db30efc8b0c31757f3...   46.735166   \n",
       "...                                                 ...         ...   \n",
       "4811  ffc523b3b043cd14a72f03a879beb6794b1065f353800e...   58.026771   \n",
       "4812  ffd3a62b9204a8695140a7f04d2bf821c53b1e798fd938...   48.727273   \n",
       "4813  ffdbcf9285b71d560a7c79445700db2c363b066003a73d...   69.560429   \n",
       "4814  ffdf60d18dbbc25bb8c1697f7c97e8547517b2523d7001...   43.219653   \n",
       "4815  ffe9b31003bfabebaad23e4e9eb593cf8566a906c3e4c0...   94.986538   \n",
       "\n",
       "      voc_opposite_no_m  voc_calltype_1  voc_calltype_2  voc_calltype_3  \\\n",
       "0                    47        1.000000        0.000000             0.0   \n",
       "1                  8945        1.000000        0.000000             0.0   \n",
       "2                   370        0.954936        0.045064             0.0   \n",
       "3                  1235        1.000000        0.000000             0.0   \n",
       "4                    66        0.651230        0.348770             0.0   \n",
       "...                 ...             ...             ...             ...   \n",
       "4811                228        0.371061        0.628939             0.0   \n",
       "4812                 31        0.456938        0.543062             0.0   \n",
       "4813                517        0.330432        0.669568             0.0   \n",
       "4814                 21        0.988439        0.011561             0.0   \n",
       "4815                 95        0.544231        0.455769             0.0   \n",
       "\n",
       "      voc_receive_unique_county  \n",
       "0                             4  \n",
       "1                             2  \n",
       "2                             1  \n",
       "3                             1  \n",
       "4                             5  \n",
       "...                         ...  \n",
       "4811                         15  \n",
       "4812                          3  \n",
       "4813                          6  \n",
       "4814                          5  \n",
       "4815                         15  \n",
       "\n",
       "[4816 rows x 7 columns]"
      ]
     },
     "execution_count": 69,
     "metadata": {},
     "output_type": "execute_result"
    }
   ],
   "source": [
    "train_voc"
   ]
  },
  {
   "cell_type": "code",
   "execution_count": 70,
   "metadata": {},
   "outputs": [
    {
     "name": "stdout",
     "output_type": "stream",
     "text": [
      "<class 'pandas.core.frame.DataFrame'>\n",
      "Int64Index: 4816 entries, 0 to 4815\n",
      "Data columns (total 7 columns):\n",
      " #   Column                     Non-Null Count  Dtype  \n",
      "---  ------                     --------------  -----  \n",
      " 0   phone_no_m                 4816 non-null   object \n",
      " 1   call_dur                   4816 non-null   float64\n",
      " 2   voc_opposite_no_m          4816 non-null   int64  \n",
      " 3   voc_calltype_1             4816 non-null   float64\n",
      " 4   voc_calltype_2             4816 non-null   float64\n",
      " 5   voc_calltype_3             4816 non-null   float64\n",
      " 6   voc_receive_unique_county  4816 non-null   int64  \n",
      "dtypes: float64(4), int64(2), object(1)\n",
      "memory usage: 301.0+ KB\n"
     ]
    }
   ],
   "source": [
    "train_voc.info()"
   ]
  },
  {
   "cell_type": "code",
   "execution_count": null,
   "metadata": {},
   "outputs": [],
   "source": []
  }
 ],
 "metadata": {
  "kernelspec": {
   "display_name": "Python 3",
   "language": "python",
   "name": "python3"
  },
  "language_info": {
   "codemirror_mode": {
    "name": "ipython",
    "version": 3
   },
   "file_extension": ".py",
   "mimetype": "text/x-python",
   "name": "python",
   "nbconvert_exporter": "python",
   "pygments_lexer": "ipython3",
   "version": "3.7.7"
  }
 },
 "nbformat": 4,
 "nbformat_minor": 4
}
