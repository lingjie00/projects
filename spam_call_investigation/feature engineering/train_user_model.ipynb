{
 "cells": [
  {
   "cell_type": "code",
   "execution_count": 1,
   "metadata": {},
   "outputs": [],
   "source": [
    "import pandas as pd\n",
    "import numpy as np\n",
    "import matplotlib.pyplot as plt"
   ]
  },
  {
   "cell_type": "code",
   "execution_count": 47,
   "metadata": {},
   "outputs": [],
   "source": [
    "#preprocessing\n",
    "from sklearn.preprocessing import FunctionTransformer, OneHotEncoder\n",
    "from sklearn.experimental import enable_iterative_imputer\n",
    "from sklearn.impute import SimpleImputer, IterativeImputer, KNNImputer\n",
    "from sklearn.tree import DecisionTreeRegressor\n",
    "from sklearn.pipeline import Pipeline, make_pipeline\n",
    "from sklearn.compose import ColumnTransformer, make_column_selector, make_column_transformer\n",
    "from sklearn.preprocessing import StandardScaler, RobustScaler, MinMaxScaler\n",
    "\n",
    "#baseline model\n",
    "from sklearn.model_selection import train_test_split, cross_val_score, GridSearchCV\n",
    "from sklearn.ensemble import RandomForestClassifier\n",
    "from sklearn.linear_model import LogisticRegression, RidgeClassifier\n",
    "from sklearn.metrics import f1_score, classification_report, confusion_matrix"
   ]
  },
  {
   "cell_type": "code",
   "execution_count": 3,
   "metadata": {},
   "outputs": [],
   "source": [
    "train_user_original = pd.read_csv('train/train_user.csv')"
   ]
  },
  {
   "cell_type": "code",
   "execution_count": 4,
   "metadata": {},
   "outputs": [],
   "source": [
    "train_user, test_user, _, __ = train_test_split(train_user_original,\n",
    "                                                np.arange(train_user_original.shape[0]),\n",
    "                                                random_state=0,test_size=0.2,stratify=train_user_original['label'])"
   ]
  },
  {
   "cell_type": "code",
   "execution_count": 5,
   "metadata": {},
   "outputs": [
    {
     "name": "stdout",
     "output_type": "stream",
     "text": [
      "<class 'pandas.core.frame.DataFrame'>\n",
      "Int64Index: 3907 entries, 3091 to 32\n",
      "Data columns (total 13 columns):\n",
      " #   Column       Non-Null Count  Dtype  \n",
      "---  ------       --------------  -----  \n",
      " 0   phone_no_m   3907 non-null   object \n",
      " 1   city_name    3718 non-null   object \n",
      " 2   county_name  3718 non-null   object \n",
      " 3   idcard_cnt   3907 non-null   int64  \n",
      " 4   arpu_201908  2751 non-null   float64\n",
      " 5   arpu_201909  2850 non-null   float64\n",
      " 6   arpu_201910  2982 non-null   float64\n",
      " 7   arpu_201911  3244 non-null   float64\n",
      " 8   arpu_201912  3358 non-null   float64\n",
      " 9   arpu_202001  3286 non-null   float64\n",
      " 10  arpu_202002  3301 non-null   float64\n",
      " 11  arpu_202003  3443 non-null   float64\n",
      " 12  label        3907 non-null   int64  \n",
      "dtypes: float64(8), int64(2), object(3)\n",
      "memory usage: 427.3+ KB\n"
     ]
    }
   ],
   "source": [
    "train_user.info()"
   ]
  },
  {
   "cell_type": "code",
   "execution_count": 6,
   "metadata": {},
   "outputs": [
    {
     "data": {
      "text/html": [
       "<div>\n",
       "<style scoped>\n",
       "    .dataframe tbody tr th:only-of-type {\n",
       "        vertical-align: middle;\n",
       "    }\n",
       "\n",
       "    .dataframe tbody tr th {\n",
       "        vertical-align: top;\n",
       "    }\n",
       "\n",
       "    .dataframe thead th {\n",
       "        text-align: right;\n",
       "    }\n",
       "</style>\n",
       "<table border=\"1\" class=\"dataframe\">\n",
       "  <thead>\n",
       "    <tr style=\"text-align: right;\">\n",
       "      <th></th>\n",
       "      <th>phone_no_m</th>\n",
       "      <th>city_name</th>\n",
       "      <th>county_name</th>\n",
       "      <th>idcard_cnt</th>\n",
       "      <th>arpu_201908</th>\n",
       "      <th>arpu_201909</th>\n",
       "      <th>arpu_201910</th>\n",
       "      <th>arpu_201911</th>\n",
       "      <th>arpu_201912</th>\n",
       "      <th>arpu_202001</th>\n",
       "      <th>arpu_202002</th>\n",
       "      <th>arpu_202003</th>\n",
       "      <th>label</th>\n",
       "    </tr>\n",
       "  </thead>\n",
       "  <tbody>\n",
       "    <tr>\n",
       "      <th>3091</th>\n",
       "      <td>11a1f8d7ba49db1780b9c5636673c7aaad2f193e16ba48...</td>\n",
       "      <td>天府新区</td>\n",
       "      <td>双流分公司</td>\n",
       "      <td>4</td>\n",
       "      <td>NaN</td>\n",
       "      <td>NaN</td>\n",
       "      <td>3.36</td>\n",
       "      <td>19.20</td>\n",
       "      <td>19.0</td>\n",
       "      <td>19.10</td>\n",
       "      <td>19.00</td>\n",
       "      <td>61.88</td>\n",
       "      <td>1</td>\n",
       "    </tr>\n",
       "    <tr>\n",
       "      <th>3342</th>\n",
       "      <td>53bff895930f4b7ae7e0daf3ab38f68b47d24af6780eba...</td>\n",
       "      <td>南充</td>\n",
       "      <td>顺庆分公司</td>\n",
       "      <td>1</td>\n",
       "      <td>NaN</td>\n",
       "      <td>NaN</td>\n",
       "      <td>NaN</td>\n",
       "      <td>NaN</td>\n",
       "      <td>NaN</td>\n",
       "      <td>NaN</td>\n",
       "      <td>NaN</td>\n",
       "      <td>2.18</td>\n",
       "      <td>0</td>\n",
       "    </tr>\n",
       "    <tr>\n",
       "      <th>2740</th>\n",
       "      <td>7335a06204959c3b18c70069e0b91a791d1f9ccf475ed5...</td>\n",
       "      <td>成都</td>\n",
       "      <td>都江堰分公司</td>\n",
       "      <td>1</td>\n",
       "      <td>30.68</td>\n",
       "      <td>27.44</td>\n",
       "      <td>117.08</td>\n",
       "      <td>47.60</td>\n",
       "      <td>33.2</td>\n",
       "      <td>30.86</td>\n",
       "      <td>23.12</td>\n",
       "      <td>35.18</td>\n",
       "      <td>0</td>\n",
       "    </tr>\n",
       "    <tr>\n",
       "      <th>1826</th>\n",
       "      <td>b01f24a1a27204dd81ae0ba1b44044844c2cfe6816c409...</td>\n",
       "      <td>成都</td>\n",
       "      <td>温江分公司</td>\n",
       "      <td>4</td>\n",
       "      <td>NaN</td>\n",
       "      <td>NaN</td>\n",
       "      <td>NaN</td>\n",
       "      <td>50.47</td>\n",
       "      <td>19.0</td>\n",
       "      <td>19.00</td>\n",
       "      <td>19.00</td>\n",
       "      <td>19.00</td>\n",
       "      <td>1</td>\n",
       "    </tr>\n",
       "    <tr>\n",
       "      <th>4536</th>\n",
       "      <td>b3d3519ba894c9230b023c716bea8d20b0b1cc4a0b05f9...</td>\n",
       "      <td>绵阳</td>\n",
       "      <td>北川分公司</td>\n",
       "      <td>1</td>\n",
       "      <td>28.90</td>\n",
       "      <td>21.12</td>\n",
       "      <td>21.00</td>\n",
       "      <td>28.12</td>\n",
       "      <td>21.0</td>\n",
       "      <td>23.84</td>\n",
       "      <td>21.00</td>\n",
       "      <td>27.41</td>\n",
       "      <td>0</td>\n",
       "    </tr>\n",
       "  </tbody>\n",
       "</table>\n",
       "</div>"
      ],
      "text/plain": [
       "                                             phone_no_m city_name county_name  \\\n",
       "3091  11a1f8d7ba49db1780b9c5636673c7aaad2f193e16ba48...      天府新区       双流分公司   \n",
       "3342  53bff895930f4b7ae7e0daf3ab38f68b47d24af6780eba...        南充       顺庆分公司   \n",
       "2740  7335a06204959c3b18c70069e0b91a791d1f9ccf475ed5...        成都      都江堰分公司   \n",
       "1826  b01f24a1a27204dd81ae0ba1b44044844c2cfe6816c409...        成都       温江分公司   \n",
       "4536  b3d3519ba894c9230b023c716bea8d20b0b1cc4a0b05f9...        绵阳       北川分公司   \n",
       "\n",
       "      idcard_cnt  arpu_201908  arpu_201909  arpu_201910  arpu_201911  \\\n",
       "3091           4          NaN          NaN         3.36        19.20   \n",
       "3342           1          NaN          NaN          NaN          NaN   \n",
       "2740           1        30.68        27.44       117.08        47.60   \n",
       "1826           4          NaN          NaN          NaN        50.47   \n",
       "4536           1        28.90        21.12        21.00        28.12   \n",
       "\n",
       "      arpu_201912  arpu_202001  arpu_202002  arpu_202003  label  \n",
       "3091         19.0        19.10        19.00        61.88      1  \n",
       "3342          NaN          NaN          NaN         2.18      0  \n",
       "2740         33.2        30.86        23.12        35.18      0  \n",
       "1826         19.0        19.00        19.00        19.00      1  \n",
       "4536         21.0        23.84        21.00        27.41      0  "
      ]
     },
     "execution_count": 6,
     "metadata": {},
     "output_type": "execute_result"
    }
   ],
   "source": [
    "train_user.head()"
   ]
  },
  {
   "cell_type": "markdown",
   "metadata": {},
   "source": [
    "## county_name"
   ]
  },
  {
   "cell_type": "code",
   "execution_count": 7,
   "metadata": {},
   "outputs": [],
   "source": [
    "county_name = train_user['county_name']"
   ]
  },
  {
   "cell_type": "code",
   "execution_count": 8,
   "metadata": {},
   "outputs": [
    {
     "data": {
      "text/plain": [
       "count      3718\n",
       "unique      177\n",
       "top       武侯分公司\n",
       "freq        172\n",
       "Name: county_name, dtype: object"
      ]
     },
     "execution_count": 8,
     "metadata": {},
     "output_type": "execute_result"
    }
   ],
   "source": [
    "county_name.describe()"
   ]
  },
  {
   "cell_type": "markdown",
   "metadata": {},
   "source": [
    "#### Missing values"
   ]
  },
  {
   "cell_type": "code",
   "execution_count": 9,
   "metadata": {},
   "outputs": [
    {
     "data": {
      "text/plain": [
       "189"
      ]
     },
     "execution_count": 9,
     "metadata": {},
     "output_type": "execute_result"
    }
   ],
   "source": [
    "#we need to handle the missing values\n",
    "county_name.isna().sum()"
   ]
  },
  {
   "cell_type": "code",
   "execution_count": 10,
   "metadata": {},
   "outputs": [
    {
     "data": {
      "text/html": [
       "<div>\n",
       "<style scoped>\n",
       "    .dataframe tbody tr th:only-of-type {\n",
       "        vertical-align: middle;\n",
       "    }\n",
       "\n",
       "    .dataframe tbody tr th {\n",
       "        vertical-align: top;\n",
       "    }\n",
       "\n",
       "    .dataframe thead th {\n",
       "        text-align: right;\n",
       "    }\n",
       "</style>\n",
       "<table border=\"1\" class=\"dataframe\">\n",
       "  <thead>\n",
       "    <tr style=\"text-align: right;\">\n",
       "      <th></th>\n",
       "      <th>county_name</th>\n",
       "      <th>phone_no_m</th>\n",
       "    </tr>\n",
       "    <tr>\n",
       "      <th>label</th>\n",
       "      <th></th>\n",
       "      <th></th>\n",
       "    </tr>\n",
       "  </thead>\n",
       "  <tbody>\n",
       "    <tr>\n",
       "      <th>1</th>\n",
       "      <td>0</td>\n",
       "      <td>153</td>\n",
       "    </tr>\n",
       "    <tr>\n",
       "      <th>0</th>\n",
       "      <td>0</td>\n",
       "      <td>36</td>\n",
       "    </tr>\n",
       "  </tbody>\n",
       "</table>\n",
       "</div>"
      ],
      "text/plain": [
       "       county_name  phone_no_m\n",
       "label                         \n",
       "1                0         153\n",
       "0                0          36"
      ]
     },
     "execution_count": 10,
     "metadata": {},
     "output_type": "execute_result"
    }
   ],
   "source": [
    "#clearly those without a county_names are more likely to be spam calls\n",
    "train_user.loc[train_user['county_name'].isna(),['county_name','label','phone_no_m']].groupby(['label']).count().\\\n",
    "                sort_values('phone_no_m',ascending=False).head(15)"
   ]
  },
  {
   "cell_type": "code",
   "execution_count": 11,
   "metadata": {},
   "outputs": [
    {
     "data": {
      "text/html": [
       "<div>\n",
       "<style scoped>\n",
       "    .dataframe tbody tr th:only-of-type {\n",
       "        vertical-align: middle;\n",
       "    }\n",
       "\n",
       "    .dataframe tbody tr th {\n",
       "        vertical-align: top;\n",
       "    }\n",
       "\n",
       "    .dataframe thead th {\n",
       "        text-align: right;\n",
       "    }\n",
       "</style>\n",
       "<table border=\"1\" class=\"dataframe\">\n",
       "  <thead>\n",
       "    <tr style=\"text-align: right;\">\n",
       "      <th></th>\n",
       "      <th></th>\n",
       "      <th>phone_no_m</th>\n",
       "    </tr>\n",
       "    <tr>\n",
       "      <th>label</th>\n",
       "      <th>county_name</th>\n",
       "      <th></th>\n",
       "    </tr>\n",
       "  </thead>\n",
       "  <tbody>\n",
       "    <tr>\n",
       "      <th rowspan=\"3\" valign=\"top\">0</th>\n",
       "      <th>成都直属部门</th>\n",
       "      <td>96</td>\n",
       "    </tr>\n",
       "    <tr>\n",
       "      <th>天府直属部门</th>\n",
       "      <td>93</td>\n",
       "    </tr>\n",
       "    <tr>\n",
       "      <th>武侯分公司</th>\n",
       "      <td>88</td>\n",
       "    </tr>\n",
       "    <tr>\n",
       "      <th rowspan=\"2\" valign=\"top\">1</th>\n",
       "      <th>武侯分公司</th>\n",
       "      <td>84</td>\n",
       "    </tr>\n",
       "    <tr>\n",
       "      <th>锦江分公司</th>\n",
       "      <td>72</td>\n",
       "    </tr>\n",
       "    <tr>\n",
       "      <th rowspan=\"5\" valign=\"top\">0</th>\n",
       "      <th>锦江分公司</th>\n",
       "      <td>62</td>\n",
       "    </tr>\n",
       "    <tr>\n",
       "      <th>青羊分公司</th>\n",
       "      <td>62</td>\n",
       "    </tr>\n",
       "    <tr>\n",
       "      <th>金牛分公司</th>\n",
       "      <td>56</td>\n",
       "    </tr>\n",
       "    <tr>\n",
       "      <th>成华分公司</th>\n",
       "      <td>56</td>\n",
       "    </tr>\n",
       "    <tr>\n",
       "      <th>郫都分公司</th>\n",
       "      <td>51</td>\n",
       "    </tr>\n",
       "  </tbody>\n",
       "</table>\n",
       "</div>"
      ],
      "text/plain": [
       "                   phone_no_m\n",
       "label county_name            \n",
       "0     成都直属部门               96\n",
       "      天府直属部门               93\n",
       "      武侯分公司                88\n",
       "1     武侯分公司                84\n",
       "      锦江分公司                72\n",
       "0     锦江分公司                62\n",
       "      青羊分公司                62\n",
       "      金牛分公司                56\n",
       "      成华分公司                56\n",
       "      郫都分公司                51"
      ]
     },
     "execution_count": 11,
     "metadata": {},
     "output_type": "execute_result"
    }
   ],
   "source": [
    "#the most frequent value: 武侯分公司 spreads across spam and no spam call\n",
    "#worry is this might mean that the na value filled will lose the preditive power\n",
    "#when we clearly see that those without a county label are more likely to be spam calls\n",
    "train_user[['county_name','label','phone_no_m']].groupby(['label','county_name']).count().\\\n",
    "                sort_values('phone_no_m',ascending=False).head(10)"
   ]
  },
  {
   "cell_type": "markdown",
   "metadata": {},
   "source": [
    "#### Encoding"
   ]
  },
  {
   "cell_type": "code",
   "execution_count": 12,
   "metadata": {},
   "outputs": [
    {
     "data": {
      "text/plain": [
       "武侯分公司       4.626143\n",
       "天府直属部门      3.738569\n",
       "锦江分公司       3.604088\n",
       "成都直属部门      3.577192\n",
       "青羊分公司       3.012372\n",
       "              ...   \n",
       "眉山直属部门      0.026896\n",
       "长宁县分公司      0.026896\n",
       "普通及零售分销商    0.026896\n",
       "九寨沟县分公司     0.026896\n",
       "马尔康县分公司     0.026896\n",
       "Name: county_name, Length: 177, dtype: float64"
      ]
     },
     "execution_count": 12,
     "metadata": {},
     "output_type": "execute_result"
    }
   ],
   "source": [
    "#some counties dominates the source of the phone number, while others occupy very little percentage\n",
    "#since there is a total of 180 counties, we might want to create a group that doesn't have spam calls so far\n",
    "county_name.value_counts()/county_name.count()*100"
   ]
  },
  {
   "cell_type": "code",
   "execution_count": 13,
   "metadata": {},
   "outputs": [
    {
     "data": {
      "text/plain": [
       "28.24858757062147"
      ]
     },
     "execution_count": 13,
     "metadata": {},
     "output_type": "execute_result"
    }
   ],
   "source": [
    "#nearly 30 percent of the counties do not have a past record of spam calls\n",
    "county_label = train_user[['county_name','label']].groupby('county_name').sum().\\\n",
    "                            sort_values(by='label',ascending=False).reset_index()\n",
    "np.sum(county_label['label'] == 0) / county_label['county_name'].count() * 100"
   ]
  },
  {
   "cell_type": "markdown",
   "metadata": {},
   "source": [
    "## idcard_cnt"
   ]
  },
  {
   "cell_type": "code",
   "execution_count": 14,
   "metadata": {},
   "outputs": [
    {
     "name": "stdout",
     "output_type": "stream",
     "text": [
      "0\n"
     ]
    },
    {
     "data": {
      "text/plain": [
       "1     1770\n",
       "2      961\n",
       "3      532\n",
       "4      317\n",
       "5      284\n",
       "0       30\n",
       "6       10\n",
       "10       2\n",
       "13       1\n",
       "Name: idcard_cnt, dtype: int64"
      ]
     },
     "execution_count": 14,
     "metadata": {},
     "output_type": "execute_result"
    }
   ],
   "source": [
    "#lucky for us, there is no na for us to handle here\n",
    "#since it's a ordered data (10 id counts > 1 id count), we will use label encoder\n",
    "print(train_user['idcard_cnt'].isna().sum())\n",
    "train_user['idcard_cnt'].value_counts()"
   ]
  },
  {
   "cell_type": "code",
   "execution_count": 15,
   "metadata": {},
   "outputs": [
    {
     "data": {
      "text/html": [
       "<div>\n",
       "<style scoped>\n",
       "    .dataframe tbody tr th:only-of-type {\n",
       "        vertical-align: middle;\n",
       "    }\n",
       "\n",
       "    .dataframe tbody tr th {\n",
       "        vertical-align: top;\n",
       "    }\n",
       "\n",
       "    .dataframe thead th {\n",
       "        text-align: right;\n",
       "    }\n",
       "</style>\n",
       "<table border=\"1\" class=\"dataframe\">\n",
       "  <thead>\n",
       "    <tr style=\"text-align: right;\">\n",
       "      <th></th>\n",
       "      <th>label</th>\n",
       "    </tr>\n",
       "    <tr>\n",
       "      <th>idcard_cnt</th>\n",
       "      <th></th>\n",
       "    </tr>\n",
       "  </thead>\n",
       "  <tbody>\n",
       "    <tr>\n",
       "      <th>0</th>\n",
       "      <td>0.900000</td>\n",
       "    </tr>\n",
       "    <tr>\n",
       "      <th>1</th>\n",
       "      <td>0.176836</td>\n",
       "    </tr>\n",
       "    <tr>\n",
       "      <th>2</th>\n",
       "      <td>0.261186</td>\n",
       "    </tr>\n",
       "    <tr>\n",
       "      <th>3</th>\n",
       "      <td>0.413534</td>\n",
       "    </tr>\n",
       "    <tr>\n",
       "      <th>4</th>\n",
       "      <td>0.593060</td>\n",
       "    </tr>\n",
       "    <tr>\n",
       "      <th>5</th>\n",
       "      <td>0.852113</td>\n",
       "    </tr>\n",
       "    <tr>\n",
       "      <th>6</th>\n",
       "      <td>0.800000</td>\n",
       "    </tr>\n",
       "    <tr>\n",
       "      <th>10</th>\n",
       "      <td>1.000000</td>\n",
       "    </tr>\n",
       "    <tr>\n",
       "      <th>13</th>\n",
       "      <td>1.000000</td>\n",
       "    </tr>\n",
       "  </tbody>\n",
       "</table>\n",
       "</div>"
      ],
      "text/plain": [
       "               label\n",
       "idcard_cnt          \n",
       "0           0.900000\n",
       "1           0.176836\n",
       "2           0.261186\n",
       "3           0.413534\n",
       "4           0.593060\n",
       "5           0.852113\n",
       "6           0.800000\n",
       "10          1.000000\n",
       "13          1.000000"
      ]
     },
     "execution_count": 15,
     "metadata": {},
     "output_type": "execute_result"
    }
   ],
   "source": [
    "#we see that different idcard_cnt has very diff probability of spam call\n",
    "train_user[['idcard_cnt','label']].groupby(['idcard_cnt']).sum()/\\\n",
    "        train_user[['idcard_cnt','label']].groupby(['idcard_cnt']).count()"
   ]
  },
  {
   "cell_type": "markdown",
   "metadata": {},
   "source": [
    "### arpu_20xxxx:"
   ]
  },
  {
   "cell_type": "code",
   "execution_count": 16,
   "metadata": {},
   "outputs": [
    {
     "data": {
      "text/html": [
       "<div>\n",
       "<style scoped>\n",
       "    .dataframe tbody tr th:only-of-type {\n",
       "        vertical-align: middle;\n",
       "    }\n",
       "\n",
       "    .dataframe tbody tr th {\n",
       "        vertical-align: top;\n",
       "    }\n",
       "\n",
       "    .dataframe thead th {\n",
       "        text-align: right;\n",
       "    }\n",
       "</style>\n",
       "<table border=\"1\" class=\"dataframe\">\n",
       "  <thead>\n",
       "    <tr style=\"text-align: right;\">\n",
       "      <th></th>\n",
       "      <th>arpu_201909</th>\n",
       "      <th>arpu_201910</th>\n",
       "      <th>arpu_201911</th>\n",
       "      <th>arpu_201912</th>\n",
       "      <th>arpu_202001</th>\n",
       "      <th>arpu_202002</th>\n",
       "      <th>arpu_202003</th>\n",
       "    </tr>\n",
       "    <tr>\n",
       "      <th>label</th>\n",
       "      <th></th>\n",
       "      <th></th>\n",
       "      <th></th>\n",
       "      <th></th>\n",
       "      <th></th>\n",
       "      <th></th>\n",
       "      <th></th>\n",
       "    </tr>\n",
       "  </thead>\n",
       "  <tbody>\n",
       "    <tr>\n",
       "      <th>0</th>\n",
       "      <td>57.387099</td>\n",
       "      <td>57.707644</td>\n",
       "      <td>57.130558</td>\n",
       "      <td>57.516684</td>\n",
       "      <td>56.712439</td>\n",
       "      <td>54.416695</td>\n",
       "      <td>55.236554</td>\n",
       "    </tr>\n",
       "    <tr>\n",
       "      <th>1</th>\n",
       "      <td>63.778444</td>\n",
       "      <td>63.391505</td>\n",
       "      <td>85.147719</td>\n",
       "      <td>108.596740</td>\n",
       "      <td>72.672601</td>\n",
       "      <td>80.063333</td>\n",
       "      <td>91.811764</td>\n",
       "    </tr>\n",
       "  </tbody>\n",
       "</table>\n",
       "</div>"
      ],
      "text/plain": [
       "       arpu_201909  arpu_201910  arpu_201911  arpu_201912  arpu_202001  \\\n",
       "label                                                                    \n",
       "0        57.387099    57.707644    57.130558    57.516684    56.712439   \n",
       "1        63.778444    63.391505    85.147719   108.596740    72.672601   \n",
       "\n",
       "       arpu_202002  arpu_202003  \n",
       "label                            \n",
       "0        54.416695    55.236554  \n",
       "1        80.063333    91.811764  "
      ]
     },
     "execution_count": 16,
     "metadata": {},
     "output_type": "execute_result"
    }
   ],
   "source": [
    "#in average, spam callers spend much more than normal users\n",
    "train_user[['arpu_201909', 'arpu_201910', 'arpu_201911', 'arpu_201912',\n",
    "       'arpu_202001', 'arpu_202002', 'arpu_202003', 'label']].groupby('label').sum()/train_user[['arpu_201909', 'arpu_201910', 'arpu_201911', 'arpu_201912',\n",
    "       'arpu_202001', 'arpu_202002', 'arpu_202003', 'label']].groupby('label').count()"
   ]
  },
  {
   "cell_type": "code",
   "execution_count": 17,
   "metadata": {},
   "outputs": [
    {
     "data": {
      "text/plain": [
       "arpu_201909    58.367105\n",
       "arpu_201910    58.771224\n",
       "arpu_201911    63.944843\n",
       "arpu_201912    69.974863\n",
       "arpu_202001    60.185207\n",
       "arpu_202002    59.940706\n",
       "arpu_202003    63.607528\n",
       "dtype: float64"
      ]
     },
     "execution_count": 17,
     "metadata": {},
     "output_type": "execute_result"
    }
   ],
   "source": [
    "#and we observe that spam callers always spend much higher than the average amount of all users\n",
    "#we can consider to recode the amount spend as a binary variable: higher or lower than mean\n",
    "train_user[['arpu_201909', 'arpu_201910', 'arpu_201911', 'arpu_201912',\n",
    "       'arpu_202001', 'arpu_202002', 'arpu_202003']].mean()"
   ]
  },
  {
   "cell_type": "code",
   "execution_count": 18,
   "metadata": {},
   "outputs": [
    {
     "data": {
      "text/plain": [
       "arpu_201909    1057\n",
       "arpu_201910     925\n",
       "arpu_201911     663\n",
       "arpu_201912     549\n",
       "arpu_202001     621\n",
       "arpu_202002     606\n",
       "arpu_202003     464\n",
       "dtype: int64"
      ]
     },
     "execution_count": 18,
     "metadata": {},
     "output_type": "execute_result"
    }
   ],
   "source": [
    "#we need to handle the missing values\n",
    "train_user[['arpu_201909', 'arpu_201910', 'arpu_201911', 'arpu_201912',\n",
    "       'arpu_202001', 'arpu_202002', 'arpu_202003']].isna().sum()"
   ]
  },
  {
   "cell_type": "code",
   "execution_count": 19,
   "metadata": {},
   "outputs": [
    {
     "data": {
      "text/html": [
       "<div>\n",
       "<style scoped>\n",
       "    .dataframe tbody tr th:only-of-type {\n",
       "        vertical-align: middle;\n",
       "    }\n",
       "\n",
       "    .dataframe tbody tr th {\n",
       "        vertical-align: top;\n",
       "    }\n",
       "\n",
       "    .dataframe thead th {\n",
       "        text-align: right;\n",
       "    }\n",
       "</style>\n",
       "<table border=\"1\" class=\"dataframe\">\n",
       "  <thead>\n",
       "    <tr style=\"text-align: right;\">\n",
       "      <th></th>\n",
       "      <th>arpu_201909</th>\n",
       "      <th>arpu_201910</th>\n",
       "      <th>arpu_201911</th>\n",
       "      <th>arpu_201912</th>\n",
       "      <th>arpu_202001</th>\n",
       "      <th>arpu_202002</th>\n",
       "      <th>arpu_202003</th>\n",
       "    </tr>\n",
       "    <tr>\n",
       "      <th>label</th>\n",
       "      <th></th>\n",
       "      <th></th>\n",
       "      <th></th>\n",
       "      <th></th>\n",
       "      <th></th>\n",
       "      <th></th>\n",
       "      <th></th>\n",
       "    </tr>\n",
       "  </thead>\n",
       "  <tbody>\n",
       "    <tr>\n",
       "      <th>0</th>\n",
       "      <td>-1494</td>\n",
       "      <td>-1483</td>\n",
       "      <td>-1452</td>\n",
       "      <td>-1368</td>\n",
       "      <td>-1336</td>\n",
       "      <td>-1317</td>\n",
       "      <td>-1252</td>\n",
       "    </tr>\n",
       "    <tr>\n",
       "      <th>1</th>\n",
       "      <td>-3470</td>\n",
       "      <td>-3349</td>\n",
       "      <td>-3118</td>\n",
       "      <td>-3088</td>\n",
       "      <td>-3192</td>\n",
       "      <td>-3196</td>\n",
       "      <td>-3119</td>\n",
       "    </tr>\n",
       "  </tbody>\n",
       "</table>\n",
       "</div>"
      ],
      "text/plain": [
       "       arpu_201909  arpu_201910  arpu_201911  arpu_201912  arpu_202001  \\\n",
       "label                                                                    \n",
       "0            -1494        -1483        -1452        -1368        -1336   \n",
       "1            -3470        -3349        -3118        -3088        -3192   \n",
       "\n",
       "       arpu_202002  arpu_202003  \n",
       "label                            \n",
       "0            -1317        -1252  \n",
       "1            -3196        -3119  "
      ]
     },
     "execution_count": 19,
     "metadata": {},
     "output_type": "execute_result"
    }
   ],
   "source": [
    "#we see that we are lacking more of the spending amt by spam callers\n",
    "#therefore, we can't simply impute average, which will disrupte our prediction\n",
    "#let us use the county mean to impute the average, which is correlated with the spam call\n",
    "train_user[['arpu_201909', 'arpu_201910', 'arpu_201911', 'arpu_201912',\n",
    "       'arpu_202001', 'arpu_202002', 'arpu_202003','label']].groupby('label').count() - train_user.shape[0]"
   ]
  },
  {
   "cell_type": "code",
   "execution_count": 20,
   "metadata": {},
   "outputs": [],
   "source": [
    "missing_arpu = train_user.drop(['city_name','idcard_cnt','phone_no_m'],axis=1).groupby(['label','county_name']).count()\\\n",
    "            -np.repeat(train_user[['county_name','phone_no_m','label']].groupby(['label','county_name']).\\\n",
    "                        count().values,8,axis=1)"
   ]
  },
  {
   "cell_type": "code",
   "execution_count": 21,
   "metadata": {},
   "outputs": [
    {
     "data": {
      "text/html": [
       "<div>\n",
       "<style scoped>\n",
       "    .dataframe tbody tr th:only-of-type {\n",
       "        vertical-align: middle;\n",
       "    }\n",
       "\n",
       "    .dataframe tbody tr th {\n",
       "        vertical-align: top;\n",
       "    }\n",
       "\n",
       "    .dataframe thead th {\n",
       "        text-align: right;\n",
       "    }\n",
       "</style>\n",
       "<table border=\"1\" class=\"dataframe\">\n",
       "  <thead>\n",
       "    <tr style=\"text-align: right;\">\n",
       "      <th></th>\n",
       "      <th></th>\n",
       "      <th>arpu_201908</th>\n",
       "      <th>arpu_201909</th>\n",
       "      <th>arpu_201910</th>\n",
       "      <th>arpu_201911</th>\n",
       "      <th>arpu_201912</th>\n",
       "      <th>arpu_202001</th>\n",
       "      <th>arpu_202002</th>\n",
       "      <th>arpu_202003</th>\n",
       "    </tr>\n",
       "    <tr>\n",
       "      <th>label</th>\n",
       "      <th>county_name</th>\n",
       "      <th></th>\n",
       "      <th></th>\n",
       "      <th></th>\n",
       "      <th></th>\n",
       "      <th></th>\n",
       "      <th></th>\n",
       "      <th></th>\n",
       "      <th></th>\n",
       "    </tr>\n",
       "  </thead>\n",
       "  <tbody>\n",
       "    <tr>\n",
       "      <th rowspan=\"5\" valign=\"top\">0</th>\n",
       "      <th>万源市分公司</th>\n",
       "      <td>-1</td>\n",
       "      <td>-1</td>\n",
       "      <td>-1</td>\n",
       "      <td>-1</td>\n",
       "      <td>0</td>\n",
       "      <td>0</td>\n",
       "      <td>0</td>\n",
       "      <td>0</td>\n",
       "    </tr>\n",
       "    <tr>\n",
       "      <th>三台分公司</th>\n",
       "      <td>0</td>\n",
       "      <td>0</td>\n",
       "      <td>0</td>\n",
       "      <td>0</td>\n",
       "      <td>0</td>\n",
       "      <td>0</td>\n",
       "      <td>0</td>\n",
       "      <td>0</td>\n",
       "    </tr>\n",
       "    <tr>\n",
       "      <th>东兴区分公司</th>\n",
       "      <td>-2</td>\n",
       "      <td>-2</td>\n",
       "      <td>-2</td>\n",
       "      <td>-2</td>\n",
       "      <td>-1</td>\n",
       "      <td>-1</td>\n",
       "      <td>-1</td>\n",
       "      <td>0</td>\n",
       "    </tr>\n",
       "    <tr>\n",
       "      <th>东区分公司</th>\n",
       "      <td>-3</td>\n",
       "      <td>-3</td>\n",
       "      <td>-3</td>\n",
       "      <td>-2</td>\n",
       "      <td>-1</td>\n",
       "      <td>-1</td>\n",
       "      <td>0</td>\n",
       "      <td>0</td>\n",
       "    </tr>\n",
       "    <tr>\n",
       "      <th>东坡区分公司</th>\n",
       "      <td>-5</td>\n",
       "      <td>-5</td>\n",
       "      <td>-5</td>\n",
       "      <td>-5</td>\n",
       "      <td>-2</td>\n",
       "      <td>-2</td>\n",
       "      <td>-2</td>\n",
       "      <td>0</td>\n",
       "    </tr>\n",
       "  </tbody>\n",
       "</table>\n",
       "</div>"
      ],
      "text/plain": [
       "                   arpu_201908  arpu_201909  arpu_201910  arpu_201911  \\\n",
       "label county_name                                                       \n",
       "0     万源市分公司                -1           -1           -1           -1   \n",
       "      三台分公司                  0            0            0            0   \n",
       "      东兴区分公司                -2           -2           -2           -2   \n",
       "      东区分公司                 -3           -3           -3           -2   \n",
       "      东坡区分公司                -5           -5           -5           -5   \n",
       "\n",
       "                   arpu_201912  arpu_202001  arpu_202002  arpu_202003  \n",
       "label county_name                                                      \n",
       "0     万源市分公司                 0            0            0            0  \n",
       "      三台分公司                  0            0            0            0  \n",
       "      东兴区分公司                -1           -1           -1            0  \n",
       "      东区分公司                 -1           -1            0            0  \n",
       "      东坡区分公司                -2           -2           -2            0  "
      ]
     },
     "execution_count": 21,
     "metadata": {},
     "output_type": "execute_result"
    }
   ],
   "source": [
    "missing_arpu.head()"
   ]
  },
  {
   "cell_type": "markdown",
   "metadata": {},
   "source": [
    "# Building baseline"
   ]
  },
  {
   "cell_type": "markdown",
   "metadata": {},
   "source": [
    "Here are the preprocessing and feature engineering steps we'll take for train_user.csv\n",
    "\n",
    "city_name:\n",
    "\n",
    "- drop\n",
    "\n",
    "county_name:\n",
    "\n",
    "- fillna with:\n",
    "\n",
    "    1. no_record (preferred)\n",
    "\n",
    "    2. most frequent county\n",
    "\n",
    "- encoding:\n",
    "\n",
    "    1. OHE\n",
    "\n",
    "    2. Group county into individual county and no past record of spam call county\n",
    "\n",
    "idcard_cnt:\n",
    "\n",
    "- encoding\n",
    "    1. label encoding: nothing to be done\n",
    "\n",
    "arpu_20xxxx:\n",
    "\n",
    "- na: impute by model\n",
    "\n",
    "- Feature engineering:\n",
    "\n",
    "    1. Raw numbers\n",
    "    2. binary variable: higher or lower than mean"
   ]
  },
  {
   "cell_type": "code",
   "execution_count": 22,
   "metadata": {},
   "outputs": [],
   "source": [
    "train_x, train_y = train_user.drop(['phone_no_m','label'],axis=1), train_user['label']\n",
    "test_x, test_y = test_user.drop(['phone_no_m','label'],axis=1), test_user['label']"
   ]
  },
  {
   "cell_type": "code",
   "execution_count": 23,
   "metadata": {},
   "outputs": [],
   "source": [
    "#city_name\n",
    "def drop_city_name(df):\n",
    "    return df.iloc[:,1:]\n",
    "drop_city_name_transformer = FunctionTransformer(drop_city_name)"
   ]
  },
  {
   "cell_type": "code",
   "execution_count": 24,
   "metadata": {},
   "outputs": [],
   "source": [
    "#county_name: impute + encoding\n",
    "county_name_impute_no_record = SimpleImputer(strategy='constant',fill_value='no_record')\n",
    "county_name_impute_most_frequent = SimpleImputer(strategy='most_frequent')\n",
    "county_name_OHE = OneHotEncoder(handle_unknown='ignore')\n",
    "county_spam_call_record = train_user[['county_name','label']].groupby('county_name').\\\n",
    "                                sum().sort_values(by='label').reset_index()\n",
    "county_no_spam_call_record = county_spam_call_record.loc[county_spam_call_record['label']==0,'county_name']\n",
    "def county_name_grouping(county_name):\n",
    "    index= np.isin(county_name,county_no_spam_call_record)\n",
    "    new_county_name = np.where(index,'no_past_spam_call_record',county_name)\n",
    "    return new_county_name\n",
    "county_name_grouping_transformer = FunctionTransformer(county_name_grouping)"
   ]
  },
  {
   "cell_type": "code",
   "execution_count": 25,
   "metadata": {},
   "outputs": [],
   "source": [
    "#arpu_20xxxx: impute + feature engineering\n",
    "arpu_20xxxx_impute = IterativeImputer(random_state=0,\\\n",
    "                                      estimator=DecisionTreeRegressor(max_features='sqrt', random_state=0))\n",
    "def arpu_20xxxx_compare_mean(arpu_20xxxx):\n",
    "    mean = arpu_20xxxx.mean()\n",
    "    return arpu_20xxxx > mean\n",
    "arpu_20xxxx_compare_mean_transformer = FunctionTransformer(arpu_20xxxx_compare_mean)"
   ]
  },
  {
   "cell_type": "code",
   "execution_count": 26,
   "metadata": {},
   "outputs": [],
   "source": [
    "#pipeline\n",
    "county_name_pipe = Pipeline([('impute',county_name_impute_no_record),('encode',county_name_OHE)])\n",
    "arpu_20xxxx_pipe = Pipeline([('impute',arpu_20xxxx_impute),('transform',arpu_20xxxx_compare_mean_transformer),\n",
    "                            ('scale',StandardScaler())])\n",
    "train_user_preprocess_ct = ColumnTransformer([('county_name',county_name_pipe,['county_name']),\n",
    "                               ('arpu_20xxxx',arpu_20xxxx_pipe,['arpu_201908', 'arpu_201909', 'arpu_201910', \n",
    "                                                                'arpu_201911', 'arpu_201912','arpu_202001',\n",
    "                                                                'arpu_202002', 'arpu_202003'])], \n",
    "                               remainder='passthrough',n_jobs=-1)\n",
    "train_user_preprocess = Pipeline([['drop',drop_city_name_transformer],\n",
    "                                  ('col_transform',train_user_preprocess_ct)])"
   ]
  },
  {
   "cell_type": "code",
   "execution_count": 27,
   "metadata": {},
   "outputs": [],
   "source": [
    "models = [RandomForestClassifier(n_jobs=-1,random_state=0),\n",
    "         LogisticRegression(n_jobs=-1,random_state=0),\n",
    "         RidgeClassifier(random_state=0)]"
   ]
  },
  {
   "cell_type": "code",
   "execution_count": 28,
   "metadata": {},
   "outputs": [],
   "source": [
    "model_pipeline = Pipeline([('preprocess',train_user_preprocess),('model',models[1])])"
   ]
  },
  {
   "cell_type": "code",
   "execution_count": 29,
   "metadata": {},
   "outputs": [
    {
     "data": {
      "text/plain": [
       "matrix([[ 0.        ,  0.        ,  0.        ,  0.        ,  0.        ,\n",
       "          0.        ,  0.        ,  0.        ,  0.        ,  0.        ,\n",
       "          0.        ,  0.        ,  0.        ,  0.        ,  0.        ,\n",
       "          0.        ,  0.        ,  0.        ,  0.        ,  0.        ,\n",
       "          0.        ,  0.        ,  0.        ,  0.        ,  0.        ,\n",
       "          0.        ,  0.        ,  0.        ,  0.        ,  1.        ,\n",
       "          0.        ,  0.        ,  0.        ,  0.        ,  0.        ,\n",
       "          0.        ,  0.        ,  0.        ,  0.        ,  0.        ,\n",
       "          0.        ,  0.        ,  0.        ,  0.        ,  0.        ,\n",
       "          0.        ,  0.        ,  0.        ,  0.        ,  0.        ,\n",
       "          0.        ,  0.        ,  0.        ,  0.        ,  0.        ,\n",
       "          0.        ,  0.        ,  0.        ,  0.        ,  0.        ,\n",
       "          0.        ,  0.        ,  0.        ,  0.        ,  0.        ,\n",
       "          0.        ,  0.        ,  0.        ,  0.        ,  0.        ,\n",
       "          0.        ,  0.        ,  0.        ,  0.        ,  0.        ,\n",
       "          0.        ,  0.        ,  0.        ,  0.        ,  0.        ,\n",
       "          0.        ,  0.        ,  0.        ,  0.        ,  0.        ,\n",
       "          0.        ,  0.        ,  0.        ,  0.        ,  0.        ,\n",
       "          0.        ,  0.        ,  0.        ,  0.        ,  0.        ,\n",
       "          0.        ,  0.        ,  0.        ,  0.        ,  0.        ,\n",
       "          0.        ,  0.        ,  0.        ,  0.        ,  0.        ,\n",
       "          0.        ,  0.        ,  0.        ,  0.        ,  0.        ,\n",
       "          0.        ,  0.        ,  0.        ,  0.        ,  0.        ,\n",
       "          0.        ,  0.        ,  0.        ,  0.        ,  0.        ,\n",
       "          0.        ,  0.        ,  0.        ,  0.        ,  0.        ,\n",
       "          0.        ,  0.        ,  0.        ,  0.        ,  0.        ,\n",
       "          0.        ,  0.        ,  0.        ,  0.        ,  0.        ,\n",
       "          0.        ,  0.        ,  0.        ,  0.        ,  0.        ,\n",
       "          0.        ,  0.        ,  0.        ,  0.        ,  0.        ,\n",
       "          0.        ,  0.        ,  0.        ,  0.        ,  0.        ,\n",
       "          0.        ,  0.        ,  0.        ,  0.        ,  0.        ,\n",
       "          0.        ,  0.        ,  0.        ,  0.        ,  0.        ,\n",
       "          0.        ,  0.        ,  0.        ,  0.        ,  0.        ,\n",
       "          0.        ,  0.        ,  0.        ,  0.        ,  0.        ,\n",
       "          0.        ,  0.        ,  0.        ,  0.        ,  0.        ,\n",
       "          0.        ,  0.        ,  0.        , -0.70615682, -0.68428431,\n",
       "         -0.70330948, -0.75520701, -0.77412092, -0.70900797, -0.68549412,\n",
       "          1.2777908 ,  4.        ]])"
      ]
     },
     "execution_count": 29,
     "metadata": {},
     "output_type": "execute_result"
    }
   ],
   "source": [
    "#we verify that our preprocessing is working, we have OHE of county, scaled total spending in a month\n",
    "#and passthrough idcard_cnt\n",
    "train_user_preprocess.fit_transform(train_x).todense()[0,:]"
   ]
  },
  {
   "cell_type": "code",
   "execution_count": 30,
   "metadata": {
    "scrolled": true
   },
   "outputs": [
    {
     "data": {
      "text/plain": [
       "0.7439087059542641"
      ]
     },
     "execution_count": 30,
     "metadata": {},
     "output_type": "execute_result"
    }
   ],
   "source": [
    "#our baseline score\n",
    "cross_val_score(model_pipeline, train_x, train_y, n_jobs=-1, cv=4, scoring='f1_macro').mean()"
   ]
  },
  {
   "cell_type": "markdown",
   "metadata": {},
   "source": [
    "## Best combination"
   ]
  },
  {
   "cell_type": "code",
   "execution_count": 31,
   "metadata": {},
   "outputs": [],
   "source": [
    "#model_pipeline.get_params()"
   ]
  },
  {
   "cell_type": "code",
   "execution_count": 32,
   "metadata": {},
   "outputs": [],
   "source": [
    "params = {\n",
    "'preprocess__col_transform__county_name__impute':[county_name_impute_no_record,\n",
    "    county_name_impute_most_frequent], #county_name impute: no record or most frequent\n",
    "'preprocess__col_transform__county_name__encode':[county_name_OHE,\n",
    "    make_pipeline(county_name_grouping_transformer,county_name_OHE)], #county_name encode: OHE or group then OHE\n",
    "'preprocess__col_transform__arpu_20xxxx__impute':[arpu_20xxxx_impute,\n",
    "    SimpleImputer(strategy='mean'), KNNImputer(),\n",
    "    SimpleImputer(strategy='median')], #arpu_20xxxx impute: by model or by mean\n",
    "'preprocess__col_transform__arpu_20xxxx__transform':[None,\n",
    "    arpu_20xxxx_compare_mean_transformer], #arpu_20xxxx feature engineering: raw number or binary encoded\n",
    "'preprocess__col_transform__arpu_20xxxx__scale': [StandardScaler(), \n",
    "                                                  RobustScaler(), MinMaxScaler()], #diff scaler\n",
    "'model': models\n",
    "} "
   ]
  },
  {
   "cell_type": "code",
   "execution_count": 33,
   "metadata": {},
   "outputs": [],
   "source": [
    "#to compare with baseline logistic model\n",
    "# params = {\n",
    "# 'preprocess__col_transform__county_name__impute':[county_name_impute_no_record,\n",
    "#     county_name_impute_most_frequent], #county_name impute: no record or most frequent\n",
    "# 'preprocess__col_transform__county_name__encode':[county_name_OHE,\n",
    "#     make_pipeline(county_name_grouping_transformer,county_name_OHE)], #county_name encode: OHE or group then OHE\n",
    "# 'preprocess__col_transform__arpu_20xxxx__impute':[arpu_20xxxx_impute,\n",
    "#     SimpleImputer(strategy='mean'), KNNImputer(),\n",
    "#     SimpleImputer(strategy='median')], #arpu_20xxxx impute: by model or by mean\n",
    "# 'preprocess__col_transform__arpu_20xxxx__transform':[None,\n",
    "#     arpu_20xxxx_compare_mean_transformer], #arpu_20xxxx feature engineering: raw number or binary encoded\n",
    "# 'preprocess__col_transform__arpu_20xxxx__scale': [StandardScaler(), \n",
    "#                                                   RobustScaler(), MinMaxScaler()] #diff scaler\n",
    "# } "
   ]
  },
  {
   "cell_type": "code",
   "execution_count": 34,
   "metadata": {},
   "outputs": [],
   "source": [
    "combi_search = GridSearchCV(model_pipeline,params,scoring='f1_macro',cv=5,n_jobs=-1,verbose=1)"
   ]
  },
  {
   "cell_type": "code",
   "execution_count": 35,
   "metadata": {},
   "outputs": [
    {
     "name": "stdout",
     "output_type": "stream",
     "text": [
      "Fitting 5 folds for each of 288 candidates, totalling 1440 fits\n"
     ]
    },
    {
     "name": "stderr",
     "output_type": "stream",
     "text": [
      "[Parallel(n_jobs=-1)]: Using backend LokyBackend with 8 concurrent workers.\n",
      "[Parallel(n_jobs=-1)]: Done  34 tasks      | elapsed:   12.7s\n",
      "[Parallel(n_jobs=-1)]: Done 184 tasks      | elapsed:   52.7s\n",
      "[Parallel(n_jobs=-1)]: Done 434 tasks      | elapsed:  2.0min\n",
      "[Parallel(n_jobs=-1)]: Done 784 tasks      | elapsed:  2.6min\n",
      "[Parallel(n_jobs=-1)]: Done 1234 tasks      | elapsed:  3.3min\n",
      "[Parallel(n_jobs=-1)]: Done 1440 out of 1440 | elapsed:  3.5min finished\n"
     ]
    }
   ],
   "source": [
    "combi_search.fit(train_x,train_y);"
   ]
  },
  {
   "cell_type": "code",
   "execution_count": 36,
   "metadata": {},
   "outputs": [],
   "source": [
    "results = pd.DataFrame(combi_search.cv_results_).sort_values(by='rank_test_score')"
   ]
  },
  {
   "cell_type": "code",
   "execution_count": 37,
   "metadata": {},
   "outputs": [
    {
     "data": {
      "text/html": [
       "<div>\n",
       "<style scoped>\n",
       "    .dataframe tbody tr th:only-of-type {\n",
       "        vertical-align: middle;\n",
       "    }\n",
       "\n",
       "    .dataframe tbody tr th {\n",
       "        vertical-align: top;\n",
       "    }\n",
       "\n",
       "    .dataframe thead th {\n",
       "        text-align: right;\n",
       "    }\n",
       "</style>\n",
       "<table border=\"1\" class=\"dataframe\">\n",
       "  <thead>\n",
       "    <tr style=\"text-align: right;\">\n",
       "      <th></th>\n",
       "      <th>mean_fit_time</th>\n",
       "      <th>std_fit_time</th>\n",
       "      <th>mean_score_time</th>\n",
       "      <th>std_score_time</th>\n",
       "      <th>param_model</th>\n",
       "      <th>param_preprocess__col_transform__arpu_20xxxx__impute</th>\n",
       "      <th>param_preprocess__col_transform__arpu_20xxxx__scale</th>\n",
       "      <th>param_preprocess__col_transform__arpu_20xxxx__transform</th>\n",
       "      <th>param_preprocess__col_transform__county_name__encode</th>\n",
       "      <th>param_preprocess__col_transform__county_name__impute</th>\n",
       "      <th>params</th>\n",
       "      <th>split0_test_score</th>\n",
       "      <th>split1_test_score</th>\n",
       "      <th>split2_test_score</th>\n",
       "      <th>split3_test_score</th>\n",
       "      <th>split4_test_score</th>\n",
       "      <th>mean_test_score</th>\n",
       "      <th>std_test_score</th>\n",
       "      <th>rank_test_score</th>\n",
       "    </tr>\n",
       "  </thead>\n",
       "  <tbody>\n",
       "    <tr>\n",
       "      <th>43</th>\n",
       "      <td>1.255712</td>\n",
       "      <td>0.081891</td>\n",
       "      <td>0.220256</td>\n",
       "      <td>0.003634</td>\n",
       "      <td>RandomForestClassifier(n_jobs=-1, random_state=0)</td>\n",
       "      <td>SimpleImputer()</td>\n",
       "      <td>MinMaxScaler()</td>\n",
       "      <td>None</td>\n",
       "      <td>(FunctionTransformer(func=&lt;function county_nam...</td>\n",
       "      <td>SimpleImputer(strategy='most_frequent')</td>\n",
       "      <td>{'model': RandomForestClassifier(n_jobs=-1, ra...</td>\n",
       "      <td>0.850404</td>\n",
       "      <td>0.886868</td>\n",
       "      <td>0.885171</td>\n",
       "      <td>0.873788</td>\n",
       "      <td>0.854434</td>\n",
       "      <td>0.870133</td>\n",
       "      <td>0.015200</td>\n",
       "      <td>1</td>\n",
       "    </tr>\n",
       "    <tr>\n",
       "      <th>35</th>\n",
       "      <td>1.377542</td>\n",
       "      <td>0.084891</td>\n",
       "      <td>0.224064</td>\n",
       "      <td>0.010798</td>\n",
       "      <td>RandomForestClassifier(n_jobs=-1, random_state=0)</td>\n",
       "      <td>SimpleImputer()</td>\n",
       "      <td>RobustScaler()</td>\n",
       "      <td>None</td>\n",
       "      <td>(FunctionTransformer(func=&lt;function county_nam...</td>\n",
       "      <td>SimpleImputer(strategy='most_frequent')</td>\n",
       "      <td>{'model': RandomForestClassifier(n_jobs=-1, ra...</td>\n",
       "      <td>0.850404</td>\n",
       "      <td>0.886868</td>\n",
       "      <td>0.885171</td>\n",
       "      <td>0.873788</td>\n",
       "      <td>0.854434</td>\n",
       "      <td>0.870133</td>\n",
       "      <td>0.015200</td>\n",
       "      <td>1</td>\n",
       "    </tr>\n",
       "    <tr>\n",
       "      <th>27</th>\n",
       "      <td>1.268626</td>\n",
       "      <td>0.049832</td>\n",
       "      <td>0.217957</td>\n",
       "      <td>0.003197</td>\n",
       "      <td>RandomForestClassifier(n_jobs=-1, random_state=0)</td>\n",
       "      <td>SimpleImputer()</td>\n",
       "      <td>StandardScaler()</td>\n",
       "      <td>None</td>\n",
       "      <td>(FunctionTransformer(func=&lt;function county_nam...</td>\n",
       "      <td>SimpleImputer(strategy='most_frequent')</td>\n",
       "      <td>{'model': RandomForestClassifier(n_jobs=-1, ra...</td>\n",
       "      <td>0.850404</td>\n",
       "      <td>0.886868</td>\n",
       "      <td>0.885171</td>\n",
       "      <td>0.873788</td>\n",
       "      <td>0.853075</td>\n",
       "      <td>0.869861</td>\n",
       "      <td>0.015488</td>\n",
       "      <td>3</td>\n",
       "    </tr>\n",
       "    <tr>\n",
       "      <th>24</th>\n",
       "      <td>1.033141</td>\n",
       "      <td>0.067154</td>\n",
       "      <td>0.219500</td>\n",
       "      <td>0.003463</td>\n",
       "      <td>RandomForestClassifier(n_jobs=-1, random_state=0)</td>\n",
       "      <td>SimpleImputer()</td>\n",
       "      <td>StandardScaler()</td>\n",
       "      <td>None</td>\n",
       "      <td>OneHotEncoder(handle_unknown='ignore')</td>\n",
       "      <td>SimpleImputer(fill_value='no_record', strategy...</td>\n",
       "      <td>{'model': RandomForestClassifier(n_jobs=-1, ra...</td>\n",
       "      <td>0.852579</td>\n",
       "      <td>0.877885</td>\n",
       "      <td>0.885990</td>\n",
       "      <td>0.869234</td>\n",
       "      <td>0.850509</td>\n",
       "      <td>0.867239</td>\n",
       "      <td>0.013883</td>\n",
       "      <td>4</td>\n",
       "    </tr>\n",
       "    <tr>\n",
       "      <th>32</th>\n",
       "      <td>1.233067</td>\n",
       "      <td>0.085539</td>\n",
       "      <td>0.217383</td>\n",
       "      <td>0.001012</td>\n",
       "      <td>RandomForestClassifier(n_jobs=-1, random_state=0)</td>\n",
       "      <td>SimpleImputer()</td>\n",
       "      <td>RobustScaler()</td>\n",
       "      <td>None</td>\n",
       "      <td>OneHotEncoder(handle_unknown='ignore')</td>\n",
       "      <td>SimpleImputer(fill_value='no_record', strategy...</td>\n",
       "      <td>{'model': RandomForestClassifier(n_jobs=-1, ra...</td>\n",
       "      <td>0.852579</td>\n",
       "      <td>0.877885</td>\n",
       "      <td>0.885990</td>\n",
       "      <td>0.869234</td>\n",
       "      <td>0.850509</td>\n",
       "      <td>0.867239</td>\n",
       "      <td>0.013883</td>\n",
       "      <td>4</td>\n",
       "    </tr>\n",
       "  </tbody>\n",
       "</table>\n",
       "</div>"
      ],
      "text/plain": [
       "    mean_fit_time  std_fit_time  mean_score_time  std_score_time  \\\n",
       "43       1.255712      0.081891         0.220256        0.003634   \n",
       "35       1.377542      0.084891         0.224064        0.010798   \n",
       "27       1.268626      0.049832         0.217957        0.003197   \n",
       "24       1.033141      0.067154         0.219500        0.003463   \n",
       "32       1.233067      0.085539         0.217383        0.001012   \n",
       "\n",
       "                                          param_model  \\\n",
       "43  RandomForestClassifier(n_jobs=-1, random_state=0)   \n",
       "35  RandomForestClassifier(n_jobs=-1, random_state=0)   \n",
       "27  RandomForestClassifier(n_jobs=-1, random_state=0)   \n",
       "24  RandomForestClassifier(n_jobs=-1, random_state=0)   \n",
       "32  RandomForestClassifier(n_jobs=-1, random_state=0)   \n",
       "\n",
       "   param_preprocess__col_transform__arpu_20xxxx__impute  \\\n",
       "43                                    SimpleImputer()     \n",
       "35                                    SimpleImputer()     \n",
       "27                                    SimpleImputer()     \n",
       "24                                    SimpleImputer()     \n",
       "32                                    SimpleImputer()     \n",
       "\n",
       "   param_preprocess__col_transform__arpu_20xxxx__scale  \\\n",
       "43                                     MinMaxScaler()    \n",
       "35                                     RobustScaler()    \n",
       "27                                   StandardScaler()    \n",
       "24                                   StandardScaler()    \n",
       "32                                     RobustScaler()    \n",
       "\n",
       "   param_preprocess__col_transform__arpu_20xxxx__transform  \\\n",
       "43                                               None        \n",
       "35                                               None        \n",
       "27                                               None        \n",
       "24                                               None        \n",
       "32                                               None        \n",
       "\n",
       "   param_preprocess__col_transform__county_name__encode  \\\n",
       "43  (FunctionTransformer(func=<function county_nam...     \n",
       "35  (FunctionTransformer(func=<function county_nam...     \n",
       "27  (FunctionTransformer(func=<function county_nam...     \n",
       "24             OneHotEncoder(handle_unknown='ignore')     \n",
       "32             OneHotEncoder(handle_unknown='ignore')     \n",
       "\n",
       "   param_preprocess__col_transform__county_name__impute  \\\n",
       "43            SimpleImputer(strategy='most_frequent')     \n",
       "35            SimpleImputer(strategy='most_frequent')     \n",
       "27            SimpleImputer(strategy='most_frequent')     \n",
       "24  SimpleImputer(fill_value='no_record', strategy...     \n",
       "32  SimpleImputer(fill_value='no_record', strategy...     \n",
       "\n",
       "                                               params  split0_test_score  \\\n",
       "43  {'model': RandomForestClassifier(n_jobs=-1, ra...           0.850404   \n",
       "35  {'model': RandomForestClassifier(n_jobs=-1, ra...           0.850404   \n",
       "27  {'model': RandomForestClassifier(n_jobs=-1, ra...           0.850404   \n",
       "24  {'model': RandomForestClassifier(n_jobs=-1, ra...           0.852579   \n",
       "32  {'model': RandomForestClassifier(n_jobs=-1, ra...           0.852579   \n",
       "\n",
       "    split1_test_score  split2_test_score  split3_test_score  \\\n",
       "43           0.886868           0.885171           0.873788   \n",
       "35           0.886868           0.885171           0.873788   \n",
       "27           0.886868           0.885171           0.873788   \n",
       "24           0.877885           0.885990           0.869234   \n",
       "32           0.877885           0.885990           0.869234   \n",
       "\n",
       "    split4_test_score  mean_test_score  std_test_score  rank_test_score  \n",
       "43           0.854434         0.870133        0.015200                1  \n",
       "35           0.854434         0.870133        0.015200                1  \n",
       "27           0.853075         0.869861        0.015488                3  \n",
       "24           0.850509         0.867239        0.013883                4  \n",
       "32           0.850509         0.867239        0.013883                4  "
      ]
     },
     "execution_count": 37,
     "metadata": {},
     "output_type": "execute_result"
    }
   ],
   "source": [
    "results[results['param_model'] == results['param_model'].unique()[0]].sort_values('rank_test_score').head()"
   ]
  },
  {
   "cell_type": "code",
   "execution_count": 38,
   "metadata": {},
   "outputs": [
    {
     "data": {
      "text/html": [
       "<div>\n",
       "<style scoped>\n",
       "    .dataframe tbody tr th:only-of-type {\n",
       "        vertical-align: middle;\n",
       "    }\n",
       "\n",
       "    .dataframe tbody tr th {\n",
       "        vertical-align: top;\n",
       "    }\n",
       "\n",
       "    .dataframe thead th {\n",
       "        text-align: right;\n",
       "    }\n",
       "</style>\n",
       "<table border=\"1\" class=\"dataframe\">\n",
       "  <thead>\n",
       "    <tr style=\"text-align: right;\">\n",
       "      <th></th>\n",
       "      <th>mean_fit_time</th>\n",
       "      <th>std_fit_time</th>\n",
       "      <th>mean_score_time</th>\n",
       "      <th>std_score_time</th>\n",
       "      <th>param_model</th>\n",
       "      <th>param_preprocess__col_transform__arpu_20xxxx__impute</th>\n",
       "      <th>param_preprocess__col_transform__arpu_20xxxx__scale</th>\n",
       "      <th>param_preprocess__col_transform__arpu_20xxxx__transform</th>\n",
       "      <th>param_preprocess__col_transform__county_name__encode</th>\n",
       "      <th>param_preprocess__col_transform__county_name__impute</th>\n",
       "      <th>params</th>\n",
       "      <th>split0_test_score</th>\n",
       "      <th>split1_test_score</th>\n",
       "      <th>split2_test_score</th>\n",
       "      <th>split3_test_score</th>\n",
       "      <th>split4_test_score</th>\n",
       "      <th>mean_test_score</th>\n",
       "      <th>std_test_score</th>\n",
       "      <th>rank_test_score</th>\n",
       "    </tr>\n",
       "  </thead>\n",
       "  <tbody>\n",
       "    <tr>\n",
       "      <th>127</th>\n",
       "      <td>0.218719</td>\n",
       "      <td>0.002617</td>\n",
       "      <td>0.110802</td>\n",
       "      <td>0.002244</td>\n",
       "      <td>LogisticRegression(n_jobs=-1, random_state=0)</td>\n",
       "      <td>SimpleImputer()</td>\n",
       "      <td>StandardScaler()</td>\n",
       "      <td>FunctionTransformer(func=&lt;function arpu_20xxxx...</td>\n",
       "      <td>(FunctionTransformer(func=&lt;function county_nam...</td>\n",
       "      <td>SimpleImputer(strategy='most_frequent')</td>\n",
       "      <td>{'model': LogisticRegression(n_jobs=-1, random...</td>\n",
       "      <td>0.788918</td>\n",
       "      <td>0.789408</td>\n",
       "      <td>0.845689</td>\n",
       "      <td>0.829652</td>\n",
       "      <td>0.806509</td>\n",
       "      <td>0.812035</td>\n",
       "      <td>0.022449</td>\n",
       "      <td>49</td>\n",
       "    </tr>\n",
       "    <tr>\n",
       "      <th>135</th>\n",
       "      <td>0.216588</td>\n",
       "      <td>0.002085</td>\n",
       "      <td>0.111673</td>\n",
       "      <td>0.003045</td>\n",
       "      <td>LogisticRegression(n_jobs=-1, random_state=0)</td>\n",
       "      <td>SimpleImputer()</td>\n",
       "      <td>RobustScaler()</td>\n",
       "      <td>FunctionTransformer(func=&lt;function arpu_20xxxx...</td>\n",
       "      <td>(FunctionTransformer(func=&lt;function county_nam...</td>\n",
       "      <td>SimpleImputer(strategy='most_frequent')</td>\n",
       "      <td>{'model': LogisticRegression(n_jobs=-1, random...</td>\n",
       "      <td>0.788918</td>\n",
       "      <td>0.789408</td>\n",
       "      <td>0.843925</td>\n",
       "      <td>0.826527</td>\n",
       "      <td>0.807798</td>\n",
       "      <td>0.811315</td>\n",
       "      <td>0.021395</td>\n",
       "      <td>50</td>\n",
       "    </tr>\n",
       "    <tr>\n",
       "      <th>143</th>\n",
       "      <td>0.217033</td>\n",
       "      <td>0.002714</td>\n",
       "      <td>0.111526</td>\n",
       "      <td>0.001329</td>\n",
       "      <td>LogisticRegression(n_jobs=-1, random_state=0)</td>\n",
       "      <td>SimpleImputer()</td>\n",
       "      <td>MinMaxScaler()</td>\n",
       "      <td>FunctionTransformer(func=&lt;function arpu_20xxxx...</td>\n",
       "      <td>(FunctionTransformer(func=&lt;function county_nam...</td>\n",
       "      <td>SimpleImputer(strategy='most_frequent')</td>\n",
       "      <td>{'model': LogisticRegression(n_jobs=-1, random...</td>\n",
       "      <td>0.788918</td>\n",
       "      <td>0.789408</td>\n",
       "      <td>0.843925</td>\n",
       "      <td>0.826527</td>\n",
       "      <td>0.807798</td>\n",
       "      <td>0.811315</td>\n",
       "      <td>0.021395</td>\n",
       "      <td>50</td>\n",
       "    </tr>\n",
       "    <tr>\n",
       "      <th>126</th>\n",
       "      <td>0.217833</td>\n",
       "      <td>0.001924</td>\n",
       "      <td>0.112033</td>\n",
       "      <td>0.002144</td>\n",
       "      <td>LogisticRegression(n_jobs=-1, random_state=0)</td>\n",
       "      <td>SimpleImputer()</td>\n",
       "      <td>StandardScaler()</td>\n",
       "      <td>FunctionTransformer(func=&lt;function arpu_20xxxx...</td>\n",
       "      <td>(FunctionTransformer(func=&lt;function county_nam...</td>\n",
       "      <td>SimpleImputer(fill_value='no_record', strategy...</td>\n",
       "      <td>{'model': LogisticRegression(n_jobs=-1, random...</td>\n",
       "      <td>0.792117</td>\n",
       "      <td>0.782987</td>\n",
       "      <td>0.845689</td>\n",
       "      <td>0.829197</td>\n",
       "      <td>0.806509</td>\n",
       "      <td>0.811300</td>\n",
       "      <td>0.023219</td>\n",
       "      <td>52</td>\n",
       "    </tr>\n",
       "    <tr>\n",
       "      <th>142</th>\n",
       "      <td>0.219129</td>\n",
       "      <td>0.001666</td>\n",
       "      <td>0.112283</td>\n",
       "      <td>0.004400</td>\n",
       "      <td>LogisticRegression(n_jobs=-1, random_state=0)</td>\n",
       "      <td>SimpleImputer()</td>\n",
       "      <td>MinMaxScaler()</td>\n",
       "      <td>FunctionTransformer(func=&lt;function arpu_20xxxx...</td>\n",
       "      <td>(FunctionTransformer(func=&lt;function county_nam...</td>\n",
       "      <td>SimpleImputer(fill_value='no_record', strategy...</td>\n",
       "      <td>{'model': LogisticRegression(n_jobs=-1, random...</td>\n",
       "      <td>0.790816</td>\n",
       "      <td>0.782987</td>\n",
       "      <td>0.847046</td>\n",
       "      <td>0.829197</td>\n",
       "      <td>0.801696</td>\n",
       "      <td>0.810349</td>\n",
       "      <td>0.024112</td>\n",
       "      <td>61</td>\n",
       "    </tr>\n",
       "  </tbody>\n",
       "</table>\n",
       "</div>"
      ],
      "text/plain": [
       "     mean_fit_time  std_fit_time  mean_score_time  std_score_time  \\\n",
       "127       0.218719      0.002617         0.110802        0.002244   \n",
       "135       0.216588      0.002085         0.111673        0.003045   \n",
       "143       0.217033      0.002714         0.111526        0.001329   \n",
       "126       0.217833      0.001924         0.112033        0.002144   \n",
       "142       0.219129      0.001666         0.112283        0.004400   \n",
       "\n",
       "                                       param_model  \\\n",
       "127  LogisticRegression(n_jobs=-1, random_state=0)   \n",
       "135  LogisticRegression(n_jobs=-1, random_state=0)   \n",
       "143  LogisticRegression(n_jobs=-1, random_state=0)   \n",
       "126  LogisticRegression(n_jobs=-1, random_state=0)   \n",
       "142  LogisticRegression(n_jobs=-1, random_state=0)   \n",
       "\n",
       "    param_preprocess__col_transform__arpu_20xxxx__impute  \\\n",
       "127                                    SimpleImputer()     \n",
       "135                                    SimpleImputer()     \n",
       "143                                    SimpleImputer()     \n",
       "126                                    SimpleImputer()     \n",
       "142                                    SimpleImputer()     \n",
       "\n",
       "    param_preprocess__col_transform__arpu_20xxxx__scale  \\\n",
       "127                                   StandardScaler()    \n",
       "135                                     RobustScaler()    \n",
       "143                                     MinMaxScaler()    \n",
       "126                                   StandardScaler()    \n",
       "142                                     MinMaxScaler()    \n",
       "\n",
       "    param_preprocess__col_transform__arpu_20xxxx__transform  \\\n",
       "127  FunctionTransformer(func=<function arpu_20xxxx...        \n",
       "135  FunctionTransformer(func=<function arpu_20xxxx...        \n",
       "143  FunctionTransformer(func=<function arpu_20xxxx...        \n",
       "126  FunctionTransformer(func=<function arpu_20xxxx...        \n",
       "142  FunctionTransformer(func=<function arpu_20xxxx...        \n",
       "\n",
       "    param_preprocess__col_transform__county_name__encode  \\\n",
       "127  (FunctionTransformer(func=<function county_nam...     \n",
       "135  (FunctionTransformer(func=<function county_nam...     \n",
       "143  (FunctionTransformer(func=<function county_nam...     \n",
       "126  (FunctionTransformer(func=<function county_nam...     \n",
       "142  (FunctionTransformer(func=<function county_nam...     \n",
       "\n",
       "    param_preprocess__col_transform__county_name__impute  \\\n",
       "127            SimpleImputer(strategy='most_frequent')     \n",
       "135            SimpleImputer(strategy='most_frequent')     \n",
       "143            SimpleImputer(strategy='most_frequent')     \n",
       "126  SimpleImputer(fill_value='no_record', strategy...     \n",
       "142  SimpleImputer(fill_value='no_record', strategy...     \n",
       "\n",
       "                                                params  split0_test_score  \\\n",
       "127  {'model': LogisticRegression(n_jobs=-1, random...           0.788918   \n",
       "135  {'model': LogisticRegression(n_jobs=-1, random...           0.788918   \n",
       "143  {'model': LogisticRegression(n_jobs=-1, random...           0.788918   \n",
       "126  {'model': LogisticRegression(n_jobs=-1, random...           0.792117   \n",
       "142  {'model': LogisticRegression(n_jobs=-1, random...           0.790816   \n",
       "\n",
       "     split1_test_score  split2_test_score  split3_test_score  \\\n",
       "127           0.789408           0.845689           0.829652   \n",
       "135           0.789408           0.843925           0.826527   \n",
       "143           0.789408           0.843925           0.826527   \n",
       "126           0.782987           0.845689           0.829197   \n",
       "142           0.782987           0.847046           0.829197   \n",
       "\n",
       "     split4_test_score  mean_test_score  std_test_score  rank_test_score  \n",
       "127           0.806509         0.812035        0.022449               49  \n",
       "135           0.807798         0.811315        0.021395               50  \n",
       "143           0.807798         0.811315        0.021395               50  \n",
       "126           0.806509         0.811300        0.023219               52  \n",
       "142           0.801696         0.810349        0.024112               61  "
      ]
     },
     "execution_count": 38,
     "metadata": {},
     "output_type": "execute_result"
    }
   ],
   "source": [
    "results[results['param_model'] == results['param_model'].unique()[1]].sort_values('rank_test_score').head()"
   ]
  },
  {
   "cell_type": "code",
   "execution_count": 39,
   "metadata": {},
   "outputs": [
    {
     "data": {
      "text/html": [
       "<div>\n",
       "<style scoped>\n",
       "    .dataframe tbody tr th:only-of-type {\n",
       "        vertical-align: middle;\n",
       "    }\n",
       "\n",
       "    .dataframe tbody tr th {\n",
       "        vertical-align: top;\n",
       "    }\n",
       "\n",
       "    .dataframe thead th {\n",
       "        text-align: right;\n",
       "    }\n",
       "</style>\n",
       "<table border=\"1\" class=\"dataframe\">\n",
       "  <thead>\n",
       "    <tr style=\"text-align: right;\">\n",
       "      <th></th>\n",
       "      <th>mean_fit_time</th>\n",
       "      <th>std_fit_time</th>\n",
       "      <th>mean_score_time</th>\n",
       "      <th>std_score_time</th>\n",
       "      <th>param_model</th>\n",
       "      <th>param_preprocess__col_transform__arpu_20xxxx__impute</th>\n",
       "      <th>param_preprocess__col_transform__arpu_20xxxx__scale</th>\n",
       "      <th>param_preprocess__col_transform__arpu_20xxxx__transform</th>\n",
       "      <th>param_preprocess__col_transform__county_name__encode</th>\n",
       "      <th>param_preprocess__col_transform__county_name__impute</th>\n",
       "      <th>params</th>\n",
       "      <th>split0_test_score</th>\n",
       "      <th>split1_test_score</th>\n",
       "      <th>split2_test_score</th>\n",
       "      <th>split3_test_score</th>\n",
       "      <th>split4_test_score</th>\n",
       "      <th>mean_test_score</th>\n",
       "      <th>std_test_score</th>\n",
       "      <th>rank_test_score</th>\n",
       "    </tr>\n",
       "  </thead>\n",
       "  <tbody>\n",
       "    <tr>\n",
       "      <th>229</th>\n",
       "      <td>0.120567</td>\n",
       "      <td>0.003059</td>\n",
       "      <td>0.109674</td>\n",
       "      <td>0.000745</td>\n",
       "      <td>RidgeClassifier(random_state=0)</td>\n",
       "      <td>SimpleImputer()</td>\n",
       "      <td>RobustScaler()</td>\n",
       "      <td>FunctionTransformer(func=&lt;function arpu_20xxxx...</td>\n",
       "      <td>OneHotEncoder(handle_unknown='ignore')</td>\n",
       "      <td>SimpleImputer(strategy='most_frequent')</td>\n",
       "      <td>{'model': RidgeClassifier(random_state=0), 'pr...</td>\n",
       "      <td>0.783848</td>\n",
       "      <td>0.791281</td>\n",
       "      <td>0.816276</td>\n",
       "      <td>0.832308</td>\n",
       "      <td>0.782361</td>\n",
       "      <td>0.801215</td>\n",
       "      <td>0.019745</td>\n",
       "      <td>79</td>\n",
       "    </tr>\n",
       "    <tr>\n",
       "      <th>237</th>\n",
       "      <td>0.123723</td>\n",
       "      <td>0.002727</td>\n",
       "      <td>0.110619</td>\n",
       "      <td>0.001063</td>\n",
       "      <td>RidgeClassifier(random_state=0)</td>\n",
       "      <td>SimpleImputer()</td>\n",
       "      <td>MinMaxScaler()</td>\n",
       "      <td>FunctionTransformer(func=&lt;function arpu_20xxxx...</td>\n",
       "      <td>OneHotEncoder(handle_unknown='ignore')</td>\n",
       "      <td>SimpleImputer(strategy='most_frequent')</td>\n",
       "      <td>{'model': RidgeClassifier(random_state=0), 'pr...</td>\n",
       "      <td>0.783848</td>\n",
       "      <td>0.791281</td>\n",
       "      <td>0.816276</td>\n",
       "      <td>0.832308</td>\n",
       "      <td>0.782361</td>\n",
       "      <td>0.801215</td>\n",
       "      <td>0.019745</td>\n",
       "      <td>79</td>\n",
       "    </tr>\n",
       "    <tr>\n",
       "      <th>231</th>\n",
       "      <td>0.120630</td>\n",
       "      <td>0.002970</td>\n",
       "      <td>0.110884</td>\n",
       "      <td>0.002188</td>\n",
       "      <td>RidgeClassifier(random_state=0)</td>\n",
       "      <td>SimpleImputer()</td>\n",
       "      <td>RobustScaler()</td>\n",
       "      <td>FunctionTransformer(func=&lt;function arpu_20xxxx...</td>\n",
       "      <td>(FunctionTransformer(func=&lt;function county_nam...</td>\n",
       "      <td>SimpleImputer(strategy='most_frequent')</td>\n",
       "      <td>{'model': RidgeClassifier(random_state=0), 'pr...</td>\n",
       "      <td>0.785145</td>\n",
       "      <td>0.792575</td>\n",
       "      <td>0.816276</td>\n",
       "      <td>0.828670</td>\n",
       "      <td>0.781748</td>\n",
       "      <td>0.800883</td>\n",
       "      <td>0.018395</td>\n",
       "      <td>81</td>\n",
       "    </tr>\n",
       "    <tr>\n",
       "      <th>239</th>\n",
       "      <td>0.127540</td>\n",
       "      <td>0.004906</td>\n",
       "      <td>0.112654</td>\n",
       "      <td>0.003719</td>\n",
       "      <td>RidgeClassifier(random_state=0)</td>\n",
       "      <td>SimpleImputer()</td>\n",
       "      <td>MinMaxScaler()</td>\n",
       "      <td>FunctionTransformer(func=&lt;function arpu_20xxxx...</td>\n",
       "      <td>(FunctionTransformer(func=&lt;function county_nam...</td>\n",
       "      <td>SimpleImputer(strategy='most_frequent')</td>\n",
       "      <td>{'model': RidgeClassifier(random_state=0), 'pr...</td>\n",
       "      <td>0.785145</td>\n",
       "      <td>0.792575</td>\n",
       "      <td>0.816276</td>\n",
       "      <td>0.828670</td>\n",
       "      <td>0.781748</td>\n",
       "      <td>0.800883</td>\n",
       "      <td>0.018395</td>\n",
       "      <td>81</td>\n",
       "    </tr>\n",
       "    <tr>\n",
       "      <th>221</th>\n",
       "      <td>0.120577</td>\n",
       "      <td>0.003225</td>\n",
       "      <td>0.109793</td>\n",
       "      <td>0.002617</td>\n",
       "      <td>RidgeClassifier(random_state=0)</td>\n",
       "      <td>SimpleImputer()</td>\n",
       "      <td>StandardScaler()</td>\n",
       "      <td>FunctionTransformer(func=&lt;function arpu_20xxxx...</td>\n",
       "      <td>OneHotEncoder(handle_unknown='ignore')</td>\n",
       "      <td>SimpleImputer(strategy='most_frequent')</td>\n",
       "      <td>{'model': RidgeClassifier(random_state=0), 'pr...</td>\n",
       "      <td>0.782554</td>\n",
       "      <td>0.791281</td>\n",
       "      <td>0.816276</td>\n",
       "      <td>0.830019</td>\n",
       "      <td>0.782361</td>\n",
       "      <td>0.800498</td>\n",
       "      <td>0.019268</td>\n",
       "      <td>83</td>\n",
       "    </tr>\n",
       "  </tbody>\n",
       "</table>\n",
       "</div>"
      ],
      "text/plain": [
       "     mean_fit_time  std_fit_time  mean_score_time  std_score_time  \\\n",
       "229       0.120567      0.003059         0.109674        0.000745   \n",
       "237       0.123723      0.002727         0.110619        0.001063   \n",
       "231       0.120630      0.002970         0.110884        0.002188   \n",
       "239       0.127540      0.004906         0.112654        0.003719   \n",
       "221       0.120577      0.003225         0.109793        0.002617   \n",
       "\n",
       "                         param_model  \\\n",
       "229  RidgeClassifier(random_state=0)   \n",
       "237  RidgeClassifier(random_state=0)   \n",
       "231  RidgeClassifier(random_state=0)   \n",
       "239  RidgeClassifier(random_state=0)   \n",
       "221  RidgeClassifier(random_state=0)   \n",
       "\n",
       "    param_preprocess__col_transform__arpu_20xxxx__impute  \\\n",
       "229                                    SimpleImputer()     \n",
       "237                                    SimpleImputer()     \n",
       "231                                    SimpleImputer()     \n",
       "239                                    SimpleImputer()     \n",
       "221                                    SimpleImputer()     \n",
       "\n",
       "    param_preprocess__col_transform__arpu_20xxxx__scale  \\\n",
       "229                                     RobustScaler()    \n",
       "237                                     MinMaxScaler()    \n",
       "231                                     RobustScaler()    \n",
       "239                                     MinMaxScaler()    \n",
       "221                                   StandardScaler()    \n",
       "\n",
       "    param_preprocess__col_transform__arpu_20xxxx__transform  \\\n",
       "229  FunctionTransformer(func=<function arpu_20xxxx...        \n",
       "237  FunctionTransformer(func=<function arpu_20xxxx...        \n",
       "231  FunctionTransformer(func=<function arpu_20xxxx...        \n",
       "239  FunctionTransformer(func=<function arpu_20xxxx...        \n",
       "221  FunctionTransformer(func=<function arpu_20xxxx...        \n",
       "\n",
       "    param_preprocess__col_transform__county_name__encode  \\\n",
       "229             OneHotEncoder(handle_unknown='ignore')     \n",
       "237             OneHotEncoder(handle_unknown='ignore')     \n",
       "231  (FunctionTransformer(func=<function county_nam...     \n",
       "239  (FunctionTransformer(func=<function county_nam...     \n",
       "221             OneHotEncoder(handle_unknown='ignore')     \n",
       "\n",
       "    param_preprocess__col_transform__county_name__impute  \\\n",
       "229            SimpleImputer(strategy='most_frequent')     \n",
       "237            SimpleImputer(strategy='most_frequent')     \n",
       "231            SimpleImputer(strategy='most_frequent')     \n",
       "239            SimpleImputer(strategy='most_frequent')     \n",
       "221            SimpleImputer(strategy='most_frequent')     \n",
       "\n",
       "                                                params  split0_test_score  \\\n",
       "229  {'model': RidgeClassifier(random_state=0), 'pr...           0.783848   \n",
       "237  {'model': RidgeClassifier(random_state=0), 'pr...           0.783848   \n",
       "231  {'model': RidgeClassifier(random_state=0), 'pr...           0.785145   \n",
       "239  {'model': RidgeClassifier(random_state=0), 'pr...           0.785145   \n",
       "221  {'model': RidgeClassifier(random_state=0), 'pr...           0.782554   \n",
       "\n",
       "     split1_test_score  split2_test_score  split3_test_score  \\\n",
       "229           0.791281           0.816276           0.832308   \n",
       "237           0.791281           0.816276           0.832308   \n",
       "231           0.792575           0.816276           0.828670   \n",
       "239           0.792575           0.816276           0.828670   \n",
       "221           0.791281           0.816276           0.830019   \n",
       "\n",
       "     split4_test_score  mean_test_score  std_test_score  rank_test_score  \n",
       "229           0.782361         0.801215        0.019745               79  \n",
       "237           0.782361         0.801215        0.019745               79  \n",
       "231           0.781748         0.800883        0.018395               81  \n",
       "239           0.781748         0.800883        0.018395               81  \n",
       "221           0.782361         0.800498        0.019268               83  "
      ]
     },
     "execution_count": 39,
     "metadata": {},
     "output_type": "execute_result"
    }
   ],
   "source": [
    "results[results['param_model'] == results['param_model'].unique()[2]].sort_values('rank_test_score').head()"
   ]
  },
  {
   "cell_type": "markdown",
   "metadata": {},
   "source": [
    "# Best way to handle train_user"
   ]
  },
  {
   "cell_type": "markdown",
   "metadata": {},
   "source": [
    "Therefore, we have concluded we will:\n",
    "city_name:\n",
    "\n",
    "- drop\n",
    "\n",
    "county_name:\n",
    "\n",
    "- impute by most frequent → confirm\n",
    "- encode by grouping first → highly certain\n",
    "\n",
    "idcard_cnt:\n",
    "\n",
    "- do nothing\n",
    "\n",
    "arpu_20xxxx:\n",
    "\n",
    "- impute by mean → confirm\n",
    "- transform into higher or lower than mean → uncertain, rf doesn't need but linear model does\n",
    "- scaler (MinMax/Robust) → uncertain"
   ]
  },
  {
   "cell_type": "code",
   "execution_count": 40,
   "metadata": {},
   "outputs": [],
   "source": [
    "best_model = combi_search.best_estimator_"
   ]
  },
  {
   "cell_type": "code",
   "execution_count": 41,
   "metadata": {},
   "outputs": [
    {
     "data": {
      "text/plain": [
       "0.871036790680468"
      ]
     },
     "execution_count": 41,
     "metadata": {},
     "output_type": "execute_result"
    }
   ],
   "source": [
    "#our baseline score was: 0.7439087059542641\n",
    "cross_val_score(best_model, train_x, train_y, n_jobs=-1, cv=4, scoring='f1_macro').mean()"
   ]
  },
  {
   "cell_type": "code",
   "execution_count": 42,
   "metadata": {},
   "outputs": [
    {
     "name": "stdout",
     "output_type": "stream",
     "text": [
      "0.02606761051858586\n",
      "3.5041410740242784\n"
     ]
    }
   ],
   "source": [
    "#when comparing with best logistic model (by not search over model space)\n",
    "print(0.7699763164728499 - 0.7439087059542641) #improve score by 0.026\n",
    "print((0.7699763164728499 - 0.7439087059542641)/0.7439087059542641 * 100) #or 3.5% improvement"
   ]
  },
  {
   "cell_type": "code",
   "execution_count": 43,
   "metadata": {},
   "outputs": [
    {
     "name": "stdout",
     "output_type": "stream",
     "text": [
      "0.12712808472620396\n",
      "17.08920512808461\n"
     ]
    }
   ],
   "source": [
    "#when comparing with best model\n",
    "print(0.871036790680468 - 0.7439087059542641) #improve score by 0.127\n",
    "print((0.871036790680468 - 0.7439087059542641)/0.7439087059542641 * 100) #or 17% improvement"
   ]
  },
  {
   "cell_type": "markdown",
   "metadata": {},
   "source": [
    "# Final result"
   ]
  },
  {
   "cell_type": "markdown",
   "metadata": {},
   "source": [
    "We will now use our validation set to estimate our model's performance in the real world.\\\n",
    "We will not make any changes to our model after this stage to avoid data leakage"
   ]
  },
  {
   "cell_type": "code",
   "execution_count": 45,
   "metadata": {},
   "outputs": [],
   "source": [
    "prediction = best_model.predict(test_x)"
   ]
  },
  {
   "cell_type": "code",
   "execution_count": 46,
   "metadata": {},
   "outputs": [
    {
     "data": {
      "text/plain": [
       "0.872883820603092"
      ]
     },
     "execution_count": 46,
     "metadata": {},
     "output_type": "execute_result"
    }
   ],
   "source": [
    "f1_score(test_y, prediction, average='macro')"
   ]
  },
  {
   "cell_type": "code",
   "execution_count": 48,
   "metadata": {},
   "outputs": [
    {
     "data": {
      "text/plain": [
       "array([[644,  20],\n",
       "       [ 82, 231]])"
      ]
     },
     "execution_count": 48,
     "metadata": {},
     "output_type": "execute_result"
    }
   ],
   "source": [
    "confusion_matrix(test_y, prediction)"
   ]
  },
  {
   "cell_type": "code",
   "execution_count": 50,
   "metadata": {},
   "outputs": [
    {
     "name": "stdout",
     "output_type": "stream",
     "text": [
      "              precision    recall  f1-score   support\n",
      "\n",
      "           0       0.89      0.97      0.93       664\n",
      "           1       0.92      0.74      0.82       313\n",
      "\n",
      "    accuracy                           0.90       977\n",
      "   macro avg       0.90      0.85      0.87       977\n",
      "weighted avg       0.90      0.90      0.89       977\n",
      "\n"
     ]
    }
   ],
   "source": [
    "print(classification_report(test_y, prediction))"
   ]
  },
  {
   "cell_type": "markdown",
   "metadata": {},
   "source": [
    "Currently (18 Jun) the highest score in ranking has a macro f1-score of 0.94257\\\n",
    "We need to improve our f1-score by 0.07 to achieve this.\n",
    "\n",
    "The weakness of our model right now is in:\n",
    "1. recall for spam calls (not able to catch all the spam callers)\n",
    "2. accuracy for non spam calls (we wrongly identify spam callers as non spam callers)\n",
    "3. precision for spam calls (we can still improve the accuracy for our spam caller detection)"
   ]
  },
  {
   "cell_type": "markdown",
   "metadata": {},
   "source": [
    "Lucky for us, so far we have only utilised the origin of the phone number, the place the phone was registered in and the monthly spending. We still have voice, sms and apps data to add on to our model."
   ]
  }
 ],
 "metadata": {
  "kernelspec": {
   "display_name": "Python 3",
   "language": "python",
   "name": "python3"
  },
  "language_info": {
   "codemirror_mode": {
    "name": "ipython",
    "version": 3
   },
   "file_extension": ".py",
   "mimetype": "text/x-python",
   "name": "python",
   "nbconvert_exporter": "python",
   "pygments_lexer": "ipython3",
   "version": "3.7.7"
  },
  "latex_envs": {
   "LaTeX_envs_menu_present": true,
   "autoclose": false,
   "autocomplete": true,
   "bibliofile": "biblio.bib",
   "cite_by": "apalike",
   "current_citInitial": 1,
   "eqLabelWithNumbers": true,
   "eqNumInitial": 1,
   "hotkeys": {
    "equation": "Ctrl-E",
    "itemize": "Ctrl-I"
   },
   "labels_anchors": false,
   "latex_user_defs": false,
   "report_style_numbering": false,
   "user_envs_cfg": false
  },
  "toc": {
   "base_numbering": 1,
   "nav_menu": {},
   "number_sections": true,
   "sideBar": true,
   "skip_h1_title": false,
   "title_cell": "Table of Contents",
   "title_sidebar": "Contents",
   "toc_cell": false,
   "toc_position": {},
   "toc_section_display": true,
   "toc_window_display": false
  }
 },
 "nbformat": 4,
 "nbformat_minor": 4
}
