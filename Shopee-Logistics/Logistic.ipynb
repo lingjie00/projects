{
 "cells": [
  {
   "cell_type": "markdown",
   "metadata": {
    "toc": true
   },
   "source": [
    "<h1>Table of Contents<span class=\"tocSkip\"></span></h1>\n",
    "<div class=\"toc\"><ul class=\"toc-item\"><li><span><a href=\"#Context\" data-toc-modified-id=\"Context-1\"><span class=\"toc-item-num\">1&nbsp;&nbsp;</span>Context</a></span></li><li><span><a href=\"#Library\" data-toc-modified-id=\"Library-2\"><span class=\"toc-item-num\">2&nbsp;&nbsp;</span>Library</a></span></li><li><span><a href=\"#Load-data\" data-toc-modified-id=\"Load-data-3\"><span class=\"toc-item-num\">3&nbsp;&nbsp;</span>Load data</a></span></li><li><span><a href=\"#Preprocessing\" data-toc-modified-id=\"Preprocessing-4\"><span class=\"toc-item-num\">4&nbsp;&nbsp;</span>Preprocessing</a></span><ul class=\"toc-item\"><li><span><a href=\"#Date\" data-toc-modified-id=\"Date-4.1\"><span class=\"toc-item-num\">4.1&nbsp;&nbsp;</span>Date</a></span></li><li><span><a href=\"#Address\" data-toc-modified-id=\"Address-4.2\"><span class=\"toc-item-num\">4.2&nbsp;&nbsp;</span>Address</a></span></li></ul></li><li><span><a href=\"#Holidays-data\" data-toc-modified-id=\"Holidays-data-5\"><span class=\"toc-item-num\">5&nbsp;&nbsp;</span>Holidays data</a></span></li><li><span><a href=\"#Calculating-delivery-days\" data-toc-modified-id=\"Calculating-delivery-days-6\"><span class=\"toc-item-num\">6&nbsp;&nbsp;</span>Calculating delivery days</a></span></li><li><span><a href=\"#Calculating-supposed-delivery-days\" data-toc-modified-id=\"Calculating-supposed-delivery-days-7\"><span class=\"toc-item-num\">7&nbsp;&nbsp;</span>Calculating supposed delivery days</a></span></li><li><span><a href=\"#Calculating-late-orders\" data-toc-modified-id=\"Calculating-late-orders-8\"><span class=\"toc-item-num\">8&nbsp;&nbsp;</span>Calculating late orders</a></span><ul class=\"toc-item\"><li><span><a href=\"#Case-1:-second-delivery-later-than-3-days\" data-toc-modified-id=\"Case-1:-second-delivery-later-than-3-days-8.1\"><span class=\"toc-item-num\">8.1&nbsp;&nbsp;</span>Case 1: second delivery later than 3 days</a></span></li><li><span><a href=\"#Case-2:-first-delivery-later-than-supposed-delivery-date\" data-toc-modified-id=\"Case-2:-first-delivery-later-than-supposed-delivery-date-8.2\"><span class=\"toc-item-num\">8.2&nbsp;&nbsp;</span>Case 2: first delivery later than supposed delivery date</a></span></li><li><span><a href=\"#Combining-case-1-and-case-2\" data-toc-modified-id=\"Combining-case-1-and-case-2-8.3\"><span class=\"toc-item-num\">8.3&nbsp;&nbsp;</span>Combining case 1 and case 2</a></span></li></ul></li><li><span><a href=\"#Submission\" data-toc-modified-id=\"Submission-9\"><span class=\"toc-item-num\">9&nbsp;&nbsp;</span>Submission</a></span></li></ul></div>"
   ]
  },
  {
   "cell_type": "markdown",
   "metadata": {},
   "source": [
    "# Context"
   ]
  },
  {
   "cell_type": "markdown",
   "metadata": {},
   "source": [
    "Logistic is one of the most important factor affecting the customers' satisfaction. During current COVID situation, we experience the impact logistic disruption has on all of us.\n",
    "\n",
    "As part of the Shopee Code League competition, Shopee set a challenge for us to investigate their logistic provider's quality.\n",
    "\n",
    "Shopee defined a good quality logistic provider by monitoring the days taken for a delivery. Logistic providers signed Service Level Agreements (SLA) with Shopee and orders that are fulfilled later than the stated duration in SLA is deemed late. Logistic providers will also be served penalty to ensure they uphold the quality of Shopee.\n",
    "\n",
    "We are given one dataframe containing the delivery dates and locations, and we are tasked to investigate the late orders.\n",
    "\n",
    "Original dataset and competition detail is available at: https://www.kaggle.com/c/logistics-shopee-code-league/overview"
   ]
  },
  {
   "cell_type": "markdown",
   "metadata": {},
   "source": [
    "# Library"
   ]
  },
  {
   "cell_type": "code",
   "execution_count": 1,
   "metadata": {
    "ExecuteTime": {
     "end_time": "2020-07-11T09:29:48.472152Z",
     "start_time": "2020-07-11T09:29:47.878524Z"
    }
   },
   "outputs": [],
   "source": [
    "import numpy as np #numeric operations\n",
    "import pandas as pd #dataframe\n",
    "import matplotlib.pyplot as plt #for plotting\n",
    "import datetime #for datetime operations"
   ]
  },
  {
   "cell_type": "markdown",
   "metadata": {},
   "source": [
    "# Load data"
   ]
  },
  {
   "cell_type": "code",
   "execution_count": 2,
   "metadata": {
    "ExecuteTime": {
     "end_time": "2020-07-11T09:29:56.372628Z",
     "start_time": "2020-07-11T09:29:48.474367Z"
    }
   },
   "outputs": [],
   "source": [
    "data = pd.read_csv('datasets/delivery_orders_march.csv')"
   ]
  },
  {
   "cell_type": "markdown",
   "metadata": {},
   "source": [
    "We certainly need to clean up the data before analysing it. We will convert the Unix time stamp into datetime objects for easy interpretation and extract out the cities from the addresses for us to compare the orders delivery schedules."
   ]
  },
  {
   "cell_type": "code",
   "execution_count": 3,
   "metadata": {
    "ExecuteTime": {
     "end_time": "2020-07-11T09:29:56.396288Z",
     "start_time": "2020-07-11T09:29:56.376259Z"
    }
   },
   "outputs": [
    {
     "name": "stdout",
     "output_type": "stream",
     "text": [
      "<class 'pandas.core.frame.DataFrame'>\n",
      "RangeIndex: 3176313 entries, 0 to 3176312\n",
      "Data columns (total 6 columns):\n",
      " #   Column               Dtype  \n",
      "---  ------               -----  \n",
      " 0   orderid              int64  \n",
      " 1   pick                 int64  \n",
      " 2   1st_deliver_attempt  float64\n",
      " 3   2nd_deliver_attempt  float64\n",
      " 4   buyeraddress         object \n",
      " 5   selleraddress        object \n",
      "dtypes: float64(2), int64(2), object(2)\n",
      "memory usage: 145.4+ MB\n"
     ]
    },
    {
     "data": {
      "text/html": [
       "<div>\n",
       "<style scoped>\n",
       "    .dataframe tbody tr th:only-of-type {\n",
       "        vertical-align: middle;\n",
       "    }\n",
       "\n",
       "    .dataframe tbody tr th {\n",
       "        vertical-align: top;\n",
       "    }\n",
       "\n",
       "    .dataframe thead th {\n",
       "        text-align: right;\n",
       "    }\n",
       "</style>\n",
       "<table border=\"1\" class=\"dataframe\">\n",
       "  <thead>\n",
       "    <tr style=\"text-align: right;\">\n",
       "      <th></th>\n",
       "      <th>orderid</th>\n",
       "      <th>pick</th>\n",
       "      <th>1st_deliver_attempt</th>\n",
       "      <th>2nd_deliver_attempt</th>\n",
       "      <th>buyeraddress</th>\n",
       "      <th>selleraddress</th>\n",
       "    </tr>\n",
       "  </thead>\n",
       "  <tbody>\n",
       "    <tr>\n",
       "      <th>0</th>\n",
       "      <td>2215676524</td>\n",
       "      <td>1583138397</td>\n",
       "      <td>1.583385e+09</td>\n",
       "      <td>NaN</td>\n",
       "      <td>Baging ldl BUENAVISTA,PATAG.CAGAYAN Buagsong,c...</td>\n",
       "      <td>Pantranco vill. 417 Warehouse# katipunan 532 (...</td>\n",
       "    </tr>\n",
       "    <tr>\n",
       "      <th>1</th>\n",
       "      <td>2219624609</td>\n",
       "      <td>1583309968</td>\n",
       "      <td>1.583463e+09</td>\n",
       "      <td>1.583799e+09</td>\n",
       "      <td>coloma's quzom CASANAS Site1 Masiyan 533A Stol...</td>\n",
       "      <td>BLDG 210A Moras C42B 2B16,168 church) Complex ...</td>\n",
       "    </tr>\n",
       "    <tr>\n",
       "      <th>2</th>\n",
       "      <td>2220979489</td>\n",
       "      <td>1583306434</td>\n",
       "      <td>1.583460e+09</td>\n",
       "      <td>NaN</td>\n",
       "      <td>21-O LumangDaan,Capitangan,Abucay,Bataan .Bign...</td>\n",
       "      <td>#66 150-C, DRIVE, Milagros Joe socorro Metro M...</td>\n",
       "    </tr>\n",
       "    <tr>\n",
       "      <th>3</th>\n",
       "      <td>2221066352</td>\n",
       "      <td>1583419016</td>\n",
       "      <td>1.583556e+09</td>\n",
       "      <td>NaN</td>\n",
       "      <td>616Espiritu MARTINVILLE,MANUYO #5paraiso kengi...</td>\n",
       "      <td>999maII 201,26 Villaruel Barretto gen.t number...</td>\n",
       "    </tr>\n",
       "    <tr>\n",
       "      <th>4</th>\n",
       "      <td>2222478803</td>\n",
       "      <td>1583318305</td>\n",
       "      <td>1.583480e+09</td>\n",
       "      <td>NaN</td>\n",
       "      <td>L042 Summerbreezee1 L2(Balanay analyn Lot760 C...</td>\n",
       "      <td>G66MANILA Hiyas Fitness MAYSILO magdiwang Lt.4...</td>\n",
       "    </tr>\n",
       "  </tbody>\n",
       "</table>\n",
       "</div>"
      ],
      "text/plain": [
       "      orderid        pick  1st_deliver_attempt  2nd_deliver_attempt  \\\n",
       "0  2215676524  1583138397         1.583385e+09                  NaN   \n",
       "1  2219624609  1583309968         1.583463e+09         1.583799e+09   \n",
       "2  2220979489  1583306434         1.583460e+09                  NaN   \n",
       "3  2221066352  1583419016         1.583556e+09                  NaN   \n",
       "4  2222478803  1583318305         1.583480e+09                  NaN   \n",
       "\n",
       "                                        buyeraddress  \\\n",
       "0  Baging ldl BUENAVISTA,PATAG.CAGAYAN Buagsong,c...   \n",
       "1  coloma's quzom CASANAS Site1 Masiyan 533A Stol...   \n",
       "2  21-O LumangDaan,Capitangan,Abucay,Bataan .Bign...   \n",
       "3  616Espiritu MARTINVILLE,MANUYO #5paraiso kengi...   \n",
       "4  L042 Summerbreezee1 L2(Balanay analyn Lot760 C...   \n",
       "\n",
       "                                       selleraddress  \n",
       "0  Pantranco vill. 417 Warehouse# katipunan 532 (...  \n",
       "1  BLDG 210A Moras C42B 2B16,168 church) Complex ...  \n",
       "2  #66 150-C, DRIVE, Milagros Joe socorro Metro M...  \n",
       "3  999maII 201,26 Villaruel Barretto gen.t number...  \n",
       "4  G66MANILA Hiyas Fitness MAYSILO magdiwang Lt.4...  "
      ]
     },
     "execution_count": 3,
     "metadata": {},
     "output_type": "execute_result"
    }
   ],
   "source": [
    "data.info()\n",
    "data.head()"
   ]
  },
  {
   "cell_type": "markdown",
   "metadata": {},
   "source": [
    "# Preprocessing"
   ]
  },
  {
   "cell_type": "markdown",
   "metadata": {},
   "source": [
    "Date\n",
    "\n",
    "- Convert 1st_deliver_attempt to datetime\n",
    "- Convert 2nd_deliver_attempt to datetime\n",
    "- Convert pick to datetime\n",
    "- extract the year, month, day only\n",
    "\n",
    "\n",
    "Address\n",
    "- Extract location from buyeraddress\n",
    "- Extract location from selleraddress"
   ]
  },
  {
   "cell_type": "markdown",
   "metadata": {},
   "source": [
    "## Date"
   ]
  },
  {
   "cell_type": "markdown",
   "metadata": {},
   "source": [
    "1. Convert the UNIX timestamp into datetime object\n",
    "2. Resample datetime by days"
   ]
  },
  {
   "cell_type": "code",
   "execution_count": 4,
   "metadata": {
    "ExecuteTime": {
     "end_time": "2020-07-11T09:29:56.402752Z",
     "start_time": "2020-07-11T09:29:56.398673Z"
    }
   },
   "outputs": [
    {
     "data": {
      "text/plain": [
       "datetime.datetime(2020, 3, 2, 16, 25, 48)"
      ]
     },
     "execution_count": 4,
     "metadata": {},
     "output_type": "execute_result"
    }
   ],
   "source": [
    "#example\n",
    "datetime.datetime.fromtimestamp(1583137548)"
   ]
  },
  {
   "cell_type": "code",
   "execution_count": 5,
   "metadata": {
    "ExecuteTime": {
     "end_time": "2020-07-11T09:29:58.641057Z",
     "start_time": "2020-07-11T09:29:56.405145Z"
    }
   },
   "outputs": [],
   "source": [
    "data['pick'] = data['pick'].apply(datetime.datetime.fromtimestamp) #convert into datetime object\n",
    "data['pick'] = data['pick'].dt.to_period('D') #resample to days"
   ]
  },
  {
   "cell_type": "code",
   "execution_count": 6,
   "metadata": {
    "ExecuteTime": {
     "end_time": "2020-07-11T09:30:00.926069Z",
     "start_time": "2020-07-11T09:29:58.642791Z"
    }
   },
   "outputs": [],
   "source": [
    "data['1st_deliver_attempt'] = data['1st_deliver_attempt'].apply(datetime.datetime.fromtimestamp) #convert into datetime object\n",
    "data['1st_deliver_attempt'] = data['1st_deliver_attempt'].dt.to_period('D') #resample to days"
   ]
  },
  {
   "cell_type": "markdown",
   "metadata": {},
   "source": [
    "We fill missing values with 0, translate to datetime.datetime(1970, 1, 1, 7, 30)"
   ]
  },
  {
   "cell_type": "code",
   "execution_count": 7,
   "metadata": {
    "ExecuteTime": {
     "end_time": "2020-07-11T09:30:00.962033Z",
     "start_time": "2020-07-11T09:30:00.927774Z"
    }
   },
   "outputs": [],
   "source": [
    "data['2nd_deliver_attempt'] = data['2nd_deliver_attempt'].fillna(0)"
   ]
  },
  {
   "cell_type": "code",
   "execution_count": 8,
   "metadata": {
    "ExecuteTime": {
     "end_time": "2020-07-11T09:30:03.166056Z",
     "start_time": "2020-07-11T09:30:00.966782Z"
    }
   },
   "outputs": [],
   "source": [
    "data['2nd_deliver_attempt'] = data['2nd_deliver_attempt'].apply(datetime.datetime.fromtimestamp) #convert into datetime object\n",
    "data['2nd_deliver_attempt'] = data['2nd_deliver_attempt'].dt.to_period('D') #resample to days"
   ]
  },
  {
   "cell_type": "markdown",
   "metadata": {},
   "source": [
    "## Address"
   ]
  },
  {
   "cell_type": "markdown",
   "metadata": {},
   "source": [
    "1. Extract city from address"
   ]
  },
  {
   "cell_type": "code",
   "execution_count": 9,
   "metadata": {
    "ExecuteTime": {
     "end_time": "2020-07-11T09:30:17.285276Z",
     "start_time": "2020-07-11T09:30:03.168389Z"
    }
   },
   "outputs": [],
   "source": [
    "data['buyeraddress'] = data['buyeraddress'].\\\n",
    "                     where(~data['buyeraddress'].str.lower().str.contains('metro manila$'),'Metro Manila').\\\n",
    "                     where(~data['buyeraddress'].str.lower().str.contains('luzon$'),'Luzon').\\\n",
    "                     where(~data['buyeraddress'].str.lower().str.contains('visayas$'),'Visayas').\\\n",
    "                     where(~data['buyeraddress'].str.lower().str.contains('mindanao$'),'Mindanao')"
   ]
  },
  {
   "cell_type": "code",
   "execution_count": 10,
   "metadata": {
    "ExecuteTime": {
     "end_time": "2020-07-11T09:30:17.485122Z",
     "start_time": "2020-07-11T09:30:17.287098Z"
    }
   },
   "outputs": [
    {
     "data": {
      "text/plain": [
       "Metro Manila    1560698\n",
       "Luzon            804888\n",
       "Visayas          479595\n",
       "Mindanao         331132\n",
       "Name: buyeraddress, dtype: int64"
      ]
     },
     "execution_count": 10,
     "metadata": {},
     "output_type": "execute_result"
    }
   ],
   "source": [
    "data['buyeraddress'].value_counts()"
   ]
  },
  {
   "cell_type": "code",
   "execution_count": 11,
   "metadata": {
    "ExecuteTime": {
     "end_time": "2020-07-11T09:30:30.724723Z",
     "start_time": "2020-07-11T09:30:17.487529Z"
    }
   },
   "outputs": [],
   "source": [
    "data['selleraddress'] = data['selleraddress'].\\\n",
    "                     where(~data['selleraddress'].str.lower().str.contains('metro manila$'),'Metro Manila').\\\n",
    "                     where(~data['selleraddress'].str.lower().str.contains('luzon$'),'Luzon').\\\n",
    "                     where(~data['selleraddress'].str.lower().str.contains('visayas$'),'Visayas').\\\n",
    "                     where(~data['selleraddress'].str.lower().str.contains('mindanao$'),'Mindanao')"
   ]
  },
  {
   "cell_type": "code",
   "execution_count": 12,
   "metadata": {
    "ExecuteTime": {
     "end_time": "2020-07-11T09:30:30.919225Z",
     "start_time": "2020-07-11T09:30:30.726949Z"
    }
   },
   "outputs": [
    {
     "data": {
      "text/plain": [
       "Metro Manila    3176312\n",
       "Luzon                 1\n",
       "Name: selleraddress, dtype: int64"
      ]
     },
     "execution_count": 12,
     "metadata": {},
     "output_type": "execute_result"
    }
   ],
   "source": [
    "data['selleraddress'].value_counts()"
   ]
  },
  {
   "cell_type": "code",
   "execution_count": 13,
   "metadata": {
    "ExecuteTime": {
     "end_time": "2020-07-11T09:30:32.922722Z",
     "start_time": "2020-07-11T09:30:30.921124Z"
    }
   },
   "outputs": [
    {
     "data": {
      "text/html": [
       "<div>\n",
       "<style scoped>\n",
       "    .dataframe tbody tr th:only-of-type {\n",
       "        vertical-align: middle;\n",
       "    }\n",
       "\n",
       "    .dataframe tbody tr th {\n",
       "        vertical-align: top;\n",
       "    }\n",
       "\n",
       "    .dataframe thead th {\n",
       "        text-align: right;\n",
       "    }\n",
       "</style>\n",
       "<table border=\"1\" class=\"dataframe\">\n",
       "  <thead>\n",
       "    <tr style=\"text-align: right;\">\n",
       "      <th></th>\n",
       "      <th>orderid</th>\n",
       "      <th>pick</th>\n",
       "      <th>1st_deliver_attempt</th>\n",
       "      <th>2nd_deliver_attempt</th>\n",
       "      <th>buyeraddress</th>\n",
       "      <th>selleraddress</th>\n",
       "    </tr>\n",
       "  </thead>\n",
       "  <tbody>\n",
       "    <tr>\n",
       "      <th>0</th>\n",
       "      <td>2215676524</td>\n",
       "      <td>2020-03-02</td>\n",
       "      <td>2020-03-05</td>\n",
       "      <td>1970-01-01</td>\n",
       "      <td>Metro Manila</td>\n",
       "      <td>Metro Manila</td>\n",
       "    </tr>\n",
       "    <tr>\n",
       "      <th>1</th>\n",
       "      <td>2219624609</td>\n",
       "      <td>2020-03-04</td>\n",
       "      <td>2020-03-06</td>\n",
       "      <td>2020-03-10</td>\n",
       "      <td>Metro Manila</td>\n",
       "      <td>Metro Manila</td>\n",
       "    </tr>\n",
       "    <tr>\n",
       "      <th>2</th>\n",
       "      <td>2220979489</td>\n",
       "      <td>2020-03-04</td>\n",
       "      <td>2020-03-06</td>\n",
       "      <td>1970-01-01</td>\n",
       "      <td>Metro Manila</td>\n",
       "      <td>Metro Manila</td>\n",
       "    </tr>\n",
       "    <tr>\n",
       "      <th>3</th>\n",
       "      <td>2221066352</td>\n",
       "      <td>2020-03-05</td>\n",
       "      <td>2020-03-07</td>\n",
       "      <td>1970-01-01</td>\n",
       "      <td>Metro Manila</td>\n",
       "      <td>Metro Manila</td>\n",
       "    </tr>\n",
       "    <tr>\n",
       "      <th>4</th>\n",
       "      <td>2222478803</td>\n",
       "      <td>2020-03-04</td>\n",
       "      <td>2020-03-06</td>\n",
       "      <td>1970-01-01</td>\n",
       "      <td>Luzon</td>\n",
       "      <td>Metro Manila</td>\n",
       "    </tr>\n",
       "  </tbody>\n",
       "</table>\n",
       "</div>"
      ],
      "text/plain": [
       "      orderid        pick 1st_deliver_attempt 2nd_deliver_attempt  \\\n",
       "0  2215676524  2020-03-02          2020-03-05          1970-01-01   \n",
       "1  2219624609  2020-03-04          2020-03-06          2020-03-10   \n",
       "2  2220979489  2020-03-04          2020-03-06          1970-01-01   \n",
       "3  2221066352  2020-03-05          2020-03-07          1970-01-01   \n",
       "4  2222478803  2020-03-04          2020-03-06          1970-01-01   \n",
       "\n",
       "   buyeraddress selleraddress  \n",
       "0  Metro Manila  Metro Manila  \n",
       "1  Metro Manila  Metro Manila  \n",
       "2  Metro Manila  Metro Manila  \n",
       "3  Metro Manila  Metro Manila  \n",
       "4         Luzon  Metro Manila  "
      ]
     },
     "execution_count": 13,
     "metadata": {},
     "output_type": "execute_result"
    }
   ],
   "source": [
    "data.head()"
   ]
  },
  {
   "cell_type": "markdown",
   "metadata": {},
   "source": [
    "# Holidays data"
   ]
  },
  {
   "cell_type": "markdown",
   "metadata": {},
   "source": [
    "Shopee has their own holiday definition for this competition.\\\n",
    "However, it is easy to change the holiday data and include other holidays."
   ]
  },
  {
   "cell_type": "code",
   "execution_count": 14,
   "metadata": {
    "ExecuteTime": {
     "end_time": "2020-07-11T09:30:32.929412Z",
     "start_time": "2020-07-11T09:30:32.925589Z"
    }
   },
   "outputs": [],
   "source": [
    "holiday_data = ['2020-03-08','2020-03-25','2020-03-30','2020-03-31']"
   ]
  },
  {
   "cell_type": "code",
   "execution_count": 15,
   "metadata": {
    "ExecuteTime": {
     "end_time": "2020-07-11T09:30:32.935745Z",
     "start_time": "2020-07-11T09:30:32.931786Z"
    }
   },
   "outputs": [
    {
     "data": {
      "text/plain": [
       "['2020-03-08', '2020-03-25', '2020-03-30', '2020-03-31']"
      ]
     },
     "execution_count": 15,
     "metadata": {},
     "output_type": "execute_result"
    }
   ],
   "source": [
    "holiday_data"
   ]
  },
  {
   "cell_type": "markdown",
   "metadata": {},
   "source": [
    "# Calculating delivery days"
   ]
  },
  {
   "cell_type": "markdown",
   "metadata": {},
   "source": [
    "We will be calculating the number of delivery days between \n",
    "1. order day to 1st delivery\n",
    "2. 1st delivery to 2nd delivery date."
   ]
  },
  {
   "cell_type": "code",
   "execution_count": 16,
   "metadata": {
    "ExecuteTime": {
     "end_time": "2020-07-11T09:31:47.108698Z",
     "start_time": "2020-07-11T09:30:32.937798Z"
    }
   },
   "outputs": [],
   "source": [
    "#extract out the dates and convert into numpy format for fast computation\n",
    "pick_df = data['pick'].values.astype('datetime64[D]')\n",
    "deliver_1st = data['1st_deliver_attempt'].values.astype('datetime64[D]')\n",
    "deliver_2nd = data['2nd_deliver_attempt'].values.astype('datetime64[D]')"
   ]
  },
  {
   "cell_type": "code",
   "execution_count": 17,
   "metadata": {
    "ExecuteTime": {
     "end_time": "2020-07-11T09:31:47.240128Z",
     "start_time": "2020-07-11T09:31:47.110704Z"
    }
   },
   "outputs": [],
   "source": [
    "#calculate the working days between the dates\n",
    "deliver_days = np.busday_count(pick_df,deliver_1st, weekmask='1111110', holidays=holiday_data)\n",
    "deliver_2nd_days = np.busday_count(deliver_1st,deliver_2nd, weekmask='1111110', holidays=holiday_data)"
   ]
  },
  {
   "cell_type": "code",
   "execution_count": 18,
   "metadata": {
    "ExecuteTime": {
     "end_time": "2020-07-11T09:31:47.270846Z",
     "start_time": "2020-07-11T09:31:47.242294Z"
    }
   },
   "outputs": [],
   "source": [
    "#correct the missing days\n",
    "deliver_2nd_days = np.where(deliver_2nd_days<0, 0, deliver_2nd_days)"
   ]
  },
  {
   "cell_type": "code",
   "execution_count": 19,
   "metadata": {
    "ExecuteTime": {
     "end_time": "2020-07-11T09:31:47.293887Z",
     "start_time": "2020-07-11T09:31:47.272444Z"
    }
   },
   "outputs": [],
   "source": [
    "#add into data df\n",
    "data['1st_deliver_days'] = deliver_days\n",
    "data['2nd_deliver_days'] = deliver_2nd_days"
   ]
  },
  {
   "cell_type": "code",
   "execution_count": 20,
   "metadata": {
    "ExecuteTime": {
     "end_time": "2020-07-11T09:31:47.307513Z",
     "start_time": "2020-07-11T09:31:47.295673Z"
    }
   },
   "outputs": [
    {
     "data": {
      "text/html": [
       "<div>\n",
       "<style scoped>\n",
       "    .dataframe tbody tr th:only-of-type {\n",
       "        vertical-align: middle;\n",
       "    }\n",
       "\n",
       "    .dataframe tbody tr th {\n",
       "        vertical-align: top;\n",
       "    }\n",
       "\n",
       "    .dataframe thead th {\n",
       "        text-align: right;\n",
       "    }\n",
       "</style>\n",
       "<table border=\"1\" class=\"dataframe\">\n",
       "  <thead>\n",
       "    <tr style=\"text-align: right;\">\n",
       "      <th></th>\n",
       "      <th>orderid</th>\n",
       "      <th>pick</th>\n",
       "      <th>1st_deliver_attempt</th>\n",
       "      <th>2nd_deliver_attempt</th>\n",
       "      <th>buyeraddress</th>\n",
       "      <th>selleraddress</th>\n",
       "      <th>1st_deliver_days</th>\n",
       "      <th>2nd_deliver_days</th>\n",
       "    </tr>\n",
       "  </thead>\n",
       "  <tbody>\n",
       "    <tr>\n",
       "      <th>0</th>\n",
       "      <td>2215676524</td>\n",
       "      <td>2020-03-02</td>\n",
       "      <td>2020-03-05</td>\n",
       "      <td>1970-01-01</td>\n",
       "      <td>Metro Manila</td>\n",
       "      <td>Metro Manila</td>\n",
       "      <td>3</td>\n",
       "      <td>0</td>\n",
       "    </tr>\n",
       "    <tr>\n",
       "      <th>1</th>\n",
       "      <td>2219624609</td>\n",
       "      <td>2020-03-04</td>\n",
       "      <td>2020-03-06</td>\n",
       "      <td>2020-03-10</td>\n",
       "      <td>Metro Manila</td>\n",
       "      <td>Metro Manila</td>\n",
       "      <td>2</td>\n",
       "      <td>3</td>\n",
       "    </tr>\n",
       "    <tr>\n",
       "      <th>2</th>\n",
       "      <td>2220979489</td>\n",
       "      <td>2020-03-04</td>\n",
       "      <td>2020-03-06</td>\n",
       "      <td>1970-01-01</td>\n",
       "      <td>Metro Manila</td>\n",
       "      <td>Metro Manila</td>\n",
       "      <td>2</td>\n",
       "      <td>0</td>\n",
       "    </tr>\n",
       "    <tr>\n",
       "      <th>3</th>\n",
       "      <td>2221066352</td>\n",
       "      <td>2020-03-05</td>\n",
       "      <td>2020-03-07</td>\n",
       "      <td>1970-01-01</td>\n",
       "      <td>Metro Manila</td>\n",
       "      <td>Metro Manila</td>\n",
       "      <td>2</td>\n",
       "      <td>0</td>\n",
       "    </tr>\n",
       "    <tr>\n",
       "      <th>4</th>\n",
       "      <td>2222478803</td>\n",
       "      <td>2020-03-04</td>\n",
       "      <td>2020-03-06</td>\n",
       "      <td>1970-01-01</td>\n",
       "      <td>Luzon</td>\n",
       "      <td>Metro Manila</td>\n",
       "      <td>2</td>\n",
       "      <td>0</td>\n",
       "    </tr>\n",
       "  </tbody>\n",
       "</table>\n",
       "</div>"
      ],
      "text/plain": [
       "      orderid        pick 1st_deliver_attempt 2nd_deliver_attempt  \\\n",
       "0  2215676524  2020-03-02          2020-03-05          1970-01-01   \n",
       "1  2219624609  2020-03-04          2020-03-06          2020-03-10   \n",
       "2  2220979489  2020-03-04          2020-03-06          1970-01-01   \n",
       "3  2221066352  2020-03-05          2020-03-07          1970-01-01   \n",
       "4  2222478803  2020-03-04          2020-03-06          1970-01-01   \n",
       "\n",
       "   buyeraddress selleraddress  1st_deliver_days  2nd_deliver_days  \n",
       "0  Metro Manila  Metro Manila                 3                 0  \n",
       "1  Metro Manila  Metro Manila                 2                 3  \n",
       "2  Metro Manila  Metro Manila                 2                 0  \n",
       "3  Metro Manila  Metro Manila                 2                 0  \n",
       "4         Luzon  Metro Manila                 2                 0  "
      ]
     },
     "execution_count": 20,
     "metadata": {},
     "output_type": "execute_result"
    }
   ],
   "source": [
    "data.head()"
   ]
  },
  {
   "cell_type": "markdown",
   "metadata": {},
   "source": [
    "# Calculating supposed delivery days"
   ]
  },
  {
   "cell_type": "markdown",
   "metadata": {},
   "source": [
    "We will be calculating the delivery days according to SLA"
   ]
  },
  {
   "cell_type": "code",
   "execution_count": 21,
   "metadata": {
    "ExecuteTime": {
     "end_time": "2020-07-11T09:31:47.312687Z",
     "start_time": "2020-07-11T09:31:47.309172Z"
    },
    "code_folding": []
   },
   "outputs": [],
   "source": [
    "#from buyer to seller\n",
    "delivery_data = {'Metro Manila':{'Metro Manila':3, 'Luzon':5, 'Visayas':7, 'Mindanao':7},\n",
    "                 'Luzon':       {'Metro Manila':5, 'Luzon':5, 'Visayas':7, 'Mindanao':7},\n",
    "                 'Visayas':     {'Metro Manila':7, 'Luzon':7, 'Visayas':7, 'Mindanao':7},\n",
    "                 'Mindanao':    {'Metro Manila':7, 'Luzon':7, 'Visayas':7, 'Mindanao':7}}"
   ]
  },
  {
   "cell_type": "code",
   "execution_count": 22,
   "metadata": {
    "ExecuteTime": {
     "end_time": "2020-07-11T09:31:47.318679Z",
     "start_time": "2020-07-11T09:31:47.314541Z"
    }
   },
   "outputs": [
    {
     "data": {
      "text/plain": [
       "{'Metro Manila': {'Metro Manila': 3, 'Luzon': 5, 'Visayas': 7, 'Mindanao': 7},\n",
       " 'Luzon': {'Metro Manila': 5, 'Luzon': 5, 'Visayas': 7, 'Mindanao': 7},\n",
       " 'Visayas': {'Metro Manila': 7, 'Luzon': 7, 'Visayas': 7, 'Mindanao': 7},\n",
       " 'Mindanao': {'Metro Manila': 7, 'Luzon': 7, 'Visayas': 7, 'Mindanao': 7}}"
      ]
     },
     "execution_count": 22,
     "metadata": {},
     "output_type": "execute_result"
    }
   ],
   "source": [
    "delivery_data"
   ]
  },
  {
   "cell_type": "code",
   "execution_count": 23,
   "metadata": {
    "ExecuteTime": {
     "end_time": "2020-07-11T09:31:47.510737Z",
     "start_time": "2020-07-11T09:31:47.324192Z"
    }
   },
   "outputs": [
    {
     "data": {
      "text/plain": [
       "array([['Metro Manila', 'Metro Manila'],\n",
       "       ['Metro Manila', 'Metro Manila'],\n",
       "       ['Metro Manila', 'Metro Manila'],\n",
       "       ...,\n",
       "       ['Metro Manila', 'Metro Manila'],\n",
       "       ['Luzon', 'Metro Manila'],\n",
       "       ['Luzon', 'Metro Manila']], dtype=object)"
      ]
     },
     "execution_count": 23,
     "metadata": {},
     "output_type": "execute_result"
    }
   ],
   "source": [
    "#convert into numpy format for speed computation\n",
    "buyer_seller_add = data[['buyeraddress','selleraddress']].values\n",
    "buyer_seller_add"
   ]
  },
  {
   "cell_type": "code",
   "execution_count": 24,
   "metadata": {
    "ExecuteTime": {
     "end_time": "2020-07-11T09:31:48.489868Z",
     "start_time": "2020-07-11T09:31:47.513524Z"
    }
   },
   "outputs": [
    {
     "data": {
      "text/plain": [
       "[3, 3, 3, 3, 5]"
      ]
     },
     "execution_count": 24,
     "metadata": {},
     "output_type": "execute_result"
    }
   ],
   "source": [
    "supposed_days = list(map(lambda x: delivery_data[x[0]][x[1]], buyer_seller_add))\n",
    "supposed_days[:5]"
   ]
  },
  {
   "cell_type": "code",
   "execution_count": 25,
   "metadata": {
    "ExecuteTime": {
     "end_time": "2020-07-11T09:31:49.036711Z",
     "start_time": "2020-07-11T09:31:48.492072Z"
    }
   },
   "outputs": [],
   "source": [
    "#add into data df\n",
    "data['supposed_days'] = supposed_days"
   ]
  },
  {
   "cell_type": "code",
   "execution_count": 26,
   "metadata": {
    "ExecuteTime": {
     "end_time": "2020-07-11T09:31:49.048934Z",
     "start_time": "2020-07-11T09:31:49.038501Z"
    }
   },
   "outputs": [
    {
     "data": {
      "text/html": [
       "<div>\n",
       "<style scoped>\n",
       "    .dataframe tbody tr th:only-of-type {\n",
       "        vertical-align: middle;\n",
       "    }\n",
       "\n",
       "    .dataframe tbody tr th {\n",
       "        vertical-align: top;\n",
       "    }\n",
       "\n",
       "    .dataframe thead th {\n",
       "        text-align: right;\n",
       "    }\n",
       "</style>\n",
       "<table border=\"1\" class=\"dataframe\">\n",
       "  <thead>\n",
       "    <tr style=\"text-align: right;\">\n",
       "      <th></th>\n",
       "      <th>orderid</th>\n",
       "      <th>pick</th>\n",
       "      <th>1st_deliver_attempt</th>\n",
       "      <th>2nd_deliver_attempt</th>\n",
       "      <th>buyeraddress</th>\n",
       "      <th>selleraddress</th>\n",
       "      <th>1st_deliver_days</th>\n",
       "      <th>2nd_deliver_days</th>\n",
       "      <th>supposed_days</th>\n",
       "    </tr>\n",
       "  </thead>\n",
       "  <tbody>\n",
       "    <tr>\n",
       "      <th>0</th>\n",
       "      <td>2215676524</td>\n",
       "      <td>2020-03-02</td>\n",
       "      <td>2020-03-05</td>\n",
       "      <td>1970-01-01</td>\n",
       "      <td>Metro Manila</td>\n",
       "      <td>Metro Manila</td>\n",
       "      <td>3</td>\n",
       "      <td>0</td>\n",
       "      <td>3</td>\n",
       "    </tr>\n",
       "    <tr>\n",
       "      <th>1</th>\n",
       "      <td>2219624609</td>\n",
       "      <td>2020-03-04</td>\n",
       "      <td>2020-03-06</td>\n",
       "      <td>2020-03-10</td>\n",
       "      <td>Metro Manila</td>\n",
       "      <td>Metro Manila</td>\n",
       "      <td>2</td>\n",
       "      <td>3</td>\n",
       "      <td>3</td>\n",
       "    </tr>\n",
       "    <tr>\n",
       "      <th>2</th>\n",
       "      <td>2220979489</td>\n",
       "      <td>2020-03-04</td>\n",
       "      <td>2020-03-06</td>\n",
       "      <td>1970-01-01</td>\n",
       "      <td>Metro Manila</td>\n",
       "      <td>Metro Manila</td>\n",
       "      <td>2</td>\n",
       "      <td>0</td>\n",
       "      <td>3</td>\n",
       "    </tr>\n",
       "    <tr>\n",
       "      <th>3</th>\n",
       "      <td>2221066352</td>\n",
       "      <td>2020-03-05</td>\n",
       "      <td>2020-03-07</td>\n",
       "      <td>1970-01-01</td>\n",
       "      <td>Metro Manila</td>\n",
       "      <td>Metro Manila</td>\n",
       "      <td>2</td>\n",
       "      <td>0</td>\n",
       "      <td>3</td>\n",
       "    </tr>\n",
       "    <tr>\n",
       "      <th>4</th>\n",
       "      <td>2222478803</td>\n",
       "      <td>2020-03-04</td>\n",
       "      <td>2020-03-06</td>\n",
       "      <td>1970-01-01</td>\n",
       "      <td>Luzon</td>\n",
       "      <td>Metro Manila</td>\n",
       "      <td>2</td>\n",
       "      <td>0</td>\n",
       "      <td>5</td>\n",
       "    </tr>\n",
       "  </tbody>\n",
       "</table>\n",
       "</div>"
      ],
      "text/plain": [
       "      orderid        pick 1st_deliver_attempt 2nd_deliver_attempt  \\\n",
       "0  2215676524  2020-03-02          2020-03-05          1970-01-01   \n",
       "1  2219624609  2020-03-04          2020-03-06          2020-03-10   \n",
       "2  2220979489  2020-03-04          2020-03-06          1970-01-01   \n",
       "3  2221066352  2020-03-05          2020-03-07          1970-01-01   \n",
       "4  2222478803  2020-03-04          2020-03-06          1970-01-01   \n",
       "\n",
       "   buyeraddress selleraddress  1st_deliver_days  2nd_deliver_days  \\\n",
       "0  Metro Manila  Metro Manila                 3                 0   \n",
       "1  Metro Manila  Metro Manila                 2                 3   \n",
       "2  Metro Manila  Metro Manila                 2                 0   \n",
       "3  Metro Manila  Metro Manila                 2                 0   \n",
       "4         Luzon  Metro Manila                 2                 0   \n",
       "\n",
       "   supposed_days  \n",
       "0              3  \n",
       "1              3  \n",
       "2              3  \n",
       "3              3  \n",
       "4              5  "
      ]
     },
     "execution_count": 26,
     "metadata": {},
     "output_type": "execute_result"
    }
   ],
   "source": [
    "data.head()"
   ]
  },
  {
   "cell_type": "markdown",
   "metadata": {},
   "source": [
    "# Calculating late orders"
   ]
  },
  {
   "cell_type": "markdown",
   "metadata": {},
   "source": [
    "We will be considering the orders that are late based on two criteria:\n",
    "1. The second delivery is later than 3 days\n",
    "2. The first delivery is later than the days agreed in SLA"
   ]
  },
  {
   "cell_type": "markdown",
   "metadata": {},
   "source": [
    "## Case 1: second delivery later than 3 days"
   ]
  },
  {
   "cell_type": "markdown",
   "metadata": {},
   "source": [
    "Second delivery means the delivery done after a failed first delivery. In this competition Shopee assumes all goods will be delivered by second delivery.\\\n",
    "Shopee require all second delivery to be within 3 days."
   ]
  },
  {
   "cell_type": "code",
   "execution_count": 27,
   "metadata": {
    "ExecuteTime": {
     "end_time": "2020-07-11T09:31:49.064064Z",
     "start_time": "2020-07-11T09:31:49.050679Z"
    }
   },
   "outputs": [],
   "source": [
    "data['2nd_deliver_late'] = np.where(data['2nd_deliver_days']>3, True, False)"
   ]
  },
  {
   "cell_type": "code",
   "execution_count": 28,
   "metadata": {
    "ExecuteTime": {
     "end_time": "2020-07-11T09:31:49.091568Z",
     "start_time": "2020-07-11T09:31:49.065860Z"
    }
   },
   "outputs": [
    {
     "data": {
      "text/plain": [
       "False    2830684\n",
       "True      345629\n",
       "Name: 2nd_deliver_late, dtype: int64"
      ]
     },
     "execution_count": 28,
     "metadata": {},
     "output_type": "execute_result"
    }
   ],
   "source": [
    "data['2nd_deliver_late'].value_counts()"
   ]
  },
  {
   "cell_type": "markdown",
   "metadata": {},
   "source": [
    "## Case 2: first delivery later than supposed delivery date"
   ]
  },
  {
   "cell_type": "markdown",
   "metadata": {},
   "source": [
    "Orders that are delivered later than Shopee's SLA with logistic providers are considered late orders."
   ]
  },
  {
   "cell_type": "code",
   "execution_count": 29,
   "metadata": {
    "ExecuteTime": {
     "end_time": "2020-07-11T09:31:49.108670Z",
     "start_time": "2020-07-11T09:31:49.092968Z"
    }
   },
   "outputs": [],
   "source": [
    "data['1st_deliver_late'] = np.where(data['1st_deliver_days']>data['supposed_days'], True, False)"
   ]
  },
  {
   "cell_type": "code",
   "execution_count": 30,
   "metadata": {
    "ExecuteTime": {
     "end_time": "2020-07-11T09:31:49.135158Z",
     "start_time": "2020-07-11T09:31:49.110163Z"
    }
   },
   "outputs": [
    {
     "data": {
      "text/plain": [
       "False    2734919\n",
       "True      441394\n",
       "Name: 1st_deliver_late, dtype: int64"
      ]
     },
     "execution_count": 30,
     "metadata": {},
     "output_type": "execute_result"
    }
   ],
   "source": [
    "data['1st_deliver_late'].value_counts()"
   ]
  },
  {
   "cell_type": "markdown",
   "metadata": {},
   "source": [
    "## Combining case 1 and case 2"
   ]
  },
  {
   "cell_type": "markdown",
   "metadata": {},
   "source": [
    "Since the definition of late orders is either the order is delivered later than 3 days for second delivery AND order is delivered later than the agreed days in SLA, we will be combining the two cases."
   ]
  },
  {
   "cell_type": "code",
   "execution_count": 31,
   "metadata": {
    "ExecuteTime": {
     "end_time": "2020-07-11T09:31:49.159616Z",
     "start_time": "2020-07-11T09:31:49.136675Z"
    }
   },
   "outputs": [],
   "source": [
    "data['is_late'] = np.where(data['1st_deliver_late'] | data['2nd_deliver_late'], 1, 0)"
   ]
  },
  {
   "cell_type": "code",
   "execution_count": 32,
   "metadata": {
    "ExecuteTime": {
     "end_time": "2020-07-11T09:31:49.192147Z",
     "start_time": "2020-07-11T09:31:49.161493Z"
    }
   },
   "outputs": [
    {
     "data": {
      "text/plain": [
       "0    2413891\n",
       "1     762422\n",
       "Name: is_late, dtype: int64"
      ]
     },
     "execution_count": 32,
     "metadata": {},
     "output_type": "execute_result"
    }
   ],
   "source": [
    "data['is_late'].value_counts()"
   ]
  },
  {
   "cell_type": "code",
   "execution_count": 33,
   "metadata": {
    "ExecuteTime": {
     "end_time": "2020-07-11T09:31:49.490103Z",
     "start_time": "2020-07-11T09:31:49.194172Z"
    }
   },
   "outputs": [
    {
     "data": {
      "text/html": [
       "<div>\n",
       "<style scoped>\n",
       "    .dataframe tbody tr th:only-of-type {\n",
       "        vertical-align: middle;\n",
       "    }\n",
       "\n",
       "    .dataframe tbody tr th {\n",
       "        vertical-align: top;\n",
       "    }\n",
       "\n",
       "    .dataframe thead th {\n",
       "        text-align: right;\n",
       "    }\n",
       "</style>\n",
       "<table border=\"1\" class=\"dataframe\">\n",
       "  <thead>\n",
       "    <tr style=\"text-align: right;\">\n",
       "      <th></th>\n",
       "      <th>orderid</th>\n",
       "      <th>pick</th>\n",
       "      <th>1st_deliver_attempt</th>\n",
       "      <th>2nd_deliver_attempt</th>\n",
       "      <th>buyeraddress</th>\n",
       "      <th>selleraddress</th>\n",
       "      <th>1st_deliver_days</th>\n",
       "      <th>2nd_deliver_days</th>\n",
       "      <th>supposed_days</th>\n",
       "      <th>2nd_deliver_late</th>\n",
       "      <th>1st_deliver_late</th>\n",
       "      <th>is_late</th>\n",
       "    </tr>\n",
       "  </thead>\n",
       "  <tbody>\n",
       "    <tr>\n",
       "      <th>7</th>\n",
       "      <td>2224695304</td>\n",
       "      <td>2020-03-02</td>\n",
       "      <td>2020-03-10</td>\n",
       "      <td>1970-01-01</td>\n",
       "      <td>Metro Manila</td>\n",
       "      <td>Metro Manila</td>\n",
       "      <td>7</td>\n",
       "      <td>0</td>\n",
       "      <td>3</td>\n",
       "      <td>False</td>\n",
       "      <td>True</td>\n",
       "      <td>1</td>\n",
       "    </tr>\n",
       "    <tr>\n",
       "      <th>19</th>\n",
       "      <td>2227790841</td>\n",
       "      <td>2020-03-02</td>\n",
       "      <td>2020-03-10</td>\n",
       "      <td>2020-03-18</td>\n",
       "      <td>Mindanao</td>\n",
       "      <td>Metro Manila</td>\n",
       "      <td>7</td>\n",
       "      <td>7</td>\n",
       "      <td>7</td>\n",
       "      <td>True</td>\n",
       "      <td>False</td>\n",
       "      <td>1</td>\n",
       "    </tr>\n",
       "    <tr>\n",
       "      <th>21</th>\n",
       "      <td>2227816770</td>\n",
       "      <td>2020-03-02</td>\n",
       "      <td>2020-03-06</td>\n",
       "      <td>2020-03-07</td>\n",
       "      <td>Metro Manila</td>\n",
       "      <td>Metro Manila</td>\n",
       "      <td>4</td>\n",
       "      <td>1</td>\n",
       "      <td>3</td>\n",
       "      <td>False</td>\n",
       "      <td>True</td>\n",
       "      <td>1</td>\n",
       "    </tr>\n",
       "    <tr>\n",
       "      <th>22</th>\n",
       "      <td>2227817800</td>\n",
       "      <td>2020-03-02</td>\n",
       "      <td>2020-03-11</td>\n",
       "      <td>1970-01-01</td>\n",
       "      <td>Visayas</td>\n",
       "      <td>Metro Manila</td>\n",
       "      <td>8</td>\n",
       "      <td>0</td>\n",
       "      <td>7</td>\n",
       "      <td>False</td>\n",
       "      <td>True</td>\n",
       "      <td>1</td>\n",
       "    </tr>\n",
       "    <tr>\n",
       "      <th>24</th>\n",
       "      <td>2227831996</td>\n",
       "      <td>2020-03-02</td>\n",
       "      <td>2020-03-06</td>\n",
       "      <td>2020-03-10</td>\n",
       "      <td>Metro Manila</td>\n",
       "      <td>Metro Manila</td>\n",
       "      <td>4</td>\n",
       "      <td>3</td>\n",
       "      <td>3</td>\n",
       "      <td>False</td>\n",
       "      <td>True</td>\n",
       "      <td>1</td>\n",
       "    </tr>\n",
       "  </tbody>\n",
       "</table>\n",
       "</div>"
      ],
      "text/plain": [
       "       orderid        pick 1st_deliver_attempt 2nd_deliver_attempt  \\\n",
       "7   2224695304  2020-03-02          2020-03-10          1970-01-01   \n",
       "19  2227790841  2020-03-02          2020-03-10          2020-03-18   \n",
       "21  2227816770  2020-03-02          2020-03-06          2020-03-07   \n",
       "22  2227817800  2020-03-02          2020-03-11          1970-01-01   \n",
       "24  2227831996  2020-03-02          2020-03-06          2020-03-10   \n",
       "\n",
       "    buyeraddress selleraddress  1st_deliver_days  2nd_deliver_days  \\\n",
       "7   Metro Manila  Metro Manila                 7                 0   \n",
       "19      Mindanao  Metro Manila                 7                 7   \n",
       "21  Metro Manila  Metro Manila                 4                 1   \n",
       "22       Visayas  Metro Manila                 8                 0   \n",
       "24  Metro Manila  Metro Manila                 4                 3   \n",
       "\n",
       "    supposed_days  2nd_deliver_late  1st_deliver_late  is_late  \n",
       "7               3             False              True        1  \n",
       "19              7              True             False        1  \n",
       "21              3             False              True        1  \n",
       "22              7             False              True        1  \n",
       "24              3             False              True        1  "
      ]
     },
     "execution_count": 33,
     "metadata": {},
     "output_type": "execute_result"
    }
   ],
   "source": [
    "data[data['is_late'] == 1].head()"
   ]
  },
  {
   "cell_type": "markdown",
   "metadata": {},
   "source": [
    "# Submission"
   ]
  },
  {
   "cell_type": "code",
   "execution_count": 34,
   "metadata": {
    "ExecuteTime": {
     "end_time": "2020-07-11T09:31:49.503842Z",
     "start_time": "2020-07-11T09:31:49.491418Z"
    }
   },
   "outputs": [],
   "source": [
    "submission = data[['orderid','is_late']]"
   ]
  },
  {
   "cell_type": "code",
   "execution_count": 35,
   "metadata": {
    "ExecuteTime": {
     "end_time": "2020-07-11T09:31:49.513358Z",
     "start_time": "2020-07-11T09:31:49.505658Z"
    }
   },
   "outputs": [
    {
     "name": "stdout",
     "output_type": "stream",
     "text": [
      "<class 'pandas.core.frame.DataFrame'>\n",
      "RangeIndex: 3176313 entries, 0 to 3176312\n",
      "Data columns (total 2 columns):\n",
      " #   Column   Dtype\n",
      "---  ------   -----\n",
      " 0   orderid  int64\n",
      " 1   is_late  int64\n",
      "dtypes: int64(2)\n",
      "memory usage: 48.5 MB\n"
     ]
    },
    {
     "data": {
      "text/html": [
       "<div>\n",
       "<style scoped>\n",
       "    .dataframe tbody tr th:only-of-type {\n",
       "        vertical-align: middle;\n",
       "    }\n",
       "\n",
       "    .dataframe tbody tr th {\n",
       "        vertical-align: top;\n",
       "    }\n",
       "\n",
       "    .dataframe thead th {\n",
       "        text-align: right;\n",
       "    }\n",
       "</style>\n",
       "<table border=\"1\" class=\"dataframe\">\n",
       "  <thead>\n",
       "    <tr style=\"text-align: right;\">\n",
       "      <th></th>\n",
       "      <th>orderid</th>\n",
       "      <th>is_late</th>\n",
       "    </tr>\n",
       "  </thead>\n",
       "  <tbody>\n",
       "    <tr>\n",
       "      <th>0</th>\n",
       "      <td>2215676524</td>\n",
       "      <td>0</td>\n",
       "    </tr>\n",
       "    <tr>\n",
       "      <th>1</th>\n",
       "      <td>2219624609</td>\n",
       "      <td>0</td>\n",
       "    </tr>\n",
       "    <tr>\n",
       "      <th>2</th>\n",
       "      <td>2220979489</td>\n",
       "      <td>0</td>\n",
       "    </tr>\n",
       "    <tr>\n",
       "      <th>3</th>\n",
       "      <td>2221066352</td>\n",
       "      <td>0</td>\n",
       "    </tr>\n",
       "    <tr>\n",
       "      <th>4</th>\n",
       "      <td>2222478803</td>\n",
       "      <td>0</td>\n",
       "    </tr>\n",
       "  </tbody>\n",
       "</table>\n",
       "</div>"
      ],
      "text/plain": [
       "      orderid  is_late\n",
       "0  2215676524        0\n",
       "1  2219624609        0\n",
       "2  2220979489        0\n",
       "3  2221066352        0\n",
       "4  2222478803        0"
      ]
     },
     "execution_count": 35,
     "metadata": {},
     "output_type": "execute_result"
    }
   ],
   "source": [
    "submission.info()\n",
    "submission.head()"
   ]
  },
  {
   "cell_type": "code",
   "execution_count": 36,
   "metadata": {
    "ExecuteTime": {
     "end_time": "2020-07-11T09:31:52.972887Z",
     "start_time": "2020-07-11T09:31:49.514977Z"
    }
   },
   "outputs": [],
   "source": [
    "submission.to_csv('submission3.csv',index=False)"
   ]
  }
 ],
 "metadata": {
  "kernelspec": {
   "display_name": "Python 3",
   "language": "python",
   "name": "python3"
  },
  "language_info": {
   "codemirror_mode": {
    "name": "ipython",
    "version": 3
   },
   "file_extension": ".py",
   "mimetype": "text/x-python",
   "name": "python",
   "nbconvert_exporter": "python",
   "pygments_lexer": "ipython3",
   "version": "3.7.7"
  },
  "latex_envs": {
   "LaTeX_envs_menu_present": true,
   "autoclose": false,
   "autocomplete": true,
   "bibliofile": "biblio.bib",
   "cite_by": "apalike",
   "current_citInitial": 1,
   "eqLabelWithNumbers": true,
   "eqNumInitial": 1,
   "hotkeys": {
    "equation": "Ctrl-E",
    "itemize": "Ctrl-I"
   },
   "labels_anchors": false,
   "latex_user_defs": false,
   "report_style_numbering": false,
   "user_envs_cfg": false
  },
  "toc": {
   "base_numbering": 1,
   "nav_menu": {},
   "number_sections": true,
   "sideBar": true,
   "skip_h1_title": false,
   "title_cell": "Table of Contents",
   "title_sidebar": "Contents",
   "toc_cell": true,
   "toc_position": {},
   "toc_section_display": true,
   "toc_window_display": true
  }
 },
 "nbformat": 4,
 "nbformat_minor": 4
}
