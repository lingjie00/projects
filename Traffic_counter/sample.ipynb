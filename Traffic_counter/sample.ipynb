{
 "cells": [
  {
   "cell_type": "markdown",
   "source": [
    "# Traffic counter\n",
    "\n",
    "This notebook illustrates the usage of the API\n",
    "\n",
    "Before running the sample, we need to activate the model by running\n",
    "```\n",
    "python model.py\n",
    "```\n",
    "\n",
    "The API has 2 functions:\n",
    "\n",
    "1. GET: ```host/cameras``` Access the list of available traffic cameras\n",
    "2. POST:  ```host/detect``` Retrieve the predicted number of cars on the road and the time taken for prediction\n",
    "3. POST: ```host/refresh``` Refresh the list of camera to the latest capture"
   ],
   "metadata": {
    "collapsed": false,
    "pycharm": {
     "name": "#%% md\n"
    }
   }
  },
  {
   "cell_type": "code",
   "execution_count": 1,
   "metadata": {
    "collapsed": true
   },
   "outputs": [],
   "source": [
    "# import library to send request\n",
    "import requests"
   ]
  },
  {
   "cell_type": "code",
   "execution_count": 2,
   "outputs": [
    {
     "data": {
      "text/plain": "['[\"View from Second Link at Tuas',\n 'View from Tuas Checkpoint',\n 'View from Woodlands Causeway (Towards Johor)',\n 'View from Woodlands Checkpoint (Towards BKE)',\n 'View from Choa Chu Kang West Flyover',\n 'View from Entrance From Choa Chu Kang Dr',\n 'View from Exit To BKE',\n 'View from Tengah Flyover',\n 'View from Lentor Flyover',\n 'View from Mandai Flyover',\n 'View from Marsiling Flyover',\n 'View from SLE(BKE) Exit',\n 'View from Ulu Sembawang Flyover',\n 'View from Upp Thomson Flyover',\n 'View from Entrance To Tampines Flyover',\n 'View from Exit to Punggol Flyover',\n 'View from Seletar Flyover',\n 'View from Seletar West Link',\n 'View from Tampines Ave 10 Entrance',\n 'View from TPE(KPE) Exit',\n 'View from Upp Changi Flyover Towards PIE',\n 'View from after KJE Exit',\n 'View from Chantek Flyover',\n 'View from Dairy Farm Flyover',\n 'View from Exit 5 to KJE (Towards Checkpoint)',\n 'View from Mandai Rd Entrance',\n 'View from Woodlands Flyover (Towards Checkpoint)',\n 'View from After Tuas West Road',\n 'View from Clementi Ave 6 Entrance',\n 'View from Entrance from Benoi Rd',\n 'View from Entrance from Jln Ahmad Ibrahim',\n 'View from Entrance from Yuan Ching Rd',\n 'View from Keppel Viaduct',\n 'View from Lower Delta Road',\n 'View from Near Dover Drive',\n 'View from Near NUS',\n 'View from Near West Coast Walk',\n 'View from Towards Alexandra Road',\n 'View from Towards Pandan Gardens',\n 'View from Ang Mo Kio Ave 1 Flyover',\n 'View from Ang Mo Kio Ave 5 Flyover',\n 'View from Braddell Flyover',\n 'View from Bukit Merah Flyover',\n 'View from Entrance from Chin Swee Road',\n 'View from Exit 6 to Bukit Timah Road',\n 'View from Moulmein Flyover',\n 'View from St George Road',\n 'View from Yio Chu Kang Flyover',\n 'View from Marina Boulevard',\n 'View from Marina Boulevard/Marina Coastal Drive',\n 'View from Maxwell Road',\n 'View from MCE 1.02km',\n 'View from MCE/ECP',\n 'View from Benjamin Sheares Bridge',\n 'View from Entrance from MCE',\n 'View from Entrance from PIE',\n 'View from Exit 2A to Changi Coast Road',\n 'View from Laguna Flyover',\n 'View from Marine Parade Flyover',\n 'View from Tanjong Katong Flyover',\n 'View from Tanjong Rhu',\n 'View from Adam Road',\n 'View from Bedok North',\n 'View from Bukit Timah Expressway',\n 'View from Entrance from Jalan Anak Bukit',\n 'View from Entrance from Simei Ave',\n 'View from Entrance to PIE from ECP Changi',\n 'View from Eunos Flyover',\n 'View from Exit 27 to Clementi Ave 6',\n 'View from Exit 35 to KJE',\n 'View from Hong Kah Flyover',\n 'View from Kallang Way',\n 'View from Kim Keat Link',\n 'View from Mount Pleasant',\n 'View from Nanyang Flyover',\n 'View from Paya Lebar Flyover',\n 'View from Thomson Flyover',\n 'View from Tuas Flyover',\n 'View from Woodsville Flyover',\n 'View from Sentosa Gateway (Towards Sentosa)',\n 'View from Sentosa Gateway (Towards Telok Blangah)\"]']"
     },
     "execution_count": 2,
     "metadata": {},
     "output_type": "execute_result"
    }
   ],
   "source": [
    "# a list of available traffic cameras\n",
    "all_cameras = requests.get('http://0.0.0.0:5080/cameras')\n",
    "all_cameras = all_cameras.content.decode('utf-8') # decode to str\n",
    "all_cameras.split('\", \"')"
   ],
   "metadata": {
    "collapsed": false,
    "pycharm": {
     "name": "#%%\n"
    }
   }
  },
  {
   "cell_type": "code",
   "execution_count": 3,
   "outputs": [
    {
     "data": {
      "text/plain": "'{\"num_cars\": 0, \"time_taken\": 4.509032249450684}'"
     },
     "execution_count": 3,
     "metadata": {},
     "output_type": "execute_result"
    }
   ],
   "source": [
    "# if we are interested in tuas' traffic camera\n",
    "\n",
    "tuas = requests.post('http://0.0.0.0:5080/detect', data={'cam': 'View from Second Link at Tuas'})\n",
    "tuas = tuas.content.decode('utf-8')\n",
    "tuas"
   ],
   "metadata": {
    "collapsed": false,
    "pycharm": {
     "name": "#%%\n"
    }
   }
  },
  {
   "cell_type": "code",
   "execution_count": 4,
   "outputs": [
    {
     "data": {
      "text/plain": "'list of camera refreshed'"
     },
     "execution_count": 4,
     "metadata": {},
     "output_type": "execute_result"
    }
   ],
   "source": [
    "# refresh the list of cameras\n",
    "refresh_status = requests.post('http://0.0.0.0:5080/refresh')\n",
    "refresh_status.content.decode('utf-8')"
   ],
   "metadata": {
    "collapsed": false,
    "pycharm": {
     "name": "#%%\n"
    }
   }
  }
 ],
 "metadata": {
  "kernelspec": {
   "display_name": "Python 3",
   "language": "python",
   "name": "python3"
  },
  "language_info": {
   "codemirror_mode": {
    "name": "ipython",
    "version": 2
   },
   "file_extension": ".py",
   "mimetype": "text/x-python",
   "name": "python",
   "nbconvert_exporter": "python",
   "pygments_lexer": "ipython2",
   "version": "2.7.6"
  }
 },
 "nbformat": 4,
 "nbformat_minor": 0
}