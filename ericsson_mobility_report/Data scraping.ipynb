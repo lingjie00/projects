{
 "cells": [
  {
   "cell_type": "markdown",
   "metadata": {},
   "source": [
    "# Context"
   ]
  },
  {
   "cell_type": "markdown",
   "metadata": {},
   "source": [
    "We are interested in re-making the Mobile subscriptions outlook from Ericsson Mobility Report"
   ]
  },
  {
   "cell_type": "markdown",
   "metadata": {},
   "source": [
    "data:        https://www.ericsson.com/en/mobility-report/reports/june-2020/key-figures \\\n",
    "ref webpage: https://www.ericsson.com/en/mobility-report/reports/june-2020/mobile-subscriptions-outlook"
   ]
  },
  {
   "cell_type": "markdown",
   "metadata": {},
   "source": [
    "# Library"
   ]
  },
  {
   "cell_type": "code",
   "execution_count": 1,
   "metadata": {
    "ExecuteTime": {
     "end_time": "2020-08-02T13:30:31.766890Z",
     "start_time": "2020-08-02T13:30:31.080018Z"
    }
   },
   "outputs": [],
   "source": [
    "import numpy as np\n",
    "import pandas as pd\n",
    "import requests"
   ]
  },
  {
   "cell_type": "markdown",
   "metadata": {},
   "source": [
    "# Scrap Data"
   ]
  },
  {
   "cell_type": "code",
   "execution_count": 2,
   "metadata": {
    "ExecuteTime": {
     "end_time": "2020-08-02T13:30:31.771746Z",
     "start_time": "2020-08-02T13:30:31.769175Z"
    }
   },
   "outputs": [],
   "source": [
    "url = 'https://www.ericsson.com/en/mobility-report/reports/june-2020/key-figures'"
   ]
  },
  {
   "cell_type": "code",
   "execution_count": 3,
   "metadata": {
    "ExecuteTime": {
     "end_time": "2020-08-02T13:30:32.710963Z",
     "start_time": "2020-08-02T13:30:31.774258Z"
    }
   },
   "outputs": [],
   "source": [
    "webpage = requests.get(url)"
   ]
  },
  {
   "cell_type": "code",
   "execution_count": 4,
   "metadata": {
    "ExecuteTime": {
     "end_time": "2020-08-02T13:30:32.845037Z",
     "start_time": "2020-08-02T13:30:32.714380Z"
    }
   },
   "outputs": [],
   "source": [
    "tables = pd.read_html(webpage.content)"
   ]
  },
  {
   "cell_type": "markdown",
   "metadata": {},
   "source": [
    "# Getting Mobile subscriptions data"
   ]
  },
  {
   "cell_type": "code",
   "execution_count": 5,
   "metadata": {
    "ExecuteTime": {
     "end_time": "2020-08-02T13:30:32.849765Z",
     "start_time": "2020-08-02T13:30:32.846823Z"
    }
   },
   "outputs": [],
   "source": [
    "global_mobile = tables[0].iloc[:9,:]"
   ]
  },
  {
   "cell_type": "code",
   "execution_count": 6,
   "metadata": {
    "ExecuteTime": {
     "end_time": "2020-08-02T13:30:32.868769Z",
     "start_time": "2020-08-02T13:30:32.851755Z"
    }
   },
   "outputs": [
    {
     "data": {
      "text/html": [
       "<div>\n",
       "<style scoped>\n",
       "    .dataframe tbody tr th:only-of-type {\n",
       "        vertical-align: middle;\n",
       "    }\n",
       "\n",
       "    .dataframe tbody tr th {\n",
       "        vertical-align: top;\n",
       "    }\n",
       "\n",
       "    .dataframe thead th {\n",
       "        text-align: right;\n",
       "    }\n",
       "</style>\n",
       "<table border=\"1\" class=\"dataframe\">\n",
       "  <thead>\n",
       "    <tr style=\"text-align: right;\">\n",
       "      <th></th>\n",
       "      <th>Mobile subscriptions</th>\n",
       "      <th>2018</th>\n",
       "      <th>2019</th>\n",
       "      <th>Forecast 2025</th>\n",
       "      <th>CAGR* 2019-2025</th>\n",
       "      <th>Unit</th>\n",
       "    </tr>\n",
       "  </thead>\n",
       "  <tbody>\n",
       "    <tr>\n",
       "      <th>0</th>\n",
       "      <td>Worldwide mobile subscriptions</td>\n",
       "      <td>7670</td>\n",
       "      <td>7920</td>\n",
       "      <td>8860</td>\n",
       "      <td>2%</td>\n",
       "      <td>million</td>\n",
       "    </tr>\n",
       "    <tr>\n",
       "      <th>1</th>\n",
       "      <td>Smartphone subscriptions</td>\n",
       "      <td>4980</td>\n",
       "      <td>5530</td>\n",
       "      <td>7500</td>\n",
       "      <td>5%</td>\n",
       "      <td>million</td>\n",
       "    </tr>\n",
       "    <tr>\n",
       "      <th>2</th>\n",
       "      <td>Mobile PC, tablet and mobile router subscriptions</td>\n",
       "      <td>240</td>\n",
       "      <td>270</td>\n",
       "      <td>390</td>\n",
       "      <td>6%</td>\n",
       "      <td>million</td>\n",
       "    </tr>\n",
       "    <tr>\n",
       "      <th>3</th>\n",
       "      <td>Mobile broadband subscriptions</td>\n",
       "      <td>5570</td>\n",
       "      <td>6110</td>\n",
       "      <td>7820</td>\n",
       "      <td>4%</td>\n",
       "      <td>million</td>\n",
       "    </tr>\n",
       "    <tr>\n",
       "      <th>4</th>\n",
       "      <td>Mobile subscriptions, GSM/EDGE-only</td>\n",
       "      <td>1950</td>\n",
       "      <td>1660</td>\n",
       "      <td>840</td>\n",
       "      <td>-11%</td>\n",
       "      <td>million</td>\n",
       "    </tr>\n",
       "    <tr>\n",
       "      <th>5</th>\n",
       "      <td>Mobile subscriptions, WCDMA/HSPA</td>\n",
       "      <td>2020</td>\n",
       "      <td>1880</td>\n",
       "      <td>820</td>\n",
       "      <td>-13%</td>\n",
       "      <td>million</td>\n",
       "    </tr>\n",
       "    <tr>\n",
       "      <th>6</th>\n",
       "      <td>Mobile subscriptions, LTE</td>\n",
       "      <td>3550</td>\n",
       "      <td>4290</td>\n",
       "      <td>4390</td>\n",
       "      <td>0%</td>\n",
       "      <td>million</td>\n",
       "    </tr>\n",
       "    <tr>\n",
       "      <th>7</th>\n",
       "      <td>Mobile subscriptions, 5G</td>\n",
       "      <td>0</td>\n",
       "      <td>12</td>\n",
       "      <td>2790</td>\n",
       "      <td>-</td>\n",
       "      <td>million</td>\n",
       "    </tr>\n",
       "    <tr>\n",
       "      <th>8</th>\n",
       "      <td>FWA connections</td>\n",
       "      <td>0</td>\n",
       "      <td>55</td>\n",
       "      <td>160</td>\n",
       "      <td>21%</td>\n",
       "      <td>million</td>\n",
       "    </tr>\n",
       "  </tbody>\n",
       "</table>\n",
       "</div>"
      ],
      "text/plain": [
       "                                Mobile subscriptions  2018  2019  \\\n",
       "0                     Worldwide mobile subscriptions  7670  7920   \n",
       "1                           Smartphone subscriptions  4980  5530   \n",
       "2  Mobile PC, tablet and mobile router subscriptions   240   270   \n",
       "3                     Mobile broadband subscriptions  5570  6110   \n",
       "4                Mobile subscriptions, GSM/EDGE-only  1950  1660   \n",
       "5                   Mobile subscriptions, WCDMA/HSPA  2020  1880   \n",
       "6                          Mobile subscriptions, LTE  3550  4290   \n",
       "7                           Mobile subscriptions, 5G     0    12   \n",
       "8                                    FWA connections     0    55   \n",
       "\n",
       "  Forecast 2025 CAGR* 2019-2025     Unit  \n",
       "0          8860              2%  million  \n",
       "1          7500              5%  million  \n",
       "2           390              6%  million  \n",
       "3          7820              4%  million  \n",
       "4           840            -11%  million  \n",
       "5           820            -13%  million  \n",
       "6          4390              0%  million  \n",
       "7          2790               -  million  \n",
       "8           160             21%  million  "
      ]
     },
     "execution_count": 6,
     "metadata": {},
     "output_type": "execute_result"
    }
   ],
   "source": [
    "global_mobile"
   ]
  },
  {
   "cell_type": "code",
   "execution_count": 7,
   "metadata": {
    "ExecuteTime": {
     "end_time": "2020-08-02T13:30:32.875323Z",
     "start_time": "2020-08-02T13:30:32.870462Z"
    }
   },
   "outputs": [],
   "source": [
    "global_mobile.to_csv('data/global_mobile_subscriptions.csv', index=False)"
   ]
  }
 ],
 "metadata": {
  "hide_input": false,
  "kernelspec": {
   "display_name": "Python 3",
   "language": "python",
   "name": "python3"
  },
  "language_info": {
   "codemirror_mode": {
    "name": "ipython",
    "version": 3
   },
   "file_extension": ".py",
   "mimetype": "text/x-python",
   "name": "python",
   "nbconvert_exporter": "python",
   "pygments_lexer": "ipython3",
   "version": "3.7.7"
  },
  "latex_envs": {
   "LaTeX_envs_menu_present": true,
   "autoclose": false,
   "autocomplete": true,
   "bibliofile": "biblio.bib",
   "cite_by": "apalike",
   "current_citInitial": 1,
   "eqLabelWithNumbers": true,
   "eqNumInitial": 1,
   "hotkeys": {
    "equation": "Ctrl-E",
    "itemize": "Ctrl-I"
   },
   "labels_anchors": false,
   "latex_user_defs": false,
   "report_style_numbering": false,
   "user_envs_cfg": false
  },
  "toc": {
   "base_numbering": 1,
   "nav_menu": {},
   "number_sections": true,
   "sideBar": true,
   "skip_h1_title": false,
   "title_cell": "Table of Contents",
   "title_sidebar": "Contents",
   "toc_cell": false,
   "toc_position": {},
   "toc_section_display": true,
   "toc_window_display": true
  },
  "varInspector": {
   "cols": {
    "lenName": 16,
    "lenType": 16,
    "lenVar": 40
   },
   "kernels_config": {
    "python": {
     "delete_cmd_postfix": "",
     "delete_cmd_prefix": "del ",
     "library": "var_list.py",
     "varRefreshCmd": "print(var_dic_list())"
    },
    "r": {
     "delete_cmd_postfix": ") ",
     "delete_cmd_prefix": "rm(",
     "library": "var_list.r",
     "varRefreshCmd": "cat(var_dic_list()) "
    }
   },
   "types_to_exclude": [
    "module",
    "function",
    "builtin_function_or_method",
    "instance",
    "_Feature"
   ],
   "window_display": false
  }
 },
 "nbformat": 4,
 "nbformat_minor": 4
}
